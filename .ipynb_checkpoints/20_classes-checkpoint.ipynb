{
 "cells": [
  {
   "cell_type": "code",
   "execution_count": 13,
   "metadata": {},
   "outputs": [],
   "source": [
    "# Let us define a class, add some instance attributes, a class attribute, \n",
    "# an instance method. Let us create couple of objects and inspect what happens\n",
    "class BankAccount:\n",
    "    number_of_accounts = 0\n",
    "    \n",
    "    def __init__(self, name, account_number, opening_balance):\n",
    "        BankAccount.number_of_accounts += 1\n",
    "        self.name = name\n",
    "        self.account_number = account_number\n",
    "        self.balance = opening_balance\n",
    "    \n",
    "    def display(self):\n",
    "        print(\"Name = \", self.name)\n",
    "        print(\"Account Number = \", self.account_number)\n",
    "        print(\"Balance = \", self.balance)\n",
    "        \n"
   ]
  },
  {
   "cell_type": "code",
   "execution_count": 14,
   "metadata": {},
   "outputs": [],
   "source": [
    "an_account = BankAccount(\"Lakshmi\", \"123456789\", 10000)"
   ]
  },
  {
   "cell_type": "code",
   "execution_count": 15,
   "metadata": {},
   "outputs": [
    {
     "name": "stdout",
     "output_type": "stream",
     "text": [
      "Name =  Lakshmi\n",
      "Account Number =  123456789\n",
      "Balance =  10000\n"
     ]
    }
   ],
   "source": [
    "an_account.display()"
   ]
  },
  {
   "cell_type": "code",
   "execution_count": 16,
   "metadata": {},
   "outputs": [
    {
     "name": "stdout",
     "output_type": "stream",
     "text": [
      "Number of accounts =  1\n"
     ]
    }
   ],
   "source": [
    "print(\"Number of accounts = \", BankAccount.number_of_accounts)"
   ]
  },
  {
   "cell_type": "code",
   "execution_count": 17,
   "metadata": {},
   "outputs": [],
   "source": [
    "another_account = BankAccount(\"Ram\", \"1234568678\", 10000)"
   ]
  },
  {
   "cell_type": "code",
   "execution_count": 18,
   "metadata": {},
   "outputs": [
    {
     "name": "stdout",
     "output_type": "stream",
     "text": [
      "Name =  Ram\n",
      "Account Number =  1234568678\n",
      "Balance =  10000\n"
     ]
    }
   ],
   "source": [
    "another_account.display()"
   ]
  },
  {
   "cell_type": "code",
   "execution_count": 19,
   "metadata": {},
   "outputs": [
    {
     "name": "stdout",
     "output_type": "stream",
     "text": [
      "Number of accounts =  2\n"
     ]
    }
   ],
   "source": [
    "print(\"Number of accounts = \", BankAccount.number_of_accounts)"
   ]
  },
  {
   "cell_type": "code",
   "execution_count": 20,
   "metadata": {},
   "outputs": [],
   "source": [
    "# Let us define a class method and call it\n",
    "class BankAccount:\n",
    "    number_of_accounts = 0\n",
    "    \n",
    "    def __init__(self, name, account_number, opening_balance):\n",
    "        BankAccount.number_of_accounts += 1\n",
    "        self.name = name\n",
    "        self.account_number = account_number\n",
    "        self.balance = opening_balance\n",
    "    \n",
    "    def display(self):\n",
    "        print(\"Name = \", self.name)\n",
    "        print(\"Account Number = \", self.account_number)\n",
    "        print(\"Balance = \", self.balance)\n",
    "        \n",
    "    @classmethod\n",
    "    def get_accounts(cls):\n",
    "        print(\"Number of accounts = \", cls.number_of_accounts)\n"
   ]
  },
  {
   "cell_type": "code",
   "execution_count": 21,
   "metadata": {},
   "outputs": [
    {
     "name": "stdout",
     "output_type": "stream",
     "text": [
      "Name =  Lakshmi\n",
      "Account Number =  123456789\n",
      "Balance =  10000\n",
      "Name =  Ram\n",
      "Account Number =  1234568678\n",
      "Balance =  10000\n",
      "Number of accounts =  2\n"
     ]
    }
   ],
   "source": [
    "an_account = BankAccount(\"Lakshmi\", \"123456789\", 10000)\n",
    "another_account = BankAccount(\"Ram\", \"1234568678\", 10000)\n",
    "an_account.display()\n",
    "another_account.display()\n",
    "BankAccount.get_accounts()"
   ]
  },
  {
   "cell_type": "code",
   "execution_count": 22,
   "metadata": {},
   "outputs": [
    {
     "name": "stdout",
     "output_type": "stream",
     "text": [
      "Name =  Lakshmi\n",
      "Account Number =  123456789\n",
      "Balance =  10000\n",
      "Name =  Lakshmi\n",
      "Account Number =  123456789\n",
      "Balance =  10000\n"
     ]
    }
   ],
   "source": [
    "# We can also call objects' method using class name and passing\n",
    "# object as first parameter\n",
    "BankAccount.display(an_account)\n",
    "an_account.display()"
   ]
  },
  {
   "cell_type": "code",
   "execution_count": null,
   "metadata": {},
   "outputs": [],
   "source": []
  }
 ],
 "metadata": {
  "kernelspec": {
   "display_name": "Python 3",
   "language": "python",
   "name": "python3"
  },
  "language_info": {
   "codemirror_mode": {
    "name": "ipython",
    "version": 3
   },
   "file_extension": ".py",
   "mimetype": "text/x-python",
   "name": "python",
   "nbconvert_exporter": "python",
   "pygments_lexer": "ipython3",
   "version": "3.7.2"
  }
 },
 "nbformat": 4,
 "nbformat_minor": 2
}
