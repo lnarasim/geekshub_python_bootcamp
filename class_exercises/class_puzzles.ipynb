{
 "cells": [
  {
   "cell_type": "code",
   "execution_count": 1,
   "metadata": {},
   "outputs": [],
   "source": [
    "\"\"\"\n",
    "www.geekshub.in - Python Bootcamp Exercise on Python Generator\n",
    "\n",
    "Problem Statement:\n",
    "Given a list of numbers, write a generator that yields the numbers in sorted order. For every yield,\n",
    "the generator should yield numbers in sorted order. Also, implement reverse sorting (reverse=True).\n",
    "When the reverse is set to True, the generator should yield numbers in reverse sorting order.\n",
    "\"\"\"\n",
    "\n",
    "def sorting_generator(lst, reverse=False):\n",
    "    swap_natural_order = lambda x, y: (y, x) if y < x else (x, y)\n",
    "    swap_reverse_order = lambda x, y: (y, x) if y > x else (x, y)\n",
    "    \n",
    "    lst_len = len(lst)\n",
    "    for i in range(lst_len):\n",
    "        for j in range(i+1, lst_len):\n",
    "            if not reverse:\n",
    "                lst[i], lst[j] = swap_natural_order(lst[i], lst[j])\n",
    "            else:\n",
    "                lst[i], lst[j] = swap_reverse_order(lst[i], lst[j])\n",
    "        yield lst[i]"
   ]
  },
  {
   "cell_type": "code",
   "execution_count": 2,
   "metadata": {},
   "outputs": [
    {
     "name": "stdout",
     "output_type": "stream",
     "text": [
      "-2\n",
      "-1\n",
      "0\n",
      "1\n",
      "3\n",
      "4\n",
      "----------------------------------------\n",
      "4\n",
      "3\n",
      "1\n",
      "0\n",
      "-1\n",
      "-2\n"
     ]
    }
   ],
   "source": [
    "# Driver to test sorting_generator\n",
    "gen = sorting_generator([1, -1, 0, 3, 4, -2])\n",
    "for item in gen:\n",
    "    print(item)\n",
    "print('----------------------------------------')\n",
    "gen = sorting_generator([1, -1, 0, 3, 4, -2], reverse=True)\n",
    "for item in gen:\n",
    "    print(item)"
   ]
  },
  {
   "cell_type": "code",
   "execution_count": 3,
   "metadata": {},
   "outputs": [],
   "source": [
    "\"\"\"\n",
    "Implement a simple timer context manager that measures the amount of time that a block of code takes\n",
    "to execute.\n",
    "\"\"\"\n",
    "from time import perf_counter, sleep\n",
    "from traceback import print_tb\n",
    "\n",
    "class TimerContextManager:\n",
    "    def __init__(self):\n",
    "        self.start = 0\n",
    "        self.end = 0\n",
    "        self.elapsed = 0\n",
    "    \n",
    "    def __enter__(self):\n",
    "        self.start = perf_counter()\n",
    "        return self\n",
    "        \n",
    "    def __exit__(self, type_, value, tb):\n",
    "        self.end = perf_counter()\n",
    "        self.elapsed = self.end - self.start\n",
    "        return False"
   ]
  },
  {
   "cell_type": "code",
   "execution_count": 4,
   "metadata": {},
   "outputs": [
    {
     "name": "stdout",
     "output_type": "stream",
     "text": [
      "sleeping for 2 seconds...\n",
      "got up...\n",
      "{'start': 11.663232789, 'end': 13.664990559, 'elapsed': 2.0017577699999993}\n"
     ]
    }
   ],
   "source": [
    "# Driver code to test TimerContextManageabsr\n",
    "with TimerContextManager() as timer:\n",
    "    print('sleeping for 2 seconds...')\n",
    "    sleep(2)\n",
    "    print('got up...')\n",
    "print(vars(timer))"
   ]
  },
  {
   "cell_type": "code",
   "execution_count": 8,
   "metadata": {},
   "outputs": [
    {
     "data": {
      "text/plain": [
       "'\\nProblem Statement:\\nYou are developing a webservice monitoring system that monitors various services every \"X\" hours.\\nImplement such a webservice/web resource monitoring using polling that monitors the resource.\\nAt every \"X\" hours, your code should run and scan the web services. It should print a report\\nat the end of a run.\\n'"
      ]
     },
     "execution_count": 8,
     "metadata": {},
     "output_type": "execute_result"
    }
   ],
   "source": [
    "\"\"\"\n",
    "Problem Statement:\n",
    "You are developing a webservice monitoring system that monitors various services every \"X\" hours.\n",
    "Implement such a webservice/web resource monitoring using polling that monitors the resource.\n",
    "At every \"X\" hours, your code should run and scan the web services. It should print a report\n",
    "at the end of a run.\n",
    "\"\"\""
   ]
  },
  {
   "cell_type": "code",
   "execution_count": null,
   "metadata": {},
   "outputs": [],
   "source": []
  }
 ],
 "metadata": {
  "kernelspec": {
   "display_name": "Python 3",
   "language": "python",
   "name": "python3"
  },
  "language_info": {
   "codemirror_mode": {
    "name": "ipython",
    "version": 3
   },
   "file_extension": ".py",
   "mimetype": "text/x-python",
   "name": "python",
   "nbconvert_exporter": "python",
   "pygments_lexer": "ipython3",
   "version": "3.7.3"
  }
 },
 "nbformat": 4,
 "nbformat_minor": 2
}
