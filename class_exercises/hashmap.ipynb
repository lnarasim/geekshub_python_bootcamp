{
 "cells": [
  {
   "cell_type": "code",
   "execution_count": 152,
   "metadata": {},
   "outputs": [],
   "source": [
    "class Hashmap:\n",
    "    def __init__(self, size=20):\n",
    "        # Maximum number of objects that can be stored\n",
    "        self._size = size\n",
    "        # Slots to store key-value pair\n",
    "        self._map = [None] * size\n",
    "        # Container to store the keys\n",
    "        self._keys = []\n",
    "        \n",
    "    @property\n",
    "    def size(self):\n",
    "        return self._size\n",
    "        \n",
    "    # method to return the length of Hashmap\n",
    "    def __len__(self):\n",
    "        return len(self._keys)\n",
    "    \n",
    "    # method so that Hashmap object can use indexing with keys\n",
    "    def __getitem__(self, key):\n",
    "        return self.get(key)\n",
    "        \n",
    "    # method so that Hashmap object can use indexing with keys\n",
    "    def __setitem__(self, key, obj):\n",
    "        return self.put(key, obj)\n",
    "    \n",
    "    # Removes an entry from the hashmap using del operator\n",
    "    def __delitem__(self, key):\n",
    "        return self.delete(key)\n",
    "    \n",
    "    # Implement Hashmap Iterator later\n",
    "    def __iter__(self):\n",
    "        return self.HashmapIterator(self._keys)\n",
    "    \n",
    "    # Get keys iterator\n",
    "    def keys(self):\n",
    "        return self.HashmapIterator(self._keys)\n",
    "    \n",
    "    # Get values iterator\n",
    "    def values(self):\n",
    "        return self.HashmapValueIterator(self)\n",
    "    \n",
    "    # Get key-value tuples as iterator\n",
    "    def items(self):\n",
    "        return self.HashmapItemIterator(self)\n",
    "    \n",
    "    # Our hashing is simple to reuse Python's hashing function\n",
    "    def _hash(self, key):\n",
    "        return hash(key)\n",
    "    \n",
    "    # Retrive the value of given key from hashmap\n",
    "    # raise KeyError if key not found\n",
    "    def get(self, key):\n",
    "        if key not in self._keys:\n",
    "            raise KeyError('Key not found - ' + str(key))\n",
    "            \n",
    "        hashcode = self._hash(key)\n",
    "        obj_list = self._map[hashcode%self.size]\n",
    "        key_index = obj_list.index(key)\n",
    "        return obj_list[key_index+1]\n",
    "        \n",
    "    # One function that helps to add key-value to hashmap\n",
    "    def put(self, key, obj):\n",
    "        hashcode = self._hash(key)\n",
    "        \n",
    "        # key is already present, we need to update\n",
    "        if key in self._keys:\n",
    "            obj_list = self._map[hashcode%self.size]\n",
    "            key_index = obj_list.index(key)\n",
    "            obj_list[key_index+1] = obj\n",
    "        # key is not present, we need to add\n",
    "        else:\n",
    "            obj_list = self._map[hashcode%self.size]\n",
    "            if not obj_list:\n",
    "                obj_list = []\n",
    "                self._map[hashcode%self.size] = obj_list\n",
    "                obj_list.append(key)\n",
    "                obj_list.append(obj)\n",
    "            else:\n",
    "                if key in obj_list:\n",
    "                    key_index = obj_list.index(key)\n",
    "                    obj_list[key_index+1] = obj\n",
    "                else:\n",
    "                    obj_list.append(key)\n",
    "                    obj_list.append(obj)\n",
    "                    \n",
    "            # add to keys list as they key is not present\n",
    "            self._keys.append(key)\n",
    "        \n",
    "    # Removes an entry from the hashmap\n",
    "    def delete(self, key):\n",
    "        if key not in self._keys:\n",
    "            raise KeyError('Key not found' + str(key))\n",
    "            \n",
    "        hashcode = self._hash(key)\n",
    "        obj_list = self._map[hashcode%self.size]\n",
    "        \n",
    "        # remove key and value from the container\n",
    "        key_index = obj_list.index(key)\n",
    "        object_in_list = obj_list[key_index + 1]\n",
    "        obj_list.__delitem__(key_index)\n",
    "        obj_index = obj_list.index(object_in_list)\n",
    "        obj_list.__delitem__(obj_index)\n",
    "        \n",
    "        # remove the keys from global keys list\n",
    "        key_index = self._keys.index(key)\n",
    "        self._keys.__delitem__(key_index)\n",
    "        \n",
    "    def __str__(self):\n",
    "        return str({str(key): str(value) for key, value in self.items()})\n",
    "    \n",
    "    # An iterator to iterate over keys\n",
    "    class HashmapIterator:\n",
    "        def __init__(self, keys):\n",
    "            self._count = 0\n",
    "            self._keys = keys\n",
    "                \n",
    "        def __iter__(self):\n",
    "            return self\n",
    "            \n",
    "        def __next__(self):\n",
    "            if self._count >= len(self._keys):\n",
    "                raise StopIteration\n",
    "            result = self._keys[self._count]\n",
    "            self._count += 1\n",
    "            return result\n",
    "        \n",
    "    # An iterator to iterate over value\n",
    "    # Equivalent to dict.values()\n",
    "    class HashmapValueIterator:\n",
    "        def __init__(self, hashmap):\n",
    "            self._count = 0\n",
    "            self._hashmap = hashmap\n",
    "                \n",
    "        def __iter__(self):\n",
    "            return self\n",
    "            \n",
    "        def __next__(self):\n",
    "            if self._count >= len(self._hashmap._keys):\n",
    "                raise StopIteration\n",
    "            result = self._hashmap.get(self._hashmap._keys[self._count])\n",
    "            self._count += 1\n",
    "            return result\n",
    "        \n",
    "    # An iterator to iterate over key, value as tuple\n",
    "    # Equivalent to dict.items()\n",
    "    class HashmapItemIterator:\n",
    "        def __init__(self, hashmap):\n",
    "            self._count = 0\n",
    "            self._hashmap = hashmap\n",
    "                \n",
    "        def __iter__(self):\n",
    "            return self\n",
    "            \n",
    "        def __next__(self):\n",
    "            if self._count >= len(self._hashmap._keys):\n",
    "                raise StopIteration\n",
    "                \n",
    "            key = self._hashmap._keys[self._count]\n",
    "            result = key, self._hashmap[key]\n",
    "            self._count += 1\n",
    "            return result"
   ]
  },
  {
   "cell_type": "code",
   "execution_count": 145,
   "metadata": {},
   "outputs": [
    {
     "name": "stdout",
     "output_type": "stream",
     "text": [
      "3\n"
     ]
    }
   ],
   "source": [
    "maps = Hashmap(20)\n",
    "maps.put('one', 1)\n",
    "maps.put('two', 2)\n",
    "maps.get('two')\n",
    "maps['three'] = 3\n",
    "print(maps['three'])"
   ]
  },
  {
   "cell_type": "code",
   "execution_count": 146,
   "metadata": {},
   "outputs": [
    {
     "name": "stdout",
     "output_type": "stream",
     "text": [
      "one\n",
      "two\n",
      "three\n"
     ]
    }
   ],
   "source": [
    "for key in maps:\n",
    "    print(key)"
   ]
  },
  {
   "cell_type": "code",
   "execution_count": 147,
   "metadata": {},
   "outputs": [
    {
     "name": "stdout",
     "output_type": "stream",
     "text": [
      "1\n",
      "2\n",
      "3\n"
     ]
    }
   ],
   "source": [
    "for value in maps.values():\n",
    "    print(value)"
   ]
  },
  {
   "cell_type": "code",
   "execution_count": 148,
   "metadata": {},
   "outputs": [
    {
     "name": "stdout",
     "output_type": "stream",
     "text": [
      "('one', 1)\n",
      "('two', 2)\n",
      "('three', 3)\n"
     ]
    }
   ],
   "source": [
    "for item in maps.items():\n",
    "    print(item)"
   ]
  },
  {
   "cell_type": "code",
   "execution_count": 149,
   "metadata": {},
   "outputs": [],
   "source": [
    "maps['four'] = 4"
   ]
  },
  {
   "cell_type": "code",
   "execution_count": 150,
   "metadata": {},
   "outputs": [
    {
     "name": "stdout",
     "output_type": "stream",
     "text": [
      "{'one': '1', 'two': '2', 'three': '3', 'four': '4'}\n"
     ]
    }
   ],
   "source": [
    "print(maps)"
   ]
  },
  {
   "cell_type": "code",
   "execution_count": 151,
   "metadata": {},
   "outputs": [
    {
     "name": "stdout",
     "output_type": "stream",
     "text": [
      "('one', 1)\n",
      "('two', 2)\n",
      "('three', 3)\n",
      "('four', 4)\n"
     ]
    }
   ],
   "source": [
    "for item in maps.items():\n",
    "    print(item)"
   ]
  },
  {
   "cell_type": "code",
   "execution_count": 118,
   "metadata": {},
   "outputs": [],
   "source": [
    "del maps['four']"
   ]
  },
  {
   "cell_type": "code",
   "execution_count": 119,
   "metadata": {},
   "outputs": [
    {
     "name": "stdout",
     "output_type": "stream",
     "text": [
      "('one', 1)\n",
      "('two', 2)\n",
      "('three', 3)\n"
     ]
    }
   ],
   "source": [
    "for item in maps.items():\n",
    "    print(item)"
   ]
  },
  {
   "cell_type": "code",
   "execution_count": 122,
   "metadata": {},
   "outputs": [
    {
     "name": "stdout",
     "output_type": "stream",
     "text": [
      "<__main__.Hashmap object at 0x018409B0>\n"
     ]
    }
   ],
   "source": [
    "print(maps)"
   ]
  },
  {
   "cell_type": "code",
   "execution_count": null,
   "metadata": {},
   "outputs": [],
   "source": []
  }
 ],
 "metadata": {
  "kernelspec": {
   "display_name": "Python 3",
   "language": "python",
   "name": "python3"
  },
  "language_info": {
   "codemirror_mode": {
    "name": "ipython",
    "version": 3
   },
   "file_extension": ".py",
   "mimetype": "text/x-python",
   "name": "python",
   "nbconvert_exporter": "python",
   "pygments_lexer": "ipython3",
   "version": "3.7.3"
  }
 },
 "nbformat": 4,
 "nbformat_minor": 2
}
