{
 "cells": [
  {
   "cell_type": "markdown",
   "metadata": {},
   "source": [
    "#### A simple search"
   ]
  },
  {
   "cell_type": "code",
   "execution_count": 45,
   "metadata": {},
   "outputs": [
    {
     "name": "stdout",
     "output_type": "stream",
     "text": [
      "['In', 'a']\n",
      "['1.txt', '2.txt']\n",
      "['1.txt', '2.txt']\n"
     ]
    }
   ],
   "source": [
    "from collections import defaultdict\n",
    "from json import dumps, load\n",
    "from functools import reduce\n",
    "\n",
    "URLS = ['1.txt', '2.txt']\n",
    "INDEX_FILE = 'index.txt'\n",
    "INDEX_MAP = dict()\n",
    "\n",
    "# load the indices from the file and return a \n",
    "# dictionary of index\n",
    "def load_index(index_file):\n",
    "    index_map = dict()\n",
    "    try:\n",
    "        with open(index_file) as file:\n",
    "            index_map = load(file)\n",
    "    except FileNotFoundError:\n",
    "        pass\n",
    "    return index_map\n",
    "\n",
    "# dump the index to the index file\n",
    "def write_index_to_index_file(index_file, index_map):\n",
    "    with open(index_file, \"w\") as file:\n",
    "        file.write(dumps(index_map))\n",
    "\n",
    "# build the index map, here we assume that all words\n",
    "# have same key.\n",
    "def build_index_map(index_map, words, key):\n",
    "    for word in words:\n",
    "        # word is already present in the index\n",
    "        if word in index_map:\n",
    "            values_dict = index_map[word]\n",
    "            # The resource is already present, then\n",
    "            # we need to probably update the counter\n",
    "            if key in values_dict:\n",
    "                values_dict[key] += 1\n",
    "            else:\n",
    "                values_dict[key] = 1\n",
    "        else:\n",
    "            # word is not present, we create and \n",
    "            # set the counter to 1\n",
    "            index_map[word] = dict()\n",
    "            index_map[word][key] = 1\n",
    "\n",
    "# Walk over the file and build index for each word\n",
    "def read_build_index_file(filename):\n",
    "    with open(filename) as file:\n",
    "        for line in file:\n",
    "            build_index_map(INDEX_MAP, line.strip().split(), filename)\n",
    "            \n",
    "# This simple method returns your search results sorted\n",
    "def search_word(word, index_map):\n",
    "    if word in index_map:\n",
    "        items = index_map[word]    \n",
    "        return sorted(items, key=lambda key:items[key], reverse=True)\n",
    "    return []\n",
    "    \n",
    "# Search word with logic AND\n",
    "def search_words_and(words, index_map):\n",
    "    print(words)\n",
    "    lst = list(reduce(set.intersection, \n",
    "                      [set(search_word(word, index_map)) \n",
    "                       for word in words]))\n",
    "    return lst\n",
    "\n",
    "# Search word with logic AND\n",
    "def search_words_or(words, index_map):\n",
    "    lst = list(reduce(set.union, \n",
    "                      [set(search_word(word, index_map)) \n",
    "                       for word in words]))\n",
    "    return lst\n",
    "\n",
    "# for all the text files, index the words\n",
    "for file in URLS:\n",
    "    read_build_index_file(file)\n",
    "    \n",
    "# write the index back to a file which can be reused later\n",
    "write_index_to_index_file(INDEX_FILE, INDEX_MAP)\n",
    "\n",
    "# load the index from the file\n",
    "new_map = load_index(INDEX_FILE)\n",
    "#print(search_word('In', new_map))\n",
    "\n",
    "print(search_words_and(['In', 'a'], new_map))\n",
    "print(search_words_or(['In', 'a'], new_map))"
   ]
  },
  {
   "cell_type": "code",
   "execution_count": null,
   "metadata": {},
   "outputs": [],
   "source": []
  }
 ],
 "metadata": {
  "kernelspec": {
   "display_name": "Python 3",
   "language": "python",
   "name": "python3"
  },
  "language_info": {
   "codemirror_mode": {
    "name": "ipython",
    "version": 3
   },
   "file_extension": ".py",
   "mimetype": "text/x-python",
   "name": "python",
   "nbconvert_exporter": "python",
   "pygments_lexer": "ipython3",
   "version": "3.7.3"
  }
 },
 "nbformat": 4,
 "nbformat_minor": 2
}
