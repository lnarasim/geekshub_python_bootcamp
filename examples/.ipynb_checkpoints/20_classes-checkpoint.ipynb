{
 "cells": [
  {
   "cell_type": "code",
   "execution_count": null,
   "metadata": {},
   "outputs": [],
   "source": [
    "class BankAccount:\n",
    "    number_of_accounts = 0\n",
    "    \n",
    "    def __init__(self, name, account_number, opening_balance):\n",
    "        BankAccount.number_of_accounts += 1\n",
    "        self.name = name\n",
    "        self.account_number = account_number\n",
    "        self.balance = opening_balance\n",
    "    \n",
    "    def display(self):\n",
    "        print(\"Name = \", self.name)\n",
    "        print(\"Account Number = \", self.account_number)\n",
    "        print(\"Balance = \", self.balance)\n",
    "        \n"
   ]
  },
  {
   "cell_type": "code",
   "execution_count": null,
   "metadata": {},
   "outputs": [],
   "source": [
    "an_account = BankAccount(\"Lakshmi\", \"123456789\", 10000)"
   ]
  },
  {
   "cell_type": "code",
   "execution_count": null,
   "metadata": {},
   "outputs": [],
   "source": [
    "an_account.display()"
   ]
  },
  {
   "cell_type": "code",
   "execution_count": 4,
   "metadata": {},
   "outputs": [
    {
     "name": "stdout",
     "output_type": "stream",
     "text": [
      "Number of accounts =  1\n"
     ]
    }
   ],
   "source": [
    "print(\"Number of accounts = \", BankAccount.number_of_accounts)"
   ]
  },
  {
   "cell_type": "code",
   "execution_count": 7,
   "metadata": {},
   "outputs": [],
   "source": [
    "another_account = BankAccount(\"Ram\", \"1234568678\", 10000)"
   ]
  },
  {
   "cell_type": "code",
   "execution_count": 8,
   "metadata": {},
   "outputs": [
    {
     "name": "stdout",
     "output_type": "stream",
     "text": [
      "Name =  Ram\n",
      "Account Number =  1234568678\n",
      "Balance =  10000\n"
     ]
    }
   ],
   "source": [
    "another_account.display()"
   ]
  },
  {
   "cell_type": "code",
   "execution_count": 9,
   "metadata": {},
   "outputs": [
    {
     "name": "stdout",
     "output_type": "stream",
     "text": [
      "Number of accounts =  2\n"
     ]
    }
   ],
   "source": [
    "print(\"Number of accounts = \", BankAccount.number_of_accounts)"
   ]
  },
  {
   "cell_type": "code",
   "execution_count": null,
   "metadata": {},
   "outputs": [],
   "source": []
  },
  {
   "cell_type": "code",
   "execution_count": null,
   "metadata": {},
   "outputs": [],
   "source": []
  }
 ],
 "metadata": {
  "kernelspec": {
   "display_name": "Python 3",
   "language": "python",
   "name": "python3"
  },
  "language_info": {
   "codemirror_mode": {
    "name": "ipython",
    "version": 3
   },
   "file_extension": ".py",
   "mimetype": "text/x-python",
   "name": "python",
   "nbconvert_exporter": "python",
   "pygments_lexer": "ipython3",
   "version": "3.7.2"
  }
 },
 "nbformat": 4,
 "nbformat_minor": 2
}
