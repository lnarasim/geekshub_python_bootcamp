{
 "cells": [
  {
   "cell_type": "code",
   "execution_count": 1,
   "metadata": {},
   "outputs": [],
   "source": [
    "# Let us do some examples"
   ]
  },
  {
   "cell_type": "code",
   "execution_count": 2,
   "metadata": {},
   "outputs": [
    {
     "ename": "ZeroDivisionError",
     "evalue": "division by zero",
     "output_type": "error",
     "traceback": [
      "\u001b[1;31m---------------------------------------------------------------------------\u001b[0m",
      "\u001b[1;31mZeroDivisionError\u001b[0m                         Traceback (most recent call last)",
      "\u001b[1;32m<ipython-input-2-716d859c1200>\u001b[0m in \u001b[0;36m<module>\u001b[1;34m\u001b[0m\n\u001b[0;32m      1\u001b[0m \u001b[0ma\u001b[0m \u001b[1;33m=\u001b[0m \u001b[1;36m0\u001b[0m\u001b[1;33m\u001b[0m\u001b[1;33m\u001b[0m\u001b[0m\n\u001b[0;32m      2\u001b[0m \u001b[0mb\u001b[0m \u001b[1;33m=\u001b[0m \u001b[1;36m1\u001b[0m\u001b[1;33m\u001b[0m\u001b[1;33m\u001b[0m\u001b[0m\n\u001b[1;32m----> 3\u001b[1;33m \u001b[0mc\u001b[0m \u001b[1;33m=\u001b[0m \u001b[0mb\u001b[0m\u001b[1;33m/\u001b[0m\u001b[0ma\u001b[0m\u001b[1;33m\u001b[0m\u001b[1;33m\u001b[0m\u001b[0m\n\u001b[0m",
      "\u001b[1;31mZeroDivisionError\u001b[0m: division by zero"
     ]
    }
   ],
   "source": [
    "a = 0\n",
    "b = 1\n",
    "c = b/a"
   ]
  },
  {
   "cell_type": "code",
   "execution_count": 3,
   "metadata": {},
   "outputs": [
    {
     "name": "stdout",
     "output_type": "stream",
     "text": [
      "Dividing a number by zero is a big crime\n"
     ]
    }
   ],
   "source": [
    "# let us handle it\n",
    "try:\n",
    "    a = 0\n",
    "    b = 1\n",
    "    c = b/a\n",
    "except ZeroDivisionError:\n",
    "    print(\"Dividing a number by zero is a big crime\")"
   ]
  },
  {
   "cell_type": "code",
   "execution_count": 40,
   "metadata": {},
   "outputs": [
    {
     "name": "stdout",
     "output_type": "stream",
     "text": [
      "division by zero\n",
      "('division by zero',)\n",
      "<class 'ZeroDivisionError'>\n",
      "True\n"
     ]
    }
   ],
   "source": [
    "# let us handle it\n",
    "try:\n",
    "    a = 0\n",
    "    b = 1\n",
    "    c = b/a\n",
    "except ZeroDivisionError as exp:\n",
    "    print(exp)\n",
    "    print(exp.args)\n",
    "    print(type(exp))\n",
    "    print(issubclass(ZeroDivisionError, Exception))"
   ]
  },
  {
   "cell_type": "code",
   "execution_count": 11,
   "metadata": {},
   "outputs": [
    {
     "name": "stdout",
     "output_type": "stream",
     "text": [
      "unsupported operand type(s) for +: 'int' and 'str'\n",
      "(\"unsupported operand type(s) for +: 'int' and 'str'\",)\n",
      "<class 'TypeError'>\n",
      "True\n",
      "Type error\n"
     ]
    }
   ],
   "source": [
    "# let us handle it\n",
    "try:\n",
    "    a = 1\n",
    "    b = 1\n",
    "    c = b/a\n",
    "    d = a + '1'\n",
    "except ZeroDivisionError as exp:\n",
    "    print(exp)\n",
    "    print(exp.args)\n",
    "    print(type(exp))\n",
    "    print(issubclass(ZeroDivisionError, Exception))\n",
    "    print(\"Zero division error\")\n",
    "except TypeError as type_exp:\n",
    "    print(type_exp)\n",
    "    print(type_exp.args)\n",
    "    print(type(type_exp))\n",
    "    print(issubclass(TypeError, Exception))\n",
    "    print(\"Type error\")"
   ]
  },
  {
   "cell_type": "code",
   "execution_count": 39,
   "metadata": {},
   "outputs": [
    {
     "name": "stdout",
     "output_type": "stream",
     "text": [
      "no exception occured, good job\n"
     ]
    }
   ],
   "source": [
    "# let us handle it\n",
    "try:\n",
    "    a = 1\n",
    "    b = 1\n",
    "    c = b/a\n",
    "    d = a + 1\n",
    "except ZeroDivisionError as exp:\n",
    "    print(exp)\n",
    "    print(exp.args)\n",
    "    print(type(exp))\n",
    "    print(issubclass(ZeroDivisionError, Exception))\n",
    "    print(\"Zero division error\")\n",
    "except TypeError as type_exp:\n",
    "    print(type_exp)\n",
    "    print(type_exp.args)\n",
    "    print(type(type_exp))\n",
    "    print(issubclass(TypeError, Exception))\n",
    "    print(\"Type error\")\n",
    "else:\n",
    "    print(\"no exception occured, good job\")"
   ]
  },
  {
   "cell_type": "code",
   "execution_count": 13,
   "metadata": {},
   "outputs": [
    {
     "name": "stdout",
     "output_type": "stream",
     "text": [
      "no exception occured, good job\n",
      "This block runs no matter what\n"
     ]
    }
   ],
   "source": [
    "# let us handle it\n",
    "try:\n",
    "    a = 1\n",
    "    b = 1\n",
    "    c = b/a\n",
    "    d = a + 1\n",
    "except ZeroDivisionError as exp:\n",
    "    print(exp)\n",
    "    print(exp.args)\n",
    "    print(type(exp))\n",
    "    print(issubclass(ZeroDivisionError, Exception))\n",
    "    print(\"Zero division error\")\n",
    "except TypeError as type_exp:\n",
    "    print(type_exp)\n",
    "    print(type_exp.args)\n",
    "    print(type(type_exp))\n",
    "    print(issubclass(TypeError, Exception))\n",
    "    print(\"Type error\")\n",
    "else:\n",
    "    print(\"no exception occured, good job\")\n",
    "finally:\n",
    "    print(\"This block runs no matter what\")"
   ]
  },
  {
   "cell_type": "code",
   "execution_count": 38,
   "metadata": {},
   "outputs": [
    {
     "name": "stdout",
     "output_type": "stream",
     "text": [
      "This block runs no matter what, even if there is a return\n"
     ]
    }
   ],
   "source": [
    "def func():\n",
    "    try:\n",
    "        a = 1\n",
    "        b = 1\n",
    "        c = b/a\n",
    "        d = a + 1\n",
    "        return None\n",
    "    except ZeroDivisionError as exp:\n",
    "        print(exp)\n",
    "        print(exp.args)\n",
    "        print(type(exp))\n",
    "        print(issubclass(ZeroDivisionError, Exception))\n",
    "        print(\"Zero division error\")\n",
    "    except TypeError as type_exp:\n",
    "        print(type_exp)\n",
    "        print(type_exp.args)\n",
    "        print(type(type_exp))\n",
    "        print(issubclass(TypeError, Exception))\n",
    "        print(\"Type error\")\n",
    "    else:\n",
    "        print(\"no exception occured, good job\")\n",
    "    finally:\n",
    "        print(\"This block runs no matter what, even if there is a return\")\n",
    "func()"
   ]
  },
  {
   "cell_type": "code",
   "execution_count": 22,
   "metadata": {},
   "outputs": [
    {
     "name": "stdout",
     "output_type": "stream",
     "text": [
      "This block runs no matter what, even if there is a return\n"
     ]
    }
   ],
   "source": [
    "a = func()"
   ]
  },
  {
   "cell_type": "code",
   "execution_count": 37,
   "metadata": {},
   "outputs": [
    {
     "name": "stdout",
     "output_type": "stream",
     "text": [
      "No exceptions, but i return here\n"
     ]
    }
   ],
   "source": [
    "def func():\n",
    "    try:\n",
    "        a = 1\n",
    "        b = 1\n",
    "        c = b/a\n",
    "        d = a + 1\n",
    "        print('No exceptions, but i return here')\n",
    "        return None\n",
    "    except ZeroDivisionError as exp:\n",
    "        print(exp)\n",
    "        print(exp.args)\n",
    "        print(type(exp))\n",
    "        print(issubclass(ZeroDivisionError, Exception))\n",
    "        print(\"Zero division error\")\n",
    "    except TypeError as type_exp:\n",
    "        print(type_exp)\n",
    "        print(type_exp.args)\n",
    "        print(type(type_exp))\n",
    "        print(issubclass(TypeError, Exception))\n",
    "        print(\"Type error\")\n",
    "    else:\n",
    "        print(\"no exception occured, good job. But this does not run when there is return\")\n",
    "        \n",
    "func()"
   ]
  },
  {
   "cell_type": "code",
   "execution_count": 25,
   "metadata": {},
   "outputs": [],
   "source": [
    "func()"
   ]
  },
  {
   "cell_type": "code",
   "execution_count": 33,
   "metadata": {},
   "outputs": [
    {
     "name": "stdout",
     "output_type": "stream",
     "text": [
      "1.0\n"
     ]
    },
    {
     "ename": "ZeroDivisionError",
     "evalue": "Exception while doing 1/0",
     "output_type": "error",
     "traceback": [
      "\u001b[1;31m---------------------------------------------------------------------------\u001b[0m",
      "\u001b[1;31mZeroDivisionError\u001b[0m                         Traceback (most recent call last)",
      "\u001b[1;32m<ipython-input-33-c69e341f319a>\u001b[0m in \u001b[0;36m<module>\u001b[1;34m\u001b[0m\n\u001b[0;32m      7\u001b[0m \u001b[1;33m\u001b[0m\u001b[0m\n\u001b[0;32m      8\u001b[0m \u001b[0mprint\u001b[0m\u001b[1;33m(\u001b[0m\u001b[0mdivide\u001b[0m\u001b[1;33m(\u001b[0m\u001b[1;36m1\u001b[0m\u001b[1;33m,\u001b[0m \u001b[1;36m1\u001b[0m\u001b[1;33m)\u001b[0m\u001b[1;33m)\u001b[0m\u001b[1;33m\u001b[0m\u001b[1;33m\u001b[0m\u001b[0m\n\u001b[1;32m----> 9\u001b[1;33m \u001b[0mprint\u001b[0m\u001b[1;33m(\u001b[0m\u001b[0mdivide\u001b[0m\u001b[1;33m(\u001b[0m\u001b[1;36m1\u001b[0m\u001b[1;33m,\u001b[0m \u001b[1;36m0\u001b[0m\u001b[1;33m)\u001b[0m\u001b[1;33m)\u001b[0m\u001b[1;33m\u001b[0m\u001b[1;33m\u001b[0m\u001b[0m\n\u001b[0m",
      "\u001b[1;32m<ipython-input-33-c69e341f319a>\u001b[0m in \u001b[0;36mdivide\u001b[1;34m(dividend, divisor)\u001b[0m\n\u001b[0;32m      3\u001b[0m     \u001b[1;32mif\u001b[0m \u001b[0mdivisor\u001b[0m \u001b[1;33m==\u001b[0m \u001b[1;36m0\u001b[0m\u001b[1;33m:\u001b[0m\u001b[1;33m\u001b[0m\u001b[1;33m\u001b[0m\u001b[0m\n\u001b[0;32m      4\u001b[0m         \u001b[0mexp_str\u001b[0m \u001b[1;33m=\u001b[0m \u001b[1;34m\"Exception while doing {0}/{1}\"\u001b[0m\u001b[1;33m.\u001b[0m\u001b[0mformat\u001b[0m\u001b[1;33m(\u001b[0m\u001b[0mdividend\u001b[0m\u001b[1;33m,\u001b[0m \u001b[0mdivisor\u001b[0m\u001b[1;33m)\u001b[0m\u001b[1;33m\u001b[0m\u001b[1;33m\u001b[0m\u001b[0m\n\u001b[1;32m----> 5\u001b[1;33m         \u001b[1;32mraise\u001b[0m \u001b[0mZeroDivisionError\u001b[0m\u001b[1;33m(\u001b[0m\u001b[0mexp_str\u001b[0m\u001b[1;33m)\u001b[0m\u001b[1;33m\u001b[0m\u001b[1;33m\u001b[0m\u001b[0m\n\u001b[0m\u001b[0;32m      6\u001b[0m     \u001b[1;32mreturn\u001b[0m \u001b[0mdividend\u001b[0m\u001b[1;33m/\u001b[0m\u001b[0mdivisor\u001b[0m\u001b[1;33m\u001b[0m\u001b[1;33m\u001b[0m\u001b[0m\n\u001b[0;32m      7\u001b[0m \u001b[1;33m\u001b[0m\u001b[0m\n",
      "\u001b[1;31mZeroDivisionError\u001b[0m: Exception while doing 1/0"
     ]
    }
   ],
   "source": [
    "# raise exceptions\n",
    "def divide(dividend, divisor):\n",
    "    if divisor == 0:\n",
    "        exp_str = \"Exception while doing {0}/{1}\".format(dividend, divisor)\n",
    "        raise ZeroDivisionError(exp_str)\n",
    "    return dividend/divisor\n",
    "\n",
    "print(divide(1, 1))\n",
    "print(divide(1, 0))"
   ]
  },
  {
   "cell_type": "code",
   "execution_count": 36,
   "metadata": {},
   "outputs": [
    {
     "name": "stdout",
     "output_type": "stream",
     "text": [
      "1.0\n"
     ]
    },
    {
     "ename": "ArithmeticException",
     "evalue": "0",
     "output_type": "error",
     "traceback": [
      "\u001b[1;31m---------------------------------------------------------------------------\u001b[0m",
      "\u001b[1;31mArithmeticException\u001b[0m                       Traceback (most recent call last)",
      "\u001b[1;32m<ipython-input-36-6d22ccf3e581>\u001b[0m in \u001b[0;36m<module>\u001b[1;34m\u001b[0m\n\u001b[0;32m     10\u001b[0m \u001b[1;33m\u001b[0m\u001b[0m\n\u001b[0;32m     11\u001b[0m \u001b[0mprint\u001b[0m\u001b[1;33m(\u001b[0m\u001b[0mdivide\u001b[0m\u001b[1;33m(\u001b[0m\u001b[1;36m1\u001b[0m\u001b[1;33m,\u001b[0m \u001b[1;36m1\u001b[0m\u001b[1;33m)\u001b[0m\u001b[1;33m)\u001b[0m\u001b[1;33m\u001b[0m\u001b[1;33m\u001b[0m\u001b[0m\n\u001b[1;32m---> 12\u001b[1;33m \u001b[0mprint\u001b[0m\u001b[1;33m(\u001b[0m\u001b[0mdivide\u001b[0m\u001b[1;33m(\u001b[0m\u001b[1;36m1\u001b[0m\u001b[1;33m,\u001b[0m \u001b[1;36m0\u001b[0m\u001b[1;33m)\u001b[0m\u001b[1;33m)\u001b[0m\u001b[1;33m\u001b[0m\u001b[1;33m\u001b[0m\u001b[0m\n\u001b[0m",
      "\u001b[1;32m<ipython-input-36-6d22ccf3e581>\u001b[0m in \u001b[0;36mdivide\u001b[1;34m(dividend, divisor)\u001b[0m\n\u001b[0;32m      6\u001b[0m \u001b[1;32mdef\u001b[0m \u001b[0mdivide\u001b[0m\u001b[1;33m(\u001b[0m\u001b[0mdividend\u001b[0m\u001b[1;33m,\u001b[0m \u001b[0mdivisor\u001b[0m\u001b[1;33m)\u001b[0m\u001b[1;33m:\u001b[0m\u001b[1;33m\u001b[0m\u001b[1;33m\u001b[0m\u001b[0m\n\u001b[0;32m      7\u001b[0m     \u001b[1;32mif\u001b[0m \u001b[0mdivisor\u001b[0m \u001b[1;33m==\u001b[0m \u001b[1;36m0\u001b[0m\u001b[1;33m:\u001b[0m\u001b[1;33m\u001b[0m\u001b[1;33m\u001b[0m\u001b[0m\n\u001b[1;32m----> 8\u001b[1;33m         \u001b[1;32mraise\u001b[0m \u001b[0mArithmeticException\u001b[0m\u001b[1;33m(\u001b[0m\u001b[0mdivisor\u001b[0m\u001b[1;33m)\u001b[0m\u001b[1;33m\u001b[0m\u001b[1;33m\u001b[0m\u001b[0m\n\u001b[0m\u001b[0;32m      9\u001b[0m     \u001b[1;32mreturn\u001b[0m \u001b[0mdividend\u001b[0m\u001b[1;33m/\u001b[0m\u001b[0mdivisor\u001b[0m\u001b[1;33m\u001b[0m\u001b[1;33m\u001b[0m\u001b[0m\n\u001b[0;32m     10\u001b[0m \u001b[1;33m\u001b[0m\u001b[0m\n",
      "\u001b[1;31mArithmeticException\u001b[0m: 0"
     ]
    }
   ],
   "source": [
    "# Create customer exceptions\n",
    "class ArithmeticException(Exception):\n",
    "    def __int__(self, number):\n",
    "        self.number = number\n",
    "\n",
    "def divide(dividend, divisor):\n",
    "    if divisor == 0:\n",
    "        raise ArithmeticException(divisor)\n",
    "    return dividend/divisor\n",
    "\n",
    "print(divide(1, 1))\n",
    "print(divide(1, 0))"
   ]
  }
 ],
 "metadata": {
  "kernelspec": {
   "display_name": "Python 3",
   "language": "python",
   "name": "python3"
  },
  "language_info": {
   "codemirror_mode": {
    "name": "ipython",
    "version": 3
   },
   "file_extension": ".py",
   "mimetype": "text/x-python",
   "name": "python",
   "nbconvert_exporter": "python",
   "pygments_lexer": "ipython3",
   "version": "3.7.2"
  }
 },
 "nbformat": 4,
 "nbformat_minor": 2
}
