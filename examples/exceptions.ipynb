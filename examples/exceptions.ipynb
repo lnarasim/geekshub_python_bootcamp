{
 "cells": [
  {
   "cell_type": "code",
   "execution_count": 1,
   "metadata": {},
   "outputs": [],
   "source": [
    "# Let us do some examples"
   ]
  },
  {
   "cell_type": "code",
   "execution_count": 2,
   "metadata": {},
   "outputs": [
    {
     "ename": "ZeroDivisionError",
     "evalue": "division by zero",
     "output_type": "error",
     "traceback": [
      "\u001b[1;31m---------------------------------------------------------------------------\u001b[0m",
      "\u001b[1;31mZeroDivisionError\u001b[0m                         Traceback (most recent call last)",
      "\u001b[1;32m<ipython-input-2-716d859c1200>\u001b[0m in \u001b[0;36m<module>\u001b[1;34m\u001b[0m\n\u001b[0;32m      1\u001b[0m \u001b[0ma\u001b[0m \u001b[1;33m=\u001b[0m \u001b[1;36m0\u001b[0m\u001b[1;33m\u001b[0m\u001b[1;33m\u001b[0m\u001b[0m\n\u001b[0;32m      2\u001b[0m \u001b[0mb\u001b[0m \u001b[1;33m=\u001b[0m \u001b[1;36m1\u001b[0m\u001b[1;33m\u001b[0m\u001b[1;33m\u001b[0m\u001b[0m\n\u001b[1;32m----> 3\u001b[1;33m \u001b[0mc\u001b[0m \u001b[1;33m=\u001b[0m \u001b[0mb\u001b[0m\u001b[1;33m/\u001b[0m\u001b[0ma\u001b[0m\u001b[1;33m\u001b[0m\u001b[1;33m\u001b[0m\u001b[0m\n\u001b[0m",
      "\u001b[1;31mZeroDivisionError\u001b[0m: division by zero"
     ]
    }
   ],
   "source": [
    "a = 0\n",
    "b = 1\n",
    "c = b/a"
   ]
  },
  {
   "cell_type": "code",
   "execution_count": 3,
   "metadata": {},
   "outputs": [
    {
     "name": "stdout",
     "output_type": "stream",
     "text": [
      "Dividing a number by zero is a big crime\n"
     ]
    }
   ],
   "source": [
    "# let us handle it\n",
    "try:\n",
    "    a = 0\n",
    "    b = 1\n",
    "    c = b/a\n",
    "except ZeroDivisionError:\n",
    "    print(\"Dividing a number by zero is a big crime\")"
   ]
  },
  {
   "cell_type": "code",
   "execution_count": 8,
   "metadata": {},
   "outputs": [
    {
     "name": "stdout",
     "output_type": "stream",
     "text": [
      "division by zero\n",
      "('division by zero',)\n",
      "<class 'ZeroDivisionError'>\n",
      "True\n"
     ]
    }
   ],
   "source": [
    "# let us handle it\n",
    "try:\n",
    "    a = 0\n",
    "    b = 1\n",
    "    c = b/a\n",
    "except ZeroDivisionError as exp:\n",
    "    print(exp)\n",
    "    print(exp.args)\n",
    "    print(type(exp))\n",
    "    print(issubclass(ZeroDivisionError, Exception))"
   ]
  },
  {
   "cell_type": "code",
   "execution_count": 11,
   "metadata": {},
   "outputs": [
    {
     "name": "stdout",
     "output_type": "stream",
     "text": [
      "unsupported operand type(s) for +: 'int' and 'str'\n",
      "(\"unsupported operand type(s) for +: 'int' and 'str'\",)\n",
      "<class 'TypeError'>\n",
      "True\n",
      "Type error\n"
     ]
    }
   ],
   "source": [
    "# let us handle it\n",
    "try:\n",
    "    a = 1\n",
    "    b = 1\n",
    "    c = b/a\n",
    "    d = a + '1'\n",
    "except ZeroDivisionError as exp:\n",
    "    print(exp)\n",
    "    print(exp.args)\n",
    "    print(type(exp))\n",
    "    print(issubclass(ZeroDivisionError, Exception))\n",
    "    print(\"Zero division error\")\n",
    "except TypeError as type_exp:\n",
    "    print(type_exp)\n",
    "    print(type_exp.args)\n",
    "    print(type(type_exp))\n",
    "    print(issubclass(TypeError, Exception))\n",
    "    print(\"Type error\")"
   ]
  },
  {
   "cell_type": "code",
   "execution_count": 12,
   "metadata": {},
   "outputs": [
    {
     "name": "stdout",
     "output_type": "stream",
     "text": [
      "no exception occured, good job\n"
     ]
    }
   ],
   "source": [
    "# let us handle it\n",
    "try:\n",
    "    a = 1\n",
    "    b = 1\n",
    "    c = b/a\n",
    "    d = a + 1\n",
    "except ZeroDivisionError as exp:\n",
    "    print(exp)\n",
    "    print(exp.args)\n",
    "    print(type(exp))\n",
    "    print(issubclass(ZeroDivisionError, Exception))\n",
    "    print(\"Zero division error\")\n",
    "except TypeError as type_exp:\n",
    "    print(type_exp)\n",
    "    print(type_exp.args)\n",
    "    print(type(type_exp))\n",
    "    print(issubclass(TypeError, Exception))\n",
    "    print(\"Type error\")\n",
    "else:\n",
    "    print(\"no exception occured, good job\")"
   ]
  },
  {
   "cell_type": "code",
   "execution_count": 13,
   "metadata": {},
   "outputs": [
    {
     "name": "stdout",
     "output_type": "stream",
     "text": [
      "no exception occured, good job\n",
      "This block runs no matter what\n"
     ]
    }
   ],
   "source": [
    "# let us handle it\n",
    "try:\n",
    "    a = 1\n",
    "    b = 1\n",
    "    c = b/a\n",
    "    d = a + 1\n",
    "except ZeroDivisionError as exp:\n",
    "    print(exp)\n",
    "    print(exp.args)\n",
    "    print(type(exp))\n",
    "    print(issubclass(ZeroDivisionError, Exception))\n",
    "    print(\"Zero division error\")\n",
    "except TypeError as type_exp:\n",
    "    print(type_exp)\n",
    "    print(type_exp.args)\n",
    "    print(type(type_exp))\n",
    "    print(issubclass(TypeError, Exception))\n",
    "    print(\"Type error\")\n",
    "else:\n",
    "    print(\"no exception occured, good job\")\n",
    "finally:\n",
    "    print(\"This block runs no matter what\")"
   ]
  },
  {
   "cell_type": "code",
   "execution_count": 21,
   "metadata": {},
   "outputs": [],
   "source": [
    "def func():\n",
    "    try:\n",
    "        a = 1\n",
    "        b = 1\n",
    "        c = b/a\n",
    "        d = a + 1\n",
    "        return None\n",
    "    except ZeroDivisionError as exp:\n",
    "        print(exp)\n",
    "        print(exp.args)\n",
    "        print(type(exp))\n",
    "        print(issubclass(ZeroDivisionError, Exception))\n",
    "        print(\"Zero division error\")\n",
    "    except TypeError as type_exp:\n",
    "        print(type_exp)\n",
    "        print(type_exp.args)\n",
    "        print(type(type_exp))\n",
    "        print(issubclass(TypeError, Exception))\n",
    "        print(\"Type error\")\n",
    "    else:\n",
    "        print(\"no exception occured, good job\")\n",
    "    finally:\n",
    "        print(\"This block runs no matter what, even if there is a return\")"
   ]
  },
  {
   "cell_type": "code",
   "execution_count": 22,
   "metadata": {},
   "outputs": [
    {
     "name": "stdout",
     "output_type": "stream",
     "text": [
      "This block runs no matter what, even if there is a return\n"
     ]
    }
   ],
   "source": [
    "a = func()"
   ]
  },
  {
   "cell_type": "code",
   "execution_count": 24,
   "metadata": {},
   "outputs": [],
   "source": [
    "def func():\n",
    "    try:\n",
    "        a = 1\n",
    "        b = 1\n",
    "        c = b/a\n",
    "        d = a + 1\n",
    "        print('No exceptions, but i return here')\n",
    "        return None\n",
    "    except ZeroDivisionError as exp:\n",
    "        print(exp)\n",
    "        print(exp.args)\n",
    "        print(type(exp))\n",
    "        print(issubclass(ZeroDivisionError, Exception))\n",
    "        print(\"Zero division error\")\n",
    "    except TypeError as type_exp:\n",
    "        print(type_exp)\n",
    "        print(type_exp.args)\n",
    "        print(type(type_exp))\n",
    "        print(issubclass(TypeError, Exception))\n",
    "        print(\"Type error\")\n",
    "    else:\n",
    "        print(\"no exception occured, good job. But this does not run when there is return\")"
   ]
  },
  {
   "cell_type": "code",
   "execution_count": 25,
   "metadata": {},
   "outputs": [],
   "source": [
    "func()"
   ]
  },
  {
   "cell_type": "code",
   "execution_count": 26,
   "metadata": {},
   "outputs": [],
   "source": [
    "# TODO: raise exceptions"
   ]
  },
  {
   "cell_type": "code",
   "execution_count": 27,
   "metadata": {},
   "outputs": [],
   "source": [
    "# TODO: Create customer exceptions"
   ]
  },
  {
   "cell_type": "code",
   "execution_count": 28,
   "metadata": {},
   "outputs": [],
   "source": [
    "# TODO: exception handling good practices"
   ]
  },
  {
   "cell_type": "code",
   "execution_count": null,
   "metadata": {},
   "outputs": [],
   "source": []
  }
 ],
 "metadata": {
  "kernelspec": {
   "display_name": "Python 3",
   "language": "python",
   "name": "python3"
  },
  "language_info": {
   "codemirror_mode": {
    "name": "ipython",
    "version": 3
   },
   "file_extension": ".py",
   "mimetype": "text/x-python",
   "name": "python",
   "nbconvert_exporter": "python",
   "pygments_lexer": "ipython3",
   "version": "3.7.2"
  }
 },
 "nbformat": 4,
 "nbformat_minor": 2
}
