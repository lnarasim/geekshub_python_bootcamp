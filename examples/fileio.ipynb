{
 "cells": [
  {
   "cell_type": "code",
   "execution_count": 130,
   "metadata": {},
   "outputs": [
    {
     "name": "stdout",
     "output_type": "stream",
     "text": [
      "This is a test file\n",
      "Contains some text\n",
      "As you see, you have many lines.\n",
      "And if you think, it is a poem,\n",
      "BoomThis is a text i just added\n",
      "This is a text i just added\n",
      "This is a text i just added\n"
     ]
    }
   ],
   "source": [
    "# let us explore file operations with simple\n",
    "# read. The following snippet reads the entire\n",
    "# file with name \"test.txt\" and prints them\n",
    "file_object = open(\"test.txt\",\"r\")\n",
    "contents = file_object.read()\n",
    "print(contents)\n",
    "# after using the file, you need to close it\n",
    "file_object.close()"
   ]
  },
  {
   "cell_type": "code",
   "execution_count": 131,
   "metadata": {},
   "outputs": [],
   "source": [
    "# Let us append some text to the file\n",
    "file_object = open(\"test.txt\", \"a\")\n",
    "file_object.write(\"This is a text i just added\")\n",
    "file_object.close()\n",
    "# after this, open the file and see what happened"
   ]
  },
  {
   "cell_type": "code",
   "execution_count": 132,
   "metadata": {},
   "outputs": [
    {
     "name": "stdout",
     "output_type": "stream",
     "text": [
      "This is a test file\n",
      "Contains some text\n",
      "As you see, you have many lines.\n",
      "And if you think, it is a poem,\n",
      "BoomThis is a text i just added\n",
      "This is a text i just added\n",
      "This is a text i just addedThis is a text i just added\n"
     ]
    }
   ],
   "source": [
    "# let us read it again\n",
    "file_object = open(\"test.txt\",\"r\")\n",
    "contents = file_object.read()\n",
    "print(contents)\n",
    "file_object.close()"
   ]
  },
  {
   "cell_type": "code",
   "execution_count": 133,
   "metadata": {},
   "outputs": [
    {
     "name": "stdout",
     "output_type": "stream",
     "text": [
      "This is a test file\n",
      "\n",
      "Contains some text\n",
      "\n",
      "As you see, you have many lines.\n",
      "\n",
      "And if you think, it is a poem,\n",
      "\n",
      "BoomThis is a text i just added\n",
      "\n",
      "This is a text i just added\n",
      "\n",
      "This is a text i just addedThis is a text i just added\n"
     ]
    }
   ],
   "source": [
    "# Let us read file line by line\n",
    "file_object = open(\"test.txt\", \"r\")\n",
    "for line in file_object.readlines():\n",
    "    print(line)\n",
    "file_object.close()\n",
    "\n",
    "# You see an additional newline? How to fix it? This is because each line\n",
    "# ends with a newline and print in for loop prints a newline by default.\n",
    "# Let us disable newline getting inserted in print"
   ]
  },
  {
   "cell_type": "code",
   "execution_count": 134,
   "metadata": {},
   "outputs": [
    {
     "name": "stdout",
     "output_type": "stream",
     "text": [
      "This is a test file\n",
      "Contains some text\n",
      "As you see, you have many lines.\n",
      "And if you think, it is a poem,\n",
      "BoomThis is a text i just added\n",
      "This is a text i just added\n",
      "This is a text i just addedThis is a text i just added"
     ]
    }
   ],
   "source": [
    "# Print will no longer prints a newline\n",
    "file_object = open(\"test.txt\", \"r\")\n",
    "for line in file_object.readlines():\n",
    "    print(line, end=\"\")\n",
    "file_object.close()"
   ]
  },
  {
   "cell_type": "code",
   "execution_count": 135,
   "metadata": {},
   "outputs": [
    {
     "name": "stdout",
     "output_type": "stream",
     "text": [
      "This is a test file\n",
      "Contains some text\n",
      "As you see, you have many lines.\n",
      "And if you think, it is a poem,\n",
      "BoomThis is a text i just added\n",
      "This is a text i just added\n",
      "This is a text i just addedThis is a text i just added"
     ]
    }
   ],
   "source": [
    "# another way of reading files. This method does not add the overhead of keeping\n",
    "# the whole content in memory. It reads a line and postpone reading the next\n",
    "# line until iterated.\n",
    "file_object = open(\"test.txt\", \"r\")\n",
    "for line in file_object:\n",
    "    print(line, end=\"\")\n",
    "file_object.close()"
   ]
  },
  {
   "cell_type": "code",
   "execution_count": 136,
   "metadata": {},
   "outputs": [
    {
     "name": "stdout",
     "output_type": "stream",
     "text": [
      "['This is a test file\\n', 'Contains some text\\n', 'As you see, you have many lines.\\n']\n"
     ]
    }
   ],
   "source": [
    "# Let us read some bytes\n",
    "file_object = open(\"test.txt\", \"r\")\n",
    "# here at least 40 bytes, stops after 40 bytes at newline\n",
    "contents = file_object.readlines(40)\n",
    "print(contents)\n",
    "file_object.close()"
   ]
  },
  {
   "cell_type": "code",
   "execution_count": 137,
   "metadata": {},
   "outputs": [
    {
     "name": "stdout",
     "output_type": "stream",
     "text": [
      "4\n"
     ]
    }
   ],
   "source": [
    "# let us print undelying file descriptor\n",
    "file_object = open(\"test.txt\", \"r\")\n",
    "print(file_object.fileno())\n",
    "file_object.close()"
   ]
  },
  {
   "cell_type": "code",
   "execution_count": 138,
   "metadata": {},
   "outputs": [
    {
     "name": "stdout",
     "output_type": "stream",
     "text": [
      "This is a test file\n",
      "Contains some text\n",
      "As you see, you have many lines.\n",
      "And if you think, it is a poem,\n",
      "BoomThis is a text i just added\n",
      "This is a text i just added\n",
      "This is a text i just addedThis is a text i just added"
     ]
    }
   ],
   "source": [
    "# Read file as \"chunk\" bytes. Read until EOF is reached\n",
    "file_object = open(\"test.txt\", \"r\")\n",
    "chunk = 1\n",
    "content = file_object.read(chunk)\n",
    "while True:\n",
    "    if content == '':\n",
    "        break\n",
    "    print(content, end='')\n",
    "    content = file_object.read(chunk)"
   ]
  },
  {
   "cell_type": "code",
   "execution_count": 139,
   "metadata": {},
   "outputs": [
    {
     "name": "stdout",
     "output_type": "stream",
     "text": [
      "This is a test file\n",
      "Contains some text\n",
      "As you see, you have many lines.\n",
      "And if you think, it is a poem,\n",
      "BoomThis is a text i just added\n",
      "This is a text i just added\n",
      "This is a text i just addedThis is a text i just added"
     ]
    }
   ],
   "source": [
    "# Read file as 2 bytes. Read until EOF is reached\n",
    "file_object = open(\"test.txt\", \"r\")\n",
    "\n",
    "# Note this, we have changed this to two\n",
    "chunk = 2\n",
    "content = file_object.read(chunk)\n",
    "while True:\n",
    "    if content == '':\n",
    "        break\n",
    "    print(content, end='')\n",
    "    content = file_object.read(chunk)"
   ]
  },
  {
   "cell_type": "code",
   "execution_count": 140,
   "metadata": {},
   "outputs": [
    {
     "name": "stdout",
     "output_type": "stream",
     "text": [
      "This is a test file\n",
      "Contains some text\n",
      "As you see, you have many lines.\n",
      "And if you think, it is a poem,\n",
      "BoomThis is a text i just added\n",
      "This is a text i just added\n",
      "This is a text i just addedThis is a text i just added"
     ]
    }
   ],
   "source": [
    "# Read file as 1000 bytes. Read until EOF is reached\n",
    "file_object = open(\"test.txt\", \"r\")\n",
    "\n",
    "# Note this, we have changed this to 1000\n",
    "chunk = 1000\n",
    "content = file_object.read(chunk)\n",
    "while True:\n",
    "    if content == '':\n",
    "        break\n",
    "    print(content, end='')\n",
    "    content = file_object.read(chunk)"
   ]
  },
  {
   "cell_type": "code",
   "execution_count": 141,
   "metadata": {},
   "outputs": [
    {
     "name": "stdout",
     "output_type": "stream",
     "text": [
      "Current file pointer position is 21\n",
      "Current file pointer position is 42\n",
      "Current file pointer position is 62\n",
      "Current file pointer position is 83\n",
      "Current file pointer position is 103\n",
      "Current file pointer position is 124\n",
      "Current file pointer position is 145\n",
      "Current file pointer position is 165\n",
      "Current file pointer position is 186\n",
      "Current file pointer position is 206\n",
      "Current file pointer position is 224\n"
     ]
    }
   ],
   "source": [
    "# print the position of file pointer every iteration\n",
    "file_object = open(\"test.txt\", \"r\")\n",
    "\n",
    "# Note this, we have changed this to two\n",
    "chunk = 20\n",
    "content = file_object.read(chunk)\n",
    "while True:\n",
    "    if content == '':\n",
    "        break\n",
    "    print(f\"Current file pointer position is {file_object.tell()}\")\n",
    "    content = file_object.read(chunk)\n",
    "file_object.close()"
   ]
  },
  {
   "cell_type": "code",
   "execution_count": 142,
   "metadata": {},
   "outputs": [
    {
     "name": "stdout",
     "output_type": "stream",
     "text": [
      "Is file readable? True\n",
      "Is file readable? False\n"
     ]
    }
   ],
   "source": [
    "# Let us see if the file is readable\n",
    "file_object = open(\"test.txt\", \"r\")\n",
    "print(f\"Is file readable? {file_object.readable()}\")\n",
    "file_object.close()\n",
    "\n",
    "file_object = open(\"test.txt\", \"w\")\n",
    "print(f\"Is file readable? {file_object.readable()}\")\n",
    "file_object.close()"
   ]
  },
  {
   "cell_type": "code",
   "execution_count": 143,
   "metadata": {},
   "outputs": [],
   "source": [
    "# Let us truncate the file to 100 bytes\n",
    "file_object = open(\"test.txt\", \"a\")\n",
    "file_object.truncate(100)\n",
    "file_object.close()"
   ]
  },
  {
   "cell_type": "code",
   "execution_count": 144,
   "metadata": {},
   "outputs": [],
   "source": [
    "# What will happen here?\n",
    "file_object = open(\"test.txt\", \"w\")\n",
    "file_object.truncate(100)\n",
    "file_object.close()"
   ]
  },
  {
   "cell_type": "code",
   "execution_count": 145,
   "metadata": {},
   "outputs": [
    {
     "name": "stdout",
     "output_type": "stream",
     "text": [
      "\u0000\u0000\u0000\u0000\u0000\u0000\u0000\u0000\u0000\u0000\u0000\u0000\u0000\u0000\u0000\u0000\u0000\u0000\u0000\u0000\u0000\u0000\u0000\u0000\u0000\u0000\u0000\u0000\u0000\u0000\u0000\u0000\u0000\u0000\u0000\u0000\u0000\u0000\u0000\u0000\u0000\u0000\u0000\u0000\u0000\u0000\u0000\u0000\u0000\u0000\u0000\u0000\u0000\u0000\u0000\u0000\u0000\u0000\u0000\u0000\u0000\u0000\u0000\u0000\u0000\u0000\u0000\u0000\u0000\u0000\u0000\u0000\u0000\u0000\u0000\u0000\u0000\u0000\u0000\u0000\u0000\u0000\u0000\u0000\u0000\u0000\u0000\u0000\u0000\u0000\u0000\u0000\u0000\u0000\u0000\u0000\u0000\u0000\u0000\u0000\n",
      "-----------\n",
      "\u0000\u0000\u0000\u0000\u0000\u0000\u0000\u0000\u0000\u0000\u0000\u0000\u0000\u0000\u0000\u0000\u0000\u0000\u0000\u0000\u0000\u0000\u0000\u0000\u0000\u0000\u0000\u0000\u0000\u0000\u0000\u0000\u0000\u0000\u0000\u0000\u0000\u0000\u0000\u0000\u0000\u0000\u0000\u0000\u0000\u0000\u0000\u0000\u0000\u0000\u0000\u0000\u0000\u0000\u0000\u0000\u0000\u0000\u0000\u0000\u0000\u0000\u0000\u0000\u0000\u0000\u0000\u0000\u0000\u0000\u0000\u0000\u0000\u0000\u0000\u0000\u0000\u0000\u0000\u0000\u0000\u0000\u0000\u0000\u0000\u0000\u0000\u0000\u0000\u0000\u0000\u0000\u0000\u0000\u0000\u0000\u0000\u0000\u0000\u0000\n",
      "-----------\n",
      "\u0000\u0000\u0000\u0000\u0000\u0000\u0000\u0000\u0000\u0000\u0000\u0000\u0000\u0000\u0000\u0000\u0000\u0000\u0000\u0000\u0000\u0000\u0000\u0000\u0000\u0000\u0000\u0000\u0000\u0000\u0000\u0000\u0000\u0000\u0000\u0000\u0000\u0000\u0000\u0000\u0000\u0000\u0000\u0000\u0000\u0000\u0000\u0000\u0000\u0000"
     ]
    }
   ],
   "source": [
    "file_object = open(\"test.txt\", \"r\")\n",
    "for line in file_object:\n",
    "    print(line, end=\"\")\n",
    "\n",
    "print(\"\\n-----------\")\n",
    "    \n",
    "# We have reached end of file. Let us reset file pointer\n",
    "# to beginning\n",
    "file_object.seek(0, 0)\n",
    "\n",
    "# Let us print again\n",
    "for line in file_object:\n",
    "    print(line, end=\"\")\n",
    "    \n",
    "print(\"\\n-----------\")\n",
    "file_object.seek(50, 0)\n",
    "\n",
    "# Let us print again\n",
    "for line in file_object:\n",
    "    print(line, end=\"\")\n"
   ]
  },
  {
   "cell_type": "code",
   "execution_count": 146,
   "metadata": {},
   "outputs": [
    {
     "name": "stdout",
     "output_type": "stream",
     "text": [
      "b'\\x00\\x00\\x00\\x00\\x00\\x00\\x00\\x00\\x00\\x00\\x00\\x00\\x00\\x00\\x00\\x00\\x00\\x00\\x00\\x00\\x00\\x00\\x00\\x00\\x00\\x00\\x00\\x00\\x00\\x00\\x00\\x00\\x00\\x00\\x00\\x00\\x00\\x00\\x00\\x00\\x00\\x00\\x00\\x00\\x00\\x00\\x00\\x00\\x00\\x00\\x00\\x00\\x00\\x00\\x00\\x00\\x00\\x00\\x00\\x00\\x00\\x00\\x00\\x00\\x00\\x00\\x00\\x00\\x00\\x00\\x00\\x00\\x00\\x00\\x00\\x00\\x00\\x00\\x00\\x00\\x00\\x00\\x00\\x00\\x00\\x00\\x00\\x00\\x00\\x00\\x00\\x00\\x00\\x00\\x00\\x00\\x00\\x00\\x00\\x00'"
     ]
    }
   ],
   "source": [
    "# Let us open in binary mode\n",
    "file_object = open(\"test.txt\", \"rb\")\n",
    "chunk = 10\n",
    "file_bytes = file_object.read()\n",
    "\n",
    "while True:\n",
    "    if file_bytes <= b'':\n",
    "        break\n",
    "    print(file_bytes, end=\"\")\n",
    "    file_bytes = file_object.read()"
   ]
  },
  {
   "cell_type": "code",
   "execution_count": 147,
   "metadata": {},
   "outputs": [],
   "source": [
    "# Let us open a file that is not existing\n",
    "file_object = open(\"test1.txt\", \"w\")\n",
    "file_object.close()"
   ]
  },
  {
   "cell_type": "code",
   "execution_count": 148,
   "metadata": {},
   "outputs": [
    {
     "name": "stdout",
     "output_type": "stream",
     "text": [
      "File position = 0\n"
     ]
    }
   ],
   "source": [
    "# let us do some random operations and see what happens\n",
    "file_object = open(\"test1.txt\", \"w+\")\n",
    "print(f\"File position = {file_object.tell()}\")\n",
    "file_object.close()"
   ]
  },
  {
   "cell_type": "code",
   "execution_count": 149,
   "metadata": {},
   "outputs": [
    {
     "name": "stdout",
     "output_type": "stream",
     "text": [
      "File position = 0\n"
     ]
    }
   ],
   "source": [
    "file_object = open(\"test1.txt\", \"a+\")\n",
    "print(f\"File position = {file_object.tell()}\")\n",
    "file_object.close()"
   ]
  },
  {
   "cell_type": "code",
   "execution_count": 150,
   "metadata": {},
   "outputs": [],
   "source": [
    "# Let us end demo here. Explore open and file object's method. Do your own exercise"
   ]
  }
 ],
 "metadata": {
  "kernelspec": {
   "display_name": "Python 3",
   "language": "python",
   "name": "python3"
  },
  "language_info": {
   "codemirror_mode": {
    "name": "ipython",
    "version": 3
   },
   "file_extension": ".py",
   "mimetype": "text/x-python",
   "name": "python",
   "nbconvert_exporter": "python",
   "pygments_lexer": "ipython3",
   "version": "3.7.2"
  }
 },
 "nbformat": 4,
 "nbformat_minor": 2
}
