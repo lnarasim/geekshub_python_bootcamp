{
 "cells": [
  {
   "cell_type": "code",
   "execution_count": 1,
   "metadata": {},
   "outputs": [],
   "source": [
    "FILE_NAME = \"Urban_Total_Accidents_2006-16.csv\""
   ]
  },
  {
   "cell_type": "code",
   "execution_count": 98,
   "metadata": {},
   "outputs": [
    {
     "data": {
      "text/plain": [
       "{'Maharashtra': 17.41638957158691,\n",
       " 'Tamil Nadu': 11.900028914269193,\n",
       " 'Madhya Pradesh': 11.141109665397652,\n",
       " 'Karnataka': 8.81463543925594,\n",
       " 'Andhra Pradesh': 6.514344690215733,\n",
       " 'Kerala': 6.328289399707645,\n",
       " 'Uttar Pradesh': 6.266726101553338,\n",
       " 'Gujarat': 4.772019019163735,\n",
       " 'Rajasthan': 3.9061972916967855,\n",
       " 'Delhi': 3.4018842465423353,\n",
       " 'West Bengal': 2.8250445761650043,\n",
       " 'Chhattisgarh': 2.6430051563780057,\n",
       " 'Odisha': 1.8807928935151719,\n",
       " 'Bihar': 1.7363420236775737,\n",
       " 'Haryana': 1.680963166433746,\n",
       " 'Assam': 1.5790403675324884,\n",
       " 'Telangana': 1.3475254204616645,\n",
       " 'Jammu & Kashmir': 1.0505919393442886,\n",
       " 'Jharkhand': 1.0287054439143495,\n",
       " 'Punjab': 0.9899522914558334,\n",
       " 'Goa': 0.8274701620805422,\n",
       " 'Himachal Pradesh': 0.45580132684368624,\n",
       " 'Puducherry': 0.3852826369813503,\n",
       " 'Uttarakhand': 0.33098806483221693,\n",
       " 'Chandigarh': 0.1746502176601931,\n",
       " 'Tripura': 0.12388961174561869,\n",
       " 'Manipur': 0.11987374102452894,\n",
       " 'Meghalaya': 0.11617913996112637,\n",
       " 'Arunachal Pradesh': 0.07365106902478595,\n",
       " 'Andaman & Nicobar Islands': 0.049555844698247475,\n",
       " 'Sikkim': 0.042528070936340416,\n",
       " 'Nagaland': 0.0348979165662699,\n",
       " 'Mizoram': 0.022729828281367968,\n",
       " 'Dadra & Nagar Haveli': 0.010842850946942316,\n",
       " 'Daman & Diu': 0.00807190014939039,\n",
       " 'Lakshadweep': 0.0}"
      ]
     },
     "execution_count": 98,
     "metadata": {},
     "output_type": "execute_result"
    }
   ],
   "source": [
    "import matplotlib.pyplot as plt\n",
    "from matplotlib.pyplot import figure\n",
    "\n",
    "def percentage_of_accidents(states_data):\n",
    "    states = dict()\n",
    "    total = sum(states_data['All India'].values())\n",
    "    for state, value in states_data.items():\n",
    "        if state == 'All India':\n",
    "            continue\n",
    "        states[state] = (sum(value.values()) * 100) / total\n",
    "        \n",
    "    return dict(sorted(states.items(), key=lambda k: k[1], reverse=True))\n",
    "    \n",
    "    \n",
    "def plot_state(state, x, y):\n",
    "    figure(num=None, figsize=(10, 8), dpi=80, facecolor='w', edgecolor='k')\n",
    "    plt.ylabel('Number of accidents')\n",
    "    plt.xlabel('years')\n",
    "    plt.grid(True)\n",
    "    plt.title(f\"Number of Urban accidents in {state}\")\n",
    "    \n",
    "    x = tuple(x)\n",
    "    y = tuple(y)\n",
    "    plt.bar(x, y, label=state, )\n",
    "        \n",
    "    plt.legend()\n",
    "    plt.show()\n",
    "    \n",
    "def convert_to_int(value):\n",
    "    try:\n",
    "        return int(value)\n",
    "    except ValueError:\n",
    "        return 0\n",
    "    \n",
    "with open(FILE_NAME) as csv_file:\n",
    "    states_dict = dict()\n",
    "    headers = csv_file.readline().strip().split(',')[1:]\n",
    "    for line in csv_file:\n",
    "        row_data = line.strip().split(',')\n",
    "        state = row_data[0]\n",
    "        row_data = [convert_to_int(value) for value in row_data[1:]]\n",
    "        states_dict[state] = {year: year_date for year, year_date in zip(headers, row_data)}\n",
    "        \n",
    "percentage_of_accidents(states_dict)\n",
    "\n",
    "# for state, data in states_dict.items():\n",
    "#      plot_state(state, data.keys(), data.values())"
   ]
  },
  {
   "cell_type": "code",
   "execution_count": null,
   "metadata": {},
   "outputs": [],
   "source": []
  }
 ],
 "metadata": {
  "kernelspec": {
   "display_name": "Python 3",
   "language": "python",
   "name": "python3"
  },
  "language_info": {
   "codemirror_mode": {
    "name": "ipython",
    "version": 3
   },
   "file_extension": ".py",
   "mimetype": "text/x-python",
   "name": "python",
   "nbconvert_exporter": "python",
   "pygments_lexer": "ipython3",
   "version": "3.7.3"
  }
 },
 "nbformat": 4,
 "nbformat_minor": 2
}
