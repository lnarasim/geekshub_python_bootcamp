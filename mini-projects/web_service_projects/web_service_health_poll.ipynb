{
 "cells": [
  {
   "cell_type": "code",
   "execution_count": 24,
   "metadata": {},
   "outputs": [
    {
     "name": "stdout",
     "output_type": "stream",
     "text": [
      "['https://www.google.com', 'https://www.yahoo.com', 'https://www.geekshub.in', 'https://elevate.getunstuck.in']\n",
      "['https://something.in']\n"
     ]
    }
   ],
   "source": [
    "import requests\n",
    "\n",
    "web_services = ['https://www.google.com', \n",
    "                'https://www.yahoo.com', \n",
    "                'https://www.geekshub.in',\n",
    "                'https://elevate.getunstuck.in',\n",
    "                'https://something.in']\n",
    "\n",
    "def poll(web_services):\n",
    "    success = []\n",
    "    failures = []\n",
    "    \n",
    "    for url in web_services:\n",
    "        try:\n",
    "            response = requests.get(url)\n",
    "        except Exception as exp:            \n",
    "            failures.append(url)\n",
    "        else:        \n",
    "            if response.status_code == requests.codes.ok:\n",
    "                success.append(url)\n",
    "            else:\n",
    "                failures.append(url)\n",
    "                \n",
    "    return success, failures\n",
    "\n",
    "success, failure = poll(web_services)\n",
    "print(success)\n",
    "print(failure)"
   ]
  },
  {
   "cell_type": "code",
   "execution_count": null,
   "metadata": {},
   "outputs": [],
   "source": []
  }
 ],
 "metadata": {
  "kernelspec": {
   "display_name": "Python 3",
   "language": "python",
   "name": "python3"
  },
  "language_info": {
   "codemirror_mode": {
    "name": "ipython",
    "version": 3
   },
   "file_extension": ".py",
   "mimetype": "text/x-python",
   "name": "python",
   "nbconvert_exporter": "python",
   "pygments_lexer": "ipython3",
   "version": "3.7.3"
  }
 },
 "nbformat": 4,
 "nbformat_minor": 2
}
