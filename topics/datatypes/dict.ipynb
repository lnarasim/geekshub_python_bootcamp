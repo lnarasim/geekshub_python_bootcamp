{
 "cells": [
  {
   "cell_type": "code",
   "execution_count": 2,
   "metadata": {},
   "outputs": [
    {
     "name": "stdout",
     "output_type": "stream",
     "text": [
      "{'name': 'John', 'city': 'Chennai', 'age': 23, 'country': 'India'}\n"
     ]
    }
   ],
   "source": [
    "# let us create a dictionary\n",
    "person = {'name': \"John\", \"city\": \"Chennai\", 'age': 23, \"country\": \"India\"}\n",
    "\n",
    "print(person)"
   ]
  },
  {
   "cell_type": "code",
   "execution_count": 3,
   "metadata": {},
   "outputs": [
    {
     "name": "stdout",
     "output_type": "stream",
     "text": [
      "John\n",
      "Chennai\n"
     ]
    }
   ],
   "source": [
    "# let us print some values by indexing the keys\n",
    "print(person['name'])\n",
    "print(person['city'])"
   ]
  },
  {
   "cell_type": "code",
   "execution_count": 4,
   "metadata": {},
   "outputs": [
    {
     "name": "stdout",
     "output_type": "stream",
     "text": [
      "{'name': 'John', 'city': 'Chennai', 'age': 23, 'country': 'India', 'pincode': 600061}\n"
     ]
    }
   ],
   "source": [
    "# Let us add some key value pairs\n",
    "person['pincode'] = 600061\n",
    "\n",
    "print(person)"
   ]
  },
  {
   "cell_type": "code",
   "execution_count": 5,
   "metadata": {},
   "outputs": [
    {
     "name": "stdout",
     "output_type": "stream",
     "text": [
      "{'name': 'John', 'city': 'Chennai', 'age': 23, 'country': 'India', 'pincode': 600001}\n"
     ]
    }
   ],
   "source": [
    "# we can update a field like this\n",
    "person['pincode'] = 600001\n",
    "\n",
    "print(person)"
   ]
  },
  {
   "cell_type": "code",
   "execution_count": 6,
   "metadata": {},
   "outputs": [
    {
     "ename": "KeyError",
     "evalue": "'friends'",
     "output_type": "error",
     "traceback": [
      "\u001b[1;31m---------------------------------------------------------------------------\u001b[0m",
      "\u001b[1;31mKeyError\u001b[0m                                  Traceback (most recent call last)",
      "\u001b[1;32m<ipython-input-6-b0cfc2d0de1d>\u001b[0m in \u001b[0;36m<module>\u001b[1;34m\u001b[0m\n\u001b[0;32m      1\u001b[0m \u001b[1;31m# an error is thrown when trying to accessing non-existant keys\u001b[0m\u001b[1;33m\u001b[0m\u001b[1;33m\u001b[0m\u001b[1;33m\u001b[0m\u001b[0m\n\u001b[1;32m----> 2\u001b[1;33m \u001b[0mprint\u001b[0m\u001b[1;33m(\u001b[0m\u001b[0mperson\u001b[0m\u001b[1;33m[\u001b[0m\u001b[1;34m'friends'\u001b[0m\u001b[1;33m]\u001b[0m\u001b[1;33m)\u001b[0m\u001b[1;33m\u001b[0m\u001b[1;33m\u001b[0m\u001b[0m\n\u001b[0m",
      "\u001b[1;31mKeyError\u001b[0m: 'friends'"
     ]
    }
   ],
   "source": [
    "# an error is thrown when trying to accessing non-existant keys\n",
    "print(person['friends'])"
   ]
  },
  {
   "cell_type": "code",
   "execution_count": 7,
   "metadata": {},
   "outputs": [
    {
     "name": "stdout",
     "output_type": "stream",
     "text": [
      "{'name': 'John', 'city': 'Chennai', 'age': 23, 'country': 'India', 'pincode': 600001, 'friends': ['Ram', 'Rahim', 'Mohammed', 'Krishna']}\n"
     ]
    }
   ],
   "source": [
    "# a dictionary can have any object\n",
    "\n",
    "person['friends'] = ['Ram', 'Rahim', 'Mohammed', 'Krishna']\n",
    "\n",
    "print(person)"
   ]
  },
  {
   "cell_type": "code",
   "execution_count": 8,
   "metadata": {},
   "outputs": [
    {
     "ename": "TypeError",
     "evalue": "unhashable type: 'list'",
     "output_type": "error",
     "traceback": [
      "\u001b[1;31m---------------------------------------------------------------------------\u001b[0m",
      "\u001b[1;31mTypeError\u001b[0m                                 Traceback (most recent call last)",
      "\u001b[1;32m<ipython-input-8-e6ccdbc83668>\u001b[0m in \u001b[0;36m<module>\u001b[1;34m\u001b[0m\n\u001b[0;32m      1\u001b[0m \u001b[0mlst\u001b[0m \u001b[1;33m=\u001b[0m \u001b[1;33m[\u001b[0m\u001b[1;36m1\u001b[0m\u001b[1;33m,\u001b[0m \u001b[1;36m2\u001b[0m\u001b[1;33m,\u001b[0m \u001b[1;36m3\u001b[0m\u001b[1;33m]\u001b[0m\u001b[1;33m\u001b[0m\u001b[1;33m\u001b[0m\u001b[0m\n\u001b[1;32m----> 2\u001b[1;33m \u001b[0mperson\u001b[0m\u001b[1;33m[\u001b[0m\u001b[0mlst\u001b[0m\u001b[1;33m]\u001b[0m \u001b[1;33m=\u001b[0m \u001b[1;36m123\u001b[0m\u001b[1;33m\u001b[0m\u001b[1;33m\u001b[0m\u001b[0m\n\u001b[0m",
      "\u001b[1;31mTypeError\u001b[0m: unhashable type: 'list'"
     ]
    }
   ],
   "source": [
    "lst = [1, 2, 3]\n",
    "\n",
    "# we cannot have mutable objects as key, but any objects can be value\n",
    "person[lst] = 123"
   ]
  },
  {
   "cell_type": "code",
   "execution_count": 9,
   "metadata": {},
   "outputs": [
    {
     "name": "stdout",
     "output_type": "stream",
     "text": [
      "{'name': 'John', 'city': 'Chennai', 'age': 23, 'country': 'India', 'pincode': 600001, 'friends': ['Ram', 'Rahim', 'Mohammed', 'Krishna'], 'address': {'door_no': 45, 'street': 'GST Road', 'area': 'Guindy'}}\n"
     ]
    }
   ],
   "source": [
    "# let us create address\n",
    "address = {'door_no': 45, \"street\": \"GST Road\", \"area\": \"Guindy\"}\n",
    "\n",
    "# a dictiionary can have other dictionary as dictionary are objects\n",
    "\n",
    "person['address'] = address\n",
    "\n",
    "print(person)"
   ]
  },
  {
   "cell_type": "code",
   "execution_count": 10,
   "metadata": {},
   "outputs": [
    {
     "name": "stdout",
     "output_type": "stream",
     "text": [
      "name\n",
      "city\n",
      "age\n",
      "country\n",
      "pincode\n",
      "friends\n",
      "address\n"
     ]
    }
   ],
   "source": [
    "#iterating keys\n",
    "for key in person:\n",
    "    print(key)"
   ]
  },
  {
   "cell_type": "code",
   "execution_count": 11,
   "metadata": {},
   "outputs": [
    {
     "name": "stdout",
     "output_type": "stream",
     "text": [
      "John\n",
      "Chennai\n",
      "23\n",
      "India\n",
      "600001\n",
      "['Ram', 'Rahim', 'Mohammed', 'Krishna']\n",
      "{'door_no': 45, 'street': 'GST Road', 'area': 'Guindy'}\n"
     ]
    }
   ],
   "source": [
    "# iterating values\n",
    "for value in person.values():\n",
    "    print(value)"
   ]
  },
  {
   "cell_type": "code",
   "execution_count": 12,
   "metadata": {},
   "outputs": [
    {
     "name": "stdout",
     "output_type": "stream",
     "text": [
      "name = John\n",
      "city = Chennai\n",
      "age = 23\n",
      "country = India\n",
      "pincode = 600001\n",
      "friends = ['Ram', 'Rahim', 'Mohammed', 'Krishna']\n",
      "address = {'door_no': 45, 'street': 'GST Road', 'area': 'Guindy'}\n"
     ]
    }
   ],
   "source": [
    "for key, value in person.items():\n",
    "    print(f'{key} = {value}')"
   ]
  },
  {
   "cell_type": "code",
   "execution_count": 13,
   "metadata": {},
   "outputs": [
    {
     "name": "stdout",
     "output_type": "stream",
     "text": [
      "{}\n"
     ]
    }
   ],
   "source": [
    "# we can create dictionary using dict class\n",
    "\n",
    "empty = dict()\n",
    "print(empty)"
   ]
  },
  {
   "cell_type": "code",
   "execution_count": 15,
   "metadata": {},
   "outputs": [
    {
     "name": "stdout",
     "output_type": "stream",
     "text": [
      "{'name': 'Lakshmi', 'age': 25}\n"
     ]
    }
   ],
   "source": [
    "# passing sequences (tuple)\n",
    "dict_from_tuple = dict(\n",
    "    [('name', 'Lakshmi'), \n",
    "     ('age', 25)]\n",
    "    )\n",
    "print(dict_from_tuple)"
   ]
  },
  {
   "cell_type": "code",
   "execution_count": 19,
   "metadata": {},
   "outputs": [
    {
     "name": "stdout",
     "output_type": "stream",
     "text": [
      "{'name': 'Lakshmi', 'age': 25}\n"
     ]
    }
   ],
   "source": [
    "# passing sequences (list)\n",
    "dict_from_list = dict(\n",
    "    [['name', 'Lakshmi'], \n",
    "     ['age', 25]]\n",
    "    )\n",
    "print(dict_from_list)"
   ]
  },
  {
   "cell_type": "code",
   "execution_count": 29,
   "metadata": {},
   "outputs": [
    {
     "name": "stdout",
     "output_type": "stream",
     "text": [
      "{'Lakshmi': 'name', 25: 'age'}\n"
     ]
    }
   ],
   "source": [
    "dict_from_set =  dict([{'name', 'Lakshmi'}, {'age', 25}])\n",
    "\n",
    "print(dict_from_set) #beware, set is not ordered, key and value might get interchanged"
   ]
  },
  {
   "cell_type": "code",
   "execution_count": 30,
   "metadata": {},
   "outputs": [
    {
     "name": "stdout",
     "output_type": "stream",
     "text": [
      "{25: 'age'}\n",
      "{}\n"
     ]
    }
   ],
   "source": [
    "# deleting a key\n",
    "del dict_from_set['Lakshmi']\n",
    "print(dict_from_set)\n",
    "\n",
    "del dict_from_set[25]\n",
    "print(dict_from_set)"
   ]
  },
  {
   "cell_type": "code",
   "execution_count": 32,
   "metadata": {},
   "outputs": [
    {
     "name": "stdout",
     "output_type": "stream",
     "text": [
      "{'name': 'Balaji', 'age': 25, 'id': '100'}\n"
     ]
    }
   ],
   "source": [
    "# we can create dictionary passing keyword args\n",
    "kw_dict = dict(name='Balaji', age=25, id='100')\n",
    "print(kw_dict)"
   ]
  },
  {
   "cell_type": "code",
   "execution_count": 33,
   "metadata": {},
   "outputs": [
    {
     "name": "stdout",
     "output_type": "stream",
     "text": [
      "Value of name is Balaji\n"
     ]
    }
   ],
   "source": [
    "print(f\"Value of {'name'} is {kw_dict.get('name')}\")"
   ]
  },
  {
   "cell_type": "code",
   "execution_count": 34,
   "metadata": {},
   "outputs": [
    {
     "name": "stdout",
     "output_type": "stream",
     "text": [
      "Value of does_not_exist is None\n"
     ]
    }
   ],
   "source": [
    "print(f\"Value of {'does_not_exist'} is {kw_dict.get('does_not_exist')}\")"
   ]
  },
  {
   "cell_type": "code",
   "execution_count": 36,
   "metadata": {},
   "outputs": [
    {
     "name": "stdout",
     "output_type": "stream",
     "text": [
      "Value of does_not_exist is No Value\n"
     ]
    }
   ],
   "source": [
    "print(f\"Value of {'does_not_exist'} is {kw_dict.get('does_not_exist', 'No Value')}\")"
   ]
  },
  {
   "cell_type": "code",
   "execution_count": 45,
   "metadata": {},
   "outputs": [
    {
     "name": "stdout",
     "output_type": "stream",
     "text": [
      "{'name': 'Narayanan', 'age': 20, 'id': '002'}\n",
      "{'name': 'Balaji', 'age': 25, 'id': '100'}\n"
     ]
    }
   ],
   "source": [
    "# Let us do some dictionary operations using the following dictionaries\n",
    "\n",
    "tuple_dict = dict([('name', 'Narayanan'), ('age', 20), ('id', '002')])\n",
    "print(tuple_dict)\n",
    "\n",
    "kw_dict = dict(name='Balaji', age=25, id='100')\n",
    "print(kw_dict)"
   ]
  },
  {
   "cell_type": "code",
   "execution_count": 38,
   "metadata": {},
   "outputs": [
    {
     "name": "stdout",
     "output_type": "stream",
     "text": [
      "The keys in the dictionary are:\n",
      "name\n",
      "age\n",
      "id\n",
      "\n",
      "The values in the dictionary are:\n",
      "Balaji\n",
      "25\n",
      "100\n",
      "\n",
      "The key-value pairs in the dictionary are:\n",
      "name = Balaji\n",
      "age = 25\n",
      "id = 100\n",
      "\n"
     ]
    }
   ],
   "source": [
    "print(\"The keys in the dictionary are:\")\n",
    "for key in kw_dict.keys():\n",
    "    print(key)\n",
    "print()\n",
    "print(\"The values in the dictionary are:\")\n",
    "# Let us iterate over all the values and print them one by one\n",
    "for value in kw_dict.values():\n",
    "    print(value)\n",
    "print()\n",
    "print(\"The key-value pairs in the dictionary are:\")\n",
    "# Let us iterate over all the items and print them one by one as key-value pair\n",
    "for key, value in kw_dict.items():\n",
    "    print(f\"{key} = {value}\")\n",
    "print()"
   ]
  },
  {
   "cell_type": "code",
   "execution_count": 39,
   "metadata": {},
   "outputs": [
    {
     "ename": "KeyError",
     "evalue": "'does_not_exist'",
     "output_type": "error",
     "traceback": [
      "\u001b[1;31m---------------------------------------------------------------------------\u001b[0m",
      "\u001b[1;31mKeyError\u001b[0m                                  Traceback (most recent call last)",
      "\u001b[1;32m<ipython-input-39-926f2dcfdbc5>\u001b[0m in \u001b[0;36m<module>\u001b[1;34m\u001b[0m\n\u001b[1;32m----> 1\u001b[1;33m \u001b[0mprint\u001b[0m\u001b[1;33m(\u001b[0m\u001b[1;34mf\"{kw_dict['does_not_exist']}\"\u001b[0m\u001b[1;33m)\u001b[0m\u001b[1;33m\u001b[0m\u001b[1;33m\u001b[0m\u001b[0m\n\u001b[0m",
      "\u001b[1;31mKeyError\u001b[0m: 'does_not_exist'"
     ]
    }
   ],
   "source": [
    "print(f\"{kw_dict['does_not_exist']}\")"
   ]
  },
  {
   "cell_type": "code",
   "execution_count": 40,
   "metadata": {},
   "outputs": [
    {
     "name": "stdout",
     "output_type": "stream",
     "text": [
      "Value of name is Balaji\n"
     ]
    }
   ],
   "source": [
    "print(f\"Value of {'name'} is {kw_dict.get('name')}\")"
   ]
  },
  {
   "cell_type": "code",
   "execution_count": 41,
   "metadata": {},
   "outputs": [
    {
     "name": "stdout",
     "output_type": "stream",
     "text": [
      "Value of does_not_exist is None\n"
     ]
    }
   ],
   "source": [
    "print(f\"Value of {'does_not_exist'} is {kw_dict.get('does_not_exist')}\")\n"
   ]
  },
  {
   "cell_type": "code",
   "execution_count": 42,
   "metadata": {},
   "outputs": [
    {
     "name": "stdout",
     "output_type": "stream",
     "text": [
      "Value of does_not_exist is No Value\n"
     ]
    }
   ],
   "source": [
    "print(f\"Value of {'does_not_exist'} is {kw_dict.get('does_not_exist', 'No Value')}\")"
   ]
  },
  {
   "cell_type": "code",
   "execution_count": 46,
   "metadata": {},
   "outputs": [
    {
     "name": "stdout",
     "output_type": "stream",
     "text": [
      "{'name': 'Balaji', 'age': 25, 'id': '100'}\n",
      "{'name': 'Narayanan', 'age': 20, 'id': '002'}\n",
      "{'name': 'Narayanan', 'age': 20, 'id': '002'}\n"
     ]
    }
   ],
   "source": [
    "# let us update dictionary\n",
    "print(kw_dict)\n",
    "print(tuple_dict)\n",
    "kw_dict.update(tuple_dict)\n",
    "print(kw_dict)"
   ]
  },
  {
   "cell_type": "code",
   "execution_count": 47,
   "metadata": {},
   "outputs": [
    {
     "name": "stdout",
     "output_type": "stream",
     "text": [
      "Narayanan\n",
      "{'age': 20, 'id': '002'}\n"
     ]
    }
   ],
   "source": [
    "value = kw_dict.pop('name')\n",
    "print(value)\n",
    "print(kw_dict)"
   ]
  },
  {
   "cell_type": "code",
   "execution_count": 48,
   "metadata": {},
   "outputs": [
    {
     "ename": "KeyError",
     "evalue": "'does_not_exist'",
     "output_type": "error",
     "traceback": [
      "\u001b[1;31m---------------------------------------------------------------------------\u001b[0m",
      "\u001b[1;31mKeyError\u001b[0m                                  Traceback (most recent call last)",
      "\u001b[1;32m<ipython-input-48-87e2494d1848>\u001b[0m in \u001b[0;36m<module>\u001b[1;34m\u001b[0m\n\u001b[1;32m----> 1\u001b[1;33m \u001b[0mvalue\u001b[0m \u001b[1;33m=\u001b[0m \u001b[0mkw_dict\u001b[0m\u001b[1;33m.\u001b[0m\u001b[0mpop\u001b[0m\u001b[1;33m(\u001b[0m\u001b[1;34m'does_not_exist'\u001b[0m\u001b[1;33m)\u001b[0m\u001b[1;33m\u001b[0m\u001b[1;33m\u001b[0m\u001b[0m\n\u001b[0m\u001b[0;32m      2\u001b[0m \u001b[0mprint\u001b[0m\u001b[1;33m(\u001b[0m\u001b[0mvalue\u001b[0m\u001b[1;33m)\u001b[0m\u001b[1;33m\u001b[0m\u001b[1;33m\u001b[0m\u001b[0m\n\u001b[0;32m      3\u001b[0m \u001b[0mprint\u001b[0m\u001b[1;33m(\u001b[0m\u001b[0mkw_dict\u001b[0m\u001b[1;33m)\u001b[0m\u001b[1;33m\u001b[0m\u001b[1;33m\u001b[0m\u001b[0m\n",
      "\u001b[1;31mKeyError\u001b[0m: 'does_not_exist'"
     ]
    }
   ],
   "source": [
    "value = kw_dict.pop('does_not_exist')\n",
    "print(value)\n",
    "print(kw_dict)"
   ]
  },
  {
   "cell_type": "code",
   "execution_count": 49,
   "metadata": {},
   "outputs": [
    {
     "name": "stdout",
     "output_type": "stream",
     "text": [
      "None\n",
      "{'age': 20, 'id': '002'}\n"
     ]
    }
   ],
   "source": [
    "value = kw_dict.pop('does_not_exist', None)\n",
    "print(value)\n",
    "print(kw_dict)"
   ]
  },
  {
   "cell_type": "code",
   "execution_count": 50,
   "metadata": {},
   "outputs": [
    {
     "name": "stdout",
     "output_type": "stream",
     "text": [
      "{'age': 20, 'id': '002', 'name': 'Narayanan'}\n"
     ]
    }
   ],
   "source": [
    "kw_dict.update(tuple_dict)\n",
    "print(kw_dict)"
   ]
  },
  {
   "cell_type": "code",
   "execution_count": 53,
   "metadata": {},
   "outputs": [
    {
     "name": "stdout",
     "output_type": "stream",
     "text": [
      "('name', 'Narayanan')\n",
      "{'age': 20, 'id': '002'}\n"
     ]
    }
   ],
   "source": [
    "value = kw_dict.popitem() # returns some key-value as tuple\n",
    "print(value)\n",
    "print(kw_dict)\n",
    "kw_dict.update(tuple_dict)"
   ]
  },
  {
   "cell_type": "code",
   "execution_count": 54,
   "metadata": {},
   "outputs": [
    {
     "name": "stdout",
     "output_type": "stream",
     "text": [
      "{'age': 20, 'id': '002', 'name': 'Narayanan'}\n",
      "{'age': 20, 'id': '002', 'name': 'Narayanan'}\n",
      "False\n"
     ]
    }
   ],
   "source": [
    "new_dict = kw_dict.copy()\n",
    "print(new_dict)\n",
    "print(kw_dict)\n",
    "print(new_dict is kw_dict)"
   ]
  },
  {
   "cell_type": "code",
   "execution_count": 55,
   "metadata": {},
   "outputs": [
    {
     "name": "stdout",
     "output_type": "stream",
     "text": [
      "{'age': 20, 'id': '002', 'name': 'new name'}\n",
      "{'age': 20, 'id': '002', 'name': 'Narayanan'}\n"
     ]
    }
   ],
   "source": [
    "\n",
    "new_dict['name'] = \"new name\"\n",
    "print(new_dict)\n",
    "print(kw_dict)\n"
   ]
  },
  {
   "cell_type": "code",
   "execution_count": 57,
   "metadata": {},
   "outputs": [
    {
     "name": "stdout",
     "output_type": "stream",
     "text": [
      "{}\n"
     ]
    }
   ],
   "source": [
    "kw_dict.clear() # what does this do?\n",
    "print(kw_dict)"
   ]
  },
  {
   "cell_type": "code",
   "execution_count": 58,
   "metadata": {},
   "outputs": [
    {
     "name": "stdout",
     "output_type": "stream",
     "text": [
      "{'name': 'Narayanan', 'age': 20, 'id': '002'}\n",
      "{'name': 'Narayanan', 'age': 20, 'id': '002'}\n",
      "True\n"
     ]
    }
   ],
   "source": [
    "kw_dict.update(tuple_dict)\n",
    "\n",
    "new_dict = kw_dict\n",
    "print(new_dict)\n",
    "print(kw_dict)\n",
    "print(new_dict is kw_dict)"
   ]
  },
  {
   "cell_type": "code",
   "execution_count": 59,
   "metadata": {},
   "outputs": [
    {
     "name": "stdout",
     "output_type": "stream",
     "text": [
      "{'name': 'new name', 'age': 20, 'id': '002'}\n",
      "{'name': 'new name', 'age': 20, 'id': '002'}\n"
     ]
    }
   ],
   "source": [
    "new_dict['name'] = \"new name\"\n",
    "print(new_dict)\n",
    "print(kw_dict)"
   ]
  },
  {
   "cell_type": "code",
   "execution_count": 63,
   "metadata": {},
   "outputs": [
    {
     "name": "stdout",
     "output_type": "stream",
     "text": [
      "{'name': 'Narayanan', 'age': 20, 'id': '002'}\n",
      "{'name': 'Balaji', 'age': 25, 'id': '100'}\n",
      "tuple_dict > kw_dict? {NotImplemented}\n"
     ]
    }
   ],
   "source": [
    "tuple_dict = dict([('name', 'Narayanan'), ('age', 20), ('id', '002')])\n",
    "print(tuple_dict)\n",
    "\n",
    "kw_dict = dict(name='Balaji', age=25, id='100')\n",
    "print(kw_dict)\n",
    "\n",
    "print(f\"tuple_dict > kw_dict?\", {tuple_dict.__gt__(kw_dict)})"
   ]
  },
  {
   "cell_type": "code",
   "execution_count": 65,
   "metadata": {},
   "outputs": [
    {
     "name": "stdout",
     "output_type": "stream",
     "text": [
      "{'name': 'Balaji', 'age': 25, 'id': '100'}\n",
      "3\n"
     ]
    }
   ],
   "source": [
    "print(kw_dict)\n",
    "print(len(kw_dict))"
   ]
  },
  {
   "cell_type": "code",
   "execution_count": null,
   "metadata": {},
   "outputs": [],
   "source": []
  }
 ],
 "metadata": {
  "kernelspec": {
   "display_name": "Python 3",
   "language": "python",
   "name": "python3"
  },
  "language_info": {
   "codemirror_mode": {
    "name": "ipython",
    "version": 3
   },
   "file_extension": ".py",
   "mimetype": "text/x-python",
   "name": "python",
   "nbconvert_exporter": "python",
   "pygments_lexer": "ipython3",
   "version": "3.7.2"
  }
 },
 "nbformat": 4,
 "nbformat_minor": 2
}
