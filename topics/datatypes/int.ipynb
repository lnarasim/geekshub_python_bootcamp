{
 "cells": [
  {
   "cell_type": "code",
   "execution_count": 1,
   "metadata": {},
   "outputs": [],
   "source": [
    "# Let us define an int\n",
    "a = 10"
   ]
  },
  {
   "cell_type": "code",
   "execution_count": 2,
   "metadata": {},
   "outputs": [
    {
     "name": "stdout",
     "output_type": "stream",
     "text": [
      "10\n"
     ]
    }
   ],
   "source": [
    "print(a)"
   ]
  },
  {
   "cell_type": "code",
   "execution_count": 3,
   "metadata": {},
   "outputs": [],
   "source": [
    "import sys"
   ]
  },
  {
   "cell_type": "code",
   "execution_count": 4,
   "metadata": {},
   "outputs": [
    {
     "data": {
      "text/plain": [
       "12"
      ]
     },
     "execution_count": 4,
     "metadata": {},
     "output_type": "execute_result"
    }
   ],
   "source": [
    "sys.getsizeof(0)"
   ]
  },
  {
   "cell_type": "code",
   "execution_count": 5,
   "metadata": {},
   "outputs": [
    {
     "name": "stdout",
     "output_type": "stream",
     "text": [
      "<class 'int'>\n",
      "271505728\n",
      "10\n"
     ]
    }
   ],
   "source": [
    "print(type(a)) # prints type of a\n",
    "print(id(a)) # prints memory address of a\n",
    "print(a) # prints a"
   ]
  },
  {
   "cell_type": "code",
   "execution_count": 6,
   "metadata": {},
   "outputs": [
    {
     "name": "stdout",
     "output_type": "stream",
     "text": [
      "<class 'int'>\n",
      "271505888\n",
      "20\n"
     ]
    }
   ],
   "source": [
    "# Let us assign 20 to another variable\n",
    "b = 20\n",
    "\n",
    "print(type(b)) # prints type of b\n",
    "print(id(b)) # prints memory address of b\n",
    "print(b) # prints b"
   ]
  },
  {
   "cell_type": "code",
   "execution_count": 7,
   "metadata": {},
   "outputs": [
    {
     "name": "stdout",
     "output_type": "stream",
     "text": [
      "<class 'int'>\n",
      "271505888\n",
      "20\n",
      "<class 'int'>\n",
      "271505888\n",
      "20\n"
     ]
    }
   ],
   "source": [
    "# Let us make b to refer a\n",
    "a = 20\n",
    "b = a\n",
    "\n",
    "# Let us print a and b (id, type and value)\n",
    "\n",
    "print(type(a)) # prints type of a\n",
    "print(id(a)) # prints memory address of a\n",
    "print(a) # prints a\n",
    "\n",
    "print(type(b)) # prints type of b\n",
    "print(id(b)) # prints memory address of b\n",
    "print(b) # prints b"
   ]
  },
  {
   "cell_type": "code",
   "execution_count": 8,
   "metadata": {},
   "outputs": [
    {
     "name": "stdout",
     "output_type": "stream",
     "text": [
      "<class 'int'>\n",
      "97061840\n",
      "10000000\n",
      "<class 'int'>\n",
      "97061808\n",
      "10000000\n"
     ]
    }
   ],
   "source": [
    "# Let us do the previous example with really big number\n",
    "\n",
    "a = 10000000\n",
    "b = 10000000\n",
    "\n",
    "# Let us print a and b (id, type and value)\n",
    "\n",
    "print(type(a)) # prints type of a\n",
    "print(id(a)) # prints memory address of a\n",
    "print(a) # prints a\n",
    "\n",
    "print(type(b)) # prints type of b\n",
    "print(id(b)) # prints memory address of b\n",
    "print(b) # prints b"
   ]
  },
  {
   "cell_type": "code",
   "execution_count": 9,
   "metadata": {},
   "outputs": [
    {
     "name": "stdout",
     "output_type": "stream",
     "text": [
      "<class 'int'>\n",
      "97061728\n",
      "-10000000\n",
      "<class 'int'>\n",
      "97061920\n",
      "-10000000\n"
     ]
    }
   ],
   "source": [
    "# Let us do something with negative numbers\n",
    "\n",
    "a = -10000000\n",
    "b = -10000000\n",
    "\n",
    "# Let us print a and b (id, type and value)\n",
    "\n",
    "print(type(a)) # prints type of a\n",
    "print(id(a)) # prints memory address of a\n",
    "print(a) # prints a\n",
    "\n",
    "print(type(b)) # prints type of b\n",
    "print(id(b)) # prints memory address of b\n",
    "print(b) # prints b"
   ]
  },
  {
   "cell_type": "code",
   "execution_count": 10,
   "metadata": {},
   "outputs": [
    {
     "name": "stdout",
     "output_type": "stream",
     "text": [
      "14\n",
      "14\n",
      "16\n",
      "18\n",
      "22\n"
     ]
    }
   ],
   "source": [
    "import sys\n",
    "\n",
    "# Let us get size of int\n",
    "a = 10\n",
    "print(sys.getsizeof(a))\n",
    "\n",
    "a = 100\n",
    "print(sys.getsizeof(a))\n",
    "\n",
    "a = 1000000\n",
    "print(sys.getsizeof(a))\n",
    "\n",
    "\n",
    "a = 100000000000\n",
    "print(sys.getsizeof(a))\n",
    "\n",
    "a = a ** 2 # this is square of a\n",
    "print(sys.getsizeof(a))"
   ]
  },
  {
   "cell_type": "code",
   "execution_count": 11,
   "metadata": {},
   "outputs": [
    {
     "name": "stdout",
     "output_type": "stream",
     "text": [
      "100000000000000000000000000000000000000000000000000000000000000000000000000000000000000000000000000000000000000000000000000000000000000000000000000000000000000000000000000000000000000000000000000000000000000000000000000000000000000000000000000000000000000000000000000000000000000000000000000000000000000000000000000000000000000000000000000000000000000000000000000000000000000000000000000000000000000000000000000000000000000000000000000000000000000000000000000000000000000000000000000000000000000000000000000000000000000000000000000000000000000000000000000000000000000000000000000000000000000000000000000000000000000000000000000000000000000000000000000000000000000000000000000000000000000000000000000000000000000000000000000000000000000000000000000000000000000000000000000000000000000000000000000000000000000000000000000000000000000000000000000000000000000000000000000000000000000000000000000000000000000000000000000000000000000000000000000000000000000000000000000000000000000000000000000000000000000000000000000000000000000000000000000000000000000000000000000000000000000000000000000000000000000000000000000000000000000000000000000000000000000000000000000000000000000000000000000000000000000000000000000000000000000000000000000000000000000000000000000000000000000000000000000000000000000000000000000000000000000000000000000000000000000000000000000000000000000000000000000000000000000000000000000000000000000000000000000000000000000000000000000000000000000000000000000000000000000000000000000000000000000000000000000000000000000000000000000000000000000000000000000000000000000000000000000000000000000000000000000000000000000000000000000000000000000000000000000000000000000000000000000000000000000000000000000000000000000000000000000000000000000000000000000000000000000000000000000000000000000000000000000000000000000000000000000000000000000000000000000000000000000000000000000000000000000000000000000000000000000000000000000000000000000000000000000000000000000000000000000000000000000000000000000000000\n",
      "67092864\n",
      "<class 'int'>\n",
      "898\n"
     ]
    }
   ],
   "source": [
    "# This is really long integer\n",
    "\n",
    "a = 100000000000000000000 ** 100\n",
    "print(a)\n",
    "print(id(a))\n",
    "print(type(a))\n",
    "print(sys.getsizeof(a))"
   ]
  },
  {
   "cell_type": "code",
   "execution_count": 12,
   "metadata": {},
   "outputs": [
    {
     "name": "stdout",
     "output_type": "stream",
     "text": [
      "Value is 10000000000000000000000000000000000000000000000000000000000000000000000000000000000000000000000000000000000000000000000000000000000000000000000000000000000000000000000000000000000000000000000000000000000000000000000000000000000000000000000000000000000000000000000000000000000000000000000000000000000000000000000000000000000000000000000000000000000000000000000000000000000000000000000000000000000000000000000000000000000000000000000000000000000000000000000000000000000000000000000000000000000000000000000000000000000000000000000000000000000000000000000000000000000000000000000000000000000000000000000000000000000000000000000000000000000000000000000000000000000000000000000000000000000000000000000000000000000000000000000000000000000000000000000000000000000000000000000000000000000000000000000000000000000000000000000000000000000000000000000000000000000000000000000000000000000000000000000000000000000000000000000000000000000000000000000000000000000000000000000000000000000000000000000000000000000000000000000000000000000000000000000000000000000000000000000000000000000000000000000000000000000000000000000000000000000000000000000000000000000000000000000000000000000000000000000000000000000000000000000000000000000000000000000000000000000000000000000000000000000000000000000000000000000000000000000000000000000000000000000000000000000000000000000000000000000000000000000000000000000000000000000000000000000000000000000000000000000000000000000000000000000000000000000000000000000000000000000000000000000000000000000000000000000000000000000000000000000000000000000000000000000000000000000000000000000000000000000000000000000000000000000000000000000000000000000000000000000000000000000000000000000000000000000000000000000000000000000000000000000000000000000000000000000000000000000000000000000000000000000000000000000000000000000000000000000000000000000000000000000000000000000000000000000000000000000000000000000000000000000000000000000000000000000000000000000000000000000000000000000000000000000000000000000000000000000000000000000000000000000000000000000000000000000000000000000000000000000000000000000000000000000000000000000000000000000000000000000000000000000000000000000000000000000000000000000000000000000000000000000000000000000000000000000000000000000000000000000000000000000000000000000000000000000000000000000000000000000000000000000000000000000000000000000000000000000000000000000000000000000000000000000000000000000000000000000000000000000000000000000000000000000000000000000000000000000000000000000000000000000000000000000000000000000000000000000000000000000000000000000000000000000000000000000000000000000000000000000000000000000000000000000000000000000000000000000000000000000000000000000000000000000000000000000000000000000000000000000000000000000000000000000000000000000000000000000000000000000000000000000000000000000000000000000000000000000000000000000000000000000000000000000000000000000000000000000000000000000000000000000000000000000000000000000000000000000000000000000000000000000000000000000000000000000000000000000000000000000000000000000000000000000000000000000000000000000000000000000000000000000000000000000000000000000000000000000000000000000000000000000000000000000000000000000000000000000000000000000000000000000000000000000000000000000000000000000000000000000000000000000000000000000000000000000000000000000000000000000000000000000000000000000000000000000000000000000000000000000000000000000000000000000000000000000000000000000000000000000000000000000000000000000000000000000000000000000000000000000000000000000000000000000000000000000000000000000000000000000000000000000000000000000000000000000000000000000000000000000000000000000000000000000000000000000000000000000000000000000000000000000000000000000000000000000000000000000000000000000000000000000000000000000000000000000000000000000000000000000000000000000000000000000000000000000000000000000000000000000000000000000000000000000000000000000000000000000000000000000000000000000000000000000000000000000000000000000000000\n",
      "Memory Address is 67769976\n",
      "Type is <class 'int'>\n",
      "Size is 1784\n",
      "\n"
     ]
    }
   ],
   "source": [
    "def print_an_object(obj):\n",
    "    print(f\"Value is {obj}\")\n",
    "    print(f\"Memory Address is {id(obj)}\")\n",
    "    print(f\"Type is {type(obj)}\")\n",
    "    print(f\"Size is {sys.getsizeof(obj)}\")\n",
    "    print()\n",
    "\n",
    "a = a ** 2 # another big number\n",
    "print_an_object(a)"
   ]
  },
  {
   "cell_type": "code",
   "execution_count": 13,
   "metadata": {},
   "outputs": [],
   "source": [
    "def calc(a):\n",
    "    for i in range(10_000_000):\n",
    "        a * 2"
   ]
  },
  {
   "cell_type": "code",
   "execution_count": 14,
   "metadata": {},
   "outputs": [
    {
     "name": "stdout",
     "output_type": "stream",
     "text": [
      "0.9166882360000006\n"
     ]
    }
   ],
   "source": [
    "import time\n",
    "start = time.perf_counter()\n",
    "calc(10)\n",
    "end = time.perf_counter()\n",
    "print(end - start)"
   ]
  },
  {
   "cell_type": "code",
   "execution_count": 15,
   "metadata": {},
   "outputs": [
    {
     "name": "stdout",
     "output_type": "stream",
     "text": [
      "13.479142383\n"
     ]
    }
   ],
   "source": [
    "import time\n",
    "start = time.perf_counter()\n",
    "calc(2 ** 10000)\n",
    "end = time.perf_counter()\n",
    "print(end - start)"
   ]
  },
  {
   "cell_type": "code",
   "execution_count": 16,
   "metadata": {},
   "outputs": [
    {
     "name": "stdout",
     "output_type": "stream",
     "text": [
      "<class 'int'>\n",
      "<class 'int'>\n",
      "<class 'int'>\n",
      "<class 'int'>\n",
      "<class 'float'>\n"
     ]
    }
   ],
   "source": [
    "print(type(1+1))\n",
    "print(type(2*3))\n",
    "print(type(4-10))\n",
    "print(type(4**10))\n",
    "print(type(10/2))"
   ]
  },
  {
   "cell_type": "code",
   "execution_count": 17,
   "metadata": {},
   "outputs": [],
   "source": [
    "import math"
   ]
  },
  {
   "cell_type": "code",
   "execution_count": 18,
   "metadata": {},
   "outputs": [
    {
     "name": "stdout",
     "output_type": "stream",
     "text": [
      "3\n",
      "3\n",
      "-4\n",
      "-4\n",
      "-3\n",
      "-3\n"
     ]
    }
   ],
   "source": [
    "print(math.floor(3.14))\n",
    "print(math.floor(3.9999999999))\n",
    "print(math.floor(-3.14))\n",
    "print(math.floor(-3.0000000001))\n",
    "print(math.floor(-3.000000000000000001))\n",
    "print(math.floor(-3.000000000000000000000001)) # float has limited precision"
   ]
  },
  {
   "cell_type": "code",
   "execution_count": 19,
   "metadata": {},
   "outputs": [
    {
     "name": "stdout",
     "output_type": "stream",
     "text": [
      "2.0625\n",
      "2\n",
      "2\n"
     ]
    }
   ],
   "source": [
    "a = 33\n",
    "b = 16\n",
    "print(a/b)\n",
    "print(a//b)\n",
    "print(math.floor(a/b))"
   ]
  },
  {
   "cell_type": "code",
   "execution_count": 20,
   "metadata": {},
   "outputs": [
    {
     "name": "stdout",
     "output_type": "stream",
     "text": [
      "-2.0625\n",
      "-3\n",
      "-3\n",
      "-2\n"
     ]
    }
   ],
   "source": [
    "a = -33\n",
    "b = 16\n",
    "print(a/b)\n",
    "print(a//b)\n",
    "print(math.floor(a/b))\n",
    "print(math.trunc(a/b))"
   ]
  },
  {
   "cell_type": "markdown",
   "metadata": {},
   "source": [
    "#### a = b * (a // b) + a % b"
   ]
  },
  {
   "cell_type": "code",
   "execution_count": 21,
   "metadata": {},
   "outputs": [
    {
     "name": "stdout",
     "output_type": "stream",
     "text": [
      "13 / 4 = 3.25\n",
      "13 // 4 = 3\n",
      "13 % 4 = 1\n",
      "True\n"
     ]
    }
   ],
   "source": [
    "a = 13\n",
    "b = 4\n",
    "print(f\"{a} / {b} = {a/b}\")\n",
    "print(f\"{a} // {b} = {a//b}\")\n",
    "print(f\"{a} % {b} = {a%b}\")\n",
    "print(a == b * (a//b) + a % b)"
   ]
  },
  {
   "cell_type": "code",
   "execution_count": 22,
   "metadata": {},
   "outputs": [
    {
     "name": "stdout",
     "output_type": "stream",
     "text": [
      "-13 / 4 = -3.25\n",
      "-13 // 4 = -4\n",
      "-13 % 4 = 3\n",
      "True\n"
     ]
    }
   ],
   "source": [
    "a = -13\n",
    "b = 4\n",
    "print(f\"{a} / {b} = {a/b}\")\n",
    "print(f\"{a} // {b} = {a//b}\")\n",
    "print(f\"{a} % {b} = {a%b}\")\n",
    "print(a == b * (a//b) + a % b)"
   ]
  },
  {
   "cell_type": "code",
   "execution_count": 23,
   "metadata": {},
   "outputs": [
    {
     "name": "stdout",
     "output_type": "stream",
     "text": [
      "13 / -4 = -3.25\n",
      "13 // -4 = -4\n",
      "13 % -4 = -3\n",
      "True\n"
     ]
    }
   ],
   "source": [
    "a = 13\n",
    "b = -4\n",
    "print(f\"{a} / {b} = {a/b}\")\n",
    "print(f\"{a} // {b} = {a//b}\")\n",
    "print(f\"{a} % {b} = {a%b}\")\n",
    "print(a == b * (a//b) + a % b)"
   ]
  },
  {
   "cell_type": "code",
   "execution_count": 24,
   "metadata": {},
   "outputs": [
    {
     "name": "stdout",
     "output_type": "stream",
     "text": [
      "-13 / -4 = 3.25\n",
      "-13 // -4 = 3\n",
      "-13 % -4 = -1\n",
      "True\n"
     ]
    }
   ],
   "source": [
    "a = -13\n",
    "b = -4\n",
    "print(f\"{a} / {b} = {a/b}\")\n",
    "print(f\"{a} // {b} = {a//b}\")\n",
    "print(f\"{a} % {b} = {a%b}\")\n",
    "print(a == b * (a//b) + a % b)"
   ]
  },
  {
   "cell_type": "code",
   "execution_count": 25,
   "metadata": {},
   "outputs": [
    {
     "name": "stdout",
     "output_type": "stream",
     "text": [
      "Addition of Integers\n",
      "Value is 30\n",
      "Memory Address is 271506048\n",
      "Type is <class 'int'>\n",
      "Size is 14\n",
      "\n",
      "Subtraction of Integers\n",
      "Value is -10\n",
      "Memory Address is 97062304\n",
      "Type is <class 'int'>\n",
      "Size is 14\n",
      "\n",
      "Multiplication of Integers\n",
      "Value is 200\n",
      "Memory Address is 271508768\n",
      "Type is <class 'int'>\n",
      "Size is 14\n",
      "\n",
      "Division of Integers\n",
      "Value is 2.0\n",
      "Memory Address is 97061312\n",
      "Type is <class 'float'>\n",
      "Size is 16\n",
      "\n",
      "Floor division of positive Integers\n",
      "Value is 2\n",
      "Memory Address is 271505600\n",
      "Type is <class 'int'>\n",
      "Size is 14\n",
      "\n",
      "Modulo of Integers\n",
      "Value is 0\n",
      "Memory Address is 271505568\n",
      "Type is <class 'int'>\n",
      "Size is 12\n",
      "\n",
      "Exponent of Integers\n",
      "Value is 10240000000000\n",
      "Memory Address is 97156344\n",
      "Type is <class 'int'>\n",
      "Size is 18\n",
      "\n"
     ]
    }
   ],
   "source": [
    "# Let us do some kinder garden stuff\n",
    "a = 10\n",
    "b = 20\n",
    "\n",
    "c = a + b\n",
    "print(\"Addition of Integers\")\n",
    "print_an_object(c)\n",
    "\n",
    "d = a - b\n",
    "print(\"Subtraction of Integers\")\n",
    "print_an_object(d)\n",
    "\n",
    "e = a * b\n",
    "print(\"Multiplication of Integers\")\n",
    "print_an_object(e)\n",
    "\n",
    "f = b / a\n",
    "print(\"Division of Integers\")\n",
    "print_an_object(f)\n",
    "\n",
    "g = b // a\n",
    "print(\"Floor division of positive Integers\")\n",
    "print_an_object(g)\n",
    "\n",
    "h = b % a\n",
    "print(\"Modulo of Integers\")\n",
    "print_an_object(h)\n",
    "\n",
    "i = b ** a\n",
    "print(\"Exponent of Integers\")\n",
    "print_an_object(i)"
   ]
  },
  {
   "cell_type": "code",
   "execution_count": 26,
   "metadata": {},
   "outputs": [
    {
     "name": "stdout",
     "output_type": "stream",
     "text": [
      "Floor division of negative dividend\n",
      "Value is -1\n",
      "Memory Address is 271505552\n",
      "Type is <class 'int'>\n",
      "Size is 14\n",
      "\n",
      "Floor division of negative divisor\n",
      "Value is -1\n",
      "Memory Address is 271505552\n",
      "Type is <class 'int'>\n",
      "Size is 14\n",
      "\n",
      "Floor division of negative divisor and negative dividend\n",
      "Value is 0\n",
      "Memory Address is 271505568\n",
      "Type is <class 'int'>\n",
      "Size is 12\n",
      "\n"
     ]
    }
   ],
   "source": [
    "a = -10\n",
    "b = 2\n",
    "\n",
    "g = b // a\n",
    "print(\"Floor division of negative dividend\")\n",
    "print_an_object(g)\n",
    "\n",
    "a = 10\n",
    "b = -2\n",
    "\n",
    "g = b // a\n",
    "print(\"Floor division of negative divisor\")\n",
    "print_an_object(g)\n",
    "\n",
    "\n",
    "a = -10\n",
    "b = -2\n",
    "\n",
    "g = b // a\n",
    "print(\"Floor division of negative divisor and negative dividend\")\n",
    "print_an_object(g)"
   ]
  },
  {
   "cell_type": "code",
   "execution_count": 27,
   "metadata": {},
   "outputs": [
    {
     "name": "stdout",
     "output_type": "stream",
     "text": [
      "Modulo of negative dividend\n",
      "Value is -8\n",
      "Memory Address is 97062336\n",
      "Type is <class 'int'>\n",
      "Size is 14\n",
      "\n",
      "Modulo of negative divisor\n",
      "Value is 8\n",
      "Memory Address is 271505696\n",
      "Type is <class 'int'>\n",
      "Size is 14\n",
      "\n",
      "Modulo of negative divisor and negative dividend\n",
      "Value is -2\n",
      "Memory Address is 271505536\n",
      "Type is <class 'int'>\n",
      "Size is 14\n",
      "\n"
     ]
    }
   ],
   "source": [
    "a = -10\n",
    "b = 2\n",
    "\n",
    "g = b % a\n",
    "print(\"Modulo of negative dividend\")\n",
    "print_an_object(g)\n",
    "\n",
    "a = 10\n",
    "b = -2\n",
    "\n",
    "g = b % a\n",
    "print(\"Modulo of negative divisor\")\n",
    "print_an_object(g)\n",
    "\n",
    "\n",
    "a = -10\n",
    "b = -2\n",
    "\n",
    "g = b % a\n",
    "print(\"Modulo of negative divisor and negative dividend\")\n",
    "print_an_object(g)"
   ]
  },
  {
   "cell_type": "code",
   "execution_count": 34,
   "metadata": {},
   "outputs": [
    {
     "name": "stdout",
     "output_type": "stream",
     "text": [
      "Value is 1000\n",
      "Memory Address is 97062576\n",
      "Type is <class 'int'>\n",
      "Size is 14\n",
      "\n",
      "Value is 1000\n",
      "Memory Address is 97062352\n",
      "Type is <class 'int'>\n",
      "Size is 14\n",
      "\n",
      "Value is 1000\n",
      "Memory Address is 97062640\n",
      "Type is <class 'int'>\n",
      "Size is 14\n",
      "\n",
      "Value is 99\n",
      "Memory Address is 271507152\n",
      "Type is <class 'int'>\n",
      "Size is 14\n",
      "\n",
      "Value is 1000\n",
      "Memory Address is 97062640\n",
      "Type is <class 'int'>\n",
      "Size is 14\n",
      "\n",
      "Value is 1\n",
      "Memory Address is 271505584\n",
      "Type is <class 'int'>\n",
      "Size is 14\n",
      "\n",
      "Value is 0\n",
      "Memory Address is 271505568\n",
      "Type is <class 'int'>\n",
      "Size is 12\n",
      "\n",
      "Value is 0\n",
      "Memory Address is 271505568\n",
      "Type is <class 'int'>\n",
      "Size is 12\n",
      "\n",
      "Value is 2\n",
      "Memory Address is 271505600\n",
      "Type is <class 'int'>\n",
      "Size is 14\n",
      "\n",
      "Value is 10\n",
      "Memory Address is 271505728\n",
      "Type is <class 'int'>\n",
      "Size is 14\n",
      "\n",
      "Value is 35\n",
      "Memory Address is 271506128\n",
      "Type is <class 'int'>\n",
      "Size is 14\n",
      "\n",
      "Value is 22/7\n",
      "Memory Address is 99866800\n",
      "Type is <class 'fractions.Fraction'>\n",
      "Size is 32\n",
      "\n"
     ]
    }
   ],
   "source": [
    "# Let us create integer by various ways\n",
    "a = 1000\n",
    "print_an_object(a)\n",
    "\n",
    "a = int(1000)\n",
    "print_an_object(a)\n",
    "\n",
    "a = int('1000')\n",
    "print_an_object(a)\n",
    "\n",
    "a = int(99.99)\n",
    "print_an_object(a)\n",
    "\n",
    "a = int(1000.00001)\n",
    "print_an_object(a)\n",
    "\n",
    "a = int(True)\n",
    "print_an_object(a)\n",
    "\n",
    "a = int(False)\n",
    "print_an_object(a)\n",
    "\n",
    "a = int()\n",
    "print_an_object(a)\n",
    "\n",
    "a = int('10', 2)\n",
    "print_an_object(a)\n",
    "\n",
    "a = int('A', 16)\n",
    "print_an_object(a)\n",
    "\n",
    "a = int('Z', 36)\n",
    "print_an_object(a)\n",
    "\n",
    "import fractions\n",
    "a = fractions.Fraction(22, 7)\n",
    "print_an_object(a)"
   ]
  },
  {
   "cell_type": "code",
   "execution_count": 29,
   "metadata": {},
   "outputs": [
    {
     "name": "stdout",
     "output_type": "stream",
     "text": [
      "Value is 10\n",
      "Memory Address is 97062272\n",
      "Type is <class 'int'>\n",
      "Size is 14\n",
      "\n",
      "Value is 10\n",
      "Memory Address is 271505728\n",
      "Type is <class 'int'>\n",
      "Size is 14\n",
      "\n",
      "Value is -11\n",
      "Memory Address is 97062272\n",
      "Type is <class 'int'>\n",
      "Size is 14\n",
      "\n",
      "Value is -10\n",
      "Memory Address is 97062272\n",
      "Type is <class 'int'>\n",
      "Size is 14\n",
      "\n"
     ]
    }
   ],
   "source": [
    "# math floor and truncate\n",
    "import math\n",
    "\n",
    "a = 10.9\n",
    "print_an_object(math.floor(a))\n",
    "print_an_object(math.trunc(a))\n",
    "\n",
    "a = -10.9\n",
    "print_an_object(math.floor(a))\n",
    "print_an_object(math.trunc(a))"
   ]
  },
  {
   "cell_type": "code",
   "execution_count": 30,
   "metadata": {},
   "outputs": [
    {
     "name": "stdout",
     "output_type": "stream",
     "text": [
      "14 6\n",
      "-15 15\n"
     ]
    }
   ],
   "source": [
    "import math\n",
    "\n",
    "a, b = divmod(300,21)\n",
    "print(a, b)\n",
    "\n",
    "\n",
    "a, b = divmod(-300,21)\n",
    "print(a, b)"
   ]
  },
  {
   "cell_type": "code",
   "execution_count": 31,
   "metadata": {},
   "outputs": [
    {
     "name": "stdout",
     "output_type": "stream",
     "text": [
      "0b1100100\n",
      "0o144\n",
      "0x64\n"
     ]
    }
   ],
   "source": []
  },
  {
   "cell_type": "code",
   "execution_count": 35,
   "metadata": {},
   "outputs": [
    {
     "data": {
      "text/plain": [
       "1234"
      ]
     },
     "execution_count": 35,
     "metadata": {},
     "output_type": "execute_result"
    }
   ],
   "source": [
    "int(\"1234\")"
   ]
  },
  {
   "cell_type": "code",
   "execution_count": 36,
   "metadata": {},
   "outputs": [
    {
     "data": {
      "text/plain": [
       "5"
      ]
     },
     "execution_count": 36,
     "metadata": {},
     "output_type": "execute_result"
    }
   ],
   "source": [
    "int('101', 2)"
   ]
  },
  {
   "cell_type": "code",
   "execution_count": 37,
   "metadata": {},
   "outputs": [
    {
     "data": {
      "text/plain": [
       "255"
      ]
     },
     "execution_count": 37,
     "metadata": {},
     "output_type": "execute_result"
    }
   ],
   "source": [
    "int('FF', 16)"
   ]
  },
  {
   "cell_type": "code",
   "execution_count": 38,
   "metadata": {},
   "outputs": [
    {
     "data": {
      "text/plain": [
       "255"
      ]
     },
     "execution_count": 38,
     "metadata": {},
     "output_type": "execute_result"
    }
   ],
   "source": [
    "int('ff', 16)"
   ]
  },
  {
   "cell_type": "code",
   "execution_count": 39,
   "metadata": {},
   "outputs": [
    {
     "data": {
      "text/plain": [
       "10"
      ]
     },
     "execution_count": 39,
     "metadata": {},
     "output_type": "execute_result"
    }
   ],
   "source": [
    "int('A', 11)"
   ]
  },
  {
   "cell_type": "code",
   "execution_count": 40,
   "metadata": {},
   "outputs": [
    {
     "name": "stdout",
     "output_type": "stream",
     "text": [
      "0b1100100\n",
      "0o144\n",
      "0x64\n"
     ]
    }
   ],
   "source": [
    "# Let us convert a decimal to binary, octal and hex\n",
    "\n",
    "a = 100\n",
    "print(bin(a))\n",
    "print(oct(a))\n",
    "print(hex(a))"
   ]
  },
  {
   "cell_type": "code",
   "execution_count": 41,
   "metadata": {},
   "outputs": [],
   "source": [
    "a = int('101', 2)\n",
    "b = 0b101"
   ]
  },
  {
   "cell_type": "code",
   "execution_count": 42,
   "metadata": {},
   "outputs": [
    {
     "data": {
      "text/plain": [
       "(5, 5)"
      ]
     },
     "execution_count": 42,
     "metadata": {},
     "output_type": "execute_result"
    }
   ],
   "source": [
    "a, b"
   ]
  },
  {
   "cell_type": "code",
   "execution_count": 43,
   "metadata": {},
   "outputs": [],
   "source": [
    "def from_base10(n, b):\n",
    "    if b < 2:\n",
    "        raise ValueError(\"Base b must be >= 2\")\n",
    "        \n",
    "    if n < 0:\n",
    "        raise ValueError(\"Number n must be >= 0\")\n",
    "        \n",
    "    if n == 0:\n",
    "        return [0]\n",
    "    \n",
    "    digits = []\n",
    "    while n > 0:\n",
    "        n, m = divmod(n, b)\n",
    "        digits.insert(0, m)\n",
    "        \n",
    "    return digits"
   ]
  },
  {
   "cell_type": "code",
   "execution_count": 44,
   "metadata": {},
   "outputs": [
    {
     "data": {
      "text/plain": [
       "[1, 0, 1, 0]"
      ]
     },
     "execution_count": 44,
     "metadata": {},
     "output_type": "execute_result"
    }
   ],
   "source": [
    "from_base10(10, 2)"
   ]
  },
  {
   "cell_type": "code",
   "execution_count": 45,
   "metadata": {},
   "outputs": [
    {
     "data": {
      "text/plain": [
       "[15, 15]"
      ]
     },
     "execution_count": 45,
     "metadata": {},
     "output_type": "execute_result"
    }
   ],
   "source": [
    "from_base10(255, 16)"
   ]
  },
  {
   "cell_type": "code",
   "execution_count": 46,
   "metadata": {},
   "outputs": [],
   "source": [
    "def encode(digits, digit_map):\n",
    "    if max(digits) >= len(digit_map):\n",
    "        raise ValueError(\"digit_map is not long enough to encode the digits\")\n",
    "        \n",
    "    encoding = ''.join(digit_map[x] for x in digits)\n",
    "    return encoding"
   ]
  },
  {
   "cell_type": "code",
   "execution_count": 47,
   "metadata": {},
   "outputs": [
    {
     "data": {
      "text/plain": [
       "'FF'"
      ]
     },
     "execution_count": 47,
     "metadata": {},
     "output_type": "execute_result"
    }
   ],
   "source": [
    "encode([15, 15], '0123456789ABCDEF')"
   ]
  },
  {
   "cell_type": "code",
   "execution_count": 48,
   "metadata": {},
   "outputs": [],
   "source": [
    "def rebase_from10(number, base):\n",
    "    digit_map = '0123456789ABCDEFGHIJKLMNOPQRSTUVWXYZ'\n",
    "    if base < 2 or base > 36:\n",
    "        raise ValueError('Invalid base: 2 <= base <= 36')\n",
    "        \n",
    "    sign = -1 if number < 0 else 1\n",
    "    number *= sign\n",
    "    digits = from_base10(number, base)\n",
    "    encoding = encode(digits, digit_map)\n",
    "    if sign == -1:\n",
    "        encoding = \"-\" + encoding\n",
    "    return encoding\n",
    "                "
   ]
  },
  {
   "cell_type": "code",
   "execution_count": 50,
   "metadata": {},
   "outputs": [
    {
     "name": "stdout",
     "output_type": "stream",
     "text": [
      "1010\n",
      "10\n"
     ]
    }
   ],
   "source": [
    "e = rebase_from10(10, 2)\n",
    "print(e)\n",
    "print(int(e, base=2))"
   ]
  },
  {
   "cell_type": "code",
   "execution_count": 51,
   "metadata": {},
   "outputs": [
    {
     "name": "stdout",
     "output_type": "stream",
     "text": [
      "100111010\n",
      "314\n"
     ]
    }
   ],
   "source": [
    "e = rebase_from10(314, 2)\n",
    "print(e)\n",
    "print(int(e, base=2))"
   ]
  },
  {
   "cell_type": "code",
   "execution_count": 53,
   "metadata": {},
   "outputs": [
    {
     "name": "stdout",
     "output_type": "stream",
     "text": [
      "D7B\n",
      "3451\n"
     ]
    }
   ],
   "source": [
    "e = rebase_from10(3451, 16)\n",
    "print(e)\n",
    "print(int(e, base=16))"
   ]
  },
  {
   "cell_type": "code",
   "execution_count": 54,
   "metadata": {},
   "outputs": [
    {
     "name": "stdout",
     "output_type": "stream",
     "text": [
      "-100111010\n",
      "-314\n"
     ]
    }
   ],
   "source": [
    "e = rebase_from10(-314, 2)\n",
    "print(e)\n",
    "print(int(e, base=2))"
   ]
  },
  {
   "cell_type": "code",
   "execution_count": 55,
   "metadata": {},
   "outputs": [
    {
     "name": "stdout",
     "output_type": "stream",
     "text": [
      "-D7B\n",
      "-3451\n"
     ]
    }
   ],
   "source": [
    "e = rebase_from10(-3451, 16)\n",
    "print(e)\n",
    "print(int(e, base=16))"
   ]
  },
  {
   "cell_type": "code",
   "execution_count": null,
   "metadata": {},
   "outputs": [],
   "source": []
  }
 ],
 "metadata": {
  "kernelspec": {
   "display_name": "Python 3",
   "language": "python",
   "name": "python3"
  },
  "language_info": {
   "codemirror_mode": {
    "name": "ipython",
    "version": 3
   },
   "file_extension": ".py",
   "mimetype": "text/x-python",
   "name": "python",
   "nbconvert_exporter": "python",
   "pygments_lexer": "ipython3",
   "version": "3.7.2"
  }
 },
 "nbformat": 4,
 "nbformat_minor": 2
}
