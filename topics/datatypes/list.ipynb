{
 "cells": [
  {
   "cell_type": "code",
   "execution_count": 3,
   "metadata": {},
   "outputs": [
    {
     "name": "stdout",
     "output_type": "stream",
     "text": [
      "[1, 2, 3, 4, 5]\n",
      "[1.1, 2.1, 3.1, 4.1]\n",
      "[1, 2, 3, 4, 4, 3]\n",
      "[1, 1.1, False, 'car', 6, [1, 2, 3]]\n"
     ]
    }
   ],
   "source": [
    "# let us create some lists\n",
    "\n",
    "# a list of numbers\n",
    "numbers = [1, 2, 3, 4, 5]\n",
    "print(numbers)\n",
    "\n",
    "# a list of floats\n",
    "floats = [1.1, 2.1, 3.1, 4.1]\n",
    "print(floats)\n",
    "\n",
    "# a list of numbers with duplicates allowed\n",
    "duplicates = [1, 2, 3, 4, 4, 3]\n",
    "print(duplicates)\n",
    "\n",
    "# a list can have any objects, call functions, have another list\n",
    "heterogous = [1, 1.1, False, 'car', sum((1, 2, 3)), [1, 2, 3] ]\n",
    "print(heterogous)"
   ]
  },
  {
   "cell_type": "code",
   "execution_count": 34,
   "metadata": {},
   "outputs": [
    {
     "name": "stdout",
     "output_type": "stream",
     "text": [
      "1\n",
      "2\n",
      "3\n",
      "[1, 2, 4]\n",
      "[1, 2, 10]\n"
     ]
    }
   ],
   "source": [
    "# List and ordering\n",
    "a_list = [1, 2, 3]\n",
    "\n",
    "# preserves insertion order\n",
    "# accessing list elements\n",
    "print(a_list[0])\n",
    "print(a_list[1])\n",
    "print(a_list[2])\n",
    "\n",
    "# updating the list element\n",
    "a_list[2] = 4\n",
    "print(a_list)\n",
    "\n",
    "# same thing with __setitem__ fn\n",
    "a_list.__setitem__(2, 10)\n",
    "print(a_list)"
   ]
  },
  {
   "cell_type": "code",
   "execution_count": 5,
   "metadata": {},
   "outputs": [
    {
     "name": "stdout",
     "output_type": "stream",
     "text": [
      "[1, 2, 3, 4]\n",
      "[1, 2, 3, 4]\n",
      "['key1', 'key2', 'key3']\n",
      "[1, 2, 3]\n",
      "[('key1', 1), ('key2', 2), ('key3', 3)]\n"
     ]
    }
   ],
   "source": [
    "a_list_from_tuple = list((1, 2, 3, 4))\n",
    "print(a_list_from_tuple)\n",
    "\n",
    "a_list_from_set = list({1, 2, 3, 4})\n",
    "print(a_list_from_tuple)\n",
    "\n",
    "# just gets the key\n",
    "a_list_from_dict = list({'key1': 1, 'key2': 2, 'key3': 3})\n",
    "print(a_list_from_dict)\n",
    "\n",
    "# just gets the values\n",
    "a_list_from_dict = list({'key1': 1, 'key2': 2, 'key3': 3}.values())\n",
    "print(a_list_from_dict)\n",
    "\n",
    "# just gets the key, value\n",
    "a_list_from_dict = list({'key1': 1, 'key2': 2, 'key3': 3}.items())\n",
    "print(a_list_from_dict)"
   ]
  },
  {
   "cell_type": "code",
   "execution_count": 6,
   "metadata": {},
   "outputs": [
    {
     "name": "stdout",
     "output_type": "stream",
     "text": [
      "[]\n",
      "[]\n"
     ]
    }
   ],
   "source": [
    "# creating an empty list\n",
    "\n",
    "empty = []\n",
    "print(empty)\n",
    "\n",
    "empty = list()\n",
    "print(empty)"
   ]
  },
  {
   "cell_type": "code",
   "execution_count": 7,
   "metadata": {},
   "outputs": [
    {
     "name": "stdout",
     "output_type": "stream",
     "text": [
      "1\n",
      "2\n",
      "3\n",
      "4\n",
      "5\n"
     ]
    }
   ],
   "source": [
    "# iterating the list\n",
    "\n",
    "numbers = [1, 2, 3, 4, 5]\n",
    "for number in numbers:\n",
    "    print(number)"
   ]
  },
  {
   "cell_type": "code",
   "execution_count": 8,
   "metadata": {},
   "outputs": [
    {
     "name": "stdout",
     "output_type": "stream",
     "text": [
      "[2, 4, 6, 8, 10]\n",
      "[1, 3, 5, 7, 9]\n",
      "[2, 4, 6, 8, 10, 1, 3, 5, 7, 9]\n",
      "[2, 4, 6, 8, 10]\n",
      "[1, 3, 5, 7, 9]\n",
      "[2, 4, 6, 8, 10, 1, 3, 5, 7, 9]\n"
     ]
    }
   ],
   "source": [
    "even = [2, 4, 6, 8, 10]\n",
    "odd = [1, 3, 5, 7, 9]\n",
    "\n",
    "# this creates the new list\n",
    "numbers = even + odd\n",
    "print(even)\n",
    "print(odd)\n",
    "print(numbers)\n",
    "\n",
    "numbers = []\n",
    "# this does the same\n",
    "numbers = even.__add__(odd)\n",
    "print(even)\n",
    "print(odd)\n",
    "print(numbers)"
   ]
  },
  {
   "cell_type": "code",
   "execution_count": 9,
   "metadata": {},
   "outputs": [
    {
     "name": "stdout",
     "output_type": "stream",
     "text": [
      "True\n",
      "True\n"
     ]
    }
   ],
   "source": [
    "even = [2, 4, 6, 8, 10]\n",
    "print(even.__contains__(2))\n",
    "\n",
    "# does the same thing\n",
    "print(2 in even)"
   ]
  },
  {
   "cell_type": "code",
   "execution_count": 10,
   "metadata": {},
   "outputs": [
    {
     "name": "stdout",
     "output_type": "stream",
     "text": [
      "[2, 4, 6, 8, 10]\n",
      "[2, 6, 8, 10]\n"
     ]
    }
   ],
   "source": [
    "even = [2, 4, 6, 8, 10]\n",
    "\n",
    "print(even)\n",
    "# removes the element at index 1\n",
    "del even[1]\n",
    "print(even)"
   ]
  },
  {
   "cell_type": "code",
   "execution_count": 18,
   "metadata": {},
   "outputs": [
    {
     "name": "stdout",
     "output_type": "stream",
     "text": [
      "True\n",
      "False\n",
      "False\n",
      "True\n",
      "True\n",
      "True\n",
      "True\n"
     ]
    }
   ],
   "source": [
    "even = [2, 4, 6, 8, 10]\n",
    "another_even = [2, 4, 6, 8, 10]\n",
    "yet_another_even = [2, 4, 6, 8, 10, 12]\n",
    "\n",
    "print(even == another_even)\n",
    "print(another_even == yet_another_even)\n",
    "print(even < another_even)\n",
    "print(even <= another_even)\n",
    "print(another_even < yet_another_even)\n",
    "print(another_even <= yet_another_even)\n",
    "print(another_even != yet_another_even)"
   ]
  },
  {
   "cell_type": "code",
   "execution_count": 25,
   "metadata": {},
   "outputs": [
    {
     "name": "stdout",
     "output_type": "stream",
     "text": [
      "4\n",
      "[2, 4, 6, 8, 10]\n"
     ]
    }
   ],
   "source": [
    "a_list = [2, 4, 6, 8, 10]\n",
    "\n",
    "# just inspects and returns element at index one\n",
    "# which is equivalent to accessing a_list[1]\n",
    "\n",
    "print(a_list.__getitem__(1)) \n",
    "print(a_list)"
   ]
  },
  {
   "cell_type": "code",
   "execution_count": 26,
   "metadata": {},
   "outputs": [
    {
     "ename": "IndexError",
     "evalue": "list index out of range",
     "output_type": "error",
     "traceback": [
      "\u001b[1;31m---------------------------------------------------------------------------\u001b[0m",
      "\u001b[1;31mIndexError\u001b[0m                                Traceback (most recent call last)",
      "\u001b[1;32m<ipython-input-26-54ba06ffa334>\u001b[0m in \u001b[0;36m<module>\u001b[1;34m\u001b[0m\n\u001b[0;32m      1\u001b[0m \u001b[0ma_list\u001b[0m \u001b[1;33m=\u001b[0m \u001b[1;33m[\u001b[0m\u001b[1;36m2\u001b[0m\u001b[1;33m,\u001b[0m \u001b[1;36m4\u001b[0m\u001b[1;33m,\u001b[0m \u001b[1;36m6\u001b[0m\u001b[1;33m,\u001b[0m \u001b[1;36m8\u001b[0m\u001b[1;33m,\u001b[0m \u001b[1;36m10\u001b[0m\u001b[1;33m]\u001b[0m\u001b[1;33m\u001b[0m\u001b[1;33m\u001b[0m\u001b[0m\n\u001b[0;32m      2\u001b[0m \u001b[1;31m# throws an error when we try to retrieve index that does not exist\u001b[0m\u001b[1;33m\u001b[0m\u001b[1;33m\u001b[0m\u001b[1;33m\u001b[0m\u001b[0m\n\u001b[1;32m----> 3\u001b[1;33m \u001b[0mprint\u001b[0m\u001b[1;33m(\u001b[0m\u001b[0ma_list\u001b[0m\u001b[1;33m.\u001b[0m\u001b[0m__getitem__\u001b[0m\u001b[1;33m(\u001b[0m\u001b[1;36m10\u001b[0m\u001b[1;33m)\u001b[0m\u001b[1;33m)\u001b[0m\u001b[1;33m\u001b[0m\u001b[1;33m\u001b[0m\u001b[0m\n\u001b[0m\u001b[0;32m      4\u001b[0m \u001b[0mprint\u001b[0m\u001b[1;33m(\u001b[0m\u001b[0ma_list\u001b[0m\u001b[1;33m)\u001b[0m\u001b[1;33m\u001b[0m\u001b[1;33m\u001b[0m\u001b[0m\n",
      "\u001b[1;31mIndexError\u001b[0m: list index out of range"
     ]
    }
   ],
   "source": [
    "a_list = [2, 4, 6, 8, 10]\n",
    "# throws an error when we try to retrieve index that does not exist\n",
    "print(a_list.__getitem__(10)) \n",
    "print(a_list)"
   ]
  },
  {
   "cell_type": "code",
   "execution_count": 28,
   "metadata": {},
   "outputs": [
    {
     "name": "stdout",
     "output_type": "stream",
     "text": [
      "[2, 3]\n",
      "[2, 3, 2, 3, 2, 3, 2, 3, 2, 3]\n",
      "[2, 3]\n",
      "[2, 3, 2, 3, 2, 3, 2, 3, 2, 3]\n"
     ]
    }
   ],
   "source": [
    "a_list = [2, 3]\n",
    "mul_list = a_list * 5\n",
    "\n",
    "print(a_list)\n",
    "print(mul_list)\n",
    "\n",
    "mul_list = 5 * a_list\n",
    "\n",
    "print(a_list)\n",
    "print(mul_list)"
   ]
  },
  {
   "cell_type": "code",
   "execution_count": 30,
   "metadata": {},
   "outputs": [
    {
     "name": "stdout",
     "output_type": "stream",
     "text": [
      "2\n",
      "10\n",
      "[2, 3]\n"
     ]
    }
   ],
   "source": [
    "mul_list = a_list * 5\n",
    "\n",
    "# find length of the list\n",
    "print(len(a_list))\n",
    "print(len(mul_list))\n",
    "\n",
    "# repr of list\n",
    "print(repr(a_list))\n"
   ]
  },
  {
   "cell_type": "code",
   "execution_count": 40,
   "metadata": {},
   "outputs": [
    {
     "name": "stdout",
     "output_type": "stream",
     "text": [
      "32\n",
      "60\n",
      "48\n",
      "76\n"
     ]
    }
   ],
   "source": [
    "# gets the size of list object in bytes\n",
    "print(a_list.__sizeof__())\n",
    "print(mul_list.__sizeof__())\n",
    "\n",
    "# sys.getsizeof() that includes garbage collector overhead\n",
    "import sys\n",
    "print(sys.getsizeof(a_list))\n",
    "print(sys.getsizeof(mul_list))"
   ]
  },
  {
   "cell_type": "code",
   "execution_count": 42,
   "metadata": {},
   "outputs": [
    {
     "name": "stdout",
     "output_type": "stream",
     "text": [
      "[1, 'two', 'Three Three Three', False, False, True]\n"
     ]
    }
   ],
   "source": [
    "a_list = []\n",
    "\n",
    "# add items to the end - append\n",
    "a_list.append(1)\n",
    "a_list.append(\"two\")\n",
    "a_list.append(\"Three Three Three\")\n",
    "a_list.append(False)\n",
    "a_list.append(bool(0))\n",
    "a_list.append(bool(1000))\n",
    "\n",
    "print(a_list)"
   ]
  },
  {
   "cell_type": "code",
   "execution_count": 44,
   "metadata": {},
   "outputs": [
    {
     "name": "stdout",
     "output_type": "stream",
     "text": [
      "[]\n"
     ]
    }
   ],
   "source": [
    "# clear the list, empties\n",
    "a_list.clear()\n",
    "print(a_list)"
   ]
  },
  {
   "cell_type": "code",
   "execution_count": 50,
   "metadata": {},
   "outputs": [
    {
     "name": "stdout",
     "output_type": "stream",
     "text": [
      "[1, 2, 3, [4, 5]] 98744360\n",
      "[1, 2, 3, [4, 5]] 93442616\n",
      "[1, 2, 3, [4, 5, 6, 7]] 98744360\n",
      "[1, 2, 3, [4, 5, 6, 7], 8] 93442616\n"
     ]
    }
   ],
   "source": [
    "# shallow copy, copying object references\n",
    "a_list = [1, 2, 3, [4,5]]\n",
    "b_list = a_list.copy()\n",
    "\n",
    "print(a_list, id(a_list))\n",
    "print(b_list, id(b_list))\n",
    "\n",
    "\n",
    "b_list[3].append(6)\n",
    "b_list[3].append(7)\n",
    "b_list.append(8)\n",
    "\n",
    "print(a_list, id(a_list))\n",
    "print(b_list, id(b_list))\n"
   ]
  },
  {
   "cell_type": "code",
   "execution_count": 49,
   "metadata": {},
   "outputs": [
    {
     "name": "stdout",
     "output_type": "stream",
     "text": [
      "[1, 2, 3, [4, 5]] 98833392\n",
      "[1, 2, 3, [4, 5]] 98833392\n",
      "[1, 2, 3, [4, 5, 6, 7], 8] 98833392\n",
      "[1, 2, 3, [4, 5, 6, 7], 8] 98833392\n"
     ]
    }
   ],
   "source": [
    "a_list = [1, 2, 3, [4,5]]\n",
    "\n",
    "b_list = a_list\n",
    "\n",
    "print(a_list, id(a_list))\n",
    "print(b_list, id(b_list))\n",
    "\n",
    "b_list[3].append(6)\n",
    "b_list[3].append(7)\n",
    "b_list.append(8)\n",
    "\n",
    "print(a_list, id(a_list))\n",
    "print(b_list, id(b_list))"
   ]
  },
  {
   "cell_type": "code",
   "execution_count": 54,
   "metadata": {},
   "outputs": [
    {
     "name": "stdout",
     "output_type": "stream",
     "text": [
      "[1, 2, 3, [4, 5]] 98832792\n",
      "[1, 2, 3, [4, 5]] 96314712\n",
      "[1, 2, 3, [4, 5, 6, 7]] 98832792\n",
      "[1, 2, 3, [4, 5, 6, 7], 8] 96314712\n"
     ]
    }
   ],
   "source": [
    "# copy\n",
    "\n",
    "import copy\n",
    "\n",
    "a_list = [1, 2, 3, [4,5]]\n",
    "\n",
    "b_list = copy.copy(a_list)\n",
    "print(a_list, id(a_list))\n",
    "print(b_list, id(b_list))\n",
    "\n",
    "b_list[3].append(6)\n",
    "b_list[3].append(7)\n",
    "b_list.append(8)\n",
    "\n",
    "print(a_list, id(a_list))\n",
    "print(b_list, id(b_list))"
   ]
  },
  {
   "cell_type": "code",
   "execution_count": 55,
   "metadata": {},
   "outputs": [
    {
     "name": "stdout",
     "output_type": "stream",
     "text": [
      "[1, 2, 3, [4, 5]] 98835072\n",
      "[1, 2, 3, [4, 5]] 15994032\n",
      "[1, 2, 3, [4, 5]] 98835072\n",
      "[1, 2, 3, [4, 5, 6, 7], 8] 15994032\n"
     ]
    }
   ],
   "source": [
    "import copy\n",
    "\n",
    "a_list = [1, 2, 3, [4,5]]\n",
    "\n",
    "# deep copy\n",
    "b_list = copy.deepcopy(a_list)\n",
    "\n",
    "print(a_list, id(a_list))\n",
    "print(b_list, id(b_list))\n",
    "\n",
    "b_list[3].append(6)\n",
    "b_list[3].append(7)\n",
    "b_list.append(8)\n",
    "\n",
    "print(a_list, id(a_list))\n",
    "print(b_list, id(b_list))"
   ]
  },
  {
   "cell_type": "code",
   "execution_count": 61,
   "metadata": {},
   "outputs": [
    {
     "name": "stdout",
     "output_type": "stream",
     "text": [
      "2\n",
      "4\n"
     ]
    },
    {
     "ename": "ValueError",
     "evalue": "50 is not in list",
     "output_type": "error",
     "traceback": [
      "\u001b[1;31m---------------------------------------------------------------------------\u001b[0m",
      "\u001b[1;31mValueError\u001b[0m                                Traceback (most recent call last)",
      "\u001b[1;32m<ipython-input-61-93bd6ddd7bd6>\u001b[0m in \u001b[0;36m<module>\u001b[1;34m\u001b[0m\n\u001b[0;32m      6\u001b[0m \u001b[1;31m# get the index of an object\u001b[0m\u001b[1;33m\u001b[0m\u001b[1;33m\u001b[0m\u001b[1;33m\u001b[0m\u001b[0m\n\u001b[0;32m      7\u001b[0m \u001b[0mprint\u001b[0m\u001b[1;33m(\u001b[0m\u001b[0ma_list\u001b[0m\u001b[1;33m.\u001b[0m\u001b[0mindex\u001b[0m\u001b[1;33m(\u001b[0m\u001b[1;36m5\u001b[0m\u001b[1;33m)\u001b[0m\u001b[1;33m)\u001b[0m\u001b[1;33m\u001b[0m\u001b[1;33m\u001b[0m\u001b[0m\n\u001b[1;32m----> 8\u001b[1;33m \u001b[0mprint\u001b[0m\u001b[1;33m(\u001b[0m\u001b[0ma_list\u001b[0m\u001b[1;33m.\u001b[0m\u001b[0mindex\u001b[0m\u001b[1;33m(\u001b[0m\u001b[1;36m50\u001b[0m\u001b[1;33m)\u001b[0m\u001b[1;33m)\u001b[0m\u001b[1;33m\u001b[0m\u001b[1;33m\u001b[0m\u001b[0m\n\u001b[0m",
      "\u001b[1;31mValueError\u001b[0m: 50 is not in list"
     ]
    }
   ],
   "source": [
    "a_list = [1, 2, 3, 4, 5, 5, 4]\n",
    "\n",
    "# count the number of occurences of the value\n",
    "print(a_list.count(4))\n",
    "\n",
    "# get the index of an object\n",
    "print(a_list.index(5))\n",
    "print(a_list.index(50)) # throws an error"
   ]
  },
  {
   "cell_type": "code",
   "execution_count": 74,
   "metadata": {},
   "outputs": [
    {
     "name": "stdout",
     "output_type": "stream",
     "text": [
      "[-1, 0, 1, 2, 3, 4, 5, 10, 15, 10, 101]\n"
     ]
    }
   ],
   "source": [
    "a_list = [0, 1, 2, 3, 4, 5]\n",
    "\n",
    "# insert an element at specific position\n",
    "\n",
    "a_list.insert(0, -1)\n",
    "a_list.insert(len(a_list), 10) # appends to the list\n",
    "a_list.insert(len(a_list), 15) # appends to the list\n",
    "a_list.insert(100, 10) # appends if index is out of bound\n",
    "a_list.insert(100, 101) # appends if index is out of bound\n",
    "\n",
    "print(a_list)"
   ]
  },
  {
   "cell_type": "code",
   "execution_count": 76,
   "metadata": {},
   "outputs": [
    {
     "name": "stdout",
     "output_type": "stream",
     "text": [
      "10 0\n",
      "[1, 2, 3, 4, 5, 10, 15]\n"
     ]
    }
   ],
   "source": [
    "last_element = a_list.pop() # removes the element at index and returns\n",
    "first_element = a_list.pop(0)\n",
    "print(last_element, first_element)\n",
    "print(a_list)\n",
    "#does_not_exist = a_list.pop(100) # throws error"
   ]
  },
  {
   "cell_type": "code",
   "execution_count": 82,
   "metadata": {},
   "outputs": [
    {
     "name": "stdout",
     "output_type": "stream",
     "text": [
      "[2, 3, 4, 5]\n",
      "None None\n",
      "[2, 3, 4, 5]\n"
     ]
    }
   ],
   "source": [
    "a_list = [0, 1, 2, 3, 4, 5]\n",
    "\n",
    "last_element = a_list.remove(1) # removes the element\n",
    "first_element = a_list.remove(0)\n",
    "print(a_list)\n",
    "print(last_element, first_element) # remove does not return anything, so prints None\n",
    "print(a_list)"
   ]
  },
  {
   "cell_type": "code",
   "execution_count": 84,
   "metadata": {},
   "outputs": [
    {
     "name": "stdout",
     "output_type": "stream",
     "text": [
      "[0, 1, 2, 3, 4, 5]\n",
      "None\n",
      "[5, 4, 3, 2, 1, 0]\n"
     ]
    }
   ],
   "source": [
    "a_list = [0, 1, 2, 3, 4, 5]\n",
    "\n",
    "print(a_list)\n",
    "print(a_list.reverse()) # in place reverse\n",
    "print(a_list)"
   ]
  },
  {
   "cell_type": "code",
   "execution_count": 85,
   "metadata": {},
   "outputs": [
    {
     "name": "stdout",
     "output_type": "stream",
     "text": [
      "[0, 1, 2, 3, 4, 5, -1, -2]\n",
      "[-2, -1, 0, 1, 2, 3, 4, 5]\n"
     ]
    }
   ],
   "source": [
    "a_list = [0, 1, 2, 3, 4, 5, -1, -2]\n",
    "\n",
    "print(a_list)\n",
    "a_list.sort()\n",
    "print(a_list)"
   ]
  },
  {
   "cell_type": "code",
   "execution_count": 86,
   "metadata": {},
   "outputs": [
    {
     "name": "stdout",
     "output_type": "stream",
     "text": [
      "[0, 1, 2, 3, 4, 5, -1, -2]\n",
      "[5, 4, 3, 2, 1, 0, -1, -2]\n"
     ]
    }
   ],
   "source": [
    "a_list = [0, 1, 2, 3, 4, 5, -1, -2]\n",
    "\n",
    "print(a_list)\n",
    "a_list.sort(reverse=True)\n",
    "print(a_list)"
   ]
  },
  {
   "cell_type": "code",
   "execution_count": 96,
   "metadata": {},
   "outputs": [
    {
     "name": "stdout",
     "output_type": "stream",
     "text": [
      "[0, 1, 2, 3, 4, 5, 6, 7, 8, 9, 10, 11, 12, 13, 14, 15, 16, 17, 18, 19]\n",
      "[1, 2, 3, 4, 5, 6, 7, 8, 9, 10, 11, 12, 13, 14, 15, 16, 17, 18, 19]\n",
      "[16, 17, 18]\n",
      "[0, 2, 4, 6, 8, 10, 12, 14, 16, 18]\n",
      "[1, 3, 5, 7, 9, 11, 13, 15, 17, 19]\n",
      "[19, 18, 17, 16, 15, 14, 13, 12, 11, 10, 9, 8, 7, 6, 5, 4, 3, 2, 1, 0]\n",
      "[0, 1, 2, 3, 4, 5, 6, 7, 8, 9, 10, 11, 12, 13, 14, 15, 16, 17, 18, 19]\n"
     ]
    }
   ],
   "source": [
    "# Slicing\n",
    "\n",
    "a = list(range(0, 20))\n",
    "\n",
    "print(a) # just print the list\n",
    "\n",
    "# all slice operations return new list\n",
    "print(a[1:]) # slice from first index to end of list\n",
    "print(a[-4:-1]) # slice from the fourth element from the end until last element, excluding the last\n",
    "print(a[::2]) # slice from the beginning to end skipping every other element\n",
    "print(a[1::2]) # slice from the second element to end skipping every other element\n",
    "print(a[::-1]) # slice from the last to first backwards - reverse\n",
    "print(a)"
   ]
  },
  {
   "cell_type": "code",
   "execution_count": 101,
   "metadata": {},
   "outputs": [
    {
     "name": "stdout",
     "output_type": "stream",
     "text": [
      "[1, 2, 3]\n",
      "[1, -1, -2, -3, 3]\n"
     ]
    }
   ],
   "source": [
    "a = [1, 2, 3]\n",
    "\n",
    "# all these are in place modifications\n",
    "print(a)\n",
    "a[1:2] = [-1, -2, -3] # replace [2] with [-1, -2, -3]\n",
    "print(a)"
   ]
  },
  {
   "cell_type": "code",
   "execution_count": 102,
   "metadata": {},
   "outputs": [
    {
     "name": "stdout",
     "output_type": "stream",
     "text": [
      "[1, 2, 3]\n",
      "[1, -1, -2, -3, 2, 3]\n"
     ]
    }
   ],
   "source": [
    "a = [1, 2, 3]\n",
    "print(a)\n",
    "a[1:1] = [-1, -2, -3] # insert [-1, -2, -3] in a empty list after a[1]\n",
    "print(a)\n"
   ]
  },
  {
   "cell_type": "code",
   "execution_count": 103,
   "metadata": {},
   "outputs": [
    {
     "name": "stdout",
     "output_type": "stream",
     "text": [
      "[1, 2, 3]\n",
      "[1, 2, -1, -2, -3]\n"
     ]
    }
   ],
   "source": [
    "a = [1, 2, 3]\n",
    "\n",
    "print(a)\n",
    "a[-1:] = [-1, -2, -3] # replace last element with [-1, -2, -3]\n",
    "print(a)"
   ]
  },
  {
   "cell_type": "code",
   "execution_count": 105,
   "metadata": {},
   "outputs": [
    {
     "name": "stdout",
     "output_type": "stream",
     "text": [
      "[1, 2, 3, 4, 5]\n",
      "[-1, -2, -3]\n"
     ]
    }
   ],
   "source": [
    "a = [1, 2, 3, 4, 5]\n",
    "print(a)\n",
    "a[::] = [-1, -2, -3] # replace all the elements in the list with [-1, -2, -3]\n",
    "print(a)"
   ]
  },
  {
   "cell_type": "code",
   "execution_count": 110,
   "metadata": {},
   "outputs": [
    {
     "name": "stdout",
     "output_type": "stream",
     "text": [
      "[1, 2, 3, 4, 5]\n",
      "[]\n"
     ]
    }
   ],
   "source": [
    "a = [1, 2, 3, 4, 5]\n",
    "print(a)\n",
    "del a[:] # clears the list\n",
    "print(a)"
   ]
  }
 ],
 "metadata": {
  "kernelspec": {
   "display_name": "Python 3",
   "language": "python",
   "name": "python3"
  },
  "language_info": {
   "codemirror_mode": {
    "name": "ipython",
    "version": 3
   },
   "file_extension": ".py",
   "mimetype": "text/x-python",
   "name": "python",
   "nbconvert_exporter": "python",
   "pygments_lexer": "ipython3",
   "version": "3.7.2"
  }
 },
 "nbformat": 4,
 "nbformat_minor": 2
}
