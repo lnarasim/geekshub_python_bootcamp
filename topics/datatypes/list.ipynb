{
 "cells": [
  {
   "cell_type": "code",
   "execution_count": 3,
   "metadata": {},
   "outputs": [
    {
     "name": "stdout",
     "output_type": "stream",
     "text": [
      "[1, 2, 3, 4, 5]\n",
      "[1.1, 2.1, 3.1, 4.1]\n",
      "[1, 2, 3, 4, 4, 3]\n",
      "[1, 1.1, False, 'car', 6, [1, 2, 3]]\n"
     ]
    }
   ],
   "source": [
    "# let us create some lists\n",
    "\n",
    "# a list of numbers\n",
    "numbers = [1, 2, 3, 4, 5]\n",
    "print(numbers)\n",
    "\n",
    "# a list of floats\n",
    "floats = [1.1, 2.1, 3.1, 4.1]\n",
    "print(floats)\n",
    "\n",
    "# a list of numbers with duplicates allowed\n",
    "duplicates = [1, 2, 3, 4, 4, 3]\n",
    "print(duplicates)\n",
    "\n",
    "# a list can have any objects, call functions, have another list\n",
    "heterogous = [1, 1.1, False, 'car', sum((1, 2, 3)), [1, 2, 3] ]\n",
    "print(heterogous)"
   ]
  },
  {
   "cell_type": "code",
   "execution_count": 19,
   "metadata": {},
   "outputs": [
    {
     "name": "stdout",
     "output_type": "stream",
     "text": [
      "1\n",
      "2\n",
      "3\n",
      "[1, 2, 4]\n"
     ]
    }
   ],
   "source": [
    "# List and ordering\n",
    "a_list = [1, 2, 3]\n",
    "\n",
    "# preserves insertion order\n",
    "# accessing list elements\n",
    "print(a_list[0])\n",
    "print(a_list[1])\n",
    "print(a_list[2])\n",
    "\n",
    "# updating the list element\n",
    "a_list[2] = 4\n",
    "print(a_list)"
   ]
  },
  {
   "cell_type": "code",
   "execution_count": 5,
   "metadata": {},
   "outputs": [
    {
     "name": "stdout",
     "output_type": "stream",
     "text": [
      "[1, 2, 3, 4]\n",
      "[1, 2, 3, 4]\n",
      "['key1', 'key2', 'key3']\n",
      "[1, 2, 3]\n",
      "[('key1', 1), ('key2', 2), ('key3', 3)]\n"
     ]
    }
   ],
   "source": [
    "a_list_from_tuple = list((1, 2, 3, 4))\n",
    "print(a_list_from_tuple)\n",
    "\n",
    "a_list_from_set = list({1, 2, 3, 4})\n",
    "print(a_list_from_tuple)\n",
    "\n",
    "# just gets the key\n",
    "a_list_from_dict = list({'key1': 1, 'key2': 2, 'key3': 3})\n",
    "print(a_list_from_dict)\n",
    "\n",
    "# just gets the values\n",
    "a_list_from_dict = list({'key1': 1, 'key2': 2, 'key3': 3}.values())\n",
    "print(a_list_from_dict)\n",
    "\n",
    "# just gets the key, value\n",
    "a_list_from_dict = list({'key1': 1, 'key2': 2, 'key3': 3}.items())\n",
    "print(a_list_from_dict)"
   ]
  },
  {
   "cell_type": "code",
   "execution_count": 6,
   "metadata": {},
   "outputs": [
    {
     "name": "stdout",
     "output_type": "stream",
     "text": [
      "[]\n",
      "[]\n"
     ]
    }
   ],
   "source": [
    "# creating an empty list\n",
    "\n",
    "empty = []\n",
    "print(empty)\n",
    "\n",
    "empty = list()\n",
    "print(empty)"
   ]
  },
  {
   "cell_type": "code",
   "execution_count": 7,
   "metadata": {},
   "outputs": [
    {
     "name": "stdout",
     "output_type": "stream",
     "text": [
      "1\n",
      "2\n",
      "3\n",
      "4\n",
      "5\n"
     ]
    }
   ],
   "source": [
    "# iterating the list\n",
    "\n",
    "numbers = [1, 2, 3, 4, 5]\n",
    "for number in numbers:\n",
    "    print(number)"
   ]
  },
  {
   "cell_type": "code",
   "execution_count": 8,
   "metadata": {},
   "outputs": [
    {
     "name": "stdout",
     "output_type": "stream",
     "text": [
      "[2, 4, 6, 8, 10]\n",
      "[1, 3, 5, 7, 9]\n",
      "[2, 4, 6, 8, 10, 1, 3, 5, 7, 9]\n",
      "[2, 4, 6, 8, 10]\n",
      "[1, 3, 5, 7, 9]\n",
      "[2, 4, 6, 8, 10, 1, 3, 5, 7, 9]\n"
     ]
    }
   ],
   "source": [
    "even = [2, 4, 6, 8, 10]\n",
    "odd = [1, 3, 5, 7, 9]\n",
    "\n",
    "# this creates the new list\n",
    "numbers = even + odd\n",
    "print(even)\n",
    "print(odd)\n",
    "print(numbers)\n",
    "\n",
    "numbers = []\n",
    "# this does the same\n",
    "numbers = even.__add__(odd)\n",
    "print(even)\n",
    "print(odd)\n",
    "print(numbers)"
   ]
  },
  {
   "cell_type": "code",
   "execution_count": 9,
   "metadata": {},
   "outputs": [
    {
     "name": "stdout",
     "output_type": "stream",
     "text": [
      "True\n",
      "True\n"
     ]
    }
   ],
   "source": [
    "even = [2, 4, 6, 8, 10]\n",
    "print(even.__contains__(2))\n",
    "\n",
    "# does the same thing\n",
    "print(2 in even)"
   ]
  },
  {
   "cell_type": "code",
   "execution_count": 10,
   "metadata": {},
   "outputs": [
    {
     "name": "stdout",
     "output_type": "stream",
     "text": [
      "[2, 4, 6, 8, 10]\n",
      "[2, 6, 8, 10]\n"
     ]
    }
   ],
   "source": [
    "even = [2, 4, 6, 8, 10]\n",
    "\n",
    "print(even)\n",
    "# removes the element at index 1\n",
    "del even[1]\n",
    "print(even)"
   ]
  },
  {
   "cell_type": "code",
   "execution_count": 18,
   "metadata": {},
   "outputs": [
    {
     "name": "stdout",
     "output_type": "stream",
     "text": [
      "True\n",
      "False\n",
      "False\n",
      "True\n",
      "True\n",
      "True\n",
      "True\n"
     ]
    }
   ],
   "source": [
    "even = [2, 4, 6, 8, 10]\n",
    "another_even = [2, 4, 6, 8, 10]\n",
    "yet_another_even = [2, 4, 6, 8, 10, 12]\n",
    "\n",
    "print(even == another_even)\n",
    "print(another_even == yet_another_even)\n",
    "print(even < another_even)\n",
    "print(even <= another_even)\n",
    "print(another_even < yet_another_even)\n",
    "print(another_even <= yet_another_even)\n",
    "print(another_even != yet_another_even)"
   ]
  },
  {
   "cell_type": "code",
   "execution_count": null,
   "metadata": {},
   "outputs": [],
   "source": []
  },
  {
   "cell_type": "code",
   "execution_count": null,
   "metadata": {},
   "outputs": [],
   "source": []
  }
 ],
 "metadata": {
  "kernelspec": {
   "display_name": "Python 3",
   "language": "python",
   "name": "python3"
  },
  "language_info": {
   "codemirror_mode": {
    "name": "ipython",
    "version": 3
   },
   "file_extension": ".py",
   "mimetype": "text/x-python",
   "name": "python",
   "nbconvert_exporter": "python",
   "pygments_lexer": "ipython3",
   "version": "3.7.2"
  }
 },
 "nbformat": 4,
 "nbformat_minor": 2
}
