{
 "cells": [
  {
   "cell_type": "code",
   "execution_count": 1,
   "metadata": {},
   "outputs": [
    {
     "name": "stdout",
     "output_type": "stream",
     "text": [
      "{1, 2, 3, 4, 5, 6}\n"
     ]
    }
   ],
   "source": [
    "# creating set\n",
    "s = {1, 2, 3, 4, 5, 6}\n",
    "\n",
    "print(s)"
   ]
  },
  {
   "cell_type": "code",
   "execution_count": 3,
   "metadata": {},
   "outputs": [
    {
     "name": "stdout",
     "output_type": "stream",
     "text": [
      "{False, 1, 'String', 1.1, NotImplemented}\n"
     ]
    }
   ],
   "source": [
    "# creating a set with different types\n",
    "s = {1, 1.1, True, False, \"String\", NotImplemented}\n",
    "\n",
    "print(s)"
   ]
  },
  {
   "cell_type": "code",
   "execution_count": 10,
   "metadata": {},
   "outputs": [
    {
     "name": "stdout",
     "output_type": "stream",
     "text": [
      "{1, 2, 3, 4, 5, 6, 7, 8}\n",
      "{1, 2, 3, 4, 5, 6, 7, 8}\n",
      "{1, 2}\n",
      "{'two', 'one'}\n",
      "{(2, 'two'), (1, 'one')}\n",
      "{<function <lambda> at 0x05F75C90>, <function <lambda> at 0x05F758E8>}\n"
     ]
    }
   ],
   "source": [
    "# sets can be created like this\n",
    "s = set([1, 2, 3, 4, 5, 6, 7, 8])\n",
    "print(s)\n",
    "\n",
    "s = set((1, 2, 3, 4, 5, 6, 7, 8))\n",
    "print(s)\n",
    "\n",
    "s = set({1: 'one', 2: 'two'})\n",
    "print(s)\n",
    "\n",
    "s = set({1: 'one', 2: 'two'}.values())\n",
    "print(s)\n",
    "\n",
    "s = set({1: 'one', 2: 'two'}.items())\n",
    "print(s)\n",
    "\n",
    "s = set([lambda x: x + 1, lambda y: y ** 2])\n",
    "print(s)"
   ]
  },
  {
   "cell_type": "code",
   "execution_count": 12,
   "metadata": {},
   "outputs": [
    {
     "name": "stdout",
     "output_type": "stream",
     "text": [
      "{1, 2, 3, 4, 5, 6}\n"
     ]
    }
   ],
   "source": [
    "# no duplicates\n",
    "s = {1, 2, 3, 4, 5, 6, 1, 2, 3, 4, 5, 6}\n",
    "\n",
    "print(s)"
   ]
  },
  {
   "cell_type": "code",
   "execution_count": 11,
   "metadata": {},
   "outputs": [
    {
     "name": "stdout",
     "output_type": "stream",
     "text": [
      "{False, 1, 'String', 1.1, NotImplemented}\n"
     ]
    }
   ],
   "source": [
    "# order will not be preserved\n",
    "s = {1, 1.1, True, False, \"String\", NotImplemented}\n",
    "\n",
    "print(s)"
   ]
  },
  {
   "cell_type": "code",
   "execution_count": 14,
   "metadata": {},
   "outputs": [
    {
     "ename": "TypeError",
     "evalue": "unhashable type: 'list'",
     "output_type": "error",
     "traceback": [
      "\u001b[1;31m---------------------------------------------------------------------------\u001b[0m",
      "\u001b[1;31mTypeError\u001b[0m                                 Traceback (most recent call last)",
      "\u001b[1;32m<ipython-input-14-7c2b576e39b4>\u001b[0m in \u001b[0;36m<module>\u001b[1;34m\u001b[0m\n\u001b[0;32m      1\u001b[0m \u001b[1;31m# mutable types cannot be added to set\u001b[0m\u001b[1;33m\u001b[0m\u001b[1;33m\u001b[0m\u001b[1;33m\u001b[0m\u001b[0m\n\u001b[1;32m----> 2\u001b[1;33m \u001b[0ms\u001b[0m \u001b[1;33m=\u001b[0m \u001b[0mset\u001b[0m\u001b[1;33m(\u001b[0m\u001b[1;33m[\u001b[0m\u001b[1;33m[\u001b[0m\u001b[1;36m1\u001b[0m\u001b[1;33m,\u001b[0m \u001b[1;36m2\u001b[0m\u001b[1;33m,\u001b[0m \u001b[1;36m3\u001b[0m\u001b[1;33m]\u001b[0m\u001b[1;33m,\u001b[0m \u001b[1;33m[\u001b[0m\u001b[1;36m4\u001b[0m\u001b[1;33m,\u001b[0m \u001b[1;36m5\u001b[0m\u001b[1;33m,\u001b[0m \u001b[1;36m6\u001b[0m\u001b[1;33m]\u001b[0m\u001b[1;33m]\u001b[0m\u001b[1;33m)\u001b[0m\u001b[1;33m\u001b[0m\u001b[1;33m\u001b[0m\u001b[0m\n\u001b[0m\u001b[0;32m      3\u001b[0m \u001b[1;33m\u001b[0m\u001b[0m\n\u001b[0;32m      4\u001b[0m \u001b[0mprint\u001b[0m\u001b[1;33m(\u001b[0m\u001b[0ms\u001b[0m\u001b[1;33m)\u001b[0m\u001b[1;33m\u001b[0m\u001b[1;33m\u001b[0m\u001b[0m\n",
      "\u001b[1;31mTypeError\u001b[0m: unhashable type: 'list'"
     ]
    }
   ],
   "source": [
    "# unhashable/mutable types cannot be added to set\n",
    "s = set([[1, 2, 3], [4, 5, 6]])"
   ]
  },
  {
   "cell_type": "code",
   "execution_count": 17,
   "metadata": {},
   "outputs": [
    {
     "name": "stdout",
     "output_type": "stream",
     "text": [
      "{} <class 'dict'>\n",
      "set() <class 'set'>\n"
     ]
    }
   ],
   "source": [
    "# do not create an empty set like this\n",
    "empty = {} # because it creates an empty dict\n",
    "print(empty, type(empty))\n",
    "\n",
    "# do like this\n",
    "empty = set()\n",
    "print(empty, type(empty))"
   ]
  },
  {
   "cell_type": "code",
   "execution_count": 20,
   "metadata": {},
   "outputs": [
    {
     "name": "stdout",
     "output_type": "stream",
     "text": [
      "{1, 2, 3, 4, 5, 6}\n",
      "6\n"
     ]
    }
   ],
   "source": [
    "print(s)\n",
    "\n",
    "# use len to find the number of elements in a set\n",
    "print(len(s))"
   ]
  },
  {
   "cell_type": "code",
   "execution_count": 21,
   "metadata": {},
   "outputs": [
    {
     "name": "stdout",
     "output_type": "stream",
     "text": [
      "True\n",
      "False\n",
      "True\n",
      "False\n"
     ]
    }
   ],
   "source": [
    "# use in/not in for membership \n",
    "print(1 in s)\n",
    "print(10 in s)\n",
    "print(10 not in s)\n",
    "print(1 not in s)"
   ]
  },
  {
   "cell_type": "code",
   "execution_count": 26,
   "metadata": {},
   "outputs": [
    {
     "name": "stdout",
     "output_type": "stream",
     "text": [
      "{0, 1, 2, 3, 4, 5, 6, 7, 8, 9, 10, 11} 12\n",
      "{8, 9, 10, 11, 12, 13, 14, 15, 16, 17, 18, 19} 12\n"
     ]
    }
   ],
   "source": [
    "# Let us do some set operations using the following sets\n",
    "a = set(range(12))\n",
    "b = set(range(8, 20))\n",
    "print(a, len(a))\n",
    "print(b, len(b))"
   ]
  },
  {
   "cell_type": "code",
   "execution_count": 34,
   "metadata": {},
   "outputs": [
    {
     "name": "stdout",
     "output_type": "stream",
     "text": [
      "a: {0, 1, 2, 3, 4, 5, 6, 7, 8, 9, 10, 11}\n",
      "b: {8, 9, 10, 11, 12, 13, 14, 15, 16, 17, 18, 19}\n",
      "a | b: {0, 1, 2, 3, 4, 5, 6, 7, 8, 9, 10, 11, 12, 13, 14, 15, 16, 17, 18, 19}\n",
      "a: {0, 1, 2, 3, 4, 5, 6, 7, 8, 9, 10, 11}\n",
      "b: {8, 9, 10, 11, 12, 13, 14, 15, 16, 17, 18, 19}\n"
     ]
    }
   ],
   "source": [
    "# | to union two sets and return a new set\n",
    "# a and b will be intact\n",
    "print(\"a:\", a)\n",
    "print(\"b:\", b)\n",
    "print(\"a | b:\", a | b)\n",
    "print(\"a:\", a)\n",
    "print(\"b:\", b)"
   ]
  },
  {
   "cell_type": "code",
   "execution_count": 35,
   "metadata": {},
   "outputs": [
    {
     "name": "stdout",
     "output_type": "stream",
     "text": [
      "a: {0, 1, 2, 3, 4, 5, 6, 7, 8, 9, 10, 11}\n",
      "b: {8, 9, 10, 11, 12, 13, 14, 15, 16, 17, 18, 19}\n",
      "a & b: {8, 9, 10, 11}\n",
      "a: {0, 1, 2, 3, 4, 5, 6, 7, 8, 9, 10, 11}\n",
      "b: {8, 9, 10, 11, 12, 13, 14, 15, 16, 17, 18, 19}\n"
     ]
    }
   ],
   "source": [
    "# & to find intersection of two sets and return a new set\n",
    "# a and b will be intact\n",
    "print(\"a:\", a)\n",
    "print(\"b:\", b)\n",
    "print(\"a & b:\", a & b)\n",
    "print(\"a:\", a)\n",
    "print(\"b:\", b)"
   ]
  },
  {
   "cell_type": "code",
   "execution_count": 36,
   "metadata": {},
   "outputs": [
    {
     "name": "stdout",
     "output_type": "stream",
     "text": [
      "a: {0, 1, 2, 3, 4, 5, 6, 7, 8, 9, 10, 11}\n",
      "b: {8, 9, 10, 11, 12, 13, 14, 15, 16, 17, 18, 19}\n",
      "a - b: {0, 1, 2, 3, 4, 5, 6, 7}\n",
      "a: {0, 1, 2, 3, 4, 5, 6, 7, 8, 9, 10, 11}\n",
      "b: {8, 9, 10, 11, 12, 13, 14, 15, 16, 17, 18, 19}\n"
     ]
    }
   ],
   "source": [
    "# - to find difference - set of element in a but not in b\n",
    "# a and b will be intact\n",
    "print(\"a:\", a)\n",
    "print(\"b:\", b)\n",
    "print(\"a - b:\", a - b)\n",
    "print(\"a:\", a)\n",
    "print(\"b:\", b)"
   ]
  },
  {
   "cell_type": "code",
   "execution_count": 37,
   "metadata": {},
   "outputs": [
    {
     "name": "stdout",
     "output_type": "stream",
     "text": [
      "a: {0, 1, 2, 3, 4, 5, 6, 7, 8, 9, 10, 11}\n",
      "b: {8, 9, 10, 11, 12, 13, 14, 15, 16, 17, 18, 19}\n",
      "a ^ b: {0, 1, 2, 3, 4, 5, 6, 7, 12, 13, 14, 15, 16, 17, 18, 19}\n",
      "a: {0, 1, 2, 3, 4, 5, 6, 7, 8, 9, 10, 11}\n",
      "b: {8, 9, 10, 11, 12, 13, 14, 15, 16, 17, 18, 19}\n"
     ]
    }
   ],
   "source": [
    "# ^ to find symmetric difference - set of element in a and b but not in both\n",
    "# a and b will be intact\n",
    "print(\"a:\", a)\n",
    "print(\"b:\", b)\n",
    "print(\"a ^ b:\", a ^ b)\n",
    "print(\"a:\", a)\n",
    "print(\"b:\", b)"
   ]
  },
  {
   "cell_type": "code",
   "execution_count": 47,
   "metadata": {},
   "outputs": [
    {
     "name": "stdout",
     "output_type": "stream",
     "text": [
      "a: {1, 2, 3, 4}\n",
      "b: {1, 2, 3}\n",
      "a is subset of b: False\n",
      "b is subset of a: True\n",
      "b is proper subset of a: True\n"
     ]
    }
   ],
   "source": [
    "# let us perform some more operations with following sets\n",
    "a = {1, 2, 3, 4}\n",
    "b = {1, 2, 3}\n",
    "\n",
    "print(\"a:\", a)\n",
    "print(\"b:\", b)\n",
    "\n",
    "# finding subset, if a is subset of b\n",
    "print(\"a is subset of b:\", a <= b)\n",
    "\n",
    "# finding subset, if b is subset of a\n",
    "print(\"b is subset of a:\", b <= a)\n",
    "\n",
    "# proper subset\n",
    "print(\"b is proper subset of a:\", b < a)"
   ]
  },
  {
   "cell_type": "code",
   "execution_count": 48,
   "metadata": {},
   "outputs": [
    {
     "name": "stdout",
     "output_type": "stream",
     "text": [
      "a: {1, 2, 3, 4}\n",
      "b: {1, 2, 3}\n",
      "a is superset of b: True\n",
      "a is proper superset of b: True\n",
      "a is super of b: False\n"
     ]
    }
   ],
   "source": [
    "a = {1, 2, 3, 4}\n",
    "b = {1, 2, 3}\n",
    "\n",
    "print(\"a:\", a)\n",
    "print(\"b:\", b)\n",
    "\n",
    "# finding superset, if a is subset of b\n",
    "print(\"a is superset of b:\", a >= b)\n",
    "print(\"a is proper superset of b:\", a > b)\n",
    "\n",
    "# finding superset, if b is subset of a\n",
    "print(\"a is super of b:\", b >= a)"
   ]
  },
  {
   "cell_type": "code",
   "execution_count": 49,
   "metadata": {},
   "outputs": [
    {
     "name": "stdout",
     "output_type": "stream",
     "text": [
      "a: {1, 2, 3, 4}\n",
      "b: {1, 2, 3, 4}\n",
      "a is proper superset of b: False\n",
      "b is proper subset of a: False\n"
     ]
    }
   ],
   "source": [
    "a = {1, 2, 3, 4}\n",
    "b = {1, 2, 3, 4}\n",
    "\n",
    "print(\"a:\", a)\n",
    "print(\"b:\", b)\n",
    "\n",
    "print(\"a is proper superset of b:\", a > b)\n",
    "print(\"b is proper subset of a:\", b < a)"
   ]
  },
  {
   "cell_type": "code",
   "execution_count": 52,
   "metadata": {},
   "outputs": [
    {
     "name": "stdout",
     "output_type": "stream",
     "text": [
      "{0, 1, 2, 3, 4, 5, 6, 7, 8, 9, 10, 11} 12 4010872\n",
      "{8, 9, 10, 11, 12, 13, 14, 15, 16, 17, 18, 19} 12 4010632\n",
      "None\n",
      "{0, 1, 2, 3, 4, 5, 6, 7, 8, 9, 10, 11, 12, 13, 14, 15, 16, 17, 18, 19} 20 4010872\n",
      "{8, 9, 10, 11, 12, 13, 14, 15, 16, 17, 18, 19} 12 4010632\n"
     ]
    }
   ],
   "source": [
    "# a Union b and update a\n",
    "a = set(range(12))\n",
    "b = set(range(8, 20))\n",
    "\n",
    "print(a, len(a), id(a))\n",
    "print(b, len(b), id(b))\n",
    "\n",
    "result = a.update(b)\n",
    "print(result)\n",
    "\n",
    "print(a, len(a), id(a))\n",
    "print(b, len(b), id(b))"
   ]
  },
  {
   "cell_type": "code",
   "execution_count": 53,
   "metadata": {},
   "outputs": [
    {
     "name": "stdout",
     "output_type": "stream",
     "text": [
      "{0, 1, 2, 3, 4, 5, 6, 7, 8, 9, 10, 11} 12 4010152\n",
      "{8, 9, 10, 11, 12, 13, 14, 15, 16, 17, 18, 19} 12 4010752\n",
      "None\n",
      "{8, 9, 10, 11} 4 4010152\n",
      "{8, 9, 10, 11, 12, 13, 14, 15, 16, 17, 18, 19} 12 4010752\n"
     ]
    }
   ],
   "source": [
    "# a intersection b and update a\n",
    "a = set(range(12))\n",
    "b = set(range(8, 20))\n",
    "\n",
    "print(a, len(a), id(a))\n",
    "print(b, len(b), id(b))\n",
    "\n",
    "result = a.intersection_update(b)\n",
    "print(result)\n",
    "\n",
    "print(a, len(a), id(a))\n",
    "print(b, len(b), id(b))"
   ]
  },
  {
   "cell_type": "code",
   "execution_count": 54,
   "metadata": {},
   "outputs": [
    {
     "name": "stdout",
     "output_type": "stream",
     "text": [
      "{0, 1, 2, 3, 4, 5, 6, 7, 8, 9, 10, 11} 12 4010872\n",
      "{8, 9, 10, 11, 12, 13, 14, 15, 16, 17, 18, 19} 12 4010632\n",
      "None\n",
      "{0, 1, 2, 3, 4, 5, 6, 7} 8 4010872\n",
      "{8, 9, 10, 11, 12, 13, 14, 15, 16, 17, 18, 19} 12 4010632\n"
     ]
    }
   ],
   "source": [
    "# a difference b and update a\n",
    "a = set(range(12))\n",
    "b = set(range(8, 20))\n",
    "\n",
    "print(a, len(a), id(a))\n",
    "print(b, len(b), id(b))\n",
    "\n",
    "result = a.difference_update(b)\n",
    "print(result)\n",
    "\n",
    "print(a, len(a), id(a))\n",
    "print(b, len(b), id(b))"
   ]
  },
  {
   "cell_type": "code",
   "execution_count": 55,
   "metadata": {},
   "outputs": [
    {
     "name": "stdout",
     "output_type": "stream",
     "text": [
      "{0, 1, 2, 3, 4, 5, 6, 7, 8, 9, 10, 11} 12 4010152\n",
      "{8, 9, 10, 11, 12, 13, 14, 15, 16, 17, 18, 19} 12 4010752\n",
      "None\n",
      "{0, 1, 2, 3, 4, 5, 6, 7, 12, 13, 14, 15, 16, 17, 18, 19} 16 4010152\n",
      "{8, 9, 10, 11, 12, 13, 14, 15, 16, 17, 18, 19} 12 4010752\n"
     ]
    }
   ],
   "source": [
    "# a difference b and update a\n",
    "a = set(range(12))\n",
    "b = set(range(8, 20))\n",
    "\n",
    "print(a, len(a), id(a))\n",
    "print(b, len(b), id(b))\n",
    "\n",
    "result = a.symmetric_difference_update(b)\n",
    "print(result)\n",
    "\n",
    "print(a, len(a), id(a))\n",
    "print(b, len(b), id(b))"
   ]
  },
  {
   "cell_type": "code",
   "execution_count": 57,
   "metadata": {},
   "outputs": [],
   "source": [
    "# |=, &=, -=, ^= performs update, intersection_update, difference_update\n",
    "# and symmetric_difference_update respectively.\n",
    "\n",
    "# do and verify whether the above statement is true"
   ]
  },
  {
   "cell_type": "code",
   "execution_count": 75,
   "metadata": {},
   "outputs": [
    {
     "name": "stdout",
     "output_type": "stream",
     "text": [
      "{0, 1, 2, 3, 4, 5, 6, 7, 8, 9, 10, 11}\n",
      "{0, 1, 2, 3, 4, 5, 6, 7, 8, 9, 10, 11, 14}\n",
      "{0, 1, 2, 3, 4, 5, 6, 7, 8, 9, 10, 11}\n",
      "None\n",
      "{1, 2, 3, 4, 5, 6, 7, 8, 9, 10, 11}\n",
      "0\n",
      "{1, 2, 3, 4, 5, 6, 7, 8, 9, 10, 11}\n",
      "None\n"
     ]
    }
   ],
   "source": [
    "a = set(range(12))\n",
    "b = set(range(8, 20))\n",
    "\n",
    "print(a)\n",
    "\n",
    "# add an element to set\n",
    "a.add(14)\n",
    "print(a)\n",
    "\n",
    "# remove an element from the set\n",
    "result = a.remove(14)\n",
    "print(a)\n",
    "print(result)\n",
    "\n",
    "# removes an element and returns it. Takes no argument\n",
    "result = a.pop()\n",
    "print(a)\n",
    "print(result)\n",
    "\n",
    "# removes an element, do nothing if the element is not in the set\n",
    "result = a.discard(14)\n",
    "print(a)\n",
    "print(result)"
   ]
  },
  {
   "cell_type": "code",
   "execution_count": 76,
   "metadata": {},
   "outputs": [
    {
     "ename": "KeyError",
     "evalue": "14",
     "output_type": "error",
     "traceback": [
      "\u001b[1;31m---------------------------------------------------------------------------\u001b[0m",
      "\u001b[1;31mKeyError\u001b[0m                                  Traceback (most recent call last)",
      "\u001b[1;32m<ipython-input-76-6cd829b3f183>\u001b[0m in \u001b[0;36m<module>\u001b[1;34m\u001b[0m\n\u001b[0;32m      1\u001b[0m \u001b[1;31m# removing an element that does not exist throws an error\u001b[0m\u001b[1;33m\u001b[0m\u001b[1;33m\u001b[0m\u001b[1;33m\u001b[0m\u001b[0m\n\u001b[1;32m----> 2\u001b[1;33m \u001b[0ma\u001b[0m\u001b[1;33m.\u001b[0m\u001b[0mremove\u001b[0m\u001b[1;33m(\u001b[0m\u001b[1;36m14\u001b[0m\u001b[1;33m)\u001b[0m\u001b[1;33m\u001b[0m\u001b[1;33m\u001b[0m\u001b[0m\n\u001b[0m\u001b[0;32m      3\u001b[0m \u001b[0mprint\u001b[0m\u001b[1;33m(\u001b[0m\u001b[0ma\u001b[0m\u001b[1;33m)\u001b[0m\u001b[1;33m\u001b[0m\u001b[1;33m\u001b[0m\u001b[0m\n",
      "\u001b[1;31mKeyError\u001b[0m: 14"
     ]
    }
   ],
   "source": [
    "# removing an element that does not exist throws an error\n",
    "a.remove(14)\n",
    "print(a)"
   ]
  },
  {
   "cell_type": "code",
   "execution_count": 77,
   "metadata": {},
   "outputs": [
    {
     "name": "stdout",
     "output_type": "stream",
     "text": [
      "{1, 2, 3, 4, 5, 6, 7, 8, 9, 10, 11}\n",
      "set()\n"
     ]
    }
   ],
   "source": [
    "print(a)\n",
    "\n",
    "# clear to remove all elements from the set\n",
    "a.clear()\n",
    "print(a)"
   ]
  },
  {
   "cell_type": "code",
   "execution_count": 80,
   "metadata": {},
   "outputs": [
    {
     "name": "stdout",
     "output_type": "stream",
     "text": [
      "a:  {1, 2, 3}\n",
      "b:  {3, 4, 5}\n",
      "c:  {4, 5, 6}\n",
      "False\n",
      "False\n",
      "True\n"
     ]
    }
   ],
   "source": [
    "a = {1, 2, 3}\n",
    "b = {3, 4, 5}\n",
    "c = {4, 5, 6}\n",
    "\n",
    "# disjoint returns True if no common element, else False\n",
    "\n",
    "print(\"a: \", a)\n",
    "print(\"b: \", b)\n",
    "print(\"c: \", c)\n",
    "\n",
    "print(a.isdisjoint(b))\n",
    "print(b.isdisjoint(c))\n",
    "print(a.isdisjoint(c))"
   ]
  },
  {
   "cell_type": "code",
   "execution_count": null,
   "metadata": {},
   "outputs": [],
   "source": []
  }
 ],
 "metadata": {
  "kernelspec": {
   "display_name": "Python 3",
   "language": "python",
   "name": "python3"
  },
  "language_info": {
   "codemirror_mode": {
    "name": "ipython",
    "version": 3
   },
   "file_extension": ".py",
   "mimetype": "text/x-python",
   "name": "python",
   "nbconvert_exporter": "python",
   "pygments_lexer": "ipython3",
   "version": "3.7.2"
  }
 },
 "nbformat": 4,
 "nbformat_minor": 2
}
