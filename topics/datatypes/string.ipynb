{
 "cells": [
  {
   "cell_type": "code",
   "execution_count": 1,
   "metadata": {},
   "outputs": [
    {
     "name": "stdout",
     "output_type": "stream",
     "text": [
      "Hello 105747904 <class 'str'>\n"
     ]
    }
   ],
   "source": [
    "# Let us define a string\n",
    "greeting = \"Hello\"\n",
    "\n",
    "print(greeting, id(greeting), type(greeting))"
   ]
  },
  {
   "cell_type": "code",
   "execution_count": 3,
   "metadata": {},
   "outputs": [
    {
     "name": "stdout",
     "output_type": "stream",
     "text": [
      "Hello 105747904 <class 'str'>\n"
     ]
    }
   ],
   "source": [
    "another_greeting = \"Hello\"\n",
    "\n",
    "print(another_greeting, id(another_greeting), type(another_greeting))"
   ]
  },
  {
   "cell_type": "code",
   "execution_count": 4,
   "metadata": {},
   "outputs": [
    {
     "name": "stdout",
     "output_type": "stream",
     "text": [
      "This is pretty big string 105727048 <class 'str'>\n"
     ]
    }
   ],
   "source": [
    "really_long_word = \"This is pretty big string\"\n",
    "\n",
    "print(really_long_word, id(really_long_word), type(really_long_word))"
   ]
  },
  {
   "cell_type": "code",
   "execution_count": 5,
   "metadata": {},
   "outputs": [
    {
     "name": "stdout",
     "output_type": "stream",
     "text": [
      "This is pretty big string 105728000 <class 'str'>\n"
     ]
    }
   ],
   "source": [
    "another_really_long_word = \"This is pretty big string\"\n",
    "\n",
    "print(another_really_long_word, id(another_really_long_word), type(another_really_long_word))"
   ]
  },
  {
   "cell_type": "code",
   "execution_count": 10,
   "metadata": {},
   "outputs": [
    {
     "name": "stdout",
     "output_type": "stream",
     "text": [
      "T\n",
      "h\n",
      "i\n",
      "s\n",
      " \n",
      "i\n",
      "s\n",
      " \n",
      "p\n",
      "r\n",
      "e\n",
      "t\n",
      "t\n",
      "y\n",
      " \n",
      "b\n",
      "i\n",
      "g\n",
      " \n",
      "s\n",
      "t\n",
      "r\n",
      "i\n",
      "n\n",
      "g\n"
     ]
    }
   ],
   "source": [
    "long_string = \"This is pretty big string\"\n",
    "\n",
    "# String is a sequence of one character string. we can iterate as we iterate on lists\n",
    "for char in long_string:\n",
    "    print(char)"
   ]
  },
  {
   "cell_type": "code",
   "execution_count": 11,
   "metadata": {},
   "outputs": [
    {
     "name": "stdout",
     "output_type": "stream",
     "text": [
      "T h i s   i s   p r e t t y   b i g   s t r i n g "
     ]
    }
   ],
   "source": [
    "long_string = \"This is pretty big string\"\n",
    "\n",
    "# String is a sequence of one character string. we can iterate as we iterate on lists\n",
    "for char in long_string:\n",
    "    print(char, end=' ') #same, but we end a string with space rather than newline."
   ]
  },
  {
   "cell_type": "code",
   "execution_count": 12,
   "metadata": {},
   "outputs": [
    {
     "name": "stdout",
     "output_type": "stream",
     "text": [
      "This is pretty big string 105728336 <class 'str'>\n",
      "T 16820160 <class 'str'>\n",
      "h 16818944 <class 'str'>\n",
      "i 16546176 <class 'str'>\n",
      "s 16547424 <class 'str'>\n",
      "  17116192 <class 'str'>\n",
      "i 16546176 <class 'str'>\n",
      "s 16547424 <class 'str'>\n",
      "  17116192 <class 'str'>\n",
      "p 16545600 <class 'str'>\n",
      "r 16414080 <class 'str'>\n",
      "e 16547488 <class 'str'>\n",
      "t 16546144 <class 'str'>\n",
      "t 16546144 <class 'str'>\n",
      "y 16545568 <class 'str'>\n",
      "  17116192 <class 'str'>\n",
      "b 16637408 <class 'str'>\n",
      "i 16546176 <class 'str'>\n",
      "g 16843840 <class 'str'>\n",
      "  17116192 <class 'str'>\n",
      "s 16547424 <class 'str'>\n",
      "t 16546144 <class 'str'>\n",
      "r 16414080 <class 'str'>\n",
      "i 16546176 <class 'str'>\n",
      "n 16546272 <class 'str'>\n",
      "g 16843840 <class 'str'>\n"
     ]
    }
   ],
   "source": [
    "# Let us print each character and type\n",
    "\n",
    "long_string = \"This is pretty big string\"\n",
    "print(long_string, id(long_string), type(long_string))\n",
    "\n",
    "for char in long_string:\n",
    "    print(char, id(char), type(char))"
   ]
  },
  {
   "cell_type": "code",
   "execution_count": 17,
   "metadata": {},
   "outputs": [
    {
     "name": "stdout",
     "output_type": "stream",
     "text": [
      "Hello,  <class 'str'> 108245088\n",
      "World <class 'str'> 108247744\n",
      "Hello, World <class 'str'> 10351024\n",
      "Hello,  <class 'str'> 108245088\n",
      "World <class 'str'> 108247744\n",
      "Hello, World <class 'str'> 10351944\n"
     ]
    }
   ],
   "source": [
    "first = \"Hello, \"\n",
    "second = \"World\"\n",
    "\n",
    "# Some string operations\n",
    "third = first + second\n",
    "print(first, type(first), id(first))\n",
    "print(second, type(second), id(second))\n",
    "print(third, type(third), id(third))\n",
    "\n",
    "# We can concatenate using dunder add\n",
    "third = first.__add__(second)\n",
    "print(first, type(first), id(first))\n",
    "print(second, type(second), id(second))\n",
    "print(third, type(third), id(third))\n"
   ]
  },
  {
   "cell_type": "code",
   "execution_count": 21,
   "metadata": {},
   "outputs": [
    {
     "name": "stdout",
     "output_type": "stream",
     "text": [
      "H\n",
      "e\n",
      "l\n",
      "l\n",
      "o\n"
     ]
    }
   ],
   "source": [
    "# we can access string using index\n",
    "first = \"Hello\"\n",
    "\n",
    "print(first[0])\n",
    "print(first[1])\n",
    "print(first[2])\n",
    "print(first[3])\n",
    "print(first[4])"
   ]
  },
  {
   "cell_type": "code",
   "execution_count": 23,
   "metadata": {},
   "outputs": [
    {
     "ename": "IndexError",
     "evalue": "string index out of range",
     "output_type": "error",
     "traceback": [
      "\u001b[1;31m---------------------------------------------------------------------------\u001b[0m",
      "\u001b[1;31mIndexError\u001b[0m                                Traceback (most recent call last)",
      "\u001b[1;32m<ipython-input-23-89df5043843b>\u001b[0m in \u001b[0;36m<module>\u001b[1;34m\u001b[0m\n\u001b[0;32m      3\u001b[0m \u001b[1;33m\u001b[0m\u001b[0m\n\u001b[0;32m      4\u001b[0m \u001b[1;31m# Beware: trying to access beyond index leads to error/exception\u001b[0m\u001b[1;33m\u001b[0m\u001b[1;33m\u001b[0m\u001b[1;33m\u001b[0m\u001b[0m\n\u001b[1;32m----> 5\u001b[1;33m \u001b[0mprint\u001b[0m\u001b[1;33m(\u001b[0m\u001b[0mfirst\u001b[0m\u001b[1;33m[\u001b[0m\u001b[1;36m5\u001b[0m\u001b[1;33m]\u001b[0m\u001b[1;33m)\u001b[0m\u001b[1;33m\u001b[0m\u001b[1;33m\u001b[0m\u001b[0m\n\u001b[0m",
      "\u001b[1;31mIndexError\u001b[0m: string index out of range"
     ]
    }
   ],
   "source": [
    "# we can access string using index\n",
    "first = \"Hello\"\n",
    "\n",
    "# Beware: trying to access beyond index leads to error/exception\n",
    "print(first[5])"
   ]
  },
  {
   "cell_type": "code",
   "execution_count": 24,
   "metadata": {},
   "outputs": [
    {
     "ename": "TypeError",
     "evalue": "'str' object does not support item assignment",
     "output_type": "error",
     "traceback": [
      "\u001b[1;31m---------------------------------------------------------------------------\u001b[0m",
      "\u001b[1;31mTypeError\u001b[0m                                 Traceback (most recent call last)",
      "\u001b[1;32m<ipython-input-24-a358dc1addc0>\u001b[0m in \u001b[0;36m<module>\u001b[1;34m\u001b[0m\n\u001b[0;32m      2\u001b[0m \u001b[1;33m\u001b[0m\u001b[0m\n\u001b[0;32m      3\u001b[0m \u001b[1;31m# Strings are immutable, let us try to change string\u001b[0m\u001b[1;33m\u001b[0m\u001b[1;33m\u001b[0m\u001b[1;33m\u001b[0m\u001b[0m\n\u001b[1;32m----> 4\u001b[1;33m \u001b[0mfirst\u001b[0m\u001b[1;33m[\u001b[0m\u001b[1;36m0\u001b[0m\u001b[1;33m]\u001b[0m \u001b[1;33m=\u001b[0m \u001b[1;34m'1'\u001b[0m\u001b[1;33m\u001b[0m\u001b[1;33m\u001b[0m\u001b[0m\n\u001b[0m",
      "\u001b[1;31mTypeError\u001b[0m: 'str' object does not support item assignment"
     ]
    }
   ],
   "source": [
    "first = \"Hello\"\n",
    "\n",
    "# Strings are immutable, let us try to change string\n",
    "first[0] = '1'"
   ]
  },
  {
   "cell_type": "code",
   "execution_count": 25,
   "metadata": {},
   "outputs": [
    {
     "name": "stdout",
     "output_type": "stream",
     "text": [
      "Char at index 0 is H\n",
      "Char at index 1 is e\n",
      "Char at index 2 is l\n",
      "Char at index 3 is l\n",
      "Char at index 4 is o\n"
     ]
    }
   ],
   "source": [
    "# let us enumarate string\n",
    "first = \"Hello\"\n",
    "\n",
    "for index, value in enumerate(first):\n",
    "    print(f\"Char at index {index} is {value}\")"
   ]
  },
  {
   "cell_type": "code",
   "execution_count": 26,
   "metadata": {},
   "outputs": [
    {
     "name": "stdout",
     "output_type": "stream",
     "text": [
      "Hello\n"
     ]
    }
   ],
   "source": [
    "# we can define string using single quotes as well\n",
    "\n",
    "first = 'Hello'\n",
    "print(first)"
   ]
  },
  {
   "cell_type": "code",
   "execution_count": 28,
   "metadata": {},
   "outputs": [
    {
     "name": "stdout",
     "output_type": "stream",
     "text": [
      "This is a multi-line string\n",
      "and all the character print as is including special\n",
      "and invisible characters such as\n",
      "    tab\n",
      "\n"
     ]
    }
   ],
   "source": [
    "# We can do multi-line strings\n",
    "paragraph = \"\"\"This is a multi-line string\n",
    "and all the character print as is including special\n",
    "and invisible characters such as\n",
    "    tab\n",
    "\"\"\"\n",
    "\n",
    "print(paragraph)"
   ]
  },
  {
   "cell_type": "code",
   "execution_count": 30,
   "metadata": {},
   "outputs": [
    {
     "name": "stdout",
     "output_type": "stream",
     "text": [
      "This is a multi-line string\n",
      "and all the character print as is including special\n",
      "and invisible characters such as\n",
      "    tab\n",
      "\n"
     ]
    }
   ],
   "source": [
    "# Let us do it again with single quotes\n",
    "first = '''This is a multi-line string\n",
    "and all the character print as is including special\n",
    "and invisible characters such as\n",
    "    tab\n",
    "'''\n",
    "\n",
    "print(first)"
   ]
  },
  {
   "cell_type": "code",
   "execution_count": 31,
   "metadata": {},
   "outputs": [
    {
     "data": {
      "text/plain": [
       "121"
      ]
     },
     "execution_count": 31,
     "metadata": {},
     "output_type": "execute_result"
    }
   ],
   "source": [
    "first = '''This is a multi-line string\n",
    "and all the character print as is including special\n",
    "and invisible characters such as\n",
    "    tab\n",
    "'''\n",
    "\n",
    "# Let us find the length of a string\n",
    "len(first)"
   ]
  },
  {
   "cell_type": "code",
   "execution_count": 33,
   "metadata": {},
   "outputs": [
    {
     "name": "stdout",
     "output_type": "stream",
     "text": [
      "o\n",
      "l\n"
     ]
    }
   ],
   "source": [
    "first = \"Hello\"\n",
    "\n",
    "# we can do negative indexing, the string referenced from the end\n",
    "print(first[-1])\n",
    "print(first[-2])"
   ]
  },
  {
   "cell_type": "code",
   "execution_count": 36,
   "metadata": {},
   "outputs": [
    {
     "name": "stdout",
     "output_type": "stream",
     "text": [
      "Hello Hello Hello Hello Hello \n",
      "Hello Hello Hello Hello Hello \n"
     ]
    }
   ],
   "source": [
    "first = \"Hello \"\n",
    "second = 5 * first\n",
    "\n",
    "print(second)\n",
    "\n",
    "second = first * 5\n",
    "print(second)"
   ]
  },
  {
   "cell_type": "code",
   "execution_count": 44,
   "metadata": {},
   "outputs": [
    {
     "name": "stdout",
     "output_type": "stream",
     "text": [
      "string\n",
      "srn\n",
      "his is a \n",
      "rin\n",
      "sasrn\n"
     ]
    }
   ],
   "source": [
    "some_string = \"This is a string\"\n",
    "\n",
    "# we can slice as we did for lists, all these produce new string objects\n",
    "\n",
    "# slice from 10th index till the last\n",
    "print(some_string[10:])\n",
    "\n",
    "# slice from 10th index till the last, printing every other character\n",
    "print(some_string[10::2])\n",
    "\n",
    "# slice from 1st index until 10th index (10th index will not be included)\n",
    "print(some_string[1:10])\n",
    "\n",
    "# slice from 4th index from the end till the last character but not including the last index\n",
    "print(some_string[-4:-1])\n",
    "\n",
    "# slice from 4th index from the end till the last character but not including the last index\n",
    "# slice every other character\n",
    "print(some_string[-10:-1:2])\n"
   ]
  },
  {
   "cell_type": "code",
   "execution_count": 2,
   "metadata": {},
   "outputs": [
    {
     "name": "stdout",
     "output_type": "stream",
     "text": [
      "THIS IS A STRING\n",
      "this is a string\n"
     ]
    }
   ],
   "source": [
    "some_string = \"This is a string\"\n",
    "print(some_string.upper())\n",
    "print(some_string.lower())"
   ]
  },
  {
   "cell_type": "code",
   "execution_count": 6,
   "metadata": {},
   "outputs": [
    {
     "name": "stdout",
     "output_type": "stream",
     "text": [
      "True\n",
      "True\n",
      "True\n",
      "True\n",
      "True\n",
      "True\n",
      "False\n",
      "True\n"
     ]
    }
   ],
   "source": [
    "# let us check string equality\n",
    "\n",
    "a = \"Hello\"\n",
    "b = \"Hello\"\n",
    "c = a\n",
    "\n",
    "# equality\n",
    "print(a == b)\n",
    "print(a == c)\n",
    "\n",
    "# object identity\n",
    "print(a is b)\n",
    "print(a is c)\n",
    "\n",
    "a = \"This is another string. Something is going on\"\n",
    "b = \"This is another string. Something is going on\"\n",
    "c = a\n",
    "\n",
    "# equality\n",
    "print(a == b)\n",
    "print(a == c)\n",
    "\n",
    "# object identity\n",
    "print(a is b)\n",
    "print(a is c)"
   ]
  },
  {
   "cell_type": "code",
   "execution_count": 15,
   "metadata": {},
   "outputs": [
    {
     "name": "stdout",
     "output_type": "stream",
     "text": [
      "first > second = False\n",
      "first >= second = False\n",
      "first < second = True\n",
      "first <= second = True\n",
      "first != second = True\n",
      "first == second = False\n",
      "first is second = False\n",
      "first is not second = True\n"
     ]
    }
   ],
   "source": [
    "# Let us perform some string functions, check out help(str) for more documentation\n",
    "\n",
    "first = \"abc\"\n",
    "second = \"def\"\n",
    "\n",
    "print(f\"first > second = {first > second}\")\n",
    "print(f\"first >= second = {first >= second}\")\n",
    "print(f\"first < second = {first < second}\")\n",
    "print(f\"first <= second = {first <= second}\")\n",
    "print(f\"first != second = {first != second}\")\n",
    "print(f\"first == second = {first == second}\")\n",
    "print(f\"first is second = {first is second}\")\n",
    "print(f\"first is not second = {first is not second}\")"
   ]
  },
  {
   "cell_type": "code",
   "execution_count": 26,
   "metadata": {},
   "outputs": [
    {
     "name": "stdout",
     "output_type": "stream",
     "text": [
      "28\n"
     ]
    }
   ],
   "source": [
    "second = \"This is another string, Let us do something more and find out\"\n",
    "size = second.__sizeof__()\n",
    "print(hashcode)"
   ]
  },
  {
   "cell_type": "code",
   "execution_count": 33,
   "metadata": {},
   "outputs": [
    {
     "name": "stdout",
     "output_type": "stream",
     "text": [
      "8\n",
      "This is other string, Let us do something more and find out\n"
     ]
    }
   ],
   "source": [
    "print(second.find(\"another\"))\n",
    "print(second.replace(\"another\", \"other\"))"
   ]
  },
  {
   "cell_type": "code",
   "execution_count": 39,
   "metadata": {},
   "outputs": [
    {
     "name": "stdout",
     "output_type": "stream",
     "text": [
      "True\n",
      "True\n",
      "True\n"
     ]
    }
   ],
   "source": [
    "alpha = \"abcdef\"\n",
    "number = \"1234\"\n",
    "alphanumeric = \"abc123\"\n",
    "print(alpha.isalpha())\n",
    "print(number.isdigit())\n",
    "print(alphanumeric.isalnum())"
   ]
  },
  {
   "cell_type": "code",
   "execution_count": 55,
   "metadata": {},
   "outputs": [
    {
     "name": "stdout",
     "output_type": "stream",
     "text": [
      "This is just a string\n",
      "This-is-just-a-string\n",
      "This#is#just#a#string\n",
      "['This', 'is', 'just', 'a', 'string']\n",
      "['This', 'is', 'just', 'a', 'string']\n",
      "['This', 'is', 'just', 'a', 'string']\n"
     ]
    }
   ],
   "source": [
    "lst = ['This', 'is', 'just', 'a', 'string']\n",
    "\n",
    "space = ' '.join(lst)\n",
    "print(space)\n",
    "\n",
    "hyphen = '-'.join(lst)\n",
    "print(hyphen)\n",
    "\n",
    "pound = '#'.join(lst)\n",
    "print(pound)\n",
    "\n",
    "# Let us split again\n",
    "print(space.split(' '))\n",
    "print(hyphen.split('-'))\n",
    "print(pound.split('#'))\n"
   ]
  },
  {
   "cell_type": "code",
   "execution_count": 53,
   "metadata": {},
   "outputs": [
    {
     "name": "stdout",
     "output_type": "stream",
     "text": [
      "one\n",
      "two\n",
      "one two\n"
     ]
    }
   ],
   "source": [
    "front_space = \" one\"\n",
    "end_space = \"two \"\n",
    "front_end_space = \" one two \"\n",
    "\n",
    "print(front_space.lstrip())\n",
    "print(end_space.rstrip())\n",
    "print(front_end_space.strip())"
   ]
  },
  {
   "cell_type": "code",
   "execution_count": 59,
   "metadata": {},
   "outputs": [
    {
     "name": "stdout",
     "output_type": "stream",
     "text": [
      "1234 <class 'str'>\n",
      "1234\n"
     ]
    }
   ],
   "source": [
    "formatted_string = '{}{}{}{}'\n",
    "string = formatted_string.format(1, 2, 3, 4)\n",
    "print(string, type(string))\n",
    "\n",
    "one = 1\n",
    "two = 2\n",
    "three = 3\n",
    "four = 4\n",
    "f_str = f\"{one}{two}{three}{four}\"\n",
    "print(f_str)"
   ]
  }
 ],
 "metadata": {
  "kernelspec": {
   "display_name": "Python 3",
   "language": "python",
   "name": "python3"
  },
  "language_info": {
   "codemirror_mode": {
    "name": "ipython",
    "version": 3
   },
   "file_extension": ".py",
   "mimetype": "text/x-python",
   "name": "python",
   "nbconvert_exporter": "python",
   "pygments_lexer": "ipython3",
   "version": "3.7.2"
  }
 },
 "nbformat": 4,
 "nbformat_minor": 2
}
