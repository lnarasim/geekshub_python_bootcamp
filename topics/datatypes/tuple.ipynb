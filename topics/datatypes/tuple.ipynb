{
 "cells": [
  {
   "cell_type": "code",
   "execution_count": 2,
   "metadata": {},
   "outputs": [
    {
     "name": "stdout",
     "output_type": "stream",
     "text": [
      "Help on class tuple in module builtins:\n",
      "\n",
      "class tuple(object)\n",
      " |  tuple(iterable=(), /)\n",
      " |  \n",
      " |  Built-in immutable sequence.\n",
      " |  \n",
      " |  If no argument is given, the constructor returns an empty tuple.\n",
      " |  If iterable is specified the tuple is initialized from iterable's items.\n",
      " |  \n",
      " |  If the argument is a tuple, the return value is the same object.\n",
      " |  \n",
      " |  Methods defined here:\n",
      " |  \n",
      " |  __add__(self, value, /)\n",
      " |      Return self+value.\n",
      " |  \n",
      " |  __contains__(self, key, /)\n",
      " |      Return key in self.\n",
      " |  \n",
      " |  __eq__(self, value, /)\n",
      " |      Return self==value.\n",
      " |  \n",
      " |  __ge__(self, value, /)\n",
      " |      Return self>=value.\n",
      " |  \n",
      " |  __getattribute__(self, name, /)\n",
      " |      Return getattr(self, name).\n",
      " |  \n",
      " |  __getitem__(self, key, /)\n",
      " |      Return self[key].\n",
      " |  \n",
      " |  __getnewargs__(self, /)\n",
      " |  \n",
      " |  __gt__(self, value, /)\n",
      " |      Return self>value.\n",
      " |  \n",
      " |  __hash__(self, /)\n",
      " |      Return hash(self).\n",
      " |  \n",
      " |  __iter__(self, /)\n",
      " |      Implement iter(self).\n",
      " |  \n",
      " |  __le__(self, value, /)\n",
      " |      Return self<=value.\n",
      " |  \n",
      " |  __len__(self, /)\n",
      " |      Return len(self).\n",
      " |  \n",
      " |  __lt__(self, value, /)\n",
      " |      Return self<value.\n",
      " |  \n",
      " |  __mul__(self, value, /)\n",
      " |      Return self*value.\n",
      " |  \n",
      " |  __ne__(self, value, /)\n",
      " |      Return self!=value.\n",
      " |  \n",
      " |  __repr__(self, /)\n",
      " |      Return repr(self).\n",
      " |  \n",
      " |  __rmul__(self, value, /)\n",
      " |      Return value*self.\n",
      " |  \n",
      " |  count(self, value, /)\n",
      " |      Return number of occurrences of value.\n",
      " |  \n",
      " |  index(self, value, start=0, stop=2147483647, /)\n",
      " |      Return first index of value.\n",
      " |      \n",
      " |      Raises ValueError if the value is not present.\n",
      " |  \n",
      " |  ----------------------------------------------------------------------\n",
      " |  Static methods defined here:\n",
      " |  \n",
      " |  __new__(*args, **kwargs) from builtins.type\n",
      " |      Create and return a new object.  See help(type) for accurate signature.\n",
      "\n"
     ]
    }
   ],
   "source": [
    "help(tuple)"
   ]
  },
  {
   "cell_type": "code",
   "execution_count": 4,
   "metadata": {},
   "outputs": [
    {
     "name": "stdout",
     "output_type": "stream",
     "text": [
      "(1, 2, 3)\n"
     ]
    }
   ],
   "source": [
    "# Tuple is defined by comma\n",
    "t = 1, 2, 3\n",
    "\n",
    "print(t)"
   ]
  },
  {
   "cell_type": "code",
   "execution_count": 5,
   "metadata": {},
   "outputs": [
    {
     "name": "stdout",
     "output_type": "stream",
     "text": [
      "(1, 2, 3, 4, 5)\n"
     ]
    }
   ],
   "source": [
    "# We can use paratheses to group, but comma is mandatory\n",
    "t = (1, 2, 3, 4, 5)\n",
    "print(t)"
   ]
  },
  {
   "cell_type": "code",
   "execution_count": 6,
   "metadata": {},
   "outputs": [
    {
     "name": "stdout",
     "output_type": "stream",
     "text": [
      "(1, 2.1, '3', False, True)\n"
     ]
    }
   ],
   "source": [
    "# like list, tuple can have any object\n",
    "t = (1, 2.1, '3', False, True)\n",
    "\n",
    "print(t)"
   ]
  },
  {
   "cell_type": "code",
   "execution_count": 8,
   "metadata": {},
   "outputs": [
    {
     "name": "stdout",
     "output_type": "stream",
     "text": [
      "1\n",
      "2.1\n",
      "False\n"
     ]
    }
   ],
   "source": [
    "a = (1, 2.1, '3', False, True)\n",
    "\n",
    "print(a[0])\n",
    "print(a[1])\n",
    "print(a[3])"
   ]
  },
  {
   "cell_type": "code",
   "execution_count": 18,
   "metadata": {},
   "outputs": [
    {
     "name": "stdout",
     "output_type": "stream",
     "text": [
      "() <class 'tuple'>\n",
      "() <class 'tuple'>\n",
      "() <class 'tuple'>\n",
      "() <class 'tuple'>\n",
      "() <class 'tuple'>\n"
     ]
    }
   ],
   "source": [
    "empty = ()\n",
    "print(empty, type(empty))\n",
    "\n",
    "empty = tuple()\n",
    "print(empty, type(empty))\n",
    "\n",
    "empty = tuple([])\n",
    "print(empty, type(empty))\n",
    "\n",
    "empty = tuple({})\n",
    "print(empty, type(empty))\n",
    "\n",
    "empty = tuple(set())\n",
    "print(empty, type(empty))"
   ]
  },
  {
   "cell_type": "code",
   "execution_count": 21,
   "metadata": {},
   "outputs": [
    {
     "name": "stdout",
     "output_type": "stream",
     "text": [
      "(1, 2, 3) <class 'tuple'>\n",
      "(1, 2, 3) <class 'tuple'>\n",
      "('key1', 'key2', 'key3') <class 'tuple'>\n",
      "(1, 2, 3) <class 'tuple'>\n",
      "(('key1', 1), ('key2', 2), ('key3', 3)) <class 'tuple'>\n",
      "(1, 2, 3, 4) <class 'tuple'>\n"
     ]
    }
   ],
   "source": [
    "numbers = (1, 2, 3)\n",
    "print(numbers, type(numbers))\n",
    "\n",
    "numbers = tuple([1, 2, 3])\n",
    "print(numbers, type(numbers))\n",
    "\n",
    "numbers = tuple({'key1': 1, 'key2': 2, 'key3': 3})\n",
    "print(numbers, type(numbers))\n",
    "\n",
    "numbers = tuple({'key1': 1, 'key2': 2, 'key3': 3}.values())\n",
    "print(numbers, type(numbers))\n",
    "\n",
    "numbers = tuple({'key1': 1, 'key2': 2, 'key3': 3}.items())\n",
    "print(numbers, type(numbers))\n",
    "\n",
    "numbers = tuple(set({1, 2, 3, 4}))\n",
    "print(numbers, type(numbers))"
   ]
  },
  {
   "cell_type": "code",
   "execution_count": 22,
   "metadata": {},
   "outputs": [
    {
     "name": "stdout",
     "output_type": "stream",
     "text": [
      "1\n",
      "2\n",
      "3\n",
      "4\n",
      "5\n"
     ]
    }
   ],
   "source": [
    "numbers = (1, 2, 3, 4, 5)\n",
    "\n",
    "for number in numbers:\n",
    "    print(number)"
   ]
  },
  {
   "cell_type": "code",
   "execution_count": 25,
   "metadata": {},
   "outputs": [
    {
     "name": "stdout",
     "output_type": "stream",
     "text": [
      "([-2, -1], [0], [1, 2, 3])\n",
      "([-2, -1, -4], [0], [1, 2, 3])\n"
     ]
    }
   ],
   "source": [
    "# Cannot modify a tuple\n",
    "numbers = (1, 2, 3)\n",
    "# numbers[0] = 3 # cannot do this\n",
    "\n",
    "# But can modify mutable object in tuple, so beware\n",
    "numbers = ([-2, -1,], [0], [1, 2, 3])\n",
    "print(numbers)\n",
    "numbers[0].append(-4)\n",
    "print(numbers)"
   ]
  },
  {
   "cell_type": "code",
   "execution_count": 27,
   "metadata": {},
   "outputs": [
    {
     "name": "stdout",
     "output_type": "stream",
     "text": [
      "(2, 4, 6, 8, 10)\n",
      "(1, 3, 5, 7, 9)\n",
      "(2, 4, 6, 8, 10, 1, 3, 5, 7, 9)\n",
      "(2, 4, 6, 8, 10)\n",
      "(1, 3, 5, 7, 9)\n",
      "(2, 4, 6, 8, 10, 1, 3, 5, 7, 9)\n"
     ]
    }
   ],
   "source": [
    "even = (2, 4, 6, 8, 10)\n",
    "odd = (1, 3, 5, 7, 9)\n",
    "\n",
    "# this creates the new tuple\n",
    "numbers = even + odd\n",
    "print(even)\n",
    "print(odd)\n",
    "print(numbers)\n",
    "\n",
    "numbers = []\n",
    "# this does the same\n",
    "numbers = even.__add__(odd)\n",
    "print(even)\n",
    "print(odd)\n",
    "print(numbers)"
   ]
  },
  {
   "cell_type": "code",
   "execution_count": 28,
   "metadata": {},
   "outputs": [
    {
     "name": "stdout",
     "output_type": "stream",
     "text": [
      "True\n",
      "False\n",
      "False\n",
      "True\n",
      "True\n",
      "True\n",
      "True\n"
     ]
    }
   ],
   "source": [
    "even = (2, 4, 6, 8, 10)\n",
    "another_even = (2, 4, 6, 8, 10)\n",
    "yet_another_even = (2, 4, 6, 8, 10, 12)\n",
    "\n",
    "print(even == another_even)\n",
    "print(another_even == yet_another_even)\n",
    "print(even < another_even)\n",
    "print(even <= another_even)\n",
    "print(another_even < yet_another_even)\n",
    "print(another_even <= yet_another_even)\n",
    "print(another_even != yet_another_even)"
   ]
  },
  {
   "cell_type": "code",
   "execution_count": 31,
   "metadata": {},
   "outputs": [
    {
     "name": "stdout",
     "output_type": "stream",
     "text": [
      "4\n",
      "(2, 4, 6, 8, 10)\n"
     ]
    }
   ],
   "source": [
    "a_tuple = (2, 4, 6, 8, 10)\n",
    "\n",
    "# just inspects and returns element at index one\n",
    "# which is equivalent to accessing a_list[1]\n",
    "\n",
    "print(a_tuple.__getitem__(1)) \n",
    "print(a_tuple)"
   ]
  },
  {
   "cell_type": "code",
   "execution_count": 32,
   "metadata": {},
   "outputs": [
    {
     "ename": "IndexError",
     "evalue": "tuple index out of range",
     "output_type": "error",
     "traceback": [
      "\u001b[1;31m---------------------------------------------------------------------------\u001b[0m",
      "\u001b[1;31mIndexError\u001b[0m                                Traceback (most recent call last)",
      "\u001b[1;32m<ipython-input-32-8bf209248a6a>\u001b[0m in \u001b[0;36m<module>\u001b[1;34m\u001b[0m\n\u001b[0;32m      1\u001b[0m \u001b[0ma_tuple\u001b[0m \u001b[1;33m=\u001b[0m \u001b[1;33m(\u001b[0m\u001b[1;36m2\u001b[0m\u001b[1;33m,\u001b[0m \u001b[1;36m4\u001b[0m\u001b[1;33m,\u001b[0m \u001b[1;36m6\u001b[0m\u001b[1;33m,\u001b[0m \u001b[1;36m8\u001b[0m\u001b[1;33m,\u001b[0m \u001b[1;36m10\u001b[0m\u001b[1;33m)\u001b[0m\u001b[1;33m\u001b[0m\u001b[1;33m\u001b[0m\u001b[0m\n\u001b[0;32m      2\u001b[0m \u001b[1;31m# throws an error when we try to retrieve index that does not exist\u001b[0m\u001b[1;33m\u001b[0m\u001b[1;33m\u001b[0m\u001b[1;33m\u001b[0m\u001b[0m\n\u001b[1;32m----> 3\u001b[1;33m \u001b[0mprint\u001b[0m\u001b[1;33m(\u001b[0m\u001b[0ma_tuple\u001b[0m\u001b[1;33m.\u001b[0m\u001b[0m__getitem__\u001b[0m\u001b[1;33m(\u001b[0m\u001b[1;36m10\u001b[0m\u001b[1;33m)\u001b[0m\u001b[1;33m)\u001b[0m\u001b[1;33m\u001b[0m\u001b[1;33m\u001b[0m\u001b[0m\n\u001b[0m\u001b[0;32m      4\u001b[0m \u001b[0mprint\u001b[0m\u001b[1;33m(\u001b[0m\u001b[0ma_tuple\u001b[0m\u001b[1;33m)\u001b[0m\u001b[1;33m\u001b[0m\u001b[1;33m\u001b[0m\u001b[0m\n",
      "\u001b[1;31mIndexError\u001b[0m: tuple index out of range"
     ]
    }
   ],
   "source": [
    "a_tuple = (2, 4, 6, 8, 10)\n",
    "# throws an error when we try to retrieve index that does not exist\n",
    "print(a_tuple.__getitem__(10)) \n",
    "print(a_tuple)"
   ]
  },
  {
   "cell_type": "code",
   "execution_count": 35,
   "metadata": {},
   "outputs": [
    {
     "name": "stdout",
     "output_type": "stream",
     "text": [
      "(2, 3)\n",
      "(2, 3, 2, 3, 2, 3, 2, 3, 2, 3)\n",
      "(2, 3)\n",
      "(2, 3, 2, 3, 2, 3, 2, 3, 2, 3)\n"
     ]
    }
   ],
   "source": [
    "a_tuple = (2, 3)\n",
    "mul_tuple = a_tuple * 5\n",
    "\n",
    "print(a_tuple)\n",
    "print(mul_tuple)\n",
    "\n",
    "mul_tuple = 5 * a_tuple\n",
    "\n",
    "print(a_tuple)\n",
    "print(mul_tuple)"
   ]
  },
  {
   "cell_type": "code",
   "execution_count": 37,
   "metadata": {},
   "outputs": [
    {
     "name": "stdout",
     "output_type": "stream",
     "text": [
      "2\n",
      "10\n",
      "(2, 3)\n"
     ]
    }
   ],
   "source": [
    "a_tuple = (2, 3)\n",
    "mul_tuple = a_tuple * 5\n",
    "\n",
    "# find length of the list\n",
    "print(len(a_tuple))\n",
    "print(len(mul_tuple))\n",
    "\n",
    "# repr of list\n",
    "print(repr(a_tuple))"
   ]
  },
  {
   "cell_type": "code",
   "execution_count": 38,
   "metadata": {},
   "outputs": [
    {
     "name": "stdout",
     "output_type": "stream",
     "text": [
      "20\n",
      "52\n",
      "36\n",
      "68\n"
     ]
    }
   ],
   "source": [
    "a_tuple = (2, 3)\n",
    "mul_tuple = a_tuple * 5\n",
    "\n",
    "# gets the size of list object in bytes\n",
    "print(a_tuple.__sizeof__())\n",
    "print(mul_tuple.__sizeof__())\n",
    "\n",
    "# sys.getsizeof() that includes garbage collector overhead\n",
    "import sys\n",
    "print(sys.getsizeof(a_tuple))\n",
    "print(sys.getsizeof(mul_tuple))"
   ]
  },
  {
   "cell_type": "code",
   "execution_count": 40,
   "metadata": {},
   "outputs": [
    {
     "ename": "TypeError",
     "evalue": "'tuple' object does not support item deletion",
     "output_type": "error",
     "traceback": [
      "\u001b[1;31m---------------------------------------------------------------------------\u001b[0m",
      "\u001b[1;31mTypeError\u001b[0m                                 Traceback (most recent call last)",
      "\u001b[1;32m<ipython-input-40-0fd4e89b7346>\u001b[0m in \u001b[0;36m<module>\u001b[1;34m\u001b[0m\n\u001b[1;32m----> 1\u001b[1;33m \u001b[1;32mdel\u001b[0m \u001b[0ma\u001b[0m\u001b[1;33m[\u001b[0m\u001b[1;33m:\u001b[0m\u001b[1;33m:\u001b[0m\u001b[1;33m]\u001b[0m\u001b[1;33m\u001b[0m\u001b[1;33m\u001b[0m\u001b[0m\n\u001b[0m",
      "\u001b[1;31mTypeError\u001b[0m: 'tuple' object does not support item deletion"
     ]
    }
   ],
   "source": []
  },
  {
   "cell_type": "code",
   "execution_count": 42,
   "metadata": {},
   "outputs": [
    {
     "name": "stdout",
     "output_type": "stream",
     "text": [
      "2\n",
      "4\n"
     ]
    }
   ],
   "source": [
    "a_tuple = (1, 2, 3, 4, 5, 5, 4)\n",
    "\n",
    "# count the number of occurences of the value\n",
    "print(a_tuple.count(4))\n",
    "\n",
    "# get the index of an object\n",
    "print(a_tuple.index(5))\n",
    "# print(a_tuple.index(50)) # throws an error"
   ]
  },
  {
   "cell_type": "code",
   "execution_count": 43,
   "metadata": {},
   "outputs": [
    {
     "name": "stdout",
     "output_type": "stream",
     "text": [
      "4\n"
     ]
    }
   ],
   "source": [
    "a_tuple = (1, 2, 3, 4, 5, 5, 4)\n",
    "print(a_tuple.index(5))"
   ]
  },
  {
   "cell_type": "code",
   "execution_count": 46,
   "metadata": {},
   "outputs": [
    {
     "name": "stdout",
     "output_type": "stream",
     "text": [
      "(0, 1, 2, 3, 4, 5, 6, 7, 8, 9, 10, 11, 12, 13, 14, 15, 16, 17, 18, 19)\n",
      "(1, 2, 3, 4, 5, 6, 7, 8, 9, 10, 11, 12, 13, 14, 15, 16, 17, 18, 19)\n",
      "(16, 17, 18)\n",
      "(0, 2, 4, 6, 8, 10, 12, 14, 16, 18)\n",
      "(1, 3, 5, 7, 9, 11, 13, 15, 17, 19)\n",
      "(19, 18, 17, 16, 15, 14, 13, 12, 11, 10, 9, 8, 7, 6, 5, 4, 3, 2, 1, 0)\n",
      "(0, 1, 2, 3, 4, 5, 6, 7, 8, 9, 10, 11, 12, 13, 14, 15, 16, 17, 18, 19)\n"
     ]
    }
   ],
   "source": [
    " # Slicing, pretty much like list\n",
    "\n",
    "a = tuple(range(0, 20))\n",
    "\n",
    "print(a) # just print the list\n",
    "\n",
    "# all slice operations return new list\n",
    "print(a[1:]) # slice from first index to end of list\n",
    "print(a[-4:-1]) # slice from the fourth element from the end until last element, excluding the last\n",
    "print(a[::2]) # slice from the beginning to end skipping every other element\n",
    "print(a[1::2]) # slice from the second element to end skipping every other element\n",
    "print(a[::-1]) # slice from the last to first backwards - reverse\n",
    "print(a)"
   ]
  },
  {
   "cell_type": "code",
   "execution_count": null,
   "metadata": {},
   "outputs": [],
   "source": []
  }
 ],
 "metadata": {
  "kernelspec": {
   "display_name": "Python 3",
   "language": "python",
   "name": "python3"
  },
  "language_info": {
   "codemirror_mode": {
    "name": "ipython",
    "version": 3
   },
   "file_extension": ".py",
   "mimetype": "text/x-python",
   "name": "python",
   "nbconvert_exporter": "python",
   "pygments_lexer": "ipython3",
   "version": "3.7.3"
  }
 },
 "nbformat": 4,
 "nbformat_minor": 2
}
