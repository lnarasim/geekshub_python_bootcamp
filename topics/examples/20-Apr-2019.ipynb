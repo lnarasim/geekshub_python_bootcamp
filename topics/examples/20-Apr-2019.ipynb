{
 "cells": [
  {
   "cell_type": "code",
   "execution_count": 1,
   "metadata": {},
   "outputs": [
    {
     "data": {
      "text/plain": [
       "{'__name__': '__main__',\n",
       " '__doc__': 'Automatically created module for IPython interactive environment',\n",
       " '__package__': None,\n",
       " '__loader__': None,\n",
       " '__spec__': None,\n",
       " '__builtin__': <module 'builtins' (built-in)>,\n",
       " '__builtins__': <module 'builtins' (built-in)>,\n",
       " '_ih': ['', 'globals()'],\n",
       " '_oh': {},\n",
       " '_dh': ['C:\\\\Users\\\\lnarasim\\\\github\\\\geekshub_python_bootcamp\\\\topics\\\\examples'],\n",
       " 'In': ['', 'globals()'],\n",
       " 'Out': {},\n",
       " 'get_ipython': <bound method InteractiveShell.get_ipython of <ipykernel.zmqshell.ZMQInteractiveShell object at 0x04827410>>,\n",
       " 'exit': <IPython.core.autocall.ZMQExitAutocall at 0x4a73890>,\n",
       " 'quit': <IPython.core.autocall.ZMQExitAutocall at 0x4a73890>,\n",
       " '_': '',\n",
       " '__': '',\n",
       " '___': '',\n",
       " '_i': '',\n",
       " '_ii': '',\n",
       " '_iii': '',\n",
       " '_i1': 'globals()'}"
      ]
     },
     "execution_count": 1,
     "metadata": {},
     "output_type": "execute_result"
    }
   ],
   "source": [
    "globals()"
   ]
  },
  {
   "cell_type": "code",
   "execution_count": 3,
   "metadata": {},
   "outputs": [
    {
     "data": {
      "text/plain": [
       "'__main__'"
      ]
     },
     "execution_count": 3,
     "metadata": {},
     "output_type": "execute_result"
    }
   ],
   "source": [
    "__name__"
   ]
  },
  {
   "cell_type": "code",
   "execution_count": 4,
   "metadata": {},
   "outputs": [],
   "source": [
    "a = 10"
   ]
  },
  {
   "cell_type": "code",
   "execution_count": 5,
   "metadata": {},
   "outputs": [
    {
     "data": {
      "text/plain": [
       "{'__name__': '__main__',\n",
       " '__doc__': 'Automatically created module for IPython interactive environment',\n",
       " '__package__': None,\n",
       " '__loader__': None,\n",
       " '__spec__': None,\n",
       " '__builtin__': <module 'builtins' (built-in)>,\n",
       " '__builtins__': <module 'builtins' (built-in)>,\n",
       " '_ih': ['',\n",
       "  'globals()',\n",
       "  'globals()[__name__]',\n",
       "  '__name__',\n",
       "  'a = 10',\n",
       "  'globals()'],\n",
       " '_oh': {1: {...}, 3: '__main__'},\n",
       " '_dh': ['C:\\\\Users\\\\lnarasim\\\\github\\\\geekshub_python_bootcamp\\\\topics\\\\examples'],\n",
       " 'In': ['',\n",
       "  'globals()',\n",
       "  'globals()[__name__]',\n",
       "  '__name__',\n",
       "  'a = 10',\n",
       "  'globals()'],\n",
       " 'Out': {1: {...}, 3: '__main__'},\n",
       " 'get_ipython': <bound method InteractiveShell.get_ipython of <ipykernel.zmqshell.ZMQInteractiveShell object at 0x04827410>>,\n",
       " 'exit': <IPython.core.autocall.ZMQExitAutocall at 0x4a73890>,\n",
       " 'quit': <IPython.core.autocall.ZMQExitAutocall at 0x4a73890>,\n",
       " '_': '__main__',\n",
       " '__': {...},\n",
       " '___': '',\n",
       " '_i': 'a = 10',\n",
       " '_ii': '__name__',\n",
       " '_iii': 'globals()[__name__]',\n",
       " '_i1': 'globals()',\n",
       " '_1': {...},\n",
       " '_i2': 'globals()[__name__]',\n",
       " '_i3': '__name__',\n",
       " '_3': '__main__',\n",
       " '_i4': 'a = 10',\n",
       " 'a': 10,\n",
       " '_i5': 'globals()'}"
      ]
     },
     "execution_count": 5,
     "metadata": {},
     "output_type": "execute_result"
    }
   ],
   "source": [
    "globals()"
   ]
  },
  {
   "cell_type": "code",
   "execution_count": 6,
   "metadata": {},
   "outputs": [],
   "source": [
    "def func():\n",
    "    pass"
   ]
  },
  {
   "cell_type": "code",
   "execution_count": 7,
   "metadata": {},
   "outputs": [
    {
     "data": {
      "text/plain": [
       "{'__name__': '__main__',\n",
       " '__doc__': 'Automatically created module for IPython interactive environment',\n",
       " '__package__': None,\n",
       " '__loader__': None,\n",
       " '__spec__': None,\n",
       " '__builtin__': <module 'builtins' (built-in)>,\n",
       " '__builtins__': <module 'builtins' (built-in)>,\n",
       " '_ih': ['',\n",
       "  'globals()',\n",
       "  'globals()[__name__]',\n",
       "  '__name__',\n",
       "  'a = 10',\n",
       "  'globals()',\n",
       "  'def func():\\n    pass',\n",
       "  'globals()'],\n",
       " '_oh': {1: {...}, 3: '__main__', 5: {...}},\n",
       " '_dh': ['C:\\\\Users\\\\lnarasim\\\\github\\\\geekshub_python_bootcamp\\\\topics\\\\examples'],\n",
       " 'In': ['',\n",
       "  'globals()',\n",
       "  'globals()[__name__]',\n",
       "  '__name__',\n",
       "  'a = 10',\n",
       "  'globals()',\n",
       "  'def func():\\n    pass',\n",
       "  'globals()'],\n",
       " 'Out': {1: {...}, 3: '__main__', 5: {...}},\n",
       " 'get_ipython': <bound method InteractiveShell.get_ipython of <ipykernel.zmqshell.ZMQInteractiveShell object at 0x04827410>>,\n",
       " 'exit': <IPython.core.autocall.ZMQExitAutocall at 0x4a73890>,\n",
       " 'quit': <IPython.core.autocall.ZMQExitAutocall at 0x4a73890>,\n",
       " '_': {...},\n",
       " '__': '__main__',\n",
       " '___': {...},\n",
       " '_i': 'def func():\\n    pass',\n",
       " '_ii': 'globals()',\n",
       " '_iii': 'a = 10',\n",
       " '_i1': 'globals()',\n",
       " '_1': {...},\n",
       " '_i2': 'globals()[__name__]',\n",
       " '_i3': '__name__',\n",
       " '_3': '__main__',\n",
       " '_i4': 'a = 10',\n",
       " 'a': 10,\n",
       " '_i5': 'globals()',\n",
       " '_5': {...},\n",
       " '_i6': 'def func():\\n    pass',\n",
       " 'func': <function __main__.func()>,\n",
       " '_i7': 'globals()'}"
      ]
     },
     "execution_count": 7,
     "metadata": {},
     "output_type": "execute_result"
    }
   ],
   "source": [
    "globals()"
   ]
  },
  {
   "cell_type": "code",
   "execution_count": 8,
   "metadata": {},
   "outputs": [],
   "source": [
    "f = func"
   ]
  },
  {
   "cell_type": "code",
   "execution_count": 9,
   "metadata": {},
   "outputs": [
    {
     "data": {
      "text/plain": [
       "{'__name__': '__main__',\n",
       " '__doc__': 'Automatically created module for IPython interactive environment',\n",
       " '__package__': None,\n",
       " '__loader__': None,\n",
       " '__spec__': None,\n",
       " '__builtin__': <module 'builtins' (built-in)>,\n",
       " '__builtins__': <module 'builtins' (built-in)>,\n",
       " '_ih': ['',\n",
       "  'globals()',\n",
       "  'globals()[__name__]',\n",
       "  '__name__',\n",
       "  'a = 10',\n",
       "  'globals()',\n",
       "  'def func():\\n    pass',\n",
       "  'globals()',\n",
       "  'f = func',\n",
       "  'globals()'],\n",
       " '_oh': {1: {...}, 3: '__main__', 5: {...}, 7: {...}},\n",
       " '_dh': ['C:\\\\Users\\\\lnarasim\\\\github\\\\geekshub_python_bootcamp\\\\topics\\\\examples'],\n",
       " 'In': ['',\n",
       "  'globals()',\n",
       "  'globals()[__name__]',\n",
       "  '__name__',\n",
       "  'a = 10',\n",
       "  'globals()',\n",
       "  'def func():\\n    pass',\n",
       "  'globals()',\n",
       "  'f = func',\n",
       "  'globals()'],\n",
       " 'Out': {1: {...}, 3: '__main__', 5: {...}, 7: {...}},\n",
       " 'get_ipython': <bound method InteractiveShell.get_ipython of <ipykernel.zmqshell.ZMQInteractiveShell object at 0x04827410>>,\n",
       " 'exit': <IPython.core.autocall.ZMQExitAutocall at 0x4a73890>,\n",
       " 'quit': <IPython.core.autocall.ZMQExitAutocall at 0x4a73890>,\n",
       " '_': {...},\n",
       " '__': {...},\n",
       " '___': '__main__',\n",
       " '_i': 'f = func',\n",
       " '_ii': 'globals()',\n",
       " '_iii': 'def func():\\n    pass',\n",
       " '_i1': 'globals()',\n",
       " '_1': {...},\n",
       " '_i2': 'globals()[__name__]',\n",
       " '_i3': '__name__',\n",
       " '_3': '__main__',\n",
       " '_i4': 'a = 10',\n",
       " 'a': 10,\n",
       " '_i5': 'globals()',\n",
       " '_5': {...},\n",
       " '_i6': 'def func():\\n    pass',\n",
       " 'func': <function __main__.func()>,\n",
       " '_i7': 'globals()',\n",
       " '_7': {...},\n",
       " '_i8': 'f = func',\n",
       " 'f': <function __main__.func()>,\n",
       " '_i9': 'globals()'}"
      ]
     },
     "execution_count": 9,
     "metadata": {},
     "output_type": "execute_result"
    }
   ],
   "source": [
    "globals()"
   ]
  },
  {
   "cell_type": "code",
   "execution_count": 10,
   "metadata": {},
   "outputs": [],
   "source": [
    "f = print"
   ]
  },
  {
   "cell_type": "code",
   "execution_count": 11,
   "metadata": {},
   "outputs": [
    {
     "name": "stdout",
     "output_type": "stream",
     "text": [
      "123\n"
     ]
    }
   ],
   "source": [
    "f(123)"
   ]
  },
  {
   "cell_type": "code",
   "execution_count": 12,
   "metadata": {},
   "outputs": [],
   "source": [
    "def print():\n",
    "    f(\"some one has hijacked me\")"
   ]
  },
  {
   "cell_type": "code",
   "execution_count": 13,
   "metadata": {},
   "outputs": [
    {
     "name": "stdout",
     "output_type": "stream",
     "text": [
      "123\n"
     ]
    }
   ],
   "source": [
    "f(123)"
   ]
  },
  {
   "cell_type": "code",
   "execution_count": 15,
   "metadata": {},
   "outputs": [
    {
     "name": "stdout",
     "output_type": "stream",
     "text": [
      "some one has hijacked me\n"
     ]
    }
   ],
   "source": [
    "print()"
   ]
  },
  {
   "cell_type": "code",
   "execution_count": 1,
   "metadata": {},
   "outputs": [
    {
     "data": {
      "text/plain": [
       "{'__name__': '__main__',\n",
       " '__doc__': 'Automatically created module for IPython interactive environment',\n",
       " '__package__': None,\n",
       " '__loader__': None,\n",
       " '__spec__': None,\n",
       " '__builtin__': <module 'builtins' (built-in)>,\n",
       " '__builtins__': <module 'builtins' (built-in)>,\n",
       " '_ih': ['', 'globals()'],\n",
       " '_oh': {},\n",
       " '_dh': ['C:\\\\Users\\\\lnarasim\\\\github\\\\geekshub_python_bootcamp\\\\topics\\\\examples'],\n",
       " 'In': ['', 'globals()'],\n",
       " 'Out': {},\n",
       " 'get_ipython': <bound method InteractiveShell.get_ipython of <ipykernel.zmqshell.ZMQInteractiveShell object at 0x04A6D570>>,\n",
       " 'exit': <IPython.core.autocall.ZMQExitAutocall at 0x5a018f0>,\n",
       " 'quit': <IPython.core.autocall.ZMQExitAutocall at 0x5a018f0>,\n",
       " '_': '',\n",
       " '__': '',\n",
       " '___': '',\n",
       " '_i': '',\n",
       " '_ii': '',\n",
       " '_iii': '',\n",
       " '_i1': 'globals()'}"
      ]
     },
     "execution_count": 1,
     "metadata": {},
     "output_type": "execute_result"
    }
   ],
   "source": [
    "globals()"
   ]
  },
  {
   "cell_type": "code",
   "execution_count": 2,
   "metadata": {},
   "outputs": [
    {
     "data": {
      "text/plain": [
       "{'__name__': '__main__',\n",
       " '__doc__': 'Automatically created module for IPython interactive environment',\n",
       " '__package__': None,\n",
       " '__loader__': None,\n",
       " '__spec__': None,\n",
       " '__builtin__': <module 'builtins' (built-in)>,\n",
       " '__builtins__': <module 'builtins' (built-in)>,\n",
       " '_ih': ['', 'globals()', 'locals()'],\n",
       " '_oh': {1: {...}},\n",
       " '_dh': ['C:\\\\Users\\\\lnarasim\\\\github\\\\geekshub_python_bootcamp\\\\topics\\\\examples'],\n",
       " 'In': ['', 'globals()', 'locals()'],\n",
       " 'Out': {1: {...}},\n",
       " 'get_ipython': <bound method InteractiveShell.get_ipython of <ipykernel.zmqshell.ZMQInteractiveShell object at 0x04A6D570>>,\n",
       " 'exit': <IPython.core.autocall.ZMQExitAutocall at 0x5a018f0>,\n",
       " 'quit': <IPython.core.autocall.ZMQExitAutocall at 0x5a018f0>,\n",
       " '_': {...},\n",
       " '__': '',\n",
       " '___': '',\n",
       " '_i': 'globals()',\n",
       " '_ii': '',\n",
       " '_iii': '',\n",
       " '_i1': 'globals()',\n",
       " '_1': {...},\n",
       " '_i2': 'locals()'}"
      ]
     },
     "execution_count": 2,
     "metadata": {},
     "output_type": "execute_result"
    }
   ],
   "source": [
    "locals()"
   ]
  },
  {
   "cell_type": "code",
   "execution_count": 3,
   "metadata": {},
   "outputs": [
    {
     "data": {
      "text/plain": [
       "True"
      ]
     },
     "execution_count": 3,
     "metadata": {},
     "output_type": "execute_result"
    }
   ],
   "source": [
    "locals() is globals()"
   ]
  },
  {
   "cell_type": "code",
   "execution_count": 10,
   "metadata": {},
   "outputs": [],
   "source": [
    "def func():\n",
    "    #global a\n",
    "    a = 20\n",
    "    b = 20\n",
    "    print(locals())\n",
    "    print(globals())\n",
    "    "
   ]
  },
  {
   "cell_type": "code",
   "execution_count": 11,
   "metadata": {},
   "outputs": [
    {
     "name": "stdout",
     "output_type": "stream",
     "text": [
      "{'b': 20}\n",
      "{'__name__': '__main__', '__doc__': 'Automatically created module for IPython interactive environment', '__package__': None, '__loader__': None, '__spec__': None, '__builtin__': <module 'builtins' (built-in)>, '__builtins__': <module 'builtins' (built-in)>, '_ih': ['', 'globals()', 'locals()', 'locals() is globals()', 'def func():\\n    a = 10\\n    b = 20\\n    print(locals())', 'func()', 'def func():\\n    a = 10\\n    b = 20\\n    print(locals())\\n    print(globals())', 'func()', 'id(globals())', 'id(locals())', 'def func():\\n    global a\\n    a = 20\\n    b = 20\\n    print(locals())\\n    print(globals())\\n    ', 'func()'], '_oh': {1: {...}, 2: {...}, 3: True, 8: 78060640, 9: 78060640}, '_dh': ['C:\\\\Users\\\\lnarasim\\\\github\\\\geekshub_python_bootcamp\\\\topics\\\\examples'], 'In': ['', 'globals()', 'locals()', 'locals() is globals()', 'def func():\\n    a = 10\\n    b = 20\\n    print(locals())', 'func()', 'def func():\\n    a = 10\\n    b = 20\\n    print(locals())\\n    print(globals())', 'func()', 'id(globals())', 'id(locals())', 'def func():\\n    global a\\n    a = 20\\n    b = 20\\n    print(locals())\\n    print(globals())\\n    ', 'func()'], 'Out': {1: {...}, 2: {...}, 3: True, 8: 78060640, 9: 78060640}, 'get_ipython': <bound method InteractiveShell.get_ipython of <ipykernel.zmqshell.ZMQInteractiveShell object at 0x04A6D570>>, 'exit': <IPython.core.autocall.ZMQExitAutocall object at 0x05A018F0>, 'quit': <IPython.core.autocall.ZMQExitAutocall object at 0x05A018F0>, '_': 78060640, '__': 78060640, '___': True, '_i': 'def func():\\n    global a\\n    a = 20\\n    b = 20\\n    print(locals())\\n    print(globals())\\n    ', '_ii': 'id(locals())', '_iii': 'id(globals())', '_i1': 'globals()', '_1': {...}, '_i2': 'locals()', '_2': {...}, '_i3': 'locals() is globals()', '_3': True, '_i4': 'def func():\\n    a = 10\\n    b = 20\\n    print(locals())', 'func': <function func at 0x05CE6B28>, '_i5': 'func()', '_i6': 'def func():\\n    a = 10\\n    b = 20\\n    print(locals())\\n    print(globals())', '_i7': 'func()', '_i8': 'id(globals())', '_8': 78060640, '_i9': 'id(locals())', '_9': 78060640, '_i10': 'def func():\\n    global a\\n    a = 20\\n    b = 20\\n    print(locals())\\n    print(globals())\\n    ', '_i11': 'func()', 'a': 20}\n"
     ]
    }
   ],
   "source": [
    "func()"
   ]
  },
  {
   "cell_type": "code",
   "execution_count": 8,
   "metadata": {},
   "outputs": [
    {
     "data": {
      "text/plain": [
       "78060640"
      ]
     },
     "execution_count": 8,
     "metadata": {},
     "output_type": "execute_result"
    }
   ],
   "source": [
    "id(globals())"
   ]
  },
  {
   "cell_type": "code",
   "execution_count": 9,
   "metadata": {},
   "outputs": [
    {
     "data": {
      "text/plain": [
       "78060640"
      ]
     },
     "execution_count": 9,
     "metadata": {},
     "output_type": "execute_result"
    }
   ],
   "source": [
    "id(locals())"
   ]
  },
  {
   "cell_type": "code",
   "execution_count": 12,
   "metadata": {},
   "outputs": [],
   "source": [
    "a = True"
   ]
  },
  {
   "cell_type": "code",
   "execution_count": 13,
   "metadata": {},
   "outputs": [
    {
     "data": {
      "text/plain": [
       "2012774464"
      ]
     },
     "execution_count": 13,
     "metadata": {},
     "output_type": "execute_result"
    }
   ],
   "source": [
    "id(a)"
   ]
  },
  {
   "cell_type": "code",
   "execution_count": 14,
   "metadata": {},
   "outputs": [
    {
     "data": {
      "text/plain": [
       "True"
      ]
     },
     "execution_count": 14,
     "metadata": {},
     "output_type": "execute_result"
    }
   ],
   "source": [
    "isinstance(a, int)"
   ]
  },
  {
   "cell_type": "code",
   "execution_count": 15,
   "metadata": {},
   "outputs": [
    {
     "data": {
      "text/plain": [
       "True"
      ]
     },
     "execution_count": 15,
     "metadata": {},
     "output_type": "execute_result"
    }
   ],
   "source": [
    "isinstance(a, bool)"
   ]
  },
  {
   "cell_type": "code",
   "execution_count": 16,
   "metadata": {},
   "outputs": [
    {
     "data": {
      "text/plain": [
       "True"
      ]
     },
     "execution_count": 16,
     "metadata": {},
     "output_type": "execute_result"
    }
   ],
   "source": [
    "issubclass(bool, int)"
   ]
  },
  {
   "cell_type": "code",
   "execution_count": 17,
   "metadata": {},
   "outputs": [
    {
     "ename": "SyntaxError",
     "evalue": "non-default argument follows default argument (<ipython-input-17-47e1d9b49a62>, line 1)",
     "output_type": "error",
     "traceback": [
      "\u001b[1;36m  File \u001b[1;32m\"<ipython-input-17-47e1d9b49a62>\"\u001b[1;36m, line \u001b[1;32m1\u001b[0m\n\u001b[1;33m    def func(a = 10, b, *args):\u001b[0m\n\u001b[1;37m            ^\u001b[0m\n\u001b[1;31mSyntaxError\u001b[0m\u001b[1;31m:\u001b[0m non-default argument follows default argument\n"
     ]
    }
   ],
   "source": [
    "def func(a = 10, b, *args):\n",
    "    print(a, b, args)"
   ]
  },
  {
   "cell_type": "code",
   "execution_count": 29,
   "metadata": {},
   "outputs": [
    {
     "name": "stdout",
     "output_type": "stream",
     "text": [
      "10\n",
      "20\n",
      "()\n",
      "70\n",
      "80\n",
      "{'l1': [30, 40, 50], 'g': 20, 'f': 30}\n"
     ]
    }
   ],
   "source": [
    "def func(a,b,*args,c,d,**kwargs):\n",
    "    print(a)\n",
    "    print(b)\n",
    "    print(args)\n",
    "    print(d)\n",
    "    print(c)\n",
    "    print(kwargs)\n",
    "            \n",
    "\n",
    "func(b = 20,a = 10 ,l1 = [30,40,50], g =20, f = 30,d = 70, c = 80)\n",
    "\n"
   ]
  },
  {
   "cell_type": "code",
   "execution_count": 44,
   "metadata": {},
   "outputs": [
    {
     "name": "stdout",
     "output_type": "stream",
     "text": [
      "[10.0, 20.0, 30.0]\n"
     ]
    }
   ],
   "source": [
    "\n",
    "\n",
    "\n",
    "l1 = \"10, 20, 30\"\n",
    "result = list(map(float,l1.split(\",\")))\n",
    "print(result)"
   ]
  },
  {
   "cell_type": "code",
   "execution_count": 45,
   "metadata": {},
   "outputs": [],
   "source": [
    "# Given a list of radius of different circles, write a map to find out respective areas"
   ]
  },
  {
   "cell_type": "code",
   "execution_count": 46,
   "metadata": {},
   "outputs": [
    {
     "name": "stdout",
     "output_type": "stream",
     "text": [
      "[314.1592653589793, 1256.6370614359173, 2827.4333882308138, 5026.548245743669, 7853.981633974483]\n"
     ]
    }
   ],
   "source": [
    "import math\n",
    "\n",
    "radius = [10, 20, 30, 40, 50]\n",
    "areas = list(map(lambda radius: math.pi * radius * radius, radius))\n",
    "print(areas)"
   ]
  },
  {
   "cell_type": "code",
   "execution_count": 49,
   "metadata": {},
   "outputs": [
    {
     "name": "stdout",
     "output_type": "stream",
     "text": [
      "[20, 60, 120, 200]\n"
     ]
    }
   ],
   "source": [
    "# Given a lists of length and breadh of rectangle, write a map to find out respective areas\n",
    "length = [10, 20, 30, 40]\n",
    "breadh = [2, 3, 4, 5]\n",
    "\n",
    "areas = (list(map(lambda a, b: a * b, length, breadh)))\n",
    "print(areas)"
   ]
  },
  {
   "cell_type": "code",
   "execution_count": 52,
   "metadata": {},
   "outputs": [
    {
     "name": "stdout",
     "output_type": "stream",
     "text": [
      "[(10, 20), (3, 4)]\n"
     ]
    }
   ],
   "source": [
    "# Given a list of tuples that represent the sides of rectangle or square, get the list of tuples that\n",
    "# defines rectangle\n",
    "\n",
    "sides = [(10, 20), (2, 2), (3, 4), (4, 4)]\n",
    "\n",
    "rectangle = list(filter(lambda a : a[0] != a[1], sides))\n",
    "print(rectangle)"
   ]
  },
  {
   "cell_type": "code",
   "execution_count": 53,
   "metadata": {},
   "outputs": [
    {
     "name": "stdout",
     "output_type": "stream",
     "text": [
      "[(2, 2), (4, 4)]\n"
     ]
    }
   ],
   "source": [
    "# Given a list of tuples that represent the sides of rectangle or square, get the list of tuples that\n",
    "# defines square\n",
    "\n",
    "sides = [(10, 20), (2, 2), (3, 4), (4, 4)]\n",
    "\n",
    "square = list(filter(lambda a : a[0] == a[1], sides))\n",
    "print(square)"
   ]
  },
  {
   "cell_type": "code",
   "execution_count": 59,
   "metadata": {},
   "outputs": [],
   "source": [
    "# Given three lists that has principle, number of years and interest rate, calculate the \n",
    "# compound interest.\n",
    "\n",
    "def compound_interest(principle, years, interest):\n",
    "    principle = float(principle)\n",
    "    years = float(years)\n",
    "    interest = float(interest)\n",
    "    \n",
    "    amount = principle * ((1 + interest / 100) ** years)\n",
    "    return amount - principle"
   ]
  },
  {
   "cell_type": "code",
   "execution_count": 60,
   "metadata": {},
   "outputs": [
    {
     "data": {
      "text/plain": [
       "16.640000000000015"
      ]
     },
     "execution_count": 60,
     "metadata": {},
     "output_type": "execute_result"
    }
   ],
   "source": [
    "compound_interest(100, 2, 8)"
   ]
  },
  {
   "cell_type": "code",
   "execution_count": 61,
   "metadata": {},
   "outputs": [
    {
     "data": {
      "text/plain": [
       "25.97120000000001"
      ]
     },
     "execution_count": 61,
     "metadata": {},
     "output_type": "execute_result"
    }
   ],
   "source": [
    "compound_interest(100, 3, 8)"
   ]
  },
  {
   "cell_type": "code",
   "execution_count": 62,
   "metadata": {},
   "outputs": [
    {
     "name": "stdout",
     "output_type": "stream",
     "text": [
      "[123.60000000000014, 621.5920200000005, 1877.3123072000026, 3385.500554205004]\n"
     ]
    }
   ],
   "source": [
    "principle = [1000, 2000, 4000, 5000]\n",
    "years = [2, 4, 5, 6]\n",
    "interest = [6, 7, 8, 9]\n",
    "\n",
    "ci = list(map(compound_interest, principle, years, interest))\n",
    "print(ci)"
   ]
  },
  {
   "cell_type": "code",
   "execution_count": 65,
   "metadata": {},
   "outputs": [
    {
     "name": "stdout",
     "output_type": "stream",
     "text": [
      "[120.0, 560.0, 1600.0, 2700.0]\n"
     ]
    }
   ],
   "source": [
    "def simple_interest(p, n, r):\n",
    "    return (p * n * r)/100\n",
    "\n",
    "principle = [1000, 2000, 4000, 5000]\n",
    "years = [2, 4, 5, 6]\n",
    "interest = [6, 7, 8, 9]\n",
    "\n",
    "si = list(map(simple_interest, principle, years, interest))\n",
    "print(si)"
   ]
  },
  {
   "cell_type": "code",
   "execution_count": 66,
   "metadata": {},
   "outputs": [
    {
     "data": {
      "text/plain": [
       "['12', '123', '1234', '78998']"
      ]
     },
     "execution_count": 66,
     "metadata": {},
     "output_type": "execute_result"
    }
   ],
   "source": [
    "str_ = ['123', '1234', '12', '78998']\n",
    "\n",
    "sorted(str_)"
   ]
  },
  {
   "cell_type": "code",
   "execution_count": 67,
   "metadata": {},
   "outputs": [],
   "source": [
    "str_.sort()"
   ]
  },
  {
   "cell_type": "code",
   "execution_count": 68,
   "metadata": {},
   "outputs": [
    {
     "data": {
      "text/plain": [
       "['12', '123', '1234', '78998']"
      ]
     },
     "execution_count": 68,
     "metadata": {},
     "output_type": "execute_result"
    }
   ],
   "source": [
    "str_"
   ]
  },
  {
   "cell_type": "code",
   "execution_count": 75,
   "metadata": {},
   "outputs": [
    {
     "name": "stdout",
     "output_type": "stream",
     "text": [
      "['123', '2', '13', '18998', '789']\n",
      "['123', '13', '18998', '2', '789']\n",
      "['123', '13', '18998', '2', '789']\n"
     ]
    }
   ],
   "source": [
    "str_ = ['123', '2', '13', '18998', '789']\n",
    "sort_ = sorted(str_)\n",
    "\n",
    "print(str_)\n",
    "print(sort_)\n",
    "str_.sort()\n",
    "print(str_)"
   ]
  },
  {
   "cell_type": "code",
   "execution_count": 76,
   "metadata": {},
   "outputs": [
    {
     "name": "stdout",
     "output_type": "stream",
     "text": [
      "Help on built-in function sorted in module builtins:\n",
      "\n",
      "sorted(iterable, /, *, key=None, reverse=False)\n",
      "    Return a new list containing all items from the iterable in ascending order.\n",
      "    \n",
      "    A custom key function can be supplied to customize the sort order, and the\n",
      "    reverse flag can be set to request the result in descending order.\n",
      "\n"
     ]
    }
   ],
   "source": [
    "help(sorted)"
   ]
  },
  {
   "cell_type": "code",
   "execution_count": 79,
   "metadata": {},
   "outputs": [
    {
     "data": {
      "text/plain": [
       "['2', '13', '123', '789', '18998']"
      ]
     },
     "execution_count": 79,
     "metadata": {},
     "output_type": "execute_result"
    }
   ],
   "source": [
    "sorted(str_, key=len)"
   ]
  },
  {
   "cell_type": "code",
   "execution_count": 81,
   "metadata": {},
   "outputs": [
    {
     "data": {
      "text/plain": [
       "2"
      ]
     },
     "execution_count": 81,
     "metadata": {},
     "output_type": "execute_result"
    }
   ],
   "source": [
    "int('2')"
   ]
  },
  {
   "cell_type": "code",
   "execution_count": 82,
   "metadata": {},
   "outputs": [],
   "source": [
    "c = 2 + 2j"
   ]
  },
  {
   "cell_type": "code",
   "execution_count": 83,
   "metadata": {},
   "outputs": [
    {
     "data": {
      "text/plain": [
       "complex"
      ]
     },
     "execution_count": 83,
     "metadata": {},
     "output_type": "execute_result"
    }
   ],
   "source": [
    "type(c)"
   ]
  },
  {
   "cell_type": "code",
   "execution_count": 84,
   "metadata": {},
   "outputs": [],
   "source": [
    "d = 2 + 4j"
   ]
  },
  {
   "cell_type": "code",
   "execution_count": 85,
   "metadata": {},
   "outputs": [
    {
     "data": {
      "text/plain": [
       "(-4+12j)"
      ]
     },
     "execution_count": 85,
     "metadata": {},
     "output_type": "execute_result"
    }
   ],
   "source": [
    "c * d"
   ]
  },
  {
   "cell_type": "code",
   "execution_count": 86,
   "metadata": {},
   "outputs": [
    {
     "data": {
      "text/plain": [
       "(4+6j)"
      ]
     },
     "execution_count": 86,
     "metadata": {},
     "output_type": "execute_result"
    }
   ],
   "source": [
    "c + d"
   ]
  },
  {
   "cell_type": "code",
   "execution_count": 87,
   "metadata": {},
   "outputs": [
    {
     "data": {
      "text/plain": [
       "-2j"
      ]
     },
     "execution_count": 87,
     "metadata": {},
     "output_type": "execute_result"
    }
   ],
   "source": [
    "c - d"
   ]
  },
  {
   "cell_type": "code",
   "execution_count": 88,
   "metadata": {},
   "outputs": [
    {
     "data": {
      "text/plain": [
       "(0.6-0.2j)"
      ]
     },
     "execution_count": 88,
     "metadata": {},
     "output_type": "execute_result"
    }
   ],
   "source": [
    "c / d"
   ]
  },
  {
   "cell_type": "code",
   "execution_count": 95,
   "metadata": {},
   "outputs": [],
   "source": [
    "def is_prime(number):\n",
    "    \n",
    "    if number <= 1:\n",
    "        raise ValueError()\n",
    "    elif number == 2:\n",
    "        return True\n",
    "    else:\n",
    "        for n in range(2, number):\n",
    "            if number % n == 0:\n",
    "                return False\n",
    "\n",
    "        return True"
   ]
  },
  {
   "cell_type": "code",
   "execution_count": 100,
   "metadata": {},
   "outputs": [
    {
     "name": "stdout",
     "output_type": "stream",
     "text": [
      "[2, 3, 5, 7, 11, 13, 17, 19, 23, 29, 31, 37, 41, 43, 47, 53, 59, 61, 67, 71, 73, 79, 83, 89, 97]\n"
     ]
    }
   ],
   "source": [
    "primes = [x for x in range(2, 100) if is_prime(x)]\n",
    "print(primes)"
   ]
  },
  {
   "cell_type": "code",
   "execution_count": 102,
   "metadata": {},
   "outputs": [
    {
     "name": "stdout",
     "output_type": "stream",
     "text": [
      "[2, 3, 5, 7, 11, 13, 17, 19, 23, 29, 31, 37, 41, 43, 47, 53, 59, 61, 67, 71, 73, 79, 83, 89, 97]\n"
     ]
    }
   ],
   "source": [
    "primes = [x for x in range(2, 100) if all (x % y != 0 for y in range(2, x))]\n",
    "print(primes)"
   ]
  },
  {
   "cell_type": "code",
   "execution_count": null,
   "metadata": {},
   "outputs": [],
   "source": []
  }
 ],
 "metadata": {
  "kernelspec": {
   "display_name": "Python 3",
   "language": "python",
   "name": "python3"
  },
  "language_info": {
   "codemirror_mode": {
    "name": "ipython",
    "version": 3
   },
   "file_extension": ".py",
   "mimetype": "text/x-python",
   "name": "python",
   "nbconvert_exporter": "python",
   "pygments_lexer": "ipython3",
   "version": "3.7.2"
  }
 },
 "nbformat": 4,
 "nbformat_minor": 2
}
