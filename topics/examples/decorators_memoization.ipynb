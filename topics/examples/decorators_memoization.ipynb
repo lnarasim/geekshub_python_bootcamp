{
 "cells": [
  {
   "cell_type": "code",
   "execution_count": 3,
   "metadata": {},
   "outputs": [],
   "source": [
    "def fib(n):\n",
    "    print(f\"Calculatng fib {n}\")\n",
    "    \n",
    "    return 1 if n < 3 else fib(n-1) + fib(n-2)"
   ]
  },
  {
   "cell_type": "code",
   "execution_count": 32,
   "metadata": {},
   "outputs": [
    {
     "name": "stdout",
     "output_type": "stream",
     "text": [
      "Calculatng fib 1\n"
     ]
    },
    {
     "data": {
      "text/plain": [
       "1"
      ]
     },
     "execution_count": 32,
     "metadata": {},
     "output_type": "execute_result"
    }
   ],
   "source": [
    "fib(1)"
   ]
  },
  {
   "cell_type": "code",
   "execution_count": 29,
   "metadata": {},
   "outputs": [],
   "source": [
    "class Fib:\n",
    "    def __init__(self):\n",
    "        self.cache = {1: 1, 2: 1}\n",
    "        \n",
    "    def fib(self, n):\n",
    "        if n not in self.cache:\n",
    "            print(f\"Calculating fib({n})\")\n",
    "            self.cache[n] = self.fib(n-1) + self.fib(n-2)\n",
    "        return self.cache[n]"
   ]
  },
  {
   "cell_type": "code",
   "execution_count": 30,
   "metadata": {},
   "outputs": [],
   "source": [
    "f = Fib()"
   ]
  },
  {
   "cell_type": "code",
   "execution_count": 31,
   "metadata": {},
   "outputs": [
    {
     "name": "stdout",
     "output_type": "stream",
     "text": [
      "Calculating fib(10)\n",
      "Calculating fib(9)\n",
      "Calculating fib(8)\n",
      "Calculating fib(7)\n",
      "Calculating fib(6)\n",
      "Calculating fib(5)\n",
      "Calculating fib(4)\n",
      "Calculating fib(3)\n"
     ]
    },
    {
     "data": {
      "text/plain": [
       "55"
      ]
     },
     "execution_count": 31,
     "metadata": {},
     "output_type": "execute_result"
    }
   ],
   "source": [
    "f.fib(10)"
   ]
  },
  {
   "cell_type": "code",
   "execution_count": 40,
   "metadata": {},
   "outputs": [],
   "source": [
    "def fib():\n",
    "    cache = {1: 1, 2: 1}\n",
    "    \n",
    "    def calc_fib(n):\n",
    "        if n not in cache:\n",
    "            print(f\"Calculating fib({n})\")\n",
    "            cache[n] = calc_fib(n-1) + calc_fib(n-2)  \n",
    "        return cache[n]\n",
    "    \n",
    "    return calc_fib            "
   ]
  },
  {
   "cell_type": "code",
   "execution_count": 41,
   "metadata": {},
   "outputs": [],
   "source": [
    "f = fib()"
   ]
  },
  {
   "cell_type": "code",
   "execution_count": 42,
   "metadata": {},
   "outputs": [
    {
     "name": "stdout",
     "output_type": "stream",
     "text": [
      "Calculating fib(10)\n",
      "Calculating fib(9)\n",
      "Calculating fib(8)\n",
      "Calculating fib(7)\n",
      "Calculating fib(6)\n",
      "Calculating fib(5)\n",
      "Calculating fib(4)\n",
      "Calculating fib(3)\n"
     ]
    },
    {
     "data": {
      "text/plain": [
       "55"
      ]
     },
     "execution_count": 42,
     "metadata": {},
     "output_type": "execute_result"
    }
   ],
   "source": [
    "f(10)"
   ]
  },
  {
   "cell_type": "code",
   "execution_count": 43,
   "metadata": {},
   "outputs": [],
   "source": [
    "g = fib()"
   ]
  },
  {
   "cell_type": "code",
   "execution_count": 44,
   "metadata": {},
   "outputs": [
    {
     "name": "stdout",
     "output_type": "stream",
     "text": [
      "Calculating fib(10)\n",
      "Calculating fib(9)\n",
      "Calculating fib(8)\n",
      "Calculating fib(7)\n",
      "Calculating fib(6)\n",
      "Calculating fib(5)\n",
      "Calculating fib(4)\n",
      "Calculating fib(3)\n"
     ]
    },
    {
     "data": {
      "text/plain": [
       "55"
      ]
     },
     "execution_count": 44,
     "metadata": {},
     "output_type": "execute_result"
    }
   ],
   "source": [
    "g(10)"
   ]
  },
  {
   "cell_type": "code",
   "execution_count": 51,
   "metadata": {},
   "outputs": [],
   "source": [
    "def memoize_fib(fib):\n",
    "    cache = dict()\n",
    "    \n",
    "    def inner(n):\n",
    "        if n not in cache:\n",
    "            cache[n] = fib(n)\n",
    "        return cache[n]\n",
    "    \n",
    "    return inner"
   ]
  },
  {
   "cell_type": "code",
   "execution_count": 52,
   "metadata": {},
   "outputs": [],
   "source": [
    "@memoize_fib\n",
    "def fib(n):\n",
    "    print(f\"Calculatng fib {n}\")    \n",
    "    return 1 if n < 3 else fib(n-1) + fib(n-2)"
   ]
  },
  {
   "cell_type": "code",
   "execution_count": 53,
   "metadata": {},
   "outputs": [
    {
     "name": "stdout",
     "output_type": "stream",
     "text": [
      "Calculatng fib 10\n",
      "Calculatng fib 9\n",
      "Calculatng fib 8\n",
      "Calculatng fib 7\n",
      "Calculatng fib 6\n",
      "Calculatng fib 5\n",
      "Calculatng fib 4\n",
      "Calculatng fib 3\n",
      "Calculatng fib 2\n",
      "Calculatng fib 1\n"
     ]
    },
    {
     "data": {
      "text/plain": [
       "55"
      ]
     },
     "execution_count": 53,
     "metadata": {},
     "output_type": "execute_result"
    }
   ],
   "source": [
    "fib(10)"
   ]
  },
  {
   "cell_type": "code",
   "execution_count": 48,
   "metadata": {},
   "outputs": [
    {
     "name": "stdout",
     "output_type": "stream",
     "text": [
      "Calculatng fib 20\n",
      "Calculatng fib 19\n",
      "Calculatng fib 18\n",
      "Calculatng fib 17\n",
      "Calculatng fib 16\n",
      "Calculatng fib 15\n",
      "Calculatng fib 14\n",
      "Calculatng fib 13\n",
      "Calculatng fib 12\n",
      "Calculatng fib 11\n"
     ]
    },
    {
     "data": {
      "text/plain": [
       "6765"
      ]
     },
     "execution_count": 48,
     "metadata": {},
     "output_type": "execute_result"
    }
   ],
   "source": [
    "fib(20)"
   ]
  },
  {
   "cell_type": "code",
   "execution_count": 49,
   "metadata": {},
   "outputs": [
    {
     "name": "stdout",
     "output_type": "stream",
     "text": [
      "Calculatng fib 40\n",
      "Calculatng fib 39\n",
      "Calculatng fib 38\n",
      "Calculatng fib 37\n",
      "Calculatng fib 36\n",
      "Calculatng fib 35\n",
      "Calculatng fib 34\n",
      "Calculatng fib 33\n",
      "Calculatng fib 32\n",
      "Calculatng fib 31\n",
      "Calculatng fib 30\n",
      "Calculatng fib 29\n",
      "Calculatng fib 28\n",
      "Calculatng fib 27\n",
      "Calculatng fib 26\n",
      "Calculatng fib 25\n",
      "Calculatng fib 24\n",
      "Calculatng fib 23\n",
      "Calculatng fib 22\n",
      "Calculatng fib 21\n"
     ]
    },
    {
     "data": {
      "text/plain": [
       "102334155"
      ]
     },
     "execution_count": 49,
     "metadata": {},
     "output_type": "execute_result"
    }
   ],
   "source": [
    "fib(40)"
   ]
  },
  {
   "cell_type": "code",
   "execution_count": 50,
   "metadata": {},
   "outputs": [
    {
     "name": "stdout",
     "output_type": "stream",
     "text": [
      "Calculatng fib 100\n",
      "Calculatng fib 99\n",
      "Calculatng fib 98\n",
      "Calculatng fib 97\n",
      "Calculatng fib 96\n",
      "Calculatng fib 95\n",
      "Calculatng fib 94\n",
      "Calculatng fib 93\n",
      "Calculatng fib 92\n",
      "Calculatng fib 91\n",
      "Calculatng fib 90\n",
      "Calculatng fib 89\n",
      "Calculatng fib 88\n",
      "Calculatng fib 87\n",
      "Calculatng fib 86\n",
      "Calculatng fib 85\n",
      "Calculatng fib 84\n",
      "Calculatng fib 83\n",
      "Calculatng fib 82\n",
      "Calculatng fib 81\n",
      "Calculatng fib 80\n",
      "Calculatng fib 79\n",
      "Calculatng fib 78\n",
      "Calculatng fib 77\n",
      "Calculatng fib 76\n",
      "Calculatng fib 75\n",
      "Calculatng fib 74\n",
      "Calculatng fib 73\n",
      "Calculatng fib 72\n",
      "Calculatng fib 71\n",
      "Calculatng fib 70\n",
      "Calculatng fib 69\n",
      "Calculatng fib 68\n",
      "Calculatng fib 67\n",
      "Calculatng fib 66\n",
      "Calculatng fib 65\n",
      "Calculatng fib 64\n",
      "Calculatng fib 63\n",
      "Calculatng fib 62\n",
      "Calculatng fib 61\n",
      "Calculatng fib 60\n",
      "Calculatng fib 59\n",
      "Calculatng fib 58\n",
      "Calculatng fib 57\n",
      "Calculatng fib 56\n",
      "Calculatng fib 55\n",
      "Calculatng fib 54\n",
      "Calculatng fib 53\n",
      "Calculatng fib 52\n",
      "Calculatng fib 51\n",
      "Calculatng fib 50\n",
      "Calculatng fib 49\n",
      "Calculatng fib 48\n",
      "Calculatng fib 47\n",
      "Calculatng fib 46\n",
      "Calculatng fib 45\n",
      "Calculatng fib 44\n",
      "Calculatng fib 43\n",
      "Calculatng fib 42\n",
      "Calculatng fib 41\n"
     ]
    },
    {
     "data": {
      "text/plain": [
       "354224848179261915075"
      ]
     },
     "execution_count": 50,
     "metadata": {},
     "output_type": "execute_result"
    }
   ],
   "source": [
    "fib(100)"
   ]
  },
  {
   "cell_type": "code",
   "execution_count": 54,
   "metadata": {},
   "outputs": [],
   "source": [
    "def memoize(fn):\n",
    "    cache = dict()\n",
    "    \n",
    "    def inner(n):\n",
    "        if n not in cache:\n",
    "            cache[n] = fn(n)\n",
    "        return cache[n]\n",
    "    \n",
    "    return inner"
   ]
  },
  {
   "cell_type": "code",
   "execution_count": 69,
   "metadata": {},
   "outputs": [],
   "source": [
    "@memoize\n",
    "def fib(n):\n",
    "    return 1 if n < 3 else fib(n-1) + fib(n-2)\n"
   ]
  },
  {
   "cell_type": "code",
   "execution_count": 56,
   "metadata": {},
   "outputs": [
    {
     "name": "stdout",
     "output_type": "stream",
     "text": [
      "Calculatng fib 10\n",
      "Calculatng fib 9\n",
      "Calculatng fib 8\n",
      "Calculatng fib 7\n",
      "Calculatng fib 6\n",
      "Calculatng fib 5\n",
      "Calculatng fib 4\n",
      "Calculatng fib 3\n",
      "Calculatng fib 2\n",
      "Calculatng fib 1\n"
     ]
    },
    {
     "data": {
      "text/plain": [
       "55"
      ]
     },
     "execution_count": 56,
     "metadata": {},
     "output_type": "execute_result"
    }
   ],
   "source": [
    "fib(10)"
   ]
  },
  {
   "cell_type": "code",
   "execution_count": 57,
   "metadata": {},
   "outputs": [
    {
     "data": {
      "text/plain": [
       "55"
      ]
     },
     "execution_count": 57,
     "metadata": {},
     "output_type": "execute_result"
    }
   ],
   "source": [
    "fib(10)"
   ]
  },
  {
   "cell_type": "code",
   "execution_count": 58,
   "metadata": {},
   "outputs": [
    {
     "name": "stdout",
     "output_type": "stream",
     "text": [
      "Calculatng fib 11\n"
     ]
    },
    {
     "data": {
      "text/plain": [
       "89"
      ]
     },
     "execution_count": 58,
     "metadata": {},
     "output_type": "execute_result"
    }
   ],
   "source": [
    "fib(11)"
   ]
  },
  {
   "cell_type": "code",
   "execution_count": 59,
   "metadata": {},
   "outputs": [],
   "source": [
    "def fact(n):\n",
    "    print(f\"Calculating factorial {n}\")\n",
    "    return 1 if n < 2 else n * fact(n-1)"
   ]
  },
  {
   "cell_type": "code",
   "execution_count": 61,
   "metadata": {},
   "outputs": [
    {
     "name": "stdout",
     "output_type": "stream",
     "text": [
      "Calculating factorial 6\n",
      "Calculating factorial 5\n",
      "Calculating factorial 4\n",
      "Calculating factorial 3\n",
      "Calculating factorial 2\n",
      "Calculating factorial 1\n"
     ]
    },
    {
     "data": {
      "text/plain": [
       "720"
      ]
     },
     "execution_count": 61,
     "metadata": {},
     "output_type": "execute_result"
    }
   ],
   "source": [
    "fact(6)"
   ]
  },
  {
   "cell_type": "code",
   "execution_count": 68,
   "metadata": {},
   "outputs": [],
   "source": [
    "@memoize\n",
    "def fact(n):\n",
    "    return 1 if n < 2 else n * fact(n-1)"
   ]
  },
  {
   "cell_type": "code",
   "execution_count": 64,
   "metadata": {},
   "outputs": [
    {
     "name": "stdout",
     "output_type": "stream",
     "text": [
      "Calculating factorial 10\n",
      "Calculating factorial 9\n",
      "Calculating factorial 8\n",
      "Calculating factorial 7\n",
      "Calculating factorial 6\n",
      "Calculating factorial 5\n",
      "Calculating factorial 4\n",
      "Calculating factorial 3\n",
      "Calculating factorial 2\n",
      "Calculating factorial 1\n"
     ]
    },
    {
     "data": {
      "text/plain": [
       "3628800"
      ]
     },
     "execution_count": 64,
     "metadata": {},
     "output_type": "execute_result"
    }
   ],
   "source": [
    "fact(10)"
   ]
  },
  {
   "cell_type": "code",
   "execution_count": 65,
   "metadata": {},
   "outputs": [
    {
     "data": {
      "text/plain": [
       "3628800"
      ]
     },
     "execution_count": 65,
     "metadata": {},
     "output_type": "execute_result"
    }
   ],
   "source": [
    "fact(10)"
   ]
  },
  {
   "cell_type": "code",
   "execution_count": 66,
   "metadata": {},
   "outputs": [
    {
     "data": {
      "text/plain": [
       "5040"
      ]
     },
     "execution_count": 66,
     "metadata": {},
     "output_type": "execute_result"
    }
   ],
   "source": [
    "fact(7)"
   ]
  },
  {
   "cell_type": "code",
   "execution_count": 67,
   "metadata": {},
   "outputs": [
    {
     "name": "stdout",
     "output_type": "stream",
     "text": [
      "Calculating factorial 50\n",
      "Calculating factorial 49\n",
      "Calculating factorial 48\n",
      "Calculating factorial 47\n",
      "Calculating factorial 46\n",
      "Calculating factorial 45\n",
      "Calculating factorial 44\n",
      "Calculating factorial 43\n",
      "Calculating factorial 42\n",
      "Calculating factorial 41\n",
      "Calculating factorial 40\n",
      "Calculating factorial 39\n",
      "Calculating factorial 38\n",
      "Calculating factorial 37\n",
      "Calculating factorial 36\n",
      "Calculating factorial 35\n",
      "Calculating factorial 34\n",
      "Calculating factorial 33\n",
      "Calculating factorial 32\n",
      "Calculating factorial 31\n",
      "Calculating factorial 30\n",
      "Calculating factorial 29\n",
      "Calculating factorial 28\n",
      "Calculating factorial 27\n",
      "Calculating factorial 26\n",
      "Calculating factorial 25\n",
      "Calculating factorial 24\n",
      "Calculating factorial 23\n",
      "Calculating factorial 22\n",
      "Calculating factorial 21\n",
      "Calculating factorial 20\n",
      "Calculating factorial 19\n",
      "Calculating factorial 18\n",
      "Calculating factorial 17\n",
      "Calculating factorial 16\n",
      "Calculating factorial 15\n",
      "Calculating factorial 14\n",
      "Calculating factorial 13\n",
      "Calculating factorial 12\n",
      "Calculating factorial 11\n"
     ]
    },
    {
     "data": {
      "text/plain": [
       "30414093201713378043612608166064768844377641568960512000000000000"
      ]
     },
     "execution_count": 67,
     "metadata": {},
     "output_type": "execute_result"
    }
   ],
   "source": [
    "fact(50)"
   ]
  },
  {
   "cell_type": "code",
   "execution_count": 70,
   "metadata": {},
   "outputs": [],
   "source": [
    "from functools import lru_cache"
   ]
  },
  {
   "cell_type": "code",
   "execution_count": 95,
   "metadata": {},
   "outputs": [],
   "source": [
    "@lru_cache(maxsize = 8)\n",
    "def fib(n):\n",
    "    print(f\"Calculating fib {n}\")\n",
    "    return 1 if n < 3 else fib(n-1) + fib(n-2)"
   ]
  },
  {
   "cell_type": "code",
   "execution_count": 96,
   "metadata": {},
   "outputs": [
    {
     "name": "stdout",
     "output_type": "stream",
     "text": [
      "Calculating fib 8\n",
      "Calculating fib 7\n",
      "Calculating fib 6\n",
      "Calculating fib 5\n",
      "Calculating fib 4\n",
      "Calculating fib 3\n",
      "Calculating fib 2\n",
      "Calculating fib 1\n"
     ]
    },
    {
     "data": {
      "text/plain": [
       "21"
      ]
     },
     "execution_count": 96,
     "metadata": {},
     "output_type": "execute_result"
    }
   ],
   "source": [
    "fib(8)"
   ]
  },
  {
   "cell_type": "code",
   "execution_count": 97,
   "metadata": {},
   "outputs": [
    {
     "data": {
      "text/plain": [
       "21"
      ]
     },
     "execution_count": 97,
     "metadata": {},
     "output_type": "execute_result"
    }
   ],
   "source": [
    "fib(8)"
   ]
  },
  {
   "cell_type": "code",
   "execution_count": 98,
   "metadata": {},
   "outputs": [
    {
     "name": "stdout",
     "output_type": "stream",
     "text": [
      "Calculating fib 16\n",
      "Calculating fib 15\n",
      "Calculating fib 14\n",
      "Calculating fib 13\n",
      "Calculating fib 12\n",
      "Calculating fib 11\n",
      "Calculating fib 10\n",
      "Calculating fib 9\n"
     ]
    },
    {
     "data": {
      "text/plain": [
       "987"
      ]
     },
     "execution_count": 98,
     "metadata": {},
     "output_type": "execute_result"
    }
   ],
   "source": [
    "fib(16)"
   ]
  },
  {
   "cell_type": "code",
   "execution_count": 99,
   "metadata": {},
   "outputs": [
    {
     "name": "stdout",
     "output_type": "stream",
     "text": [
      "Calculating fib 8\n",
      "Calculating fib 7\n",
      "Calculating fib 6\n",
      "Calculating fib 5\n",
      "Calculating fib 4\n",
      "Calculating fib 3\n",
      "Calculating fib 2\n",
      "Calculating fib 1\n"
     ]
    },
    {
     "data": {
      "text/plain": [
       "21"
      ]
     },
     "execution_count": 99,
     "metadata": {},
     "output_type": "execute_result"
    }
   ],
   "source": [
    "fib(8)"
   ]
  },
  {
   "cell_type": "code",
   "execution_count": 100,
   "metadata": {},
   "outputs": [
    {
     "name": "stdout",
     "output_type": "stream",
     "text": [
      "Calculating fib 9\n"
     ]
    },
    {
     "data": {
      "text/plain": [
       "34"
      ]
     },
     "execution_count": 100,
     "metadata": {},
     "output_type": "execute_result"
    }
   ],
   "source": [
    "fib(9)"
   ]
  },
  {
   "cell_type": "code",
   "execution_count": null,
   "metadata": {},
   "outputs": [],
   "source": []
  }
 ],
 "metadata": {
  "kernelspec": {
   "display_name": "Python 3",
   "language": "python",
   "name": "python3"
  },
  "language_info": {
   "codemirror_mode": {
    "name": "ipython",
    "version": 3
   },
   "file_extension": ".py",
   "mimetype": "text/x-python",
   "name": "python",
   "nbconvert_exporter": "python",
   "pygments_lexer": "ipython3",
   "version": "3.7.2"
  }
 },
 "nbformat": 4,
 "nbformat_minor": 2
}
