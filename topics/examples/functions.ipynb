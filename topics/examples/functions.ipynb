{
 "cells": [
  {
   "cell_type": "code",
   "execution_count": 1,
   "metadata": {},
   "outputs": [
    {
     "name": "stdout",
     "output_type": "stream",
     "text": [
      "This is a function\n"
     ]
    }
   ],
   "source": [
    "# Let us define a simple function and call it\n",
    "def func():\n",
    "    print(\"This is a function\")\n",
    "\n",
    "func()"
   ]
  },
  {
   "cell_type": "code",
   "execution_count": 4,
   "metadata": {},
   "outputs": [
    {
     "name": "stdout",
     "output_type": "stream",
     "text": [
      "True\n",
      "False\n"
     ]
    }
   ],
   "source": [
    "# Let us define a function that takes one argument and\n",
    "# returns a value\n",
    "def is_even(number):\n",
    "    return number % 2 == 0\n",
    "\n",
    "print(is_even(2))\n",
    "print(is_even(3))"
   ]
  },
  {
   "cell_type": "code",
   "execution_count": 5,
   "metadata": {},
   "outputs": [
    {
     "name": "stdout",
     "output_type": "stream",
     "text": [
      "(1, 4)\n",
      "None\n",
      "(1, 1)\n"
     ]
    }
   ],
   "source": [
    "# Let us define a function that takes one argument and\n",
    "# returns more than one value\n",
    "def first_last_element(lst):\n",
    "    if lst:\n",
    "        return lst[0], lst[-1]\n",
    "    \n",
    "    return None\n",
    "\n",
    "print(first_last_element([1,2,3,4]))\n",
    "print(first_last_element([]))\n",
    "print(first_last_element([1]))\n"
   ]
  },
  {
   "cell_type": "code",
   "execution_count": 14,
   "metadata": {},
   "outputs": [
    {
     "name": "stdout",
     "output_type": "stream",
     "text": [
      "a = 1, b = 2, c = 3\n",
      "a = 10, b = 2, c = 3\n",
      "a = 10, b = 20, c = 3\n",
      "a = 10, b = 20, c = 30\n",
      "a = 1, b = 20, c = 30\n",
      "a = 1, b = 20, c = 20\n",
      "a = 10, b = 20, c = 30\n",
      "a = 10, b = 2, c = 30\n"
     ]
    }
   ],
   "source": [
    "# We can define default values for the parameters\n",
    "def func(a = 1, b = 2, c = 3):\n",
    "    print(f\"a = {a}, b = {b}, c = {c}\")\n",
    "    \n",
    "func()\n",
    "func(10)\n",
    "func(10, 20)\n",
    "func(10, 20, 30)\n",
    "func(1, c = 30, b = 20)\n",
    "func(1, b = 20, c = 20)\n",
    "func(c = 30, b = 20, a = 10)\n",
    "func(10, c = 30)"
   ]
  },
  {
   "cell_type": "code",
   "execution_count": 15,
   "metadata": {},
   "outputs": [
    {
     "name": "stdout",
     "output_type": "stream",
     "text": [
      "a = 10, b = 20, c = 30\n",
      "a = 1, b = 20, c = 30\n",
      "a = 1, b = 20, c = 20\n",
      "a = 10, b = 20, c = 30\n"
     ]
    }
   ],
   "source": [
    "def func(a, b, c):\n",
    "    print(f\"a = {a}, b = {b}, c = {c}\")\n",
    "\n",
    "# We can pass named arguments even when default values are not\n",
    "# defined for parameters\n",
    "func(10, 20, 30)\n",
    "func(1, c = 30, b = 20)\n",
    "func(1, b = 20, c = 20)\n",
    "func(c = 30, b = 20, a = 10)"
   ]
  },
  {
   "cell_type": "code",
   "execution_count": 3,
   "metadata": {},
   "outputs": [
    {
     "name": "stdout",
     "output_type": "stream",
     "text": [
      "1 2 3 4\n",
      "1 2\n"
     ]
    }
   ],
   "source": [
    "# function returning more than one value\n",
    "def func(a, b, c, d):\n",
    "    print(a, b, c, d)\n",
    "\n",
    "    return a, b\n",
    "\n",
    "val1, val2 = func(1, 2, 3, 4)\n",
    "print(val1, val2)"
   ]
  },
  {
   "cell_type": "code",
   "execution_count": 6,
   "metadata": {},
   "outputs": [
    {
     "name": "stdout",
     "output_type": "stream",
     "text": [
      "1 2 3 4\n",
      "1 2 3 100\n"
     ]
    }
   ],
   "source": [
    "# parameter taking default value\n",
    "def func(a, b, c, d = 100):\n",
    "    print(a, b, c, d)\n",
    "    \n",
    "func(1, 2, 3, 4) # d takes 4\n",
    "func(1, 2, 3) # d takes default value of 100"
   ]
  },
  {
   "cell_type": "code",
   "execution_count": 8,
   "metadata": {},
   "outputs": [],
   "source": [
    "# function taking default values\n",
    "def func(a, b, c = 50, d = 100):\n",
    "    print(a, b, c, d)"
   ]
  },
  {
   "cell_type": "code",
   "execution_count": 18,
   "metadata": {},
   "outputs": [
    {
     "name": "stdout",
     "output_type": "stream",
     "text": [
      "1 2 50 100\n",
      "1 2 3 100\n",
      "1 2 3 4\n"
     ]
    }
   ],
   "source": [
    "# default values in action\n",
    "func(1, 2)\n",
    "func(1, 2, 3)\n",
    "func(1, 2, 3, 4)\n",
    "# func(1) # should throw error as one mandatory argument is missing\n",
    "# func() # should throw error as two mandatory arguments are missing"
   ]
  },
  {
   "cell_type": "code",
   "execution_count": 19,
   "metadata": {},
   "outputs": [
    {
     "name": "stdout",
     "output_type": "stream",
     "text": [
      "1 2 3 4\n",
      "1 2 3 4\n"
     ]
    }
   ],
   "source": [
    " # named arguments in action\n",
    "func(1, 2, c = 3, d = 4)\n",
    "func(a = 1, b = 2, c = 3, d = 4)\n",
    "# func(a = 1, 2, c = 3, d = 4) # this should throw error"
   ]
  },
  {
   "cell_type": "code",
   "execution_count": 20,
   "metadata": {},
   "outputs": [
    {
     "name": "stdout",
     "output_type": "stream",
     "text": [
      "1 2 50 100\n",
      "1 2 50 100\n",
      "1 2 150 100\n"
     ]
    }
   ],
   "source": [
    "# named arguments and default values in action\n",
    "func(a = 1, b = 2)\n",
    "func(1, b = 2)\n",
    "func(1, b = 2, c = 150)"
   ]
  },
  {
   "cell_type": "code",
   "execution_count": 21,
   "metadata": {},
   "outputs": [
    {
     "ename": "SyntaxError",
     "evalue": "non-default argument follows default argument (<ipython-input-21-0cdb0f2c817c>, line 3)",
     "output_type": "error",
     "traceback": [
      "\u001b[1;36m  File \u001b[1;32m\"<ipython-input-21-0cdb0f2c817c>\"\u001b[1;36m, line \u001b[1;32m3\u001b[0m\n\u001b[1;33m    def func(a, b = 2, c, d = 100):\u001b[0m\n\u001b[1;37m            ^\u001b[0m\n\u001b[1;31mSyntaxError\u001b[0m\u001b[1;31m:\u001b[0m non-default argument follows default argument\n"
     ]
    }
   ],
   "source": [
    "# Let us define some positional parameters after default parameter args\n",
    "\n",
    "def func(a, b = 2, c, d = 100):\n",
    "    print(a, b, c, d)"
   ]
  },
  {
   "cell_type": "code",
   "execution_count": null,
   "metadata": {},
   "outputs": [],
   "source": []
  }
 ],
 "metadata": {
  "kernelspec": {
   "display_name": "Python 3",
   "language": "python",
   "name": "python3"
  },
  "language_info": {
   "codemirror_mode": {
    "name": "ipython",
    "version": 3
   },
   "file_extension": ".py",
   "mimetype": "text/x-python",
   "name": "python",
   "nbconvert_exporter": "python",
   "pygments_lexer": "ipython3",
   "version": "3.7.2"
  }
 },
 "nbformat": 4,
 "nbformat_minor": 2
}
