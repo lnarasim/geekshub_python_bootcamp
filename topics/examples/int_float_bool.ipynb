{
 "cells": [
  {
   "cell_type": "code",
   "execution_count": 1,
   "metadata": {},
   "outputs": [],
   "source": [
    "# Let us define an int\n",
    "a = 10"
   ]
  },
  {
   "cell_type": "code",
   "execution_count": 2,
   "metadata": {},
   "outputs": [
    {
     "name": "stdout",
     "output_type": "stream",
     "text": [
      "10\n"
     ]
    }
   ],
   "source": [
    "print(a)"
   ]
  },
  {
   "cell_type": "code",
   "execution_count": 3,
   "metadata": {},
   "outputs": [
    {
     "name": "stdout",
     "output_type": "stream",
     "text": [
      "<class 'int'>\n",
      "265738560\n",
      "10\n"
     ]
    }
   ],
   "source": [
    "print(type(a)) # prints type of a\n",
    "print(id(a)) # prints memory address of a\n",
    "print(a) # prints a"
   ]
  },
  {
   "cell_type": "code",
   "execution_count": 4,
   "metadata": {},
   "outputs": [
    {
     "name": "stdout",
     "output_type": "stream",
     "text": [
      "<class 'int'>\n",
      "265738720\n",
      "20\n"
     ]
    }
   ],
   "source": [
    "# Let us assign 20 to another variable\n",
    "b = 20\n",
    "\n",
    "print(type(b)) # prints type of b\n",
    "print(id(b)) # prints memory address of b\n",
    "print(b) # prints b"
   ]
  },
  {
   "cell_type": "code",
   "execution_count": 5,
   "metadata": {},
   "outputs": [
    {
     "name": "stdout",
     "output_type": "stream",
     "text": [
      "<class 'int'>\n",
      "265738720\n",
      "20\n",
      "<class 'int'>\n",
      "265738720\n",
      "20\n"
     ]
    }
   ],
   "source": [
    "# Let us make b to refer a\n",
    "a = 20\n",
    "b = a\n",
    "\n",
    "# Let us print a and b (id, type and value)\n",
    "\n",
    "print(type(a)) # prints type of a\n",
    "print(id(a)) # prints memory address of a\n",
    "print(a) # prints a\n",
    "\n",
    "print(type(b)) # prints type of b\n",
    "print(id(b)) # prints memory address of b\n",
    "print(b) # prints b"
   ]
  },
  {
   "cell_type": "code",
   "execution_count": 6,
   "metadata": {},
   "outputs": [
    {
     "name": "stdout",
     "output_type": "stream",
     "text": [
      "<class 'int'>\n",
      "99886496\n",
      "10000000\n",
      "<class 'int'>\n",
      "99886528\n",
      "10000000\n"
     ]
    }
   ],
   "source": [
    "# Let us do the previous example with really big number\n",
    "\n",
    "a = 10000000\n",
    "b = 10000000\n",
    "\n",
    "# Let us print a and b (id, type and value)\n",
    "\n",
    "print(type(a)) # prints type of a\n",
    "print(id(a)) # prints memory address of a\n",
    "print(a) # prints a\n",
    "\n",
    "print(type(b)) # prints type of b\n",
    "print(id(b)) # prints memory address of b\n",
    "print(b) # prints b"
   ]
  },
  {
   "cell_type": "code",
   "execution_count": 7,
   "metadata": {},
   "outputs": [
    {
     "name": "stdout",
     "output_type": "stream",
     "text": [
      "<class 'int'>\n",
      "99886336\n",
      "-10000000\n",
      "<class 'int'>\n",
      "99886880\n",
      "-10000000\n"
     ]
    }
   ],
   "source": [
    "# Let us do something with negative numbers\n",
    "\n",
    "a = -10000000\n",
    "b = -10000000\n",
    "\n",
    "# Let us print a and b (id, type and value)\n",
    "\n",
    "print(type(a)) # prints type of a\n",
    "print(id(a)) # prints memory address of a\n",
    "print(a) # prints a\n",
    "\n",
    "print(type(b)) # prints type of b\n",
    "print(id(b)) # prints memory address of b\n",
    "print(b) # prints b"
   ]
  },
  {
   "cell_type": "code",
   "execution_count": 14,
   "metadata": {},
   "outputs": [
    {
     "name": "stdout",
     "output_type": "stream",
     "text": [
      "14\n",
      "14\n",
      "16\n",
      "18\n",
      "22\n"
     ]
    }
   ],
   "source": [
    "import sys\n",
    "\n",
    "# Let us get size of int\n",
    "a = 10\n",
    "print(sys.getsizeof(a))\n",
    "\n",
    "a = 100\n",
    "print(sys.getsizeof(a))\n",
    "\n",
    "a = 1000000\n",
    "print(sys.getsizeof(a))\n",
    "\n",
    "\n",
    "a = 100000000000\n",
    "print(sys.getsizeof(a))\n",
    "\n",
    "a = a ** 2 # this is square of a\n",
    "print(sys.getsizeof(a))"
   ]
  },
  {
   "cell_type": "code",
   "execution_count": 17,
   "metadata": {},
   "outputs": [
    {
     "name": "stdout",
     "output_type": "stream",
     "text": [
      "100000000000000000000000000000000000000000000000000000000000000000000000000000000000000000000000000000000000000000000000000000000000000000000000000000000000000000000000000000000000000000000000000000000000000000000000000000000000000000000000000000000000000000000000000000000000000000000000000000000000000000000000000000000000000000000000000000000000000000000000000000000000000000000000000000000000000000000000000000000000000000000000000000000000000000000000000000000000000000000000000000000000000000000000000000000000000000000000000000000000000000000000000000000000000000000000000000000000000000000000000000000000000000000000000000000000000000000000000000000000000000000000000000000000000000000000000000000000000000000000000000000000000000000000000000000000000000000000000000000000000000000000000000000000000000000000000000000000000000000000000000000000000000000000000000000000000000000000000000000000000000000000000000000000000000000000000000000000000000000000000000000000000000000000000000000000000000000000000000000000000000000000000000000000000000000000000000000000000000000000000000000000000000000000000000000000000000000000000000000000000000000000000000000000000000000000000000000000000000000000000000000000000000000000000000000000000000000000000000000000000000000000000000000000000000000000000000000000000000000000000000000000000000000000000000000000000000000000000000000000000000000000000000000000000000000000000000000000000000000000000000000000000000000000000000000000000000000000000000000000000000000000000000000000000000000000000000000000000000000000000000000000000000000000000000000000000000000000000000000000000000000000000000000000000000000000000000000000000000000000000000000000000000000000000000000000000000000000000000000000000000000000000000000000000000000000000000000000000000000000000000000000000000000000000000000000000000000000000000000000000000000000000000000000000000000000000000000000000000000000000000000000000000000000000000000000000000000000000000000000000000000000000000000\n",
      "11696040\n",
      "<class 'int'>\n",
      "898\n"
     ]
    }
   ],
   "source": [
    "# This is really long integer\n",
    "\n",
    "a = 100000000000000000000 ** 100\n",
    "print(a)\n",
    "print(id(a))\n",
    "print(type(a))\n",
    "print(sys.getsizeof(a))"
   ]
  },
  {
   "cell_type": "code",
   "execution_count": 20,
   "metadata": {},
   "outputs": [
    {
     "name": "stdout",
     "output_type": "stream",
     "text": [
      "Value is 100\n",
      "Memory Address is 265740000\n",
      "Type is <class 'int'>\n",
      "Size is 14\n",
      "\n"
     ]
    }
   ],
   "source": [
    "def print_an_object(obj):\n",
    "    print(f\"Value is {obj}\")\n",
    "    print(f\"Memory Address is {id(obj)}\")\n",
    "    print(f\"Type is {type(obj)}\")\n",
    "    print(f\"Size is {sys.getsizeof(obj)}\")\n",
    "    print()\n",
    "\n",
    "a = a ** 2 # another big number\n",
    "print_an_object(a)"
   ]
  },
  {
   "cell_type": "code",
   "execution_count": 22,
   "metadata": {},
   "outputs": [
    {
     "name": "stdout",
     "output_type": "stream",
     "text": [
      "Addition of Integers\n",
      "Value is 30\n",
      "Memory Address is 265738880\n",
      "Type is <class 'int'>\n",
      "Size is 14\n",
      "\n",
      "Subtraction of Integers\n",
      "Value is -10\n",
      "Memory Address is 99887248\n",
      "Type is <class 'int'>\n",
      "Size is 14\n",
      "\n",
      "Multiplication of Integers\n",
      "Value is 200\n",
      "Memory Address is 265741600\n",
      "Type is <class 'int'>\n",
      "Size is 14\n",
      "\n",
      "Division of Integers\n",
      "Value is 2.0\n",
      "Memory Address is 99886448\n",
      "Type is <class 'float'>\n",
      "Size is 16\n",
      "\n",
      "Floor division of positive Integers\n",
      "Value is 2\n",
      "Memory Address is 265738432\n",
      "Type is <class 'int'>\n",
      "Size is 14\n",
      "\n",
      "Modulo of Integers\n",
      "Value is 0\n",
      "Memory Address is 265738400\n",
      "Type is <class 'int'>\n",
      "Size is 12\n",
      "\n",
      "Exponent of Integers\n",
      "Value is 10240000000000\n",
      "Memory Address is 102712672\n",
      "Type is <class 'int'>\n",
      "Size is 18\n",
      "\n"
     ]
    }
   ],
   "source": [
    "# Let us do some kinder garden stuff\n",
    "a = 10\n",
    "b = 20\n",
    "\n",
    "c = a + b\n",
    "print(\"Addition of Integers\")\n",
    "print_an_object(c)\n",
    "\n",
    "d = a - b\n",
    "print(\"Subtraction of Integers\")\n",
    "print_an_object(d)\n",
    "\n",
    "e = a * b\n",
    "print(\"Multiplication of Integers\")\n",
    "print_an_object(e)\n",
    "\n",
    "f = b / a\n",
    "print(\"Division of Integers\")\n",
    "print_an_object(f)\n",
    "\n",
    "g = b // a\n",
    "print(\"Floor division of positive Integers\")\n",
    "print_an_object(g)\n",
    "\n",
    "h = b % a\n",
    "print(\"Modulo of Integers\")\n",
    "print_an_object(h)\n",
    "\n",
    "i = b ** a\n",
    "print(\"Exponent of Integers\")\n",
    "print_an_object(i)"
   ]
  },
  {
   "cell_type": "code",
   "execution_count": 24,
   "metadata": {},
   "outputs": [
    {
     "name": "stdout",
     "output_type": "stream",
     "text": [
      "Floor division of negative dividend\n",
      "Value is -1\n",
      "Memory Address is 265738384\n",
      "Type is <class 'int'>\n",
      "Size is 14\n",
      "\n",
      "Floor division of negative divisor\n",
      "Value is -1\n",
      "Memory Address is 265738384\n",
      "Type is <class 'int'>\n",
      "Size is 14\n",
      "\n",
      "Floor division of negative divisor and negative dividend\n",
      "Value is 0\n",
      "Memory Address is 265738400\n",
      "Type is <class 'int'>\n",
      "Size is 12\n",
      "\n"
     ]
    }
   ],
   "source": [
    "a = -10\n",
    "b = 2\n",
    "\n",
    "g = b // a\n",
    "print(\"Floor division of negative dividend\")\n",
    "print_an_object(g)\n",
    "\n",
    "a = 10\n",
    "b = -2\n",
    "\n",
    "g = b // a\n",
    "print(\"Floor division of negative divisor\")\n",
    "print_an_object(g)\n",
    "\n",
    "\n",
    "a = -10\n",
    "b = -2\n",
    "\n",
    "g = b // a\n",
    "print(\"Floor division of negative divisor and negative dividend\")\n",
    "print_an_object(g)"
   ]
  },
  {
   "cell_type": "code",
   "execution_count": 25,
   "metadata": {},
   "outputs": [
    {
     "name": "stdout",
     "output_type": "stream",
     "text": [
      "Modulo of negative dividend\n",
      "Value is -8\n",
      "Memory Address is 99886704\n",
      "Type is <class 'int'>\n",
      "Size is 14\n",
      "\n",
      "Modulo of negative divisor\n",
      "Value is 8\n",
      "Memory Address is 265738528\n",
      "Type is <class 'int'>\n",
      "Size is 14\n",
      "\n",
      "Modulo of negative divisor and negative dividend\n",
      "Value is -2\n",
      "Memory Address is 265738368\n",
      "Type is <class 'int'>\n",
      "Size is 14\n",
      "\n"
     ]
    }
   ],
   "source": [
    "a = -10\n",
    "b = 2\n",
    "\n",
    "g = b % a\n",
    "print(\"Modulo of negative dividend\")\n",
    "print_an_object(g)\n",
    "\n",
    "a = 10\n",
    "b = -2\n",
    "\n",
    "g = b % a\n",
    "print(\"Modulo of negative divisor\")\n",
    "print_an_object(g)\n",
    "\n",
    "\n",
    "a = -10\n",
    "b = -2\n",
    "\n",
    "g = b % a\n",
    "print(\"Modulo of negative divisor and negative dividend\")\n",
    "print_an_object(g)"
   ]
  },
  {
   "cell_type": "code",
   "execution_count": 35,
   "metadata": {},
   "outputs": [
    {
     "name": "stdout",
     "output_type": "stream",
     "text": [
      "Value is 1000\n",
      "Memory Address is 99887680\n",
      "Type is <class 'int'>\n",
      "Size is 14\n",
      "\n",
      "Value is 1000\n",
      "Memory Address is 99887632\n",
      "Type is <class 'int'>\n",
      "Size is 14\n",
      "\n",
      "Value is 1000\n",
      "Memory Address is 99887664\n",
      "Type is <class 'int'>\n",
      "Size is 14\n",
      "\n",
      "Value is 99\n",
      "Memory Address is 265739984\n",
      "Type is <class 'int'>\n",
      "Size is 14\n",
      "\n",
      "Value is 1000\n",
      "Memory Address is 99887664\n",
      "Type is <class 'int'>\n",
      "Size is 14\n",
      "\n",
      "Value is 1\n",
      "Memory Address is 265738416\n",
      "Type is <class 'int'>\n",
      "Size is 14\n",
      "\n",
      "Value is 0\n",
      "Memory Address is 265738400\n",
      "Type is <class 'int'>\n",
      "Size is 12\n",
      "\n",
      "Value is 0\n",
      "Memory Address is 265738400\n",
      "Type is <class 'int'>\n",
      "Size is 12\n",
      "\n",
      "Value is 2\n",
      "Memory Address is 265738432\n",
      "Type is <class 'int'>\n",
      "Size is 14\n",
      "\n",
      "Value is 10\n",
      "Memory Address is 265738560\n",
      "Type is <class 'int'>\n",
      "Size is 14\n",
      "\n",
      "Value is 35\n",
      "Memory Address is 265738960\n",
      "Type is <class 'int'>\n",
      "Size is 14\n",
      "\n"
     ]
    }
   ],
   "source": [
    "# Let us create integer by various ways\n",
    "a = 1000\n",
    "print_an_object(a)\n",
    "\n",
    "a = int(1000)\n",
    "print_an_object(a)\n",
    "\n",
    "a = int('1000')\n",
    "print_an_object(a)\n",
    "\n",
    "a = int(99.99)\n",
    "print_an_object(a)\n",
    "\n",
    "a = int(1000.00001)\n",
    "print_an_object(a)\n",
    "\n",
    "a = int(True)\n",
    "print_an_object(a)\n",
    "\n",
    "a = int(False)\n",
    "print_an_object(a)\n",
    "\n",
    "a = int()\n",
    "print_an_object(a)\n",
    "\n",
    "a = int('10', 2)\n",
    "print_an_object(a)\n",
    "\n",
    "a = int('A', 16)\n",
    "print_an_object(a)\n",
    "\n",
    "a = int('Z', 36)\n",
    "print_an_object(a)\n"
   ]
  },
  {
   "cell_type": "code",
   "execution_count": 39,
   "metadata": {},
   "outputs": [
    {
     "name": "stdout",
     "output_type": "stream",
     "text": [
      "Value is 10\n",
      "Memory Address is 99887376\n",
      "Type is <class 'int'>\n",
      "Size is 14\n",
      "\n",
      "Value is 10\n",
      "Memory Address is 265738560\n",
      "Type is <class 'int'>\n",
      "Size is 14\n",
      "\n",
      "Value is -11\n",
      "Memory Address is 99887376\n",
      "Type is <class 'int'>\n",
      "Size is 14\n",
      "\n",
      "Value is -10\n",
      "Memory Address is 99887376\n",
      "Type is <class 'int'>\n",
      "Size is 14\n",
      "\n"
     ]
    }
   ],
   "source": [
    "# math floor and truncate\n",
    "import math\n",
    "\n",
    "a = 10.9\n",
    "print_an_object(math.floor(a))\n",
    "print_an_object(math.trunc(a))\n",
    "\n",
    "a = -10.9\n",
    "print_an_object(math.floor(a))\n",
    "print_an_object(math.trunc(a))"
   ]
  },
  {
   "cell_type": "code",
   "execution_count": 44,
   "metadata": {},
   "outputs": [
    {
     "name": "stdout",
     "output_type": "stream",
     "text": [
      "14 6\n",
      "-15 15\n"
     ]
    }
   ],
   "source": [
    "import math\n",
    "\n",
    "a, b = divmod(300,21)\n",
    "print(a, b)\n",
    "\n",
    "\n",
    "a, b = divmod(-300,21)\n",
    "print(a, b)"
   ]
  },
  {
   "cell_type": "code",
   "execution_count": null,
   "metadata": {},
   "outputs": [],
   "source": []
  }
 ],
 "metadata": {
  "kernelspec": {
   "display_name": "Python 3",
   "language": "python",
   "name": "python3"
  },
  "language_info": {
   "codemirror_mode": {
    "name": "ipython",
    "version": 3
   },
   "file_extension": ".py",
   "mimetype": "text/x-python",
   "name": "python",
   "nbconvert_exporter": "python",
   "pygments_lexer": "ipython3",
   "version": "3.7.2"
  }
 },
 "nbformat": 4,
 "nbformat_minor": 2
}
