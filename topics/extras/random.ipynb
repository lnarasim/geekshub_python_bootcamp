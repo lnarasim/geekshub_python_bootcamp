{
 "cells": [
  {
   "cell_type": "code",
   "execution_count": 1,
   "metadata": {},
   "outputs": [],
   "source": [
    "import random"
   ]
  },
  {
   "cell_type": "code",
   "execution_count": 4,
   "metadata": {},
   "outputs": [
    {
     "name": "stdout",
     "output_type": "stream",
     "text": [
      "11 0.40764375597925884\n",
      "11 0.8659672512601416\n",
      "16 0.31731126665973663\n",
      "18 0.5043216952620955\n",
      "18 0.5581854127800963\n",
      "18 0.09534683748251982\n",
      "11 0.31905380563361574\n",
      "11 0.10628793518608215\n",
      "19 0.163934644860673\n",
      "17 0.14204656718183273\n"
     ]
    }
   ],
   "source": [
    "for _ in range(10):\n",
    "    print(random.randint(10, 20), random.random())"
   ]
  },
  {
   "cell_type": "code",
   "execution_count": 7,
   "metadata": {},
   "outputs": [
    {
     "name": "stdout",
     "output_type": "stream",
     "text": [
      "19 0.5615150542520032\n",
      "10 0.7128603851873552\n",
      "10 0.8335040065711858\n",
      "12 0.06835111550498074\n",
      "17 0.5793890146019438\n",
      "17 0.3414896266287223\n",
      "17 0.10837701728050209\n",
      "18 0.16559160122423977\n",
      "11 0.10326677739754564\n",
      "13 0.48023386250014743\n"
     ]
    }
   ],
   "source": [
    "for _ in range(10):\n",
    "    print(random.randint(10, 20), random.random())"
   ]
  },
  {
   "cell_type": "code",
   "execution_count": 12,
   "metadata": {},
   "outputs": [
    {
     "name": "stdout",
     "output_type": "stream",
     "text": [
      "16 0.7579544029403025\n",
      "16 0.04048437818077755\n",
      "18 0.48592769656281265\n",
      "14 0.9677999949201714\n",
      "15 0.5833820394550312\n",
      "13 0.5046868558173903\n",
      "14 0.1397457849666789\n",
      "11 0.6183689966753316\n",
      "14 0.9872592010330129\n",
      "18 0.9827854760376531\n"
     ]
    }
   ],
   "source": [
    "random.seed(0)\n",
    "for _ in range(10):\n",
    "    print(random.randint(10, 20), random.random())"
   ]
  },
  {
   "cell_type": "code",
   "execution_count": 13,
   "metadata": {},
   "outputs": [
    {
     "name": "stdout",
     "output_type": "stream",
     "text": [
      "16 0.7579544029403025\n",
      "16 0.04048437818077755\n",
      "18 0.48592769656281265\n",
      "14 0.9677999949201714\n",
      "15 0.5833820394550312\n",
      "13 0.5046868558173903\n",
      "14 0.1397457849666789\n",
      "11 0.6183689966753316\n",
      "14 0.9872592010330129\n",
      "18 0.9827854760376531\n"
     ]
    }
   ],
   "source": [
    "random.seed(0)\n",
    "for _ in range(10):\n",
    "    print(random.randint(10, 20), random.random())"
   ]
  },
  {
   "cell_type": "code",
   "execution_count": 16,
   "metadata": {},
   "outputs": [],
   "source": [
    "def generate_random_stuff(seed=None):\n",
    "    random.seed(seed)\n",
    "    results = []\n",
    "    \n",
    "    for _ in range(5):\n",
    "        results.append(random.randint(0,5))\n",
    "        \n",
    "    characters = list('abc')\n",
    "    random.shuffle(characters)\n",
    "    results.append(characters)\n",
    "    \n",
    "    for _ in range(5):\n",
    "        results.append(random.gauss(0,1))\n",
    "        \n",
    "    return results"
   ]
  },
  {
   "cell_type": "code",
   "execution_count": 17,
   "metadata": {},
   "outputs": [
    {
     "data": {
      "text/plain": [
       "[2,\n",
       " 5,\n",
       " 5,\n",
       " 0,\n",
       " 2,\n",
       " ['b', 'c', 'a'],\n",
       " 0.1513695006057377,\n",
       " 0.19985674214916144,\n",
       " 1.2602622607884895,\n",
       " 2.1118772030103528,\n",
       " 0.8360106434925857]"
      ]
     },
     "execution_count": 17,
     "metadata": {},
     "output_type": "execute_result"
    }
   ],
   "source": [
    "generate_random_stuff()"
   ]
  },
  {
   "cell_type": "code",
   "execution_count": 18,
   "metadata": {},
   "outputs": [
    {
     "data": {
      "text/plain": [
       "[5,\n",
       " 3,\n",
       " 4,\n",
       " 2,\n",
       " 5,\n",
       " ['c', 'b', 'a'],\n",
       " 0.22129160865130962,\n",
       " -0.1969578890936773,\n",
       " 1.7806290490798922,\n",
       " -0.2632540400634736,\n",
       " 0.940050519237264]"
      ]
     },
     "execution_count": 18,
     "metadata": {},
     "output_type": "execute_result"
    }
   ],
   "source": [
    "generate_random_stuff()"
   ]
  },
  {
   "cell_type": "code",
   "execution_count": 19,
   "metadata": {},
   "outputs": [
    {
     "data": {
      "text/plain": [
       "[3,\n",
       " 3,\n",
       " 0,\n",
       " 2,\n",
       " 4,\n",
       " ['a', 'c', 'b'],\n",
       " 1.6391095109274887,\n",
       " -0.9249345372119703,\n",
       " 0.9223306019157185,\n",
       " -0.1891931090669293,\n",
       " 0.5456115709634167]"
      ]
     },
     "execution_count": 19,
     "metadata": {},
     "output_type": "execute_result"
    }
   ],
   "source": [
    "generate_random_stuff(0)"
   ]
  },
  {
   "cell_type": "code",
   "execution_count": 20,
   "metadata": {},
   "outputs": [
    {
     "data": {
      "text/plain": [
       "[3,\n",
       " 3,\n",
       " 0,\n",
       " 2,\n",
       " 4,\n",
       " ['a', 'c', 'b'],\n",
       " 1.6391095109274887,\n",
       " -0.9249345372119703,\n",
       " 0.9223306019157185,\n",
       " -0.1891931090669293,\n",
       " 0.5456115709634167]"
      ]
     },
     "execution_count": 20,
     "metadata": {},
     "output_type": "execute_result"
    }
   ],
   "source": [
    "generate_random_stuff(0)"
   ]
  },
  {
   "cell_type": "code",
   "execution_count": 22,
   "metadata": {},
   "outputs": [
    {
     "data": {
      "text/plain": [
       "[5,\n",
       " 5,\n",
       " 1,\n",
       " 2,\n",
       " 5,\n",
       " ['b', 'a', 'c'],\n",
       " 0.9056253622876377,\n",
       " -0.9388862328338567,\n",
       " 0.4996199548667704,\n",
       " 0.9004526542070189,\n",
       " 0.46650281093429863]"
      ]
     },
     "execution_count": 22,
     "metadata": {},
     "output_type": "execute_result"
    }
   ],
   "source": [
    "generate_random_stuff(20)"
   ]
  },
  {
   "cell_type": "code",
   "execution_count": 23,
   "metadata": {},
   "outputs": [
    {
     "data": {
      "text/plain": [
       "[5,\n",
       " 5,\n",
       " 1,\n",
       " 2,\n",
       " 5,\n",
       " ['b', 'a', 'c'],\n",
       " 0.9056253622876377,\n",
       " -0.9388862328338567,\n",
       " 0.4996199548667704,\n",
       " 0.9004526542070189,\n",
       " 0.46650281093429863]"
      ]
     },
     "execution_count": 23,
     "metadata": {},
     "output_type": "execute_result"
    }
   ],
   "source": [
    "generate_random_stuff(20)"
   ]
  },
  {
   "cell_type": "code",
   "execution_count": 25,
   "metadata": {},
   "outputs": [],
   "source": [
    "def freq_analysis(lst):\n",
    "    return {k: lst.count(k) for k in set(lst)}"
   ]
  },
  {
   "cell_type": "code",
   "execution_count": 27,
   "metadata": {},
   "outputs": [
    {
     "name": "stdout",
     "output_type": "stream",
     "text": [
      "[4, 10, 0, 0, 3, 3, 8, 8, 0, 2, 0, 10, 8, 2, 4, 2, 6, 4, 1, 6, 1, 3, 3, 3, 3, 1, 4, 2, 8, 6, 2, 10, 1, 7, 7, 0, 2, 3, 10, 4, 6, 1, 4, 3, 5, 9, 4, 2, 10, 1, 0, 4, 0, 6, 5, 4, 6, 7, 1, 1, 9, 7, 3, 0, 8, 1, 8, 9, 5, 0, 2, 4, 4, 9, 1, 0, 0, 3, 3, 9, 6, 9, 1, 9, 5, 4, 7, 0, 10, 2, 9, 6, 8, 6, 6, 4, 0, 7, 1, 9]\n"
     ]
    }
   ],
   "source": [
    "lst = [random.randint(0, 10) for _ in range(100)]\n",
    "print(lst)"
   ]
  },
  {
   "cell_type": "code",
   "execution_count": 28,
   "metadata": {},
   "outputs": [
    {
     "data": {
      "text/plain": [
       "{0: 13, 1: 12, 2: 9, 3: 11, 4: 13, 5: 4, 6: 10, 7: 6, 8: 7, 9: 9, 10: 6}"
      ]
     },
     "execution_count": 28,
     "metadata": {},
     "output_type": "execute_result"
    }
   ],
   "source": [
    "freq_analysis(lst)"
   ]
  },
  {
   "cell_type": "code",
   "execution_count": 30,
   "metadata": {},
   "outputs": [
    {
     "name": "stdout",
     "output_type": "stream",
     "text": [
      "{0: 90758, 1: 91068, 2: 90330, 3: 91062, 4: 91067, 5: 90715, 6: 90760, 7: 91340, 8: 91001, 9: 90899, 10: 91000}\n"
     ]
    }
   ],
   "source": [
    "print(freq_analysis([random.randint(0, 10) for _ in range(1_000_000)]))"
   ]
  },
  {
   "cell_type": "code",
   "execution_count": 31,
   "metadata": {},
   "outputs": [
    {
     "name": "stdout",
     "output_type": "stream",
     "text": [
      "{0: 909892, 1: 908839, 2: 909733, 3: 910189, 4: 908942, 5: 908018, 6: 908391, 7: 908946, 8: 909216, 9: 910001, 10: 907833}\n"
     ]
    }
   ],
   "source": [
    "print(freq_analysis([random.randint(0, 10) for _ in range(10_000_000)]))"
   ]
  },
  {
   "cell_type": "code",
   "execution_count": 32,
   "metadata": {},
   "outputs": [],
   "source": [
    "d = freq_analysis([random.randint(0, 10) for _ in range(1_000_000)])"
   ]
  },
  {
   "cell_type": "code",
   "execution_count": 33,
   "metadata": {},
   "outputs": [],
   "source": [
    "total = sum(d.values())"
   ]
  },
  {
   "cell_type": "code",
   "execution_count": 35,
   "metadata": {},
   "outputs": [],
   "source": [
    "c = {k: v/total * 100 for k, v in d.items()}"
   ]
  },
  {
   "cell_type": "code",
   "execution_count": 36,
   "metadata": {},
   "outputs": [
    {
     "data": {
      "text/plain": [
       "{0: 9.077300000000001,\n",
       " 1: 9.0717,\n",
       " 2: 9.091000000000001,\n",
       " 3: 9.1317,\n",
       " 4: 9.0571,\n",
       " 5: 9.1432,\n",
       " 6: 9.0639,\n",
       " 7: 9.0836,\n",
       " 8: 9.1139,\n",
       " 9: 9.0892,\n",
       " 10: 9.077399999999999}"
      ]
     },
     "execution_count": 36,
     "metadata": {},
     "output_type": "execute_result"
    }
   ],
   "source": [
    "c"
   ]
  },
  {
   "cell_type": "code",
   "execution_count": 37,
   "metadata": {},
   "outputs": [],
   "source": [
    "from collections import Counter"
   ]
  },
  {
   "cell_type": "code",
   "execution_count": 39,
   "metadata": {},
   "outputs": [
    {
     "data": {
      "text/plain": [
       "Counter({17: 910090,\n",
       "         13: 907947,\n",
       "         18: 910206,\n",
       "         12: 910551,\n",
       "         16: 909576,\n",
       "         14: 908252,\n",
       "         19: 906784,\n",
       "         10: 909948,\n",
       "         20: 909251,\n",
       "         15: 908885,\n",
       "         11: 908510})"
      ]
     },
     "execution_count": 39,
     "metadata": {},
     "output_type": "execute_result"
    }
   ],
   "source": [
    "Counter([random.randint(10, 20) for _ in range(10000_000)])"
   ]
  },
  {
   "cell_type": "markdown",
   "metadata": {},
   "source": [
    "### Random Choices"
   ]
  },
  {
   "cell_type": "code",
   "execution_count": 40,
   "metadata": {},
   "outputs": [],
   "source": [
    "l = list(range(1000))"
   ]
  },
  {
   "cell_type": "code",
   "execution_count": 44,
   "metadata": {},
   "outputs": [
    {
     "name": "stdout",
     "output_type": "stream",
     "text": [
      "[516, 736, 884, 525, 391]\n"
     ]
    }
   ],
   "source": [
    "randoms = []\n",
    "for _ in range(5):\n",
    "    randoms.append(l[random.randrange(len(l))])\n",
    "\n",
    "print(randoms)"
   ]
  },
  {
   "cell_type": "code",
   "execution_count": 45,
   "metadata": {},
   "outputs": [
    {
     "data": {
      "text/plain": [
       "627"
      ]
     },
     "execution_count": 45,
     "metadata": {},
     "output_type": "execute_result"
    }
   ],
   "source": [
    "random.choice(l)"
   ]
  },
  {
   "cell_type": "code",
   "execution_count": 52,
   "metadata": {},
   "outputs": [
    {
     "name": "stdout",
     "output_type": "stream",
     "text": [
      "[62, 467, 297, 700, 675]\n"
     ]
    }
   ],
   "source": [
    "randoms = [random.choice(l) for _ in range(5)]\n",
    "print(randoms)"
   ]
  },
  {
   "cell_type": "code",
   "execution_count": 53,
   "metadata": {},
   "outputs": [],
   "source": [
    "randoms = random.choices(l, k=5)"
   ]
  },
  {
   "cell_type": "code",
   "execution_count": 54,
   "metadata": {},
   "outputs": [
    {
     "data": {
      "text/plain": [
       "[982, 712, 526, 404, 538]"
      ]
     },
     "execution_count": 54,
     "metadata": {},
     "output_type": "execute_result"
    }
   ],
   "source": [
    "randoms"
   ]
  },
  {
   "cell_type": "code",
   "execution_count": 55,
   "metadata": {},
   "outputs": [
    {
     "name": "stdout",
     "output_type": "stream",
     "text": [
      "[4, 3, 4, 4, 3]\n"
     ]
    }
   ],
   "source": [
    "l = [1, 2, 3, 4]\n",
    "\n",
    "randoms = [random.choice(l, ) for _ in range(5)]\n",
    "print(randoms)"
   ]
  },
  {
   "cell_type": "code",
   "execution_count": 56,
   "metadata": {},
   "outputs": [],
   "source": [
    "l = ['a', 'b', 'c']"
   ]
  },
  {
   "cell_type": "code",
   "execution_count": 57,
   "metadata": {},
   "outputs": [
    {
     "name": "stdout",
     "output_type": "stream",
     "text": [
      "['c', 'c', 'a', 'b', 'b']\n",
      "['a', 'c', 'a', 'c', 'b']\n",
      "['c', 'a', 'b', 'c', 'c']\n",
      "['c', 'a', 'a', 'a', 'b']\n",
      "['a', 'b', 'b', 'c', 'c']\n",
      "['b', 'b', 'a', 'a', 'b']\n",
      "['c', 'a', 'c', 'a', 'a']\n",
      "['c', 'c', 'a', 'c', 'a']\n",
      "['a', 'a', 'a', 'c', 'c']\n",
      "['a', 'c', 'a', 'a', 'c']\n"
     ]
    }
   ],
   "source": [
    "for _ in range(10):\n",
    "    print(random.choices(l, k=5))"
   ]
  },
  {
   "cell_type": "code",
   "execution_count": 58,
   "metadata": {},
   "outputs": [],
   "source": [
    "weights = [10, 1, 1]"
   ]
  },
  {
   "cell_type": "code",
   "execution_count": 59,
   "metadata": {},
   "outputs": [
    {
     "name": "stdout",
     "output_type": "stream",
     "text": [
      "['a', 'a', 'c', 'a', 'a']\n",
      "['a', 'a', 'a', 'a', 'a']\n",
      "['a', 'a', 'a', 'a', 'a']\n",
      "['a', 'a', 'a', 'a', 'a']\n",
      "['b', 'a', 'a', 'a', 'a']\n",
      "['a', 'a', 'a', 'a', 'a']\n",
      "['a', 'a', 'a', 'a', 'a']\n",
      "['a', 'a', 'b', 'c', 'a']\n",
      "['a', 'c', 'a', 'a', 'a']\n",
      "['a', 'a', 'a', 'a', 'b']\n"
     ]
    }
   ],
   "source": [
    "for _ in range(10):\n",
    "    print(random.choices(l, k=5, weights=weights))"
   ]
  },
  {
   "cell_type": "code",
   "execution_count": 63,
   "metadata": {},
   "outputs": [],
   "source": [
    "from collections import namedtuple\n",
    "\n",
    "Freq = namedtuple('Freq', 'count freq')"
   ]
  },
  {
   "cell_type": "code",
   "execution_count": 64,
   "metadata": {},
   "outputs": [],
   "source": [
    "def freq_counts(lst):\n",
    "    total = len(lst)\n",
    "    return {k: Freq(lst.count(k), 100 * lst.count(k)/total) for k in set(lst)}"
   ]
  },
  {
   "cell_type": "code",
   "execution_count": 68,
   "metadata": {},
   "outputs": [
    {
     "data": {
      "text/plain": [
       "{'c': Freq(count=33332966, freq=33.332966),\n",
       " 'a': Freq(count=33331103, freq=33.331103),\n",
       " 'b': Freq(count=33335931, freq=33.335931)}"
      ]
     },
     "execution_count": 68,
     "metadata": {},
     "output_type": "execute_result"
    }
   ],
   "source": [
    "freq_counts(random.choices(l, k=100000000))"
   ]
  },
  {
   "cell_type": "code",
   "execution_count": 70,
   "metadata": {},
   "outputs": [
    {
     "data": {
      "text/plain": [
       "{'c': Freq(count=100006, freq=10.0006),\n",
       " 'a': Freq(count=799977, freq=79.9977),\n",
       " 'b': Freq(count=100017, freq=10.0017)}"
      ]
     },
     "execution_count": 70,
     "metadata": {},
     "output_type": "execute_result"
    }
   ],
   "source": [
    "weights = [8, 1, 1]\n",
    "freq_counts(random.choices(l, k=1000_000, weights=weights))"
   ]
  },
  {
   "cell_type": "code",
   "execution_count": 72,
   "metadata": {},
   "outputs": [
    {
     "data": {
      "text/plain": [
       "{'a': Freq(count=700053, freq=70.0053),\n",
       " 'c': Freq(count=199996, freq=19.9996),\n",
       " 'b': Freq(count=99951, freq=9.9951)}"
      ]
     },
     "execution_count": 72,
     "metadata": {},
     "output_type": "execute_result"
    }
   ],
   "source": [
    "weights = [7, 1, 2]\n",
    "freq_counts(random.choices(l, k=1000_000, weights=weights))"
   ]
  },
  {
   "cell_type": "code",
   "execution_count": 73,
   "metadata": {},
   "outputs": [
    {
     "data": {
      "text/plain": [
       "{'c': Freq(count=199969, freq=19.9969),\n",
       " 'a': Freq(count=700070, freq=70.007),\n",
       " 'b': Freq(count=99961, freq=9.9961)}"
      ]
     },
     "execution_count": 73,
     "metadata": {},
     "output_type": "execute_result"
    }
   ],
   "source": [
    "cum_weights = [7, 8 , 10]\n",
    "freq_counts(random.choices(l, k=1000_000, cum_weights=cum_weights))"
   ]
  },
  {
   "cell_type": "code",
   "execution_count": 74,
   "metadata": {},
   "outputs": [],
   "source": [
    "from time import perf_counter"
   ]
  },
  {
   "cell_type": "code",
   "execution_count": 75,
   "metadata": {},
   "outputs": [],
   "source": [
    "random.seed(0)"
   ]
  },
  {
   "cell_type": "code",
   "execution_count": 78,
   "metadata": {},
   "outputs": [],
   "source": [
    "denoms = random.choices([0, 1], k = 10_000_000)"
   ]
  },
  {
   "cell_type": "code",
   "execution_count": 81,
   "metadata": {},
   "outputs": [
    {
     "name": "stdout",
     "output_type": "stream",
     "text": [
      "Avg elapsed time: 0.000000154895134:\n"
     ]
    }
   ],
   "source": [
    "start = perf_counter()\n",
    "for d in denoms:\n",
    "    if d == 0:\n",
    "        continue\n",
    "    else:\n",
    "        10/d\n",
    "end = perf_counter()\n",
    "\n",
    "print(f\"Avg elapsed time: {(end - start)/len(denoms):0.15f}:\")"
   ]
  },
  {
   "cell_type": "code",
   "execution_count": 82,
   "metadata": {},
   "outputs": [
    {
     "name": "stdout",
     "output_type": "stream",
     "text": [
      "Avg elapsed time: 0.000000847565073:\n"
     ]
    }
   ],
   "source": [
    "start = perf_counter()\n",
    "for d in denoms:\n",
    "    try:\n",
    "        10 / d\n",
    "    except ZeroDivisionError:\n",
    "        pass\n",
    "        \n",
    "end = perf_counter()\n",
    "\n",
    "print(f\"Avg elapsed time: {(end - start)/len(denoms):0.15f}:\")"
   ]
  },
  {
   "cell_type": "code",
   "execution_count": 86,
   "metadata": {},
   "outputs": [],
   "source": [
    "random.seed(0)\n",
    "denoms = random.choices([0, 1], k = 10_000_000, weights=[1, 9])"
   ]
  },
  {
   "cell_type": "code",
   "execution_count": 87,
   "metadata": {},
   "outputs": [
    {
     "name": "stdout",
     "output_type": "stream",
     "text": [
      "Avg elapsed time: 0.000000260139390:\n"
     ]
    }
   ],
   "source": [
    "start = perf_counter()\n",
    "for d in denoms:\n",
    "    try:\n",
    "        10 / d\n",
    "    except ZeroDivisionError:\n",
    "        pass\n",
    "        \n",
    "end = perf_counter()\n",
    "\n",
    "print(f\"Avg elapsed time: {(end - start)/len(denoms):0.15f}:\")"
   ]
  },
  {
   "cell_type": "markdown",
   "metadata": {},
   "source": [
    "### Random Samples"
   ]
  },
  {
   "cell_type": "code",
   "execution_count": 88,
   "metadata": {},
   "outputs": [
    {
     "data": {
      "text/plain": [
       "['c', 'c', 'a', 'b', 'b', 'c', 'c', 'c', 'a', 'b']"
      ]
     },
     "execution_count": 88,
     "metadata": {},
     "output_type": "execute_result"
    }
   ],
   "source": [
    "random.choices(list('abc'), k=10)"
   ]
  },
  {
   "cell_type": "code",
   "execution_count": 89,
   "metadata": {},
   "outputs": [],
   "source": [
    "l = list(range(10))"
   ]
  },
  {
   "cell_type": "code",
   "execution_count": 90,
   "metadata": {},
   "outputs": [
    {
     "data": {
      "text/plain": [
       "[0, 1, 2, 3, 4, 5, 6, 7, 8, 9]"
      ]
     },
     "execution_count": 90,
     "metadata": {},
     "output_type": "execute_result"
    }
   ],
   "source": [
    "l"
   ]
  },
  {
   "cell_type": "code",
   "execution_count": 94,
   "metadata": {},
   "outputs": [
    {
     "data": {
      "text/plain": [
       "[4, 5, 6, 7, 6]"
      ]
     },
     "execution_count": 94,
     "metadata": {},
     "output_type": "execute_result"
    }
   ],
   "source": [
    "random.choices(l, k=5)"
   ]
  },
  {
   "cell_type": "code",
   "execution_count": 102,
   "metadata": {},
   "outputs": [
    {
     "data": {
      "text/plain": [
       "[0, 4, 6, 9]"
      ]
     },
     "execution_count": 102,
     "metadata": {},
     "output_type": "execute_result"
    }
   ],
   "source": [
    "random.sample(l, k=4)"
   ]
  },
  {
   "cell_type": "code",
   "execution_count": 103,
   "metadata": {},
   "outputs": [
    {
     "ename": "ValueError",
     "evalue": "Sample larger than population or is negative",
     "output_type": "error",
     "traceback": [
      "\u001b[1;31m---------------------------------------------------------------------------\u001b[0m",
      "\u001b[1;31mValueError\u001b[0m                                Traceback (most recent call last)",
      "\u001b[1;32m<ipython-input-103-82e313c6f09d>\u001b[0m in \u001b[0;36m<module>\u001b[1;34m\u001b[0m\n\u001b[1;32m----> 1\u001b[1;33m \u001b[0mrandom\u001b[0m\u001b[1;33m.\u001b[0m\u001b[0msample\u001b[0m\u001b[1;33m(\u001b[0m\u001b[0ml\u001b[0m\u001b[1;33m,\u001b[0m \u001b[0mk\u001b[0m\u001b[1;33m=\u001b[0m\u001b[1;36m14\u001b[0m\u001b[1;33m)\u001b[0m\u001b[1;33m\u001b[0m\u001b[1;33m\u001b[0m\u001b[0m\n\u001b[0m",
      "\u001b[1;32mc:\\users\\lnarasim\\appdata\\local\\programs\\python\\python37-32\\lib\\random.py\u001b[0m in \u001b[0;36msample\u001b[1;34m(self, population, k)\u001b[0m\n\u001b[0;32m    319\u001b[0m         \u001b[0mn\u001b[0m \u001b[1;33m=\u001b[0m \u001b[0mlen\u001b[0m\u001b[1;33m(\u001b[0m\u001b[0mpopulation\u001b[0m\u001b[1;33m)\u001b[0m\u001b[1;33m\u001b[0m\u001b[1;33m\u001b[0m\u001b[0m\n\u001b[0;32m    320\u001b[0m         \u001b[1;32mif\u001b[0m \u001b[1;32mnot\u001b[0m \u001b[1;36m0\u001b[0m \u001b[1;33m<=\u001b[0m \u001b[0mk\u001b[0m \u001b[1;33m<=\u001b[0m \u001b[0mn\u001b[0m\u001b[1;33m:\u001b[0m\u001b[1;33m\u001b[0m\u001b[1;33m\u001b[0m\u001b[0m\n\u001b[1;32m--> 321\u001b[1;33m             \u001b[1;32mraise\u001b[0m \u001b[0mValueError\u001b[0m\u001b[1;33m(\u001b[0m\u001b[1;34m\"Sample larger than population or is negative\"\u001b[0m\u001b[1;33m)\u001b[0m\u001b[1;33m\u001b[0m\u001b[1;33m\u001b[0m\u001b[0m\n\u001b[0m\u001b[0;32m    322\u001b[0m         \u001b[0mresult\u001b[0m \u001b[1;33m=\u001b[0m \u001b[1;33m[\u001b[0m\u001b[1;32mNone\u001b[0m\u001b[1;33m]\u001b[0m \u001b[1;33m*\u001b[0m \u001b[0mk\u001b[0m\u001b[1;33m\u001b[0m\u001b[1;33m\u001b[0m\u001b[0m\n\u001b[0;32m    323\u001b[0m         \u001b[0msetsize\u001b[0m \u001b[1;33m=\u001b[0m \u001b[1;36m21\u001b[0m        \u001b[1;31m# size of a small set minus size of an empty list\u001b[0m\u001b[1;33m\u001b[0m\u001b[1;33m\u001b[0m\u001b[0m\n",
      "\u001b[1;31mValueError\u001b[0m: Sample larger than population or is negative"
     ]
    }
   ],
   "source": [
    "random.sample(l, k=14)"
   ]
  },
  {
   "cell_type": "code",
   "execution_count": 104,
   "metadata": {},
   "outputs": [],
   "source": [
    "suits = 'C', 'D', 'H', 'S'\n",
    "ranks = tuple(range(2, 11)) + tuple('JQKA')"
   ]
  },
  {
   "cell_type": "code",
   "execution_count": 105,
   "metadata": {},
   "outputs": [
    {
     "data": {
      "text/plain": [
       "(('C', 'D', 'H', 'S'), (2, 3, 4, 5, 6, 7, 8, 9, 10, 'J', 'Q', 'K', 'A'))"
      ]
     },
     "execution_count": 105,
     "metadata": {},
     "output_type": "execute_result"
    }
   ],
   "source": [
    "suits, ranks"
   ]
  },
  {
   "cell_type": "code",
   "execution_count": 110,
   "metadata": {},
   "outputs": [],
   "source": [
    "deck = [str(r) + s for s in suits for r in ranks]"
   ]
  },
  {
   "cell_type": "code",
   "execution_count": 111,
   "metadata": {},
   "outputs": [
    {
     "name": "stdout",
     "output_type": "stream",
     "text": [
      "['2C', '3C', '4C', '5C', '6C', '7C', '8C', '9C', '10C', 'JC', 'QC', 'KC', 'AC', '2D', '3D', '4D', '5D', '6D', '7D', '8D', '9D', '10D', 'JD', 'QD', 'KD', 'AD', '2H', '3H', '4H', '5H', '6H', '7H', '8H', '9H', '10H', 'JH', 'QH', 'KH', 'AH', '2S', '3S', '4S', '5S', '6S', '7S', '8S', '9S', '10S', 'JS', 'QS', 'KS', 'AS']\n"
     ]
    }
   ],
   "source": [
    "print(deck)"
   ]
  },
  {
   "cell_type": "code",
   "execution_count": 114,
   "metadata": {},
   "outputs": [
    {
     "data": {
      "text/plain": [
       "Counter({'KH': 2,\n",
       "         'KC': 1,\n",
       "         '10C': 1,\n",
       "         '10H': 1,\n",
       "         'AH': 2,\n",
       "         '6H': 1,\n",
       "         '4C': 3,\n",
       "         '9S': 1,\n",
       "         '10D': 2,\n",
       "         'JC': 1,\n",
       "         'AC': 1,\n",
       "         '10S': 1,\n",
       "         '7C': 4,\n",
       "         'KD': 1,\n",
       "         '8C': 1,\n",
       "         'QS': 2,\n",
       "         '5H': 1,\n",
       "         '3H': 1,\n",
       "         '5D': 1,\n",
       "         '4D': 1,\n",
       "         'AD': 2,\n",
       "         'QC': 1,\n",
       "         '4H': 1,\n",
       "         'JD': 1,\n",
       "         '6S': 1,\n",
       "         '2D': 1,\n",
       "         '9C': 1,\n",
       "         '7S': 1,\n",
       "         '7H': 1,\n",
       "         'JS': 1})"
      ]
     },
     "execution_count": 114,
     "metadata": {},
     "output_type": "execute_result"
    }
   ],
   "source": [
    "from collections import Counter\n",
    "Counter(random.choices(deck, k=40))"
   ]
  },
  {
   "cell_type": "code",
   "execution_count": 115,
   "metadata": {},
   "outputs": [
    {
     "data": {
      "text/plain": [
       "Counter({'3S': 1,\n",
       "         '9D': 1,\n",
       "         '8C': 1,\n",
       "         '2S': 1,\n",
       "         '5C': 1,\n",
       "         'QS': 1,\n",
       "         '4S': 1,\n",
       "         'KD': 1,\n",
       "         '4C': 1,\n",
       "         '6H': 1,\n",
       "         '10D': 1,\n",
       "         '7H': 1,\n",
       "         '7D': 1,\n",
       "         '8H': 1,\n",
       "         '9S': 1,\n",
       "         'KH': 1,\n",
       "         'AC': 1,\n",
       "         '5S': 1,\n",
       "         '7C': 1,\n",
       "         'AD': 1,\n",
       "         'JD': 1,\n",
       "         '6C': 1,\n",
       "         '9H': 1,\n",
       "         '10S': 1,\n",
       "         '5H': 1,\n",
       "         'JH': 1,\n",
       "         'AS': 1,\n",
       "         'JS': 1,\n",
       "         '2D': 1,\n",
       "         'QH': 1,\n",
       "         '9C': 1,\n",
       "         '2H': 1,\n",
       "         '10H': 1,\n",
       "         '5D': 1,\n",
       "         '3C': 1,\n",
       "         '2C': 1,\n",
       "         'AH': 1,\n",
       "         'QC': 1,\n",
       "         '3D': 1,\n",
       "         'QD': 1})"
      ]
     },
     "execution_count": 115,
     "metadata": {},
     "output_type": "execute_result"
    }
   ],
   "source": [
    "from collections import Counter\n",
    "Counter(random.sample(deck, k=40))"
   ]
  },
  {
   "cell_type": "code",
   "execution_count": null,
   "metadata": {},
   "outputs": [],
   "source": []
  }
 ],
 "metadata": {
  "kernelspec": {
   "display_name": "Python 3",
   "language": "python",
   "name": "python3"
  },
  "language_info": {
   "codemirror_mode": {
    "name": "ipython",
    "version": 3
   },
   "file_extension": ".py",
   "mimetype": "text/x-python",
   "name": "python",
   "nbconvert_exporter": "python",
   "pygments_lexer": "ipython3",
   "version": "3.7.3"
  }
 },
 "nbformat": 4,
 "nbformat_minor": 2
}
