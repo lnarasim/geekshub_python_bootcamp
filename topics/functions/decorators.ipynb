{
 "cells": [
  {
   "cell_type": "code",
   "execution_count": 2,
   "metadata": {},
   "outputs": [
    {
     "name": "stdout",
     "output_type": "stream",
     "text": [
      "decorated_func is being decorated\n",
      "I am being decorated\n",
      "decorated_func is decorated\n"
     ]
    }
   ],
   "source": [
    "# Let us do a simple decorator, this can be your boilerplate code for all decorators\n",
    "\n",
    "def decorator(func):\n",
    "    \n",
    "    def wrapper():\n",
    "        # Some operations before calling the decorated function\n",
    "        print(f\"{func.__name__} is being decorated\")\n",
    "        \n",
    "        result = func()\n",
    "        \n",
    "        # Some operations after calling the decorted function\n",
    "        print(f\"{func.__name__} is decorated\")\n",
    "        \n",
    "        return result\n",
    "    \n",
    "    return wrapper\n",
    "    \n",
    "def decorated_func():\n",
    "    print(\"I am being decorated\")\n",
    "    \n",
    "decorated_func = decorator(decorated_func)\n",
    "\n",
    "decorated_func()"
   ]
  },
  {
   "cell_type": "code",
   "execution_count": 8,
   "metadata": {},
   "outputs": [],
   "source": [
    "def func_introspection(f):\n",
    "    print(\"Closure:\", f.__closure__)\n",
    "    print(\"Name:\", f.__name__)\n",
    "    print(\"Free Variables: \", f.__code__.co_freevars)"
   ]
  },
  {
   "cell_type": "code",
   "execution_count": 11,
   "metadata": {},
   "outputs": [
    {
     "name": "stdout",
     "output_type": "stream",
     "text": [
      "I am being decorated, arg passed is 1\n",
      "func_with_one_arg took 0.0003226369999538292 secs to execute\n"
     ]
    }
   ],
   "source": [
    "# Let us write decorator to decorate a function with one argument\n",
    "from time import perf_counter\n",
    "\n",
    "def timer(func):\n",
    "    \n",
    "    def timer_wrapper(an_arg):\n",
    "        start = perf_counter()\n",
    "        result = func(an_arg)\n",
    "        end = perf_counter()\n",
    "        elapsed = end - start\n",
    "        \n",
    "        # Some operations after calling the decorted function\n",
    "        print(f\"{func.__name__} took {elapsed} secs to execute\")\n",
    "        \n",
    "        return result\n",
    "    \n",
    "    return timer_wrapper\n",
    "    \n",
    "def func_with_one_arg(a):\n",
    "    print(\"I am being decorated, arg passed is\", a)\n",
    "    \n",
    "func_with_one_arg = timer(func_with_one_arg)\n",
    "\n",
    "func_with_one_arg(1)"
   ]
  },
  {
   "cell_type": "code",
   "execution_count": 13,
   "metadata": {},
   "outputs": [
    {
     "name": "stdout",
     "output_type": "stream",
     "text": [
      "I am being decorated, arg passed is 1 and 2\n",
      "func_with_two_args took 0.00020081200000277022 secs to execute\n"
     ]
    }
   ],
   "source": [
    "# Let us write decorator to decorate a function with two arguments\n",
    "from time import perf_counter\n",
    "\n",
    "def timer(func):\n",
    "    \n",
    "    def timer_wrapper(an_arg, another_arg):\n",
    "        start = perf_counter()\n",
    "        result = func(an_arg, another_arg)\n",
    "        end = perf_counter()\n",
    "        elapsed = end - start\n",
    "        \n",
    "        # Some operations after calling the decorted function\n",
    "        print(f\"{func.__name__} took {elapsed} secs to execute\")\n",
    "        \n",
    "        return result\n",
    "    \n",
    "    return timer_wrapper\n",
    "    \n",
    "def func_with_two_args(a, b):\n",
    "    print(\"I am being decorated, arg passed is\", a, \"and\", b)\n",
    "    \n",
    "func_with_two_args = timer(func_with_two_args)\n",
    "\n",
    "func_with_two_args(1, 2)"
   ]
  },
  {
   "cell_type": "code",
   "execution_count": 28,
   "metadata": {},
   "outputs": [
    {
     "name": "stdout",
     "output_type": "stream",
     "text": [
      "I am being decorated, arg passed is () and {}\n",
      "any_number_of_args took 0.00044000000002597517 secs to execute\n",
      "I am being decorated, arg passed is (1,) and {}\n",
      "any_number_of_args took 0.0003346860000874585 secs to execute\n",
      "I am being decorated, arg passed is (1, 2) and {}\n",
      "any_number_of_args took 0.0004190259999177215 secs to execute\n",
      "I am being decorated, arg passed is (1, 2, 3) and {'a': 1, 'b': 2}\n",
      "any_number_of_args took 0.00029943200001980586 secs to execute\n",
      "I am being decorated, arg passed is () and {'a': 1, 'b': 2}\n",
      "any_number_of_args took 0.0003110340001057921 secs to execute\n"
     ]
    }
   ],
   "source": [
    "# Let us write decorator to decorate a function with any number of args\n",
    "from time import perf_counter\n",
    "\n",
    "def timer(func):\n",
    "    \n",
    "    def timer_wrapper(*args, **kwargs):\n",
    "        start = perf_counter()\n",
    "        result = func(*args, **kwargs)\n",
    "        end = perf_counter()\n",
    "        elapsed = end - start\n",
    "        \n",
    "        # Some operations after calling the decorted function\n",
    "        print(f\"{func.__name__} took {elapsed} secs to execute\")\n",
    "        \n",
    "        return result\n",
    "    \n",
    "    return timer_wrapper\n",
    "    \n",
    "def any_number_of_args(*args, **kwargs):\n",
    "    print(\"I am being decorated, arg passed is\", args, \"and\", kwargs)\n",
    "    \n",
    "any_number_of_args = timer(any_number_of_args)\n",
    "\n",
    "any_number_of_args()\n",
    "any_number_of_args(1)\n",
    "any_number_of_args(1, 2)\n",
    "any_number_of_args(1, 2, 3, a = 1, b = 2)\n",
    "any_number_of_args(a = 1, b = 2)"
   ]
  },
  {
   "cell_type": "code",
   "execution_count": 29,
   "metadata": {},
   "outputs": [
    {
     "name": "stdout",
     "output_type": "stream",
     "text": [
      "I am being decorated, arg passed is () and {}\n",
      "any_number_of_args took 0.00041902600014509517 secs to execute\n",
      "I am being decorated, arg passed is (1,) and {}\n",
      "any_number_of_args took 0.00018162199990001682 secs to execute\n",
      "I am being decorated, arg passed is (1, 2) and {}\n",
      "any_number_of_args took 0.00018117599984179833 secs to execute\n",
      "I am being decorated, arg passed is (1, 2, 3) and {'a': 1, 'b': 2}\n",
      "any_number_of_args took 0.00023115600015444215 secs to execute\n",
      "I am being decorated, arg passed is () and {'a': 1, 'b': 2}\n",
      "any_number_of_args took 0.00034628799994607107 secs to execute\n"
     ]
    }
   ],
   "source": [
    "# Let us use simple syntax to decorate using @\n",
    "\n",
    "@timer\n",
    "def any_number_of_args(*args, **kwargs):\n",
    "    print(\"I am being decorated, arg passed is\", args, \"and\", kwargs)\n",
    "    \n",
    "# any_number_of_args = timer(any_number_of_args) this is not required\n",
    "\n",
    "any_number_of_args()\n",
    "any_number_of_args(1)\n",
    "any_number_of_args(1, 2)\n",
    "any_number_of_args(1, 2, 3, a = 1, b = 2)\n",
    "any_number_of_args(a = 1, b = 2)"
   ]
  },
  {
   "cell_type": "code",
   "execution_count": 30,
   "metadata": {},
   "outputs": [],
   "source": [
    "def func_introspection(f):\n",
    "    print(\"Closure:\", f.__closure__)\n",
    "    print(\"Name:\", f.__name__)\n",
    "    print(\"Free Variables: \", f.__code__.co_freevars)"
   ]
  },
  {
   "cell_type": "code",
   "execution_count": 31,
   "metadata": {},
   "outputs": [
    {
     "name": "stdout",
     "output_type": "stream",
     "text": [
      "Closure: (<cell at 0x01728FB0: function object at 0x01566030>,)\n",
      "Name: timer_wrapper\n",
      "Free Variables:  ('func',)\n"
     ]
    }
   ],
   "source": [
    "# Let us do some function introspection\n",
    "func_introspection(any_number_of_args)"
   ]
  },
  {
   "cell_type": "code",
   "execution_count": 32,
   "metadata": {},
   "outputs": [],
   "source": [
    "# let us fix it\n",
    "\n",
    "from time import perf_counter\n",
    "from functools import wraps\n",
    "\n",
    "def timer(func):\n",
    "    \n",
    "    @wraps(func) # note this change\n",
    "    def timer_wrapper(*args, **kwargs):\n",
    "        start = perf_counter()\n",
    "        result = func(*args, **kwargs)\n",
    "        end = perf_counter()\n",
    "        elapsed = end - start\n",
    "        \n",
    "        # Some operations after calling the decorted function\n",
    "        print(f\"{func.__name__} took {elapsed} secs to execute\")\n",
    "        \n",
    "        return result\n",
    "    \n",
    "    return timer_wrapper"
   ]
  },
  {
   "cell_type": "code",
   "execution_count": 33,
   "metadata": {},
   "outputs": [
    {
     "name": "stdout",
     "output_type": "stream",
     "text": [
      "I am being decorated, arg passed is () and {}\n",
      "any_number_of_args took 0.00023874199996498646 secs to execute\n",
      "I am being decorated, arg passed is (1,) and {}\n",
      "any_number_of_args took 0.00016421899999841116 secs to execute\n",
      "I am being decorated, arg passed is (1, 2) and {}\n",
      "any_number_of_args took 0.00016511200010427274 secs to execute\n",
      "I am being decorated, arg passed is (1, 2, 3) and {'a': 1, 'b': 2}\n",
      "any_number_of_args took 0.00016689599988239934 secs to execute\n",
      "I am being decorated, arg passed is () and {'a': 1, 'b': 2}\n",
      "any_number_of_args took 0.0001820689999476599 secs to execute\n"
     ]
    }
   ],
   "source": [
    "@timer\n",
    "def any_number_of_args(*args, **kwargs):\n",
    "    print(\"I am being decorated, arg passed is\", args, \"and\", kwargs)\n",
    "    \n",
    "# any_number_of_args = timer(any_number_of_args) this is not required\n",
    "\n",
    "any_number_of_args()\n",
    "any_number_of_args(1)\n",
    "any_number_of_args(1, 2)\n",
    "any_number_of_args(1, 2, 3, a = 1, b = 2)\n",
    "any_number_of_args(a = 1, b = 2)"
   ]
  },
  {
   "cell_type": "code",
   "execution_count": 34,
   "metadata": {},
   "outputs": [
    {
     "name": "stdout",
     "output_type": "stream",
     "text": [
      "Closure: (<cell at 0x01728D30: function object at 0x06AE56F0>,)\n",
      "Name: any_number_of_args\n",
      "Free Variables:  ('func',)\n"
     ]
    }
   ],
   "source": [
    "# let us introspect the function again\n",
    "func_introspection(any_number_of_args)"
   ]
  },
  {
   "cell_type": "code",
   "execution_count": 35,
   "metadata": {},
   "outputs": [],
   "source": [
    "# can you write a simple decorator that decorates a given function\n",
    "# printing function signature. The function signature can be used\n",
    "# for debugging purposes"
   ]
  },
  {
   "cell_type": "code",
   "execution_count": 36,
   "metadata": {},
   "outputs": [],
   "source": [
    "# write a decorator to performance benchmark given function by\n",
    "# running it one million times and printing the average runtime\n",
    "# fastest time, slowest time"
   ]
  },
  {
   "cell_type": "code",
   "execution_count": null,
   "metadata": {},
   "outputs": [],
   "source": []
  }
 ],
 "metadata": {
  "kernelspec": {
   "display_name": "Python 3",
   "language": "python",
   "name": "python3"
  },
  "language_info": {
   "codemirror_mode": {
    "name": "ipython",
    "version": 3
   },
   "file_extension": ".py",
   "mimetype": "text/x-python",
   "name": "python",
   "nbconvert_exporter": "python",
   "pygments_lexer": "ipython3",
   "version": "3.7.2"
  }
 },
 "nbformat": 4,
 "nbformat_minor": 2
}
