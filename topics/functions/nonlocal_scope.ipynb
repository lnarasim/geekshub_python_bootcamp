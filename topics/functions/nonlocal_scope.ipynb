{
 "cells": [
  {
   "cell_type": "code",
   "execution_count": 3,
   "metadata": {},
   "outputs": [],
   "source": [
    "# Accessing nonlocal variable, from enclosing scope\n",
    "def outer():\n",
    "    x = 'hello'\n",
    "    def inner():\n",
    "        print(x)\n",
    "        \n",
    "    inner()"
   ]
  },
  {
   "cell_type": "code",
   "execution_count": 4,
   "metadata": {},
   "outputs": [
    {
     "name": "stdout",
     "output_type": "stream",
     "text": [
      "hello\n"
     ]
    }
   ],
   "source": [
    "outer()"
   ]
  },
  {
   "cell_type": "code",
   "execution_count": 7,
   "metadata": {},
   "outputs": [],
   "source": [
    "# Accessing nonlocal variable, from enclosing scope in a nested fn\n",
    "\n",
    "def outer():\n",
    "    x = 'hello'\n",
    "    \n",
    "    def inner1():\n",
    "        def inner2():\n",
    "            print(x)\n",
    "            \n",
    "        inner2()\n",
    "        \n",
    "    inner1()"
   ]
  },
  {
   "cell_type": "code",
   "execution_count": 8,
   "metadata": {},
   "outputs": [
    {
     "name": "stdout",
     "output_type": "stream",
     "text": [
      "hello\n"
     ]
    }
   ],
   "source": [
    "outer()"
   ]
  },
  {
   "cell_type": "code",
   "execution_count": 15,
   "metadata": {},
   "outputs": [],
   "source": [
    "# variable masking the variable of enclosing scope\n",
    "def outer():\n",
    "    x = 'hello'\n",
    "    \n",
    "    def inner():\n",
    "        x = 'python' # This becomes local variable masking outer x\n",
    "        print(\"inner:\", x) # print the x in current scope\n",
    "        \n",
    "    inner()\n",
    "    print(\"outer:\" , x) # print the x in current scope, outer()"
   ]
  },
  {
   "cell_type": "code",
   "execution_count": 16,
   "metadata": {},
   "outputs": [
    {
     "name": "stdout",
     "output_type": "stream",
     "text": [
      "inner: python\n",
      "outer: hello\n"
     ]
    }
   ],
   "source": [
    "outer()"
   ]
  },
  {
   "cell_type": "code",
   "execution_count": 23,
   "metadata": {},
   "outputs": [],
   "source": [
    "def outer():\n",
    "    x = 'hello'\n",
    "    def inner():\n",
    "        nonlocal x # use the x that comes first in enclosing scopes\n",
    "        x = 'python' # changes x of outer()\n",
    "        print(\"inner:\", x) \n",
    "    print(\"outer(before):\", x)\n",
    "    inner()\n",
    "    print(\"outer(after):\" , x) "
   ]
  },
  {
   "cell_type": "code",
   "execution_count": 24,
   "metadata": {},
   "outputs": [
    {
     "name": "stdout",
     "output_type": "stream",
     "text": [
      "outer(before): hello\n",
      "inner: python\n",
      "outer(after): python\n"
     ]
    }
   ],
   "source": [
    "outer()"
   ]
  },
  {
   "cell_type": "code",
   "execution_count": 27,
   "metadata": {},
   "outputs": [],
   "source": [
    "def outer():\n",
    "    x = 'hello'   \n",
    "    def inner1():\n",
    "        def inner2():\n",
    "            nonlocal x\n",
    "            x = \"python\"\n",
    "        inner2()\n",
    "    inner1()\n",
    "    print(\"outer: \", x)"
   ]
  },
  {
   "cell_type": "code",
   "execution_count": 28,
   "metadata": {},
   "outputs": [
    {
     "name": "stdout",
     "output_type": "stream",
     "text": [
      "outer:  python\n"
     ]
    }
   ],
   "source": [
    "outer()"
   ]
  },
  {
   "cell_type": "code",
   "execution_count": 29,
   "metadata": {},
   "outputs": [],
   "source": [
    "def outer():\n",
    "    x = 'hello'   \n",
    "    def inner1():\n",
    "        nonlocal x\n",
    "        x = 'python'\n",
    "        def inner2():\n",
    "            nonlocal x\n",
    "            x = \"monty\"\n",
    "        inner2()\n",
    "    inner1()\n",
    "    print(\"outer: \", x)"
   ]
  },
  {
   "cell_type": "code",
   "execution_count": 30,
   "metadata": {},
   "outputs": [
    {
     "name": "stdout",
     "output_type": "stream",
     "text": [
      "outer:  monty\n"
     ]
    }
   ],
   "source": [
    "outer()"
   ]
  },
  {
   "cell_type": "code",
   "execution_count": 31,
   "metadata": {},
   "outputs": [],
   "source": [
    "x = 'python'"
   ]
  },
  {
   "cell_type": "code",
   "execution_count": 32,
   "metadata": {},
   "outputs": [
    {
     "name": "stdout",
     "output_type": "stream",
     "text": [
      "python\n"
     ]
    }
   ],
   "source": [
    "print(x)"
   ]
  },
  {
   "cell_type": "code",
   "execution_count": 38,
   "metadata": {},
   "outputs": [
    {
     "ename": "SyntaxError",
     "evalue": "no binding for nonlocal 'x' found (<ipython-input-38-1a47561ef03b>, line 6)",
     "output_type": "error",
     "traceback": [
      "\u001b[1;36m  File \u001b[1;32m\"<ipython-input-38-1a47561ef03b>\"\u001b[1;36m, line \u001b[1;32m6\u001b[0m\n\u001b[1;33m    nonlocal x\u001b[0m\n\u001b[1;37m    ^\u001b[0m\n\u001b[1;31mSyntaxError\u001b[0m\u001b[1;31m:\u001b[0m no binding for nonlocal 'x' found\n"
     ]
    }
   ],
   "source": [
    "def outer():\n",
    "    global x\n",
    "    x = 'monty'\n",
    "    \n",
    "    def inner():\n",
    "        nonlocal x\n",
    "        x = 'hello'\n",
    "    inner()\n",
    "    print(x)"
   ]
  },
  {
   "cell_type": "code",
   "execution_count": 39,
   "metadata": {},
   "outputs": [
    {
     "name": "stdout",
     "output_type": "stream",
     "text": [
      "monty\n"
     ]
    }
   ],
   "source": [
    "outer()"
   ]
  },
  {
   "cell_type": "code",
   "execution_count": null,
   "metadata": {},
   "outputs": [],
   "source": []
  }
 ],
 "metadata": {
  "kernelspec": {
   "display_name": "Python 3",
   "language": "python",
   "name": "python3"
  },
  "language_info": {
   "codemirror_mode": {
    "name": "ipython",
    "version": 3
   },
   "file_extension": ".py",
   "mimetype": "text/x-python",
   "name": "python",
   "nbconvert_exporter": "python",
   "pygments_lexer": "ipython3",
   "version": "3.7.2"
  }
 },
 "nbformat": 4,
 "nbformat_minor": 2
}
