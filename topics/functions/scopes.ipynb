{
 "cells": [
  {
   "cell_type": "code",
   "execution_count": 36,
   "metadata": {},
   "outputs": [],
   "source": [
    "global_var = 10\n",
    "module_scope = 20"
   ]
  },
  {
   "cell_type": "code",
   "execution_count": 37,
   "metadata": {},
   "outputs": [
    {
     "name": "stdout",
     "output_type": "stream",
     "text": [
      "outer: local_variable = Python\n",
      "outer: global_var = 10\n",
      "outer: module_scope = 20\n",
      "calling inner...\n",
      "inner: local_variable = Rocks\n",
      "inner: global_var = this is not global variable\n",
      "inner: module_scope = this is also masked\n",
      "outer: local_variable = Python\n",
      "module: global_var = 10\n",
      "module: module_scope = 20\n"
     ]
    }
   ],
   "source": [
    "def outer():\n",
    "    local_variable = \"Python\"\n",
    "    print(f\"outer: local_variable = {local_variable}\")\n",
    "    print(f\"outer: global_var = {global_var}\")\n",
    "    print(f\"outer: module_scope = {module_scope}\")\n",
    "    \n",
    "    def inner():\n",
    "        # all these variable names masks variable in previous scopes\n",
    "        local_variable = \"Rocks\"\n",
    "        global_var = \"this is not global variable\"\n",
    "        module_scope = \"this is also masked\"\n",
    "        print(\"calling inner...\")\n",
    "        print(f\"inner: local_variable = {local_variable}\")\n",
    "        print(f\"inner: global_var = {global_var}\")\n",
    "        print(f\"inner: module_scope = {module_scope}\")\n",
    "        \n",
    "    inner()\n",
    "    print(f\"outer: local_variable = {local_variable}\")\n",
    "    \n",
    "outer()\n",
    "print(f\"module: global_var = {global_var}\")\n",
    "print(f\"module: module_scope = {module_scope}\")"
   ]
  },
  {
   "cell_type": "code",
   "execution_count": 38,
   "metadata": {},
   "outputs": [
    {
     "name": "stdout",
     "output_type": "stream",
     "text": [
      "outer\n",
      "inner\n",
      "inner\n",
      "inner\n"
     ]
    }
   ],
   "source": [
    "def outer():\n",
    "    local_var = \"outer\" # points to outer now\n",
    "    print(local_var)\n",
    "    \n",
    "    def inner():\n",
    "        nonlocal local_var        \n",
    "        local_var = \"inner\" # refers to local_var in outer, resets the pointer to inner\n",
    "        print(local_var)\n",
    "        \n",
    "    inner()\n",
    "    print(local_var) # continues to point to inner\n",
    "    \n",
    "outer()\n",
    "print(var)"
   ]
  },
  {
   "cell_type": "code",
   "execution_count": 39,
   "metadata": {},
   "outputs": [
    {
     "name": "stdout",
     "output_type": "stream",
     "text": [
      "global\n",
      "outer\n",
      "inner\n",
      "inner\n",
      "inner\n"
     ]
    }
   ],
   "source": [
    "var = \"global\"\n",
    "print(var)\n",
    "def outer():\n",
    "    global var\n",
    "    var = \"outer\" # global var now points to \"outer\"\n",
    "    print(var)\n",
    "    \n",
    "    def inner():\n",
    "        global var\n",
    "        var = \"inner\" # global var now points to \"inner\"\n",
    "        print(var)\n",
    "        \n",
    "    inner()\n",
    "    print(var) # continues to point to inner\n",
    "    \n",
    "outer()\n",
    "print(var)"
   ]
  },
  {
   "cell_type": "code",
   "execution_count": 40,
   "metadata": {},
   "outputs": [
    {
     "name": "stdout",
     "output_type": "stream",
     "text": [
      "global\n",
      "outer\n",
      "inner\n",
      "outer\n",
      "outer\n"
     ]
    }
   ],
   "source": [
    "var = \"global\"\n",
    "print(var)\n",
    "def outer():\n",
    "    global var\n",
    "    var = \"outer\" # global var now points to \"outer\"\n",
    "    print(var)\n",
    "    \n",
    "    def inner():        \n",
    "        var = \"inner\" # local variable created and points to inner\n",
    "        print(var)\n",
    "        \n",
    "    inner()\n",
    "    print(var) # continues to point to outer\n",
    "    \n",
    "outer()\n",
    "print(var)"
   ]
  },
  {
   "cell_type": "code",
   "execution_count": 45,
   "metadata": {},
   "outputs": [
    {
     "name": "stdout",
     "output_type": "stream",
     "text": [
      "global\n",
      "outer\n",
      "inner\n",
      "outer\n",
      "inner\n"
     ]
    }
   ],
   "source": [
    "var = \"global\"\n",
    "print(var)\n",
    "def outer():    \n",
    "    var = \"outer\"\n",
    "    print(var)\n",
    "    \n",
    "    def inner():\n",
    "        global var        \n",
    "        var = \"inner\" # global var now points to \"inner\"\n",
    "        print(var)\n",
    "        \n",
    "    inner()\n",
    "    print(var) # continues to point to outer\n",
    "    \n",
    "outer()\n",
    "print(var)"
   ]
  },
  {
   "cell_type": "code",
   "execution_count": 46,
   "metadata": {},
   "outputs": [
    {
     "name": "stdout",
     "output_type": "stream",
     "text": [
      "global\n",
      "outer\n",
      "inner\n",
      "inner\n",
      "global\n"
     ]
    }
   ],
   "source": [
    "var = \"global\"\n",
    "print(var)\n",
    "def outer():    \n",
    "    var = \"outer\"\n",
    "    print(var)\n",
    "    \n",
    "    def inner():\n",
    "        nonlocal var        \n",
    "        var = \"inner\" # global var now points to \"inner\"\n",
    "        print(var)\n",
    "        \n",
    "    inner()\n",
    "    print(var) # continues to point to outer\n",
    "    \n",
    "outer()\n",
    "print(var)"
   ]
  },
  {
   "cell_type": "code",
   "execution_count": 47,
   "metadata": {},
   "outputs": [
    {
     "name": "stdout",
     "output_type": "stream",
     "text": [
      "global\n"
     ]
    },
    {
     "ename": "SyntaxError",
     "evalue": "no binding for nonlocal 'var1' found (<ipython-input-47-f91203d5ed23>, line 8)",
     "output_type": "error",
     "traceback": [
      "\u001b[1;36m  File \u001b[1;32m\"<ipython-input-47-f91203d5ed23>\"\u001b[1;36m, line \u001b[1;32m8\u001b[0m\n\u001b[1;33m    nonlocal var1\u001b[0m\n\u001b[1;37m    ^\u001b[0m\n\u001b[1;31mSyntaxError\u001b[0m\u001b[1;31m:\u001b[0m no binding for nonlocal 'var1' found\n"
     ]
    }
   ],
   "source": [
    "var = \"global\"\n",
    "print(var)\n",
    "def outer():    \n",
    "    var = \"outer\"\n",
    "    print(var)\n",
    "    \n",
    "    def inner():\n",
    "        nonlocal var1      \n",
    "        var = \"inner\" # global var now points to \"inner\"\n",
    "        print(var)\n",
    "        \n",
    "    inner()\n",
    "    print(var) # continues to point to outer\n",
    "    \n",
    "outer()\n",
    "print(var)"
   ]
  },
  {
   "cell_type": "code",
   "execution_count": 49,
   "metadata": {},
   "outputs": [
    {
     "name": "stdout",
     "output_type": "stream",
     "text": [
      "global\n",
      "global\n"
     ]
    }
   ],
   "source": [
    "var = \"global\"\n",
    "def outer():\n",
    "    def inner1():\n",
    "        def inner2():\n",
    "            x = var\n",
    "            print(x)\n",
    "            #var = \"local\"\n",
    "        inner2()\n",
    "    inner1()\n",
    "outer()\n",
    "print(var)"
   ]
  },
  {
   "cell_type": "code",
   "execution_count": 51,
   "metadata": {},
   "outputs": [
    {
     "name": "stdout",
     "output_type": "stream",
     "text": [
      "inner1\n",
      "global\n"
     ]
    }
   ],
   "source": [
    "var = \"global\"\n",
    "def outer():\n",
    "    var = \"outer\"\n",
    "    def inner1():\n",
    "        var = \"inner1\"\n",
    "        def inner2():\n",
    "            x = var\n",
    "            print(x)\n",
    "            #var = \"local\"\n",
    "        inner2()\n",
    "    inner1()\n",
    "outer()\n",
    "print(var)"
   ]
  },
  {
   "cell_type": "code",
   "execution_count": null,
   "metadata": {},
   "outputs": [],
   "source": []
  }
 ],
 "metadata": {
  "kernelspec": {
   "display_name": "Python 3",
   "language": "python",
   "name": "python3"
  },
  "language_info": {
   "codemirror_mode": {
    "name": "ipython",
    "version": 3
   },
   "file_extension": ".py",
   "mimetype": "text/x-python",
   "name": "python",
   "nbconvert_exporter": "python",
   "pygments_lexer": "ipython3",
   "version": "3.7.2"
  }
 },
 "nbformat": 4,
 "nbformat_minor": 2
}
