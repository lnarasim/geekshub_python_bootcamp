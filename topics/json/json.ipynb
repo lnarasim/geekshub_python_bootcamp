{
 "cells": [
  {
   "cell_type": "code",
   "execution_count": 26,
   "metadata": {},
   "outputs": [],
   "source": [
    "import json"
   ]
  },
  {
   "cell_type": "code",
   "execution_count": 27,
   "metadata": {},
   "outputs": [],
   "source": [
    "employee_details = {'name': 'Lakshmi', 'age': 25, 'address': \"Chennai\"}\n",
    "JSON_FILE = \"employee.json\""
   ]
  },
  {
   "cell_type": "code",
   "execution_count": 28,
   "metadata": {},
   "outputs": [],
   "source": [
    "# Let us serialize the employee_details to json\n",
    "with open(JSON_FILE, \"w\") as json_file:\n",
    "    json.dump(employee_details, json_file)"
   ]
  },
  {
   "cell_type": "code",
   "execution_count": 29,
   "metadata": {},
   "outputs": [],
   "source": [
    "# let u open the file and see the contents\n",
    "def show_contents(filename):\n",
    "    with open(filename) as file:\n",
    "        contents = file.read()\n",
    "    return contents"
   ]
  },
  {
   "cell_type": "code",
   "execution_count": 30,
   "metadata": {},
   "outputs": [
    {
     "name": "stdout",
     "output_type": "stream",
     "text": [
      "{\"name\": \"Lakshmi\", \"age\": 25, \"address\": \"Chennai\"}\n"
     ]
    }
   ],
   "source": [
    "print(show_contents(JSON_FILE))"
   ]
  },
  {
   "cell_type": "code",
   "execution_count": 31,
   "metadata": {},
   "outputs": [],
   "source": [
    "# Let us serialize and indent with four spaces\n",
    "with open(JSON_FILE, \"w\") as json_file:\n",
    "    json.dump(employee_details, json_file, indent=4)"
   ]
  },
  {
   "cell_type": "code",
   "execution_count": 32,
   "metadata": {},
   "outputs": [
    {
     "name": "stdout",
     "output_type": "stream",
     "text": [
      "{\n",
      "    \"name\": \"Lakshmi\",\n",
      "    \"age\": 25,\n",
      "    \"address\": \"Chennai\"\n",
      "}\n"
     ]
    }
   ],
   "source": [
    "print(show_contents(JSON_FILE))"
   ]
  },
  {
   "cell_type": "code",
   "execution_count": 57,
   "metadata": {},
   "outputs": [
    {
     "name": "stdout",
     "output_type": "stream",
     "text": [
      "{\n",
      "  \"repositories\": [\n",
      "    {\n",
      "      \"id\": 179986126,\n",
      "      \"name\": \"airspace-jekyll\",\n",
      "      \"owner\": \"lnarasim\"\n",
      "    },\n",
      "    {\n",
      "      \"id\": 114791564,\n",
      "      \"name\": \"assorted\",\n",
      "      \"owner\": \"lnarasim\"\n",
      "    },\n",
      "    {\n",
      "      \"id\": 176408291,\n",
      "      \"name\": \"docker-react\",\n",
      "      \"owner\": \"lnarasim\"\n",
      "    },\n",
      "    {\n",
      "      \"id\": 182516892,\n",
      "      \"name\": \"geekshub_competition\",\n",
      "      \"owner\": \"lnarasim\"\n",
      "    },\n",
      "    {\n",
      "      \"id\": 179328417,\n",
      "      \"name\": \"geekshub_python_bootcamp\",\n",
      "      \"owner\": \"lnarasim\"\n",
      "    },\n",
      "    {\n",
      "      \"id\": 132221766,\n",
      "      \"name\": \"golangbyexamples\",\n",
      "      \"owner\": \"lnarasim\"\n",
      "    },\n",
      "    {\n",
      "      \"id\": 131564206,\n",
      "      \"name\": \"kotlinbyexamples\",\n",
      "      \"owner\": \"lnarasim\"\n",
      "    },\n",
      "    {\n",
      "      \"id\": 114239535,\n",
      "      \"name\": \"learningpython\",\n",
      "      \"owner\": \"lnarasim\"\n",
      "    },\n",
      "    {\n",
      "      \"id\": 174080806,\n",
      "      \"name\": \"lnarasim.github.io\",\n",
      "      \"owner\": \"lnarasim\"\n",
      "    },\n",
      "    {\n",
      "      \"id\": 163727122,\n",
      "      \"name\": \"lnarasim_iact.github.io\",\n",
      "      \"owner\": \"lnarasim\"\n",
      "    },\n",
      "    {\n",
      "      \"id\": 168296142,\n",
      "      \"name\": \"LP3THW\",\n",
      "      \"owner\": \"lnarasim\"\n",
      "    },\n",
      "    {\n",
      "      \"id\": 176628148,\n",
      "      \"name\": \"multi-docker\",\n",
      "      \"owner\": \"lnarasim\"\n",
      "    },\n",
      "    {\n",
      "      \"id\": 14269757,\n",
      "      \"name\": \"practice\",\n",
      "      \"owner\": \"lnarasim\"\n",
      "    },\n",
      "    {\n",
      "      \"id\": 113885833,\n",
      "      \"name\": \"pythoncrashcourse\",\n",
      "      \"owner\": \"lnarasim\"\n",
      "    }\n",
      "  ]\n",
      "}\n"
     ]
    }
   ],
   "source": [
    "# let us put things together.\n",
    "# in this example, i am going to pull my github details using rest api and save the details locally\n",
    "# in a file.\n",
    "\n",
    "import requests\n",
    "\n",
    "url = \"https://api.github.com/users/lnarasim/repos\"\n",
    "response = requests.get(\"https://api.github.com/users/lnarasim/repos\")\n",
    "\n",
    "json_data = response.text\n",
    "git_repos = json.loads(json_data)\n",
    "repos = list()\n",
    "for repo in git_repos:\n",
    "    repo_dict = dict()   \n",
    "    repo_dict['id'] = repo['id']\n",
    "    repo_dict['name'] = repo['name']\n",
    "    repo_dict['owner'] = repo['owner']['login']\n",
    "    repos.append(repo_dict)\n",
    "\n",
    "repos_data = {'repositories': repos}\n",
    "with open(\"git_repos_file.json\", \"w\") as json_file:\n",
    "    json.dump(repos_data, json_file, indent=4)\n",
    "    \n",
    "# Let us dump as json string\n",
    "print((json.dumps(repos_data, indent=2)))"
   ]
  },
  {
   "cell_type": "code",
   "execution_count": null,
   "metadata": {},
   "outputs": [],
   "source": []
  }
 ],
 "metadata": {
  "kernelspec": {
   "display_name": "Python 3",
   "language": "python",
   "name": "python3"
  },
  "language_info": {
   "codemirror_mode": {
    "name": "ipython",
    "version": 3
   },
   "file_extension": ".py",
   "mimetype": "text/x-python",
   "name": "python",
   "nbconvert_exporter": "python",
   "pygments_lexer": "ipython3",
   "version": "3.7.2"
  }
 },
 "nbformat": 4,
 "nbformat_minor": 2
}
