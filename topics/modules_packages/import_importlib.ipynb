{
 "cells": [
  {
   "cell_type": "code",
   "execution_count": 1,
   "metadata": {},
   "outputs": [],
   "source": [
    "import sys"
   ]
  },
  {
   "cell_type": "code",
   "execution_count": 2,
   "metadata": {},
   "outputs": [
    {
     "name": "stdout",
     "output_type": "stream",
     "text": [
      "sys\n",
      "builtins\n",
      "_frozen_importlib\n",
      "_imp\n",
      "_thread\n",
      "_warnings\n",
      "_weakref\n",
      "zipimport\n",
      "_frozen_importlib_external\n",
      "_io\n",
      "marshal\n",
      "nt\n",
      "winreg\n",
      "encodings\n",
      "codecs\n",
      "_codecs\n",
      "encodings.aliases\n",
      "encodings.utf_8\n",
      "_signal\n",
      "__main__\n",
      "encodings.latin_1\n",
      "io\n",
      "abc\n",
      "_abc\n",
      "_bootlocale\n",
      "_locale\n",
      "encodings.cp1252\n",
      "site\n",
      "os\n",
      "stat\n",
      "_stat\n",
      "ntpath\n",
      "genericpath\n",
      "os.path\n",
      "_collections_abc\n",
      "_sitebuiltins\n",
      "types\n",
      "importlib\n",
      "importlib._bootstrap\n",
      "importlib._bootstrap_external\n",
      "warnings\n",
      "importlib.util\n",
      "importlib.abc\n",
      "importlib.machinery\n",
      "contextlib\n",
      "collections\n",
      "operator\n",
      "_operator\n",
      "keyword\n",
      "heapq\n",
      "_heapq\n",
      "itertools\n",
      "reprlib\n",
      "_collections\n",
      "functools\n",
      "_functools\n",
      "mpl_toolkits\n",
      "runpy\n",
      "pkgutil\n",
      "weakref\n",
      "_weakrefset\n",
      "ipykernel\n",
      "ipykernel._version\n",
      "ipykernel.connect\n",
      "__future__\n",
      "json\n",
      "json.decoder\n",
      "re\n",
      "enum\n",
      "sre_compile\n",
      "_sre\n",
      "sre_parse\n",
      "sre_constants\n",
      "copyreg\n",
      "json.scanner\n",
      "_json\n",
      "json.encoder\n",
      "subprocess\n",
      "time\n",
      "signal\n",
      "errno\n",
      "threading\n",
      "traceback\n",
      "linecache\n",
      "tokenize\n",
      "token\n",
      "msvcrt\n",
      "_winapi\n",
      "IPython\n",
      "IPython.core\n",
      "IPython.core.getipython\n",
      "IPython.core.release\n",
      "IPython.core.application\n",
      "atexit\n",
      "copy\n",
      "glob\n",
      "fnmatch\n",
      "posixpath\n",
      "logging\n",
      "collections.abc\n",
      "string\n",
      "_string\n",
      "shutil\n",
      "zlib\n",
      "bz2\n",
      "_compression\n",
      "_bz2\n",
      "lzma\n",
      "_lzma\n",
      "traitlets\n",
      "traitlets.traitlets\n",
      "inspect\n",
      "dis\n",
      "opcode\n",
      "_opcode\n",
      "six\n",
      "struct\n",
      "_struct\n",
      "traitlets.utils\n",
      "traitlets.utils.getargspec\n",
      "traitlets.utils.importstring\n",
      "ipython_genutils\n",
      "ipython_genutils._version\n",
      "ipython_genutils.py3compat\n",
      "ipython_genutils.encoding\n",
      "locale\n",
      "platform\n",
      "traitlets.utils.sentinel\n",
      "traitlets.utils.bunch\n",
      "traitlets._version\n",
      "traitlets.config\n",
      "traitlets.config.application\n",
      "decorator\n",
      "traitlets.config.configurable\n",
      "traitlets.config.loader\n",
      "argparse\n",
      "gettext\n",
      "ast\n",
      "_ast\n",
      "ipython_genutils.path\n",
      "random\n",
      "math\n",
      "hashlib\n",
      "_hashlib\n",
      "_blake2\n",
      "_sha3\n",
      "bisect\n",
      "_bisect\n",
      "_random\n",
      "ipython_genutils.text\n",
      "textwrap\n",
      "ipython_genutils.importstring\n",
      "IPython.core.crashhandler\n",
      "pprint\n",
      "IPython.core.ultratb\n",
      "pydoc\n",
      "urllib\n",
      "urllib.parse\n",
      "IPython.core.debugger\n",
      "bdb\n",
      "IPython.utils\n",
      "IPython.utils.PyColorize\n",
      "IPython.utils.coloransi\n",
      "IPython.utils.ipstruct\n",
      "IPython.utils.colorable\n",
      "pygments\n",
      "pygments.util\n",
      "IPython.utils.py3compat\n",
      "IPython.utils.encoding\n",
      "IPython.core.excolors\n",
      "IPython.testing\n",
      "IPython.testing.skipdoctest\n",
      "pdb\n",
      "cmd\n",
      "code\n",
      "codeop\n",
      "IPython.core.display_trap\n",
      "IPython.utils.path\n",
      "IPython.utils.process\n",
      "IPython.utils._process_win32\n",
      "ctypes\n",
      "_ctypes\n",
      "ctypes._endian\n",
      "ctypes.wintypes\n",
      "IPython.utils._process_common\n",
      "shlex\n",
      "IPython.utils.decorators\n",
      "IPython.utils.data\n",
      "IPython.utils.terminal\n",
      "IPython.utils.sysinfo\n",
      "IPython.utils._sysinfo\n",
      "IPython.core.profiledir\n",
      "IPython.paths\n",
      "tempfile\n",
      "IPython.utils.importstring\n",
      "IPython.terminal\n",
      "IPython.terminal.embed\n",
      "IPython.core.compilerop\n",
      "IPython.core.magic_arguments\n",
      "IPython.core.error\n",
      "IPython.utils.text\n",
      "pathlib\n",
      "IPython.core.magic\n",
      "getopt\n",
      "IPython.core.oinspect\n",
      "IPython.core.page\n",
      "IPython.core.display\n",
      "binascii\n",
      "mimetypes\n",
      "IPython.lib\n",
      "IPython.lib.security\n",
      "getpass\n",
      "IPython.lib.pretty\n",
      "datetime\n",
      "_datetime\n",
      "IPython.utils.openpy\n",
      "IPython.utils.dir2\n",
      "IPython.utils.wildcard\n",
      "pygments.lexers\n",
      "pygments.lexers._mapping\n",
      "pygments.modeline\n",
      "pygments.plugin\n",
      "pygments.lexers.python\n",
      "pygments.lexer\n",
      "pygments.filter\n",
      "pygments.filters\n",
      "pygments.token\n",
      "pygments.regexopt\n",
      "pygments.unistring\n",
      "pygments.formatters\n",
      "pygments.formatters._mapping\n",
      "pygments.formatters.html\n",
      "pygments.formatter\n",
      "pygments.styles\n",
      "IPython.core.inputtransformer2\n",
      "typing\n",
      "typing.io\n",
      "typing.re\n",
      "IPython.core.interactiveshell\n",
      "asyncio\n",
      "asyncio.base_events\n",
      "concurrent\n",
      "concurrent.futures\n",
      "concurrent.futures._base\n",
      "socket\n",
      "_socket\n",
      "selectors\n",
      "select\n",
      "ssl\n",
      "_ssl\n",
      "base64\n",
      "asyncio.constants\n",
      "asyncio.coroutines\n",
      "asyncio.base_futures\n",
      "asyncio.format_helpers\n",
      "asyncio.log\n",
      "asyncio.events\n",
      "contextvars\n",
      "_contextvars\n",
      "asyncio.base_tasks\n",
      "_asyncio\n",
      "asyncio.futures\n",
      "asyncio.protocols\n",
      "asyncio.sslproto\n",
      "asyncio.transports\n",
      "asyncio.tasks\n",
      "asyncio.locks\n",
      "asyncio.runners\n",
      "asyncio.queues\n",
      "asyncio.streams\n",
      "asyncio.subprocess\n",
      "asyncio.windows_events\n",
      "_overlapped\n",
      "asyncio.base_subprocess\n",
      "asyncio.proactor_events\n",
      "asyncio.selector_events\n",
      "asyncio.windows_utils\n",
      "pickleshare\n",
      "pickle\n",
      "_compat_pickle\n",
      "_pickle\n",
      "IPython.core.prefilter\n",
      "IPython.core.autocall\n",
      "IPython.core.macro\n",
      "IPython.core.splitinput\n",
      "IPython.core.alias\n",
      "IPython.core.builtin_trap\n",
      "IPython.core.events\n",
      "backcall\n",
      "backcall.backcall\n",
      "IPython.core.displayhook\n",
      "IPython.core.displaypub\n",
      "IPython.core.extensions\n",
      "IPython.core.formatters\n",
      "IPython.utils.sentinel\n",
      "IPython.core.history\n",
      "sqlite3\n",
      "sqlite3.dbapi2\n",
      "_sqlite3\n",
      "IPython.core.logger\n",
      "IPython.core.payload\n",
      "IPython.core.usage\n",
      "IPython.display\n",
      "IPython.lib.display\n",
      "html\n",
      "html.entities\n",
      "IPython.utils.io\n",
      "IPython.utils.capture\n",
      "IPython.utils.strdispatch\n",
      "IPython.core.hooks\n",
      "IPython.utils.syspathcontext\n",
      "IPython.utils.tempdir\n",
      "IPython.utils.contexts\n",
      "IPython.core.async_helpers\n",
      "IPython.terminal.interactiveshell\n",
      "prompt_toolkit\n",
      "prompt_toolkit.application\n",
      "prompt_toolkit.application.application\n",
      "prompt_toolkit.buffer\n",
      "prompt_toolkit.application.current\n",
      "prompt_toolkit.eventloop\n",
      "prompt_toolkit.eventloop.base\n",
      "prompt_toolkit.log\n",
      "prompt_toolkit.eventloop.coroutine\n",
      "prompt_toolkit.eventloop.defaults\n",
      "prompt_toolkit.utils\n",
      "six.moves\n",
      "wcwidth\n",
      "wcwidth.wcwidth\n",
      "wcwidth.table_wide\n",
      "wcwidth.table_zero\n",
      "prompt_toolkit.cache\n",
      "prompt_toolkit.eventloop.future\n",
      "prompt_toolkit.eventloop.context\n",
      "prompt_toolkit.eventloop.async_generator\n",
      "queue\n",
      "_queue\n",
      "six.moves.queue\n",
      "prompt_toolkit.eventloop.event\n",
      "prompt_toolkit.application.run_in_terminal\n",
      "prompt_toolkit.auto_suggest\n",
      "prompt_toolkit.filters\n",
      "prompt_toolkit.filters.base\n",
      "prompt_toolkit.filters.app\n",
      "prompt_toolkit.enums\n",
      "prompt_toolkit.filters.utils\n",
      "prompt_toolkit.filters.cli\n",
      "prompt_toolkit.clipboard\n",
      "prompt_toolkit.clipboard.base\n",
      "prompt_toolkit.selection\n",
      "prompt_toolkit.clipboard.in_memory\n",
      "prompt_toolkit.completion\n",
      "prompt_toolkit.completion.base\n",
      "prompt_toolkit.completion.filesystem\n",
      "prompt_toolkit.completion.word_completer\n",
      "prompt_toolkit.completion.fuzzy_completer\n",
      "prompt_toolkit.document\n",
      "prompt_toolkit.history\n",
      "prompt_toolkit.search\n",
      "prompt_toolkit.key_binding\n",
      "prompt_toolkit.key_binding.key_bindings\n",
      "prompt_toolkit.keys\n",
      "prompt_toolkit.key_binding.vi_state\n",
      "prompt_toolkit.validation\n",
      "prompt_toolkit.input\n",
      "prompt_toolkit.input.base\n",
      "prompt_toolkit.input.defaults\n",
      "prompt_toolkit.input.typeahead\n",
      "prompt_toolkit.key_binding.bindings\n",
      "prompt_toolkit.key_binding.bindings.page_navigation\n",
      "prompt_toolkit.key_binding.bindings.scroll\n",
      "prompt_toolkit.key_binding.defaults\n",
      "prompt_toolkit.key_binding.bindings.basic\n",
      "prompt_toolkit.key_binding.key_processor\n",
      "prompt_toolkit.key_binding.bindings.named_commands\n",
      "prompt_toolkit.key_binding.bindings.completion\n",
      "prompt_toolkit.key_binding.bindings.emacs\n",
      "prompt_toolkit.key_binding.bindings.vi\n",
      "prompt_toolkit.input.vt100_parser\n",
      "prompt_toolkit.input.ansi_escape_sequences\n",
      "prompt_toolkit.key_binding.digraphs\n",
      "prompt_toolkit.key_binding.bindings.mouse\n",
      "prompt_toolkit.layout\n",
      "prompt_toolkit.layout.containers\n",
      "prompt_toolkit.layout.controls\n",
      "prompt_toolkit.formatted_text\n",
      "prompt_toolkit.formatted_text.base\n",
      "prompt_toolkit.formatted_text.html\n",
      "xml\n",
      "xml.dom\n",
      "xml.dom.domreg\n",
      "xml.dom.minidom\n",
      "xml.dom.minicompat\n",
      "xml.dom.xmlbuilder\n",
      "xml.dom.NodeFilter\n",
      "prompt_toolkit.formatted_text.ansi\n",
      "prompt_toolkit.output\n",
      "prompt_toolkit.output.base\n",
      "prompt_toolkit.layout.screen\n",
      "prompt_toolkit.output.defaults\n",
      "prompt_toolkit.output.color_depth\n",
      "prompt_toolkit.output.vt100\n",
      "prompt_toolkit.styles\n",
      "prompt_toolkit.styles.base\n",
      "prompt_toolkit.styles.defaults\n",
      "prompt_toolkit.styles.style\n",
      "prompt_toolkit.styles.named_colors\n",
      "prompt_toolkit.styles.pygments\n",
      "prompt_toolkit.styles.style_transformation\n",
      "colorsys\n",
      "array\n",
      "prompt_toolkit.formatted_text.pygments\n",
      "prompt_toolkit.formatted_text.utils\n",
      "prompt_toolkit.lexers\n",
      "prompt_toolkit.lexers.base\n",
      "prompt_toolkit.lexers.pygments\n",
      "prompt_toolkit.mouse_events\n",
      "prompt_toolkit.layout.processors\n",
      "prompt_toolkit.layout.utils\n",
      "prompt_toolkit.layout.dimension\n",
      "prompt_toolkit.layout.margins\n",
      "prompt_toolkit.layout.layout\n",
      "prompt_toolkit.layout.menus\n",
      "prompt_toolkit.renderer\n",
      "prompt_toolkit.layout.mouse_handlers\n",
      "prompt_toolkit.key_binding.bindings.cpr\n",
      "prompt_toolkit.key_binding.emacs_state\n",
      "prompt_toolkit.layout.dummy\n",
      "prompt_toolkit.application.dummy\n",
      "prompt_toolkit.shortcuts\n",
      "prompt_toolkit.shortcuts.dialogs\n",
      "prompt_toolkit.key_binding.bindings.focus\n",
      "prompt_toolkit.widgets\n",
      "prompt_toolkit.widgets.base\n",
      "prompt_toolkit.widgets.toolbars\n",
      "prompt_toolkit.widgets.dialogs\n",
      "prompt_toolkit.widgets.menus\n",
      "prompt_toolkit.shortcuts.prompt\n",
      "prompt_toolkit.key_binding.bindings.auto_suggest\n",
      "prompt_toolkit.key_binding.bindings.open_in_editor\n",
      "prompt_toolkit.shortcuts.utils\n",
      "prompt_toolkit.shortcuts.progress_bar\n",
      "prompt_toolkit.shortcuts.progress_bar.base\n",
      "prompt_toolkit.shortcuts.progress_bar.formatters\n",
      "prompt_toolkit.patch_stdout\n",
      "pygments.style\n",
      "IPython.terminal.debugger\n",
      "IPython.core.completer\n",
      "unicodedata\n",
      "IPython.core.latex_symbols\n",
      "IPython.utils.generics\n",
      "jedi\n",
      "jedi.api\n",
      "parso\n",
      "parso.parser\n",
      "parso.tree\n",
      "parso._compatibility\n",
      "parso.utils\n",
      "parso.pgen2\n",
      "parso.pgen2.generator\n",
      "parso.pgen2.grammar_parser\n",
      "parso.python\n",
      "parso.python.tokenize\n",
      "parso.python.token\n",
      "parso.grammar\n",
      "parso.python.diff\n",
      "difflib\n",
      "parso.python.parser\n",
      "parso.python.tree\n",
      "parso.python.prefix\n",
      "parso.cache\n",
      "gc\n",
      "parso.python.errors\n",
      "parso.normalizer\n",
      "parso.python.pep8\n",
      "jedi._compatibility\n",
      "jedi.parser_utils\n",
      "jedi.debug\n",
      "jedi.settings\n",
      "jedi.cache\n",
      "jedi.api.classes\n",
      "jedi.evaluate\n",
      "jedi.evaluate.utils\n",
      "jedi.evaluate.imports\n",
      "jedi.evaluate.sys_path\n",
      "jedi.evaluate.cache\n",
      "jedi.evaluate.base_context\n",
      "jedi.common\n",
      "jedi.common.context\n",
      "jedi.evaluate.helpers\n",
      "jedi.common.utils\n",
      "jedi.evaluate.compiled\n",
      "jedi.evaluate.compiled.context\n",
      "jedi.evaluate.filters\n",
      "jedi.evaluate.flow_analysis\n",
      "jedi.evaluate.recursion\n",
      "jedi.evaluate.lazy_context\n",
      "jedi.evaluate.compiled.access\n",
      "jedi.evaluate.compiled.getattr_static\n",
      "jedi.evaluate.compiled.fake\n",
      "jedi.evaluate.analysis\n",
      "jedi.evaluate.context\n",
      "jedi.evaluate.context.module\n",
      "jedi.evaluate.context.klass\n",
      "jedi.evaluate.context.function\n",
      "jedi.evaluate.docstrings\n",
      "jedi.evaluate.pep0484\n",
      "jedi.evaluate.arguments\n",
      "jedi.evaluate.context.iterable\n",
      "jedi.evaluate.param\n",
      "jedi.evaluate.context.asynchronous\n",
      "jedi.evaluate.parser_cache\n",
      "jedi.evaluate.context.instance\n",
      "jedi.evaluate.syntax_tree\n",
      "jedi.evaluate.finder\n",
      "jedi.api.keywords\n",
      "pydoc_data\n",
      "pydoc_data.topics\n",
      "jedi.api.interpreter\n",
      "jedi.evaluate.compiled.mixed\n",
      "jedi.api.helpers\n",
      "jedi.api.completion\n",
      "jedi.api.environment\n",
      "filecmp\n",
      "jedi.evaluate.compiled.subprocess\n",
      "jedi.evaluate.compiled.subprocess.functions\n",
      "jedi.api.exceptions\n",
      "jedi.api.project\n",
      "jedi.evaluate.usages\n",
      "IPython.terminal.ptutils\n",
      "IPython.terminal.shortcuts\n",
      "IPython.lib.clipboard\n",
      "IPython.terminal.magics\n",
      "IPython.terminal.pt_inputhooks\n",
      "IPython.terminal.prompts\n",
      "IPython.terminal.ipapp\n",
      "IPython.core.magics\n",
      "IPython.core.magics.auto\n",
      "IPython.core.magics.basic\n",
      "IPython.core.magics.code\n",
      "urllib.request\n",
      "email\n",
      "http\n",
      "http.client\n",
      "email.parser\n",
      "email.feedparser\n",
      "email.errors\n",
      "email._policybase\n",
      "email.header\n",
      "email.quoprimime\n",
      "email.base64mime\n",
      "email.charset\n",
      "email.encoders\n",
      "quopri\n",
      "email.utils\n",
      "email._parseaddr\n",
      "calendar\n",
      "email.message\n",
      "uu\n",
      "email._encoded_words\n",
      "email.iterators\n",
      "urllib.error\n",
      "urllib.response\n",
      "nturl2path\n",
      "IPython.core.magics.config\n",
      "IPython.core.magics.display\n",
      "IPython.core.magics.execution\n",
      "timeit\n",
      "cProfile\n",
      "_lsprof\n",
      "profile\n",
      "pstats\n",
      "IPython.utils.module_paths\n",
      "IPython.utils.timing\n",
      "IPython.core.magics.extension\n",
      "IPython.core.magics.history\n",
      "IPython.core.magics.logging\n",
      "IPython.core.magics.namespace\n",
      "IPython.core.magics.osm\n",
      "IPython.core.magics.packaging\n",
      "IPython.core.magics.pylab\n",
      "IPython.core.pylabtools\n",
      "IPython.core.magics.script\n",
      "IPython.lib.backgroundjobs\n",
      "IPython.core.shellapp\n",
      "IPython.extensions\n",
      "IPython.extensions.storemagic\n",
      "IPython.utils.frame\n",
      "jupyter_client\n",
      "jupyter_client._version\n",
      "jupyter_client.connect\n",
      "zmq\n",
      "zmq.libzmq\n",
      "zmq.backend\n",
      "zmq.backend.select\n",
      "zmq.backend.cython\n",
      "zmq.backend.cython.constants\n",
      "cython_runtime\n",
      "zmq.backend.cython.error\n",
      "_cython_0_29_6\n",
      "zmq.backend.cython.message\n",
      "zmq.error\n",
      "zmq.backend.cython.context\n",
      "zmq.backend.cython.socket\n",
      "zmq.backend.cython.utils\n",
      "zmq.backend.cython._poll\n",
      "zmq.backend.cython._version\n",
      "zmq.backend.cython._device\n",
      "zmq.backend.cython._proxy_steerable\n",
      "zmq.sugar\n",
      "zmq.sugar.constants\n",
      "zmq.utils\n",
      "zmq.utils.constant_names\n",
      "zmq.sugar.context\n",
      "zmq.sugar.attrsettr\n",
      "zmq.sugar.socket\n",
      "zmq.sugar.poll\n",
      "zmq.utils.jsonapi\n",
      "zmq.utils.strtypes\n",
      "zmq.sugar.frame\n",
      "zmq.sugar.tracker\n",
      "zmq.sugar.version\n",
      "zmq.sugar.stopwatch\n",
      "jupyter_client.localinterfaces\n",
      "jupyter_core\n",
      "jupyter_core.version\n",
      "jupyter_core.paths\n",
      "jupyter_client.launcher\n",
      "traitlets.log\n",
      "jupyter_client.client\n",
      "jupyter_client.channels\n",
      "jupyter_client.channelsabc\n",
      "jupyter_client.clientabc\n",
      "jupyter_client.manager\n",
      "jupyter_client.kernelspec\n",
      "jupyter_client.managerabc\n",
      "jupyter_client.blocking\n",
      "jupyter_client.blocking.client\n",
      "jupyter_client.blocking.channels\n",
      "jupyter_client.multikernelmanager\n",
      "uuid\n",
      "ipykernel.kernelapp\n",
      "tornado\n",
      "tornado.ioloop\n",
      "numbers\n",
      "tornado.concurrent\n",
      "tornado.log\n",
      "logging.handlers\n",
      "tornado.escape\n",
      "tornado.util\n",
      "tornado.speedups\n",
      "colorama\n",
      "colorama.initialise\n",
      "colorama.ansitowin32\n",
      "colorama.ansi\n",
      "colorama.winterm\n",
      "colorama.win32\n",
      "zmq.eventloop\n",
      "zmq.eventloop.ioloop\n",
      "tornado.platform\n",
      "tornado.platform.asyncio\n",
      "tornado.gen\n",
      "zmq.eventloop.zmqstream\n",
      "ipykernel.iostream\n",
      "imp\n",
      "jupyter_client.session\n",
      "hmac\n",
      "jupyter_client.jsonutil\n",
      "dateutil\n",
      "dateutil._version\n",
      "dateutil.parser\n",
      "dateutil.parser._parser\n",
      "decimal\n",
      "_decimal\n",
      "dateutil.relativedelta\n",
      "dateutil._common\n",
      "dateutil.tz\n",
      "dateutil.tz.tz\n",
      "dateutil.tz._common\n",
      "dateutil.tz._factories\n",
      "dateutil.tz.win\n",
      "dateutil.parser.isoparser\n",
      "_strptime\n",
      "jupyter_client.adapter\n",
      "ipykernel.heartbeat\n",
      "ipykernel.ipkernel\n",
      "IPython.utils.tokenutil\n",
      "ipykernel.comm\n",
      "ipykernel.comm.manager\n",
      "ipykernel.comm.comm\n",
      "ipykernel.kernelbase\n",
      "tornado.queues\n",
      "tornado.locks\n",
      "ipykernel.jsonutil\n",
      "ipykernel.zmqshell\n",
      "IPython.core.payloadpage\n",
      "ipykernel.displayhook\n",
      "ipykernel.parentpoller\n",
      "faulthandler\n",
      "ipykernel.datapub\n",
      "ipykernel.serialize\n",
      "ipykernel.pickleutil\n",
      "ipykernel.codeutil\n",
      "IPython.core.completerlib\n",
      "storemagic\n",
      "ipywidgets\n",
      "ipywidgets._version\n",
      "ipywidgets.widgets\n",
      "ipywidgets.widgets.widget\n",
      "ipywidgets.widgets.domwidget\n",
      "ipywidgets.widgets.trait_types\n",
      "ipywidgets.widgets.widget_layout\n",
      "ipywidgets.widgets.widget_style\n",
      "ipywidgets.widgets.valuewidget\n",
      "ipywidgets.widgets.widget_core\n",
      "ipywidgets.widgets.widget_bool\n",
      "ipywidgets.widgets.widget_description\n",
      "ipywidgets.widgets.widget_button\n",
      "ipywidgets.widgets.widget_box\n",
      "ipywidgets.widgets.docutils\n",
      "ipywidgets.widgets.widget_float\n",
      "ipywidgets.widgets.widget_int\n",
      "ipywidgets.widgets.widget_color\n",
      "ipywidgets.widgets.widget_date\n",
      "ipywidgets.widgets.widget_output\n",
      "ipywidgets.widgets.widget_selection\n",
      "ipywidgets.widgets.widget_selectioncontainer\n",
      "ipywidgets.widgets.widget_string\n",
      "ipywidgets.widgets.widget_controller\n",
      "ipywidgets.widgets.interaction\n",
      "ipywidgets.widgets.widget_link\n",
      "ipywidgets.widgets.widget_media\n"
     ]
    }
   ],
   "source": [
    "for module in sys.modules:\n",
    "    print(module)"
   ]
  },
  {
   "cell_type": "code",
   "execution_count": 3,
   "metadata": {},
   "outputs": [
    {
     "data": {
      "text/plain": [
       "732"
      ]
     },
     "execution_count": 3,
     "metadata": {},
     "output_type": "execute_result"
    }
   ],
   "source": [
    "len(sys.modules)"
   ]
  },
  {
   "cell_type": "code",
   "execution_count": 4,
   "metadata": {},
   "outputs": [
    {
     "data": {
      "text/plain": [
       "False"
      ]
     },
     "execution_count": 4,
     "metadata": {},
     "output_type": "execute_result"
    }
   ],
   "source": [
    "sys in sys.modules"
   ]
  },
  {
   "cell_type": "code",
   "execution_count": 5,
   "metadata": {},
   "outputs": [
    {
     "data": {
      "text/plain": [
       "True"
      ]
     },
     "execution_count": 5,
     "metadata": {},
     "output_type": "execute_result"
    }
   ],
   "source": [
    "'sys' in sys.modules"
   ]
  },
  {
   "cell_type": "code",
   "execution_count": 6,
   "metadata": {},
   "outputs": [
    {
     "data": {
      "text/plain": [
       "True"
      ]
     },
     "execution_count": 6,
     "metadata": {},
     "output_type": "execute_result"
    }
   ],
   "source": [
    "'sys' in globals()"
   ]
  },
  {
   "cell_type": "code",
   "execution_count": 7,
   "metadata": {},
   "outputs": [
    {
     "data": {
      "text/plain": [
       "False"
      ]
     },
     "execution_count": 7,
     "metadata": {},
     "output_type": "execute_result"
    }
   ],
   "source": [
    "'math' in globals()"
   ]
  },
  {
   "cell_type": "code",
   "execution_count": 8,
   "metadata": {},
   "outputs": [
    {
     "data": {
      "text/plain": [
       "True"
      ]
     },
     "execution_count": 8,
     "metadata": {},
     "output_type": "execute_result"
    }
   ],
   "source": [
    "'importlib' in sys.modules"
   ]
  },
  {
   "cell_type": "code",
   "execution_count": 9,
   "metadata": {},
   "outputs": [],
   "source": [
    "import importlib"
   ]
  },
  {
   "cell_type": "code",
   "execution_count": 10,
   "metadata": {},
   "outputs": [
    {
     "data": {
      "text/plain": [
       "True"
      ]
     },
     "execution_count": 10,
     "metadata": {},
     "output_type": "execute_result"
    }
   ],
   "source": [
    "'math' in sys.modules"
   ]
  },
  {
   "cell_type": "code",
   "execution_count": 11,
   "metadata": {},
   "outputs": [
    {
     "data": {
      "text/plain": [
       "<module 'math' (built-in)>"
      ]
     },
     "execution_count": 11,
     "metadata": {},
     "output_type": "execute_result"
    }
   ],
   "source": [
    "importlib.import_module('math')"
   ]
  },
  {
   "cell_type": "code",
   "execution_count": 12,
   "metadata": {},
   "outputs": [],
   "source": [
    "math2 = sys.modules['math']"
   ]
  },
  {
   "cell_type": "code",
   "execution_count": 13,
   "metadata": {},
   "outputs": [
    {
     "data": {
      "text/plain": [
       "1.4142135623730951"
      ]
     },
     "execution_count": 13,
     "metadata": {},
     "output_type": "execute_result"
    }
   ],
   "source": [
    "math2.sqrt(2)"
   ]
  },
  {
   "cell_type": "code",
   "execution_count": 14,
   "metadata": {},
   "outputs": [],
   "source": [
    "math2 = importlib.import_module('math')"
   ]
  },
  {
   "cell_type": "code",
   "execution_count": 15,
   "metadata": {},
   "outputs": [
    {
     "data": {
      "text/plain": [
       "True"
      ]
     },
     "execution_count": 15,
     "metadata": {},
     "output_type": "execute_result"
    }
   ],
   "source": [
    "'math2' in globals()"
   ]
  },
  {
   "cell_type": "code",
   "execution_count": 17,
   "metadata": {},
   "outputs": [
    {
     "data": {
      "text/plain": [
       "61931120"
      ]
     },
     "execution_count": 17,
     "metadata": {},
     "output_type": "execute_result"
    }
   ],
   "source": [
    "id(math2)"
   ]
  },
  {
   "cell_type": "code",
   "execution_count": 19,
   "metadata": {},
   "outputs": [
    {
     "data": {
      "text/plain": [
       "61931120"
      ]
     },
     "execution_count": 19,
     "metadata": {},
     "output_type": "execute_result"
    }
   ],
   "source": [
    "id(sys.modules['math'])"
   ]
  },
  {
   "cell_type": "code",
   "execution_count": 20,
   "metadata": {},
   "outputs": [
    {
     "data": {
      "text/plain": [
       "<module 'math' (built-in)>"
      ]
     },
     "execution_count": 20,
     "metadata": {},
     "output_type": "execute_result"
    }
   ],
   "source": [
    "math2"
   ]
  },
  {
   "cell_type": "code",
   "execution_count": 21,
   "metadata": {},
   "outputs": [
    {
     "data": {
      "text/plain": [
       "<module 'importlib' from 'c:\\\\users\\\\lnarasim\\\\appdata\\\\local\\\\programs\\\\python\\\\python37-32\\\\lib\\\\importlib\\\\__init__.py'>"
      ]
     },
     "execution_count": 21,
     "metadata": {},
     "output_type": "execute_result"
    }
   ],
   "source": [
    "importlib"
   ]
  },
  {
   "cell_type": "code",
   "execution_count": 22,
   "metadata": {},
   "outputs": [],
   "source": [
    "import fractions"
   ]
  },
  {
   "cell_type": "code",
   "execution_count": 23,
   "metadata": {},
   "outputs": [
    {
     "data": {
      "text/plain": [
       "<module 'fractions' from 'c:\\\\users\\\\lnarasim\\\\appdata\\\\local\\\\programs\\\\python\\\\python37-32\\\\lib\\\\fractions.py'>"
      ]
     },
     "execution_count": 23,
     "metadata": {},
     "output_type": "execute_result"
    }
   ],
   "source": [
    "fractions"
   ]
  },
  {
   "cell_type": "code",
   "execution_count": 24,
   "metadata": {},
   "outputs": [
    {
     "data": {
      "text/plain": [
       "[_frozen_importlib.BuiltinImporter,\n",
       " _frozen_importlib.FrozenImporter,\n",
       " _frozen_importlib_external.PathFinder,\n",
       " <six._SixMetaPathImporter at 0x3a64f30>]"
      ]
     },
     "execution_count": 24,
     "metadata": {},
     "output_type": "execute_result"
    }
   ],
   "source": [
    "sys.meta_path"
   ]
  },
  {
   "cell_type": "code",
   "execution_count": 25,
   "metadata": {},
   "outputs": [
    {
     "data": {
      "text/plain": [
       "ModuleSpec(name='fractions', loader=<_frozen_importlib_external.SourceFileLoader object at 0x06CABBD0>, origin='c:\\\\users\\\\lnarasim\\\\appdata\\\\local\\\\programs\\\\python\\\\python37-32\\\\lib\\\\fractions.py')"
      ]
     },
     "execution_count": 25,
     "metadata": {},
     "output_type": "execute_result"
    }
   ],
   "source": [
    "fractions.__spec__"
   ]
  },
  {
   "cell_type": "code",
   "execution_count": 26,
   "metadata": {},
   "outputs": [
    {
     "data": {
      "text/plain": [
       "ModuleSpec(name='sys', loader=<class '_frozen_importlib.BuiltinImporter'>)"
      ]
     },
     "execution_count": 26,
     "metadata": {},
     "output_type": "execute_result"
    }
   ],
   "source": [
    "sys.__spec__"
   ]
  },
  {
   "cell_type": "code",
   "execution_count": 28,
   "metadata": {},
   "outputs": [],
   "source": [
    "import math"
   ]
  },
  {
   "cell_type": "code",
   "execution_count": 29,
   "metadata": {},
   "outputs": [
    {
     "data": {
      "text/plain": [
       "ModuleSpec(name='math', loader=<class '_frozen_importlib.BuiltinImporter'>, origin='built-in')"
      ]
     },
     "execution_count": 29,
     "metadata": {},
     "output_type": "execute_result"
    }
   ],
   "source": [
    "math.__spec__"
   ]
  },
  {
   "cell_type": "code",
   "execution_count": 31,
   "metadata": {},
   "outputs": [
    {
     "data": {
      "text/plain": [
       "ModuleSpec(name='decimal', loader=<_frozen_importlib_external.SourceFileLoader object at 0x05730410>, origin='c:\\\\users\\\\lnarasim\\\\appdata\\\\local\\\\programs\\\\python\\\\python37-32\\\\lib\\\\decimal.py')"
      ]
     },
     "execution_count": 31,
     "metadata": {},
     "output_type": "execute_result"
    }
   ],
   "source": [
    "importlib.util.find_spec('decimal')"
   ]
  },
  {
   "cell_type": "code",
   "execution_count": 33,
   "metadata": {},
   "outputs": [],
   "source": [
    "with open('module1.py', \"w\") as code_file:\n",
    "    code_file.write(\"print('running module1.py')\\n\")\n",
    "    code_file.write('a = 10\\n')"
   ]
  },
  {
   "cell_type": "code",
   "execution_count": 34,
   "metadata": {},
   "outputs": [
    {
     "data": {
      "text/plain": [
       "ModuleSpec(name='module1', loader=<_frozen_importlib_external.SourceFileLoader object at 0x06CAB550>, origin='C:\\\\Users\\\\lnarasim\\\\github\\\\geekshub_python_bootcamp\\\\topics\\\\modules_packages\\\\module1.py')"
      ]
     },
     "execution_count": 34,
     "metadata": {},
     "output_type": "execute_result"
    }
   ],
   "source": [
    "importlib.util.find_spec('module1')"
   ]
  },
  {
   "cell_type": "code",
   "execution_count": 36,
   "metadata": {},
   "outputs": [
    {
     "name": "stdout",
     "output_type": "stream",
     "text": [
      "running module1.py\n"
     ]
    }
   ],
   "source": [
    "import module1"
   ]
  },
  {
   "cell_type": "code",
   "execution_count": 37,
   "metadata": {},
   "outputs": [
    {
     "data": {
      "text/plain": [
       "True"
      ]
     },
     "execution_count": 37,
     "metadata": {},
     "output_type": "execute_result"
    }
   ],
   "source": [
    "'module1' in globals()"
   ]
  },
  {
   "cell_type": "code",
   "execution_count": 38,
   "metadata": {},
   "outputs": [
    {
     "data": {
      "text/plain": [
       "10"
      ]
     },
     "execution_count": 38,
     "metadata": {},
     "output_type": "execute_result"
    }
   ],
   "source": [
    "module1.a"
   ]
  },
  {
   "cell_type": "code",
   "execution_count": 39,
   "metadata": {},
   "outputs": [],
   "source": [
    "import os"
   ]
  },
  {
   "cell_type": "code",
   "execution_count": 40,
   "metadata": {},
   "outputs": [
    {
     "data": {
      "text/plain": [
       "'\\\\Users\\\\lnarasim'"
      ]
     },
     "execution_count": 40,
     "metadata": {},
     "output_type": "execute_result"
    }
   ],
   "source": [
    "ext_module_path = os.environ['HOMEPATH']\n",
    "ext_module_path"
   ]
  },
  {
   "cell_type": "code",
   "execution_count": 41,
   "metadata": {},
   "outputs": [
    {
     "name": "stdout",
     "output_type": "stream",
     "text": [
      "\\Users\\lnarasim\\module2.py\n"
     ]
    }
   ],
   "source": [
    "file_abs_path = os.path.join(ext_module_path, 'module2.py')\n",
    "print(file_abs_path)\n",
    "with open(file_abs_path, \"w\") as code_file:\n",
    "    code_file.write(\"print('running module2.py')\\n\")\n",
    "    code_file.write('x = \"Python\"\\n')"
   ]
  },
  {
   "cell_type": "code",
   "execution_count": 42,
   "metadata": {},
   "outputs": [],
   "source": [
    "importlib.util.find_spec('module2')"
   ]
  },
  {
   "cell_type": "code",
   "execution_count": 43,
   "metadata": {},
   "outputs": [
    {
     "data": {
      "text/plain": [
       "['C:\\\\Users\\\\lnarasim\\\\github\\\\geekshub_python_bootcamp\\\\topics\\\\modules_packages',\n",
       " 'C:\\\\Universe\\\\UpSkill\\\\Source_code\\\\Python_Exercise\\\\directory',\n",
       " 'c:\\\\users\\\\lnarasim\\\\appdata\\\\local\\\\programs\\\\python\\\\python37-32\\\\python37.zip',\n",
       " 'c:\\\\users\\\\lnarasim\\\\appdata\\\\local\\\\programs\\\\python\\\\python37-32\\\\DLLs',\n",
       " 'c:\\\\users\\\\lnarasim\\\\appdata\\\\local\\\\programs\\\\python\\\\python37-32\\\\lib',\n",
       " 'c:\\\\users\\\\lnarasim\\\\appdata\\\\local\\\\programs\\\\python\\\\python37-32',\n",
       " '',\n",
       " 'C:\\\\Users\\\\lnarasim\\\\AppData\\\\Roaming\\\\Python\\\\Python37\\\\site-packages',\n",
       " 'c:\\\\users\\\\lnarasim\\\\appdata\\\\local\\\\programs\\\\python\\\\python37-32\\\\lib\\\\site-packages',\n",
       " 'c:\\\\users\\\\lnarasim\\\\appdata\\\\local\\\\programs\\\\python\\\\python37-32\\\\lib\\\\site-packages\\\\IPython\\\\extensions',\n",
       " 'C:\\\\Users\\\\lnarasim\\\\.ipython']"
      ]
     },
     "execution_count": 43,
     "metadata": {},
     "output_type": "execute_result"
    }
   ],
   "source": [
    "sys.path"
   ]
  },
  {
   "cell_type": "code",
   "execution_count": 44,
   "metadata": {},
   "outputs": [
    {
     "data": {
      "text/plain": [
       "list"
      ]
     },
     "execution_count": 44,
     "metadata": {},
     "output_type": "execute_result"
    }
   ],
   "source": [
    "type(sys.path)"
   ]
  },
  {
   "cell_type": "code",
   "execution_count": 45,
   "metadata": {},
   "outputs": [
    {
     "name": "stdout",
     "output_type": "stream",
     "text": [
      "C:\\Users\\lnarasim\\github\\geekshub_python_bootcamp\\topics\\modules_packages\n",
      "C:\\Universe\\UpSkill\\Source_code\\Python_Exercise\\directory\n",
      "c:\\users\\lnarasim\\appdata\\local\\programs\\python\\python37-32\\python37.zip\n",
      "c:\\users\\lnarasim\\appdata\\local\\programs\\python\\python37-32\\DLLs\n",
      "c:\\users\\lnarasim\\appdata\\local\\programs\\python\\python37-32\\lib\n",
      "c:\\users\\lnarasim\\appdata\\local\\programs\\python\\python37-32\n",
      "\n",
      "C:\\Users\\lnarasim\\AppData\\Roaming\\Python\\Python37\\site-packages\n",
      "c:\\users\\lnarasim\\appdata\\local\\programs\\python\\python37-32\\lib\\site-packages\n",
      "c:\\users\\lnarasim\\appdata\\local\\programs\\python\\python37-32\\lib\\site-packages\\IPython\\extensions\n",
      "C:\\Users\\lnarasim\\.ipython\n"
     ]
    }
   ],
   "source": [
    "for path in sys.path:\n",
    "    print(path)"
   ]
  },
  {
   "cell_type": "code",
   "execution_count": 49,
   "metadata": {},
   "outputs": [],
   "source": [
    "sys.path.append(ext_module_path)"
   ]
  },
  {
   "cell_type": "code",
   "execution_count": 50,
   "metadata": {},
   "outputs": [
    {
     "data": {
      "text/plain": [
       "['C:\\\\Users\\\\lnarasim\\\\github\\\\geekshub_python_bootcamp\\\\topics\\\\modules_packages',\n",
       " 'C:\\\\Universe\\\\UpSkill\\\\Source_code\\\\Python_Exercise\\\\directory',\n",
       " 'c:\\\\users\\\\lnarasim\\\\appdata\\\\local\\\\programs\\\\python\\\\python37-32\\\\python37.zip',\n",
       " 'c:\\\\users\\\\lnarasim\\\\appdata\\\\local\\\\programs\\\\python\\\\python37-32\\\\DLLs',\n",
       " 'c:\\\\users\\\\lnarasim\\\\appdata\\\\local\\\\programs\\\\python\\\\python37-32\\\\lib',\n",
       " 'c:\\\\users\\\\lnarasim\\\\appdata\\\\local\\\\programs\\\\python\\\\python37-32',\n",
       " '',\n",
       " 'C:\\\\Users\\\\lnarasim\\\\AppData\\\\Roaming\\\\Python\\\\Python37\\\\site-packages',\n",
       " 'c:\\\\users\\\\lnarasim\\\\appdata\\\\local\\\\programs\\\\python\\\\python37-32\\\\lib\\\\site-packages',\n",
       " 'c:\\\\users\\\\lnarasim\\\\appdata\\\\local\\\\programs\\\\python\\\\python37-32\\\\lib\\\\site-packages\\\\IPython\\\\extensions',\n",
       " 'C:\\\\Users\\\\lnarasim\\\\.ipython',\n",
       " 'ext_module_path',\n",
       " '\\\\Users\\\\lnarasim']"
      ]
     },
     "execution_count": 50,
     "metadata": {},
     "output_type": "execute_result"
    }
   ],
   "source": [
    "(sys.path)"
   ]
  },
  {
   "cell_type": "code",
   "execution_count": 51,
   "metadata": {},
   "outputs": [
    {
     "data": {
      "text/plain": [
       "ModuleSpec(name='module2', loader=<_frozen_importlib_external.SourceFileLoader object at 0x00FFA5F0>, origin='\\\\Users\\\\lnarasim\\\\module2.py')"
      ]
     },
     "execution_count": 51,
     "metadata": {},
     "output_type": "execute_result"
    }
   ],
   "source": [
    "importlib.util.find_spec('module2')"
   ]
  },
  {
   "cell_type": "code",
   "execution_count": 52,
   "metadata": {},
   "outputs": [
    {
     "name": "stdout",
     "output_type": "stream",
     "text": [
      "running module2.py\n"
     ]
    }
   ],
   "source": [
    "import module2"
   ]
  },
  {
   "cell_type": "code",
   "execution_count": 53,
   "metadata": {},
   "outputs": [
    {
     "data": {
      "text/plain": [
       "'Python'"
      ]
     },
     "execution_count": 53,
     "metadata": {},
     "output_type": "execute_result"
    }
   ],
   "source": [
    "module2.x"
   ]
  },
  {
   "cell_type": "code",
   "execution_count": 54,
   "metadata": {},
   "outputs": [
    {
     "name": "stdout",
     "output_type": "stream",
     "text": [
      "Help on package importlib:\n",
      "\n",
      "NAME\n",
      "    importlib - A pure Python implementation of import.\n",
      "\n",
      "PACKAGE CONTENTS\n",
      "    _bootstrap\n",
      "    _bootstrap_external\n",
      "    abc\n",
      "    machinery\n",
      "    resources\n",
      "    util\n",
      "\n",
      "FUNCTIONS\n",
      "    __import__(name, globals=None, locals=None, fromlist=(), level=0)\n",
      "        Import a module.\n",
      "        \n",
      "        The 'globals' argument is used to infer where the import is occurring from\n",
      "        to handle relative imports. The 'locals' argument is ignored. The\n",
      "        'fromlist' argument specifies what should exist as attributes on the module\n",
      "        being imported (e.g. ``from module import <fromlist>``).  The 'level'\n",
      "        argument represents the package location to import from in a relative\n",
      "        import (e.g. ``from ..pkg import mod`` would have a 'level' of 2).\n",
      "    \n",
      "    import_module(name, package=None)\n",
      "        Import a module.\n",
      "        \n",
      "        The 'package' argument is required when performing a relative import. It\n",
      "        specifies the package to use as the anchor point from which to resolve the\n",
      "        relative import to an absolute import.\n",
      "    \n",
      "    invalidate_caches()\n",
      "        Call the invalidate_caches() method on all meta path finders stored in\n",
      "        sys.meta_path (where implemented).\n",
      "    \n",
      "    reload(module)\n",
      "        Reload the module and return it.\n",
      "        \n",
      "        The module must have been successfully imported before.\n",
      "\n",
      "DATA\n",
      "    __all__ = ['__import__', 'import_module', 'invalidate_caches', 'reload...\n",
      "\n",
      "FILE\n",
      "    c:\\users\\lnarasim\\appdata\\local\\programs\\python\\python37-32\\lib\\importlib\\__init__.py\n",
      "\n",
      "\n"
     ]
    }
   ],
   "source": [
    "help(importlib)"
   ]
  },
  {
   "cell_type": "code",
   "execution_count": 55,
   "metadata": {},
   "outputs": [
    {
     "name": "stdout",
     "output_type": "stream",
     "text": [
      "Help on module importlib.util in importlib:\n",
      "\n",
      "NAME\n",
      "    importlib.util - Utility code for constructing importers, etc.\n",
      "\n",
      "CLASSES\n",
      "    importlib.abc.Loader(builtins.object)\n",
      "        LazyLoader\n",
      "    \n",
      "    class LazyLoader(importlib.abc.Loader)\n",
      "     |  LazyLoader(loader)\n",
      "     |  \n",
      "     |  A loader that creates a module which defers loading until attribute access.\n",
      "     |  \n",
      "     |  Method resolution order:\n",
      "     |      LazyLoader\n",
      "     |      importlib.abc.Loader\n",
      "     |      builtins.object\n",
      "     |  \n",
      "     |  Methods defined here:\n",
      "     |  \n",
      "     |  __init__(self, loader)\n",
      "     |      Initialize self.  See help(type(self)) for accurate signature.\n",
      "     |  \n",
      "     |  create_module(self, spec)\n",
      "     |      Return a module to initialize and into which to load.\n",
      "     |      \n",
      "     |      This method should raise ImportError if anything prevents it\n",
      "     |      from creating a new module.  It may return None to indicate\n",
      "     |      that the spec should create the new module.\n",
      "     |  \n",
      "     |  exec_module(self, module)\n",
      "     |      Make the module load lazily.\n",
      "     |  \n",
      "     |  ----------------------------------------------------------------------\n",
      "     |  Class methods defined here:\n",
      "     |  \n",
      "     |  factory(loader) from abc.ABCMeta\n",
      "     |      Construct a callable which returns the eager loader made lazy.\n",
      "     |  \n",
      "     |  ----------------------------------------------------------------------\n",
      "     |  Data and other attributes defined here:\n",
      "     |  \n",
      "     |  __abstractmethods__ = frozenset()\n",
      "     |  \n",
      "     |  ----------------------------------------------------------------------\n",
      "     |  Methods inherited from importlib.abc.Loader:\n",
      "     |  \n",
      "     |  load_module(self, fullname)\n",
      "     |      Return the loaded module.\n",
      "     |      \n",
      "     |      The module must be added to sys.modules and have import-related\n",
      "     |      attributes set properly.  The fullname is a str.\n",
      "     |      \n",
      "     |      ImportError is raised on failure.\n",
      "     |      \n",
      "     |      This method is deprecated in favor of loader.exec_module(). If\n",
      "     |      exec_module() exists then it is used to provide a backwards-compatible\n",
      "     |      functionality for this method.\n",
      "     |  \n",
      "     |  module_repr(self, module)\n",
      "     |      Return a module's repr.\n",
      "     |      \n",
      "     |      Used by the module type when the method does not raise\n",
      "     |      NotImplementedError.\n",
      "     |      \n",
      "     |      This method is deprecated.\n",
      "     |  \n",
      "     |  ----------------------------------------------------------------------\n",
      "     |  Data descriptors inherited from importlib.abc.Loader:\n",
      "     |  \n",
      "     |  __dict__\n",
      "     |      dictionary for instance variables (if defined)\n",
      "     |  \n",
      "     |  __weakref__\n",
      "     |      list of weak references to the object (if defined)\n",
      "\n",
      "FUNCTIONS\n",
      "    find_spec(name, package=None)\n",
      "        Return the spec for the specified module.\n",
      "        \n",
      "        First, sys.modules is checked to see if the module was already imported. If\n",
      "        so, then sys.modules[name].__spec__ is returned. If that happens to be\n",
      "        set to None, then ValueError is raised. If the module is not in\n",
      "        sys.modules, then sys.meta_path is searched for a suitable spec with the\n",
      "        value of 'path' given to the finders. None is returned if no spec could\n",
      "        be found.\n",
      "        \n",
      "        If the name is for submodule (contains a dot), the parent module is\n",
      "        automatically imported.\n",
      "        \n",
      "        The name and package arguments work the same as importlib.import_module().\n",
      "        In other words, relative module names (with leading dots) work.\n",
      "    \n",
      "    module_for_loader(fxn)\n",
      "        Decorator to handle selecting the proper module for loaders.\n",
      "        \n",
      "        The decorated function is passed the module to use instead of the module\n",
      "        name. The module passed in to the function is either from sys.modules if\n",
      "        it already exists or is a new module. If the module is new, then __name__\n",
      "        is set the first argument to the method, __loader__ is set to self, and\n",
      "        __package__ is set accordingly (if self.is_package() is defined) will be set\n",
      "        before it is passed to the decorated function (if self.is_package() does\n",
      "        not work for the module it will be set post-load).\n",
      "        \n",
      "        If an exception is raised and the decorator created the module it is\n",
      "        subsequently removed from sys.modules.\n",
      "        \n",
      "        The decorator assumes that the decorated function takes the module name as\n",
      "        the second argument.\n",
      "    \n",
      "    resolve_name(name, package)\n",
      "        Resolve a relative module name to an absolute one.\n",
      "    \n",
      "    set_loader(fxn)\n",
      "        Set __loader__ on the returned module.\n",
      "        \n",
      "        This function is deprecated.\n",
      "    \n",
      "    set_package(fxn)\n",
      "        Set __package__ on the returned module.\n",
      "        \n",
      "        This function is deprecated.\n",
      "    \n",
      "    source_hash(source_bytes)\n",
      "        Return the hash of *source_bytes* as used in hash-based pyc files.\n",
      "\n",
      "DATA\n",
      "    MAGIC_NUMBER = b'B\\r\\r\\n'\n",
      "\n",
      "FILE\n",
      "    c:\\users\\lnarasim\\appdata\\local\\programs\\python\\python37-32\\lib\\importlib\\util.py\n",
      "\n",
      "\n"
     ]
    }
   ],
   "source": [
    "help(importlib.util)"
   ]
  },
  {
   "cell_type": "code",
   "execution_count": 56,
   "metadata": {},
   "outputs": [
    {
     "ename": "AttributeError",
     "evalue": "module 'importlib' has no attribute 'lib'",
     "output_type": "error",
     "traceback": [
      "\u001b[1;31m---------------------------------------------------------------------------\u001b[0m",
      "\u001b[1;31mAttributeError\u001b[0m                            Traceback (most recent call last)",
      "\u001b[1;32m<ipython-input-56-66dad416e616>\u001b[0m in \u001b[0;36m<module>\u001b[1;34m\u001b[0m\n\u001b[1;32m----> 1\u001b[1;33m \u001b[0mimportlib\u001b[0m\u001b[1;33m.\u001b[0m\u001b[0mlib\u001b[0m\u001b[1;33m.\u001b[0m\u001b[0mfind_spec\u001b[0m\u001b[1;33m(\u001b[0m\u001b[1;34m'sys'\u001b[0m\u001b[1;33m)\u001b[0m\u001b[1;33m\u001b[0m\u001b[1;33m\u001b[0m\u001b[0m\n\u001b[0m",
      "\u001b[1;31mAttributeError\u001b[0m: module 'importlib' has no attribute 'lib'"
     ]
    }
   ],
   "source": [
    "importlib.lib.find_spec('sys')"
   ]
  },
  {
   "cell_type": "code",
   "execution_count": null,
   "metadata": {},
   "outputs": [],
   "source": []
  }
 ],
 "metadata": {
  "kernelspec": {
   "display_name": "Python 3",
   "language": "python",
   "name": "python3"
  },
  "language_info": {
   "codemirror_mode": {
    "name": "ipython",
    "version": 3
   },
   "file_extension": ".py",
   "mimetype": "text/x-python",
   "name": "python",
   "nbconvert_exporter": "python",
   "pygments_lexer": "ipython3",
   "version": "3.7.2"
  }
 },
 "nbformat": 4,
 "nbformat_minor": 2
}
