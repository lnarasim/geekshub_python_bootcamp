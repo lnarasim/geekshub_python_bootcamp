{
 "cells": [
  {
   "cell_type": "code",
   "execution_count": 1,
   "metadata": {},
   "outputs": [],
   "source": [
    "def func():\n",
    "    a = 10\n",
    "    return a"
   ]
  },
  {
   "cell_type": "code",
   "execution_count": 2,
   "metadata": {},
   "outputs": [
    {
     "data": {
      "text/plain": [
       "<function __main__.func()>"
      ]
     },
     "execution_count": 2,
     "metadata": {},
     "output_type": "execute_result"
    }
   ],
   "source": [
    "func"
   ]
  },
  {
   "cell_type": "code",
   "execution_count": 3,
   "metadata": {},
   "outputs": [
    {
     "data": {
      "text/plain": [
       "10"
      ]
     },
     "execution_count": 3,
     "metadata": {},
     "output_type": "execute_result"
    }
   ],
   "source": [
    "func()"
   ]
  },
  {
   "cell_type": "code",
   "execution_count": 4,
   "metadata": {},
   "outputs": [
    {
     "data": {
      "text/plain": [
       "102520920"
      ]
     },
     "execution_count": 4,
     "metadata": {},
     "output_type": "execute_result"
    }
   ],
   "source": [
    "id(func)"
   ]
  },
  {
   "cell_type": "code",
   "execution_count": 5,
   "metadata": {},
   "outputs": [
    {
     "data": {
      "text/plain": [
       "{'__name__': '__main__',\n",
       " '__doc__': 'Automatically created module for IPython interactive environment',\n",
       " '__package__': None,\n",
       " '__loader__': None,\n",
       " '__spec__': None,\n",
       " '__builtin__': <module 'builtins' (built-in)>,\n",
       " '__builtins__': <module 'builtins' (built-in)>,\n",
       " '_ih': ['',\n",
       "  'def func():\\n    a = 10\\n    return a',\n",
       "  'func',\n",
       "  'func()',\n",
       "  'id(func)',\n",
       "  'globals()'],\n",
       " '_oh': {2: <function __main__.func()>, 3: 10, 4: 102520920},\n",
       " '_dh': ['C:\\\\Users\\\\lnarasim\\\\github\\\\geekshub_python_bootcamp\\\\topics\\\\modules_packages'],\n",
       " 'In': ['',\n",
       "  'def func():\\n    a = 10\\n    return a',\n",
       "  'func',\n",
       "  'func()',\n",
       "  'id(func)',\n",
       "  'globals()'],\n",
       " 'Out': {2: <function __main__.func()>, 3: 10, 4: 102520920},\n",
       " 'get_ipython': <bound method InteractiveShell.get_ipython of <ipykernel.zmqshell.ZMQInteractiveShell object at 0x04F4B290>>,\n",
       " 'exit': <IPython.core.autocall.ZMQExitAutocall at 0x4f518f0>,\n",
       " 'quit': <IPython.core.autocall.ZMQExitAutocall at 0x4f518f0>,\n",
       " '_': 102520920,\n",
       " '__': 10,\n",
       " '___': <function __main__.func()>,\n",
       " '_i': 'id(func)',\n",
       " '_ii': 'func()',\n",
       " '_iii': 'func',\n",
       " '_i1': 'def func():\\n    a = 10\\n    return a',\n",
       " 'func': <function __main__.func()>,\n",
       " '_i2': 'func',\n",
       " '_2': <function __main__.func()>,\n",
       " '_i3': 'func()',\n",
       " '_3': 10,\n",
       " '_i4': 'id(func)',\n",
       " '_4': 102520920,\n",
       " '_i5': 'globals()'}"
      ]
     },
     "execution_count": 5,
     "metadata": {},
     "output_type": "execute_result"
    }
   ],
   "source": [
    "globals()"
   ]
  },
  {
   "cell_type": "code",
   "execution_count": 6,
   "metadata": {},
   "outputs": [],
   "source": [
    "f = globals()['func']"
   ]
  },
  {
   "cell_type": "code",
   "execution_count": 7,
   "metadata": {},
   "outputs": [
    {
     "data": {
      "text/plain": [
       "True"
      ]
     },
     "execution_count": 7,
     "metadata": {},
     "output_type": "execute_result"
    }
   ],
   "source": [
    "f is func"
   ]
  },
  {
   "cell_type": "code",
   "execution_count": 8,
   "metadata": {},
   "outputs": [
    {
     "data": {
      "text/plain": [
       "10"
      ]
     },
     "execution_count": 8,
     "metadata": {},
     "output_type": "execute_result"
    }
   ],
   "source": [
    "f()"
   ]
  },
  {
   "cell_type": "code",
   "execution_count": 9,
   "metadata": {},
   "outputs": [
    {
     "data": {
      "text/plain": [
       "{'__name__': '__main__',\n",
       " '__doc__': 'Automatically created module for IPython interactive environment',\n",
       " '__package__': None,\n",
       " '__loader__': None,\n",
       " '__spec__': None,\n",
       " '__builtin__': <module 'builtins' (built-in)>,\n",
       " '__builtins__': <module 'builtins' (built-in)>,\n",
       " '_ih': ['',\n",
       "  'def func():\\n    a = 10\\n    return a',\n",
       "  'func',\n",
       "  'func()',\n",
       "  'id(func)',\n",
       "  'globals()',\n",
       "  \"f = globals()['func']\",\n",
       "  'f is func',\n",
       "  'f()',\n",
       "  'globals()'],\n",
       " '_oh': {2: <function __main__.func()>,\n",
       "  3: 10,\n",
       "  4: 102520920,\n",
       "  5: {...},\n",
       "  7: True,\n",
       "  8: 10},\n",
       " '_dh': ['C:\\\\Users\\\\lnarasim\\\\github\\\\geekshub_python_bootcamp\\\\topics\\\\modules_packages'],\n",
       " 'In': ['',\n",
       "  'def func():\\n    a = 10\\n    return a',\n",
       "  'func',\n",
       "  'func()',\n",
       "  'id(func)',\n",
       "  'globals()',\n",
       "  \"f = globals()['func']\",\n",
       "  'f is func',\n",
       "  'f()',\n",
       "  'globals()'],\n",
       " 'Out': {2: <function __main__.func()>,\n",
       "  3: 10,\n",
       "  4: 102520920,\n",
       "  5: {...},\n",
       "  7: True,\n",
       "  8: 10},\n",
       " 'get_ipython': <bound method InteractiveShell.get_ipython of <ipykernel.zmqshell.ZMQInteractiveShell object at 0x04F4B290>>,\n",
       " 'exit': <IPython.core.autocall.ZMQExitAutocall at 0x4f518f0>,\n",
       " 'quit': <IPython.core.autocall.ZMQExitAutocall at 0x4f518f0>,\n",
       " '_': 10,\n",
       " '__': True,\n",
       " '___': {...},\n",
       " '_i': 'f()',\n",
       " '_ii': 'f is func',\n",
       " '_iii': \"f = globals()['func']\",\n",
       " '_i1': 'def func():\\n    a = 10\\n    return a',\n",
       " 'func': <function __main__.func()>,\n",
       " '_i2': 'func',\n",
       " '_2': <function __main__.func()>,\n",
       " '_i3': 'func()',\n",
       " '_3': 10,\n",
       " '_i4': 'id(func)',\n",
       " '_4': 102520920,\n",
       " '_i5': 'globals()',\n",
       " '_5': {...},\n",
       " '_i6': \"f = globals()['func']\",\n",
       " 'f': <function __main__.func()>,\n",
       " '_i7': 'f is func',\n",
       " '_7': True,\n",
       " '_i8': 'f()',\n",
       " '_8': 10,\n",
       " '_i9': 'globals()'}"
      ]
     },
     "execution_count": 9,
     "metadata": {},
     "output_type": "execute_result"
    }
   ],
   "source": [
    "globals()"
   ]
  },
  {
   "cell_type": "code",
   "execution_count": 11,
   "metadata": {},
   "outputs": [],
   "source": [
    "a = 100"
   ]
  },
  {
   "cell_type": "code",
   "execution_count": 12,
   "metadata": {},
   "outputs": [
    {
     "data": {
      "text/plain": [
       "{'__name__': '__main__',\n",
       " '__doc__': 'Automatically created module for IPython interactive environment',\n",
       " '__package__': None,\n",
       " '__loader__': None,\n",
       " '__spec__': None,\n",
       " '__builtin__': <module 'builtins' (built-in)>,\n",
       " '__builtins__': <module 'builtins' (built-in)>,\n",
       " '_ih': ['',\n",
       "  'def func():\\n    a = 10\\n    return a',\n",
       "  'func',\n",
       "  'func()',\n",
       "  'id(func)',\n",
       "  'globals()',\n",
       "  \"f = globals()['func']\",\n",
       "  'f is func',\n",
       "  'f()',\n",
       "  'globals()',\n",
       "  'globals()',\n",
       "  'a = 100',\n",
       "  'globals()'],\n",
       " '_oh': {2: <function __main__.func()>,\n",
       "  3: 10,\n",
       "  4: 102520920,\n",
       "  5: {...},\n",
       "  7: True,\n",
       "  8: 10,\n",
       "  9: {...},\n",
       "  10: {...}},\n",
       " '_dh': ['C:\\\\Users\\\\lnarasim\\\\github\\\\geekshub_python_bootcamp\\\\topics\\\\modules_packages'],\n",
       " 'In': ['',\n",
       "  'def func():\\n    a = 10\\n    return a',\n",
       "  'func',\n",
       "  'func()',\n",
       "  'id(func)',\n",
       "  'globals()',\n",
       "  \"f = globals()['func']\",\n",
       "  'f is func',\n",
       "  'f()',\n",
       "  'globals()',\n",
       "  'globals()',\n",
       "  'a = 100',\n",
       "  'globals()'],\n",
       " 'Out': {2: <function __main__.func()>,\n",
       "  3: 10,\n",
       "  4: 102520920,\n",
       "  5: {...},\n",
       "  7: True,\n",
       "  8: 10,\n",
       "  9: {...},\n",
       "  10: {...}},\n",
       " 'get_ipython': <bound method InteractiveShell.get_ipython of <ipykernel.zmqshell.ZMQInteractiveShell object at 0x04F4B290>>,\n",
       " 'exit': <IPython.core.autocall.ZMQExitAutocall at 0x4f518f0>,\n",
       " 'quit': <IPython.core.autocall.ZMQExitAutocall at 0x4f518f0>,\n",
       " '_': {...},\n",
       " '__': {...},\n",
       " '___': 10,\n",
       " '_i': 'a = 100',\n",
       " '_ii': 'globals()',\n",
       " '_iii': 'globals()',\n",
       " '_i1': 'def func():\\n    a = 10\\n    return a',\n",
       " 'func': <function __main__.func()>,\n",
       " '_i2': 'func',\n",
       " '_2': <function __main__.func()>,\n",
       " '_i3': 'func()',\n",
       " '_3': 10,\n",
       " '_i4': 'id(func)',\n",
       " '_4': 102520920,\n",
       " '_i5': 'globals()',\n",
       " '_5': {...},\n",
       " '_i6': \"f = globals()['func']\",\n",
       " 'f': <function __main__.func()>,\n",
       " '_i7': 'f is func',\n",
       " '_7': True,\n",
       " '_i8': 'f()',\n",
       " '_8': 10,\n",
       " '_i9': 'globals()',\n",
       " '_9': {...},\n",
       " '_i10': 'globals()',\n",
       " '_10': {...},\n",
       " '_i11': 'a = 100',\n",
       " 'a': 100,\n",
       " '_i12': 'globals()'}"
      ]
     },
     "execution_count": 12,
     "metadata": {},
     "output_type": "execute_result"
    }
   ],
   "source": [
    "globals()"
   ]
  },
  {
   "cell_type": "code",
   "execution_count": 13,
   "metadata": {},
   "outputs": [],
   "source": [
    "def func():\n",
    "    a = 10\n",
    "    b = 10\n",
    "    print(locals())"
   ]
  },
  {
   "cell_type": "code",
   "execution_count": 14,
   "metadata": {},
   "outputs": [
    {
     "name": "stdout",
     "output_type": "stream",
     "text": [
      "{'a': 10, 'b': 10}\n"
     ]
    }
   ],
   "source": [
    "func()"
   ]
  },
  {
   "cell_type": "code",
   "execution_count": 15,
   "metadata": {},
   "outputs": [],
   "source": [
    "import math"
   ]
  },
  {
   "cell_type": "code",
   "execution_count": 17,
   "metadata": {},
   "outputs": [
    {
     "data": {
      "text/plain": [
       "<module 'math' (built-in)>"
      ]
     },
     "execution_count": 17,
     "metadata": {},
     "output_type": "execute_result"
    }
   ],
   "source": [
    "math"
   ]
  },
  {
   "cell_type": "code",
   "execution_count": 18,
   "metadata": {},
   "outputs": [],
   "source": [
    "import fractions"
   ]
  },
  {
   "cell_type": "code",
   "execution_count": 19,
   "metadata": {},
   "outputs": [
    {
     "data": {
      "text/plain": [
       "<module 'fractions' from 'c:\\\\users\\\\lnarasim\\\\appdata\\\\local\\\\programs\\\\python\\\\python37-32\\\\lib\\\\fractions.py'>"
      ]
     },
     "execution_count": 19,
     "metadata": {},
     "output_type": "execute_result"
    }
   ],
   "source": [
    "fractions"
   ]
  },
  {
   "cell_type": "code",
   "execution_count": 20,
   "metadata": {},
   "outputs": [
    {
     "data": {
      "text/plain": [
       "{'__name__': '__main__',\n",
       " '__doc__': 'Automatically created module for IPython interactive environment',\n",
       " '__package__': None,\n",
       " '__loader__': None,\n",
       " '__spec__': None,\n",
       " '__builtin__': <module 'builtins' (built-in)>,\n",
       " '__builtins__': <module 'builtins' (built-in)>,\n",
       " '_ih': ['',\n",
       "  'def func():\\n    a = 10\\n    return a',\n",
       "  'func',\n",
       "  'func()',\n",
       "  'id(func)',\n",
       "  'globals()',\n",
       "  \"f = globals()['func']\",\n",
       "  'f is func',\n",
       "  'f()',\n",
       "  'globals()',\n",
       "  'globals()',\n",
       "  'a = 100',\n",
       "  'globals()',\n",
       "  'def func():\\n    a = 10\\n    b = 10\\n    print(locals())',\n",
       "  'func()',\n",
       "  'import math',\n",
       "  'meth',\n",
       "  'math',\n",
       "  'import fractions',\n",
       "  'fractions',\n",
       "  'globals()'],\n",
       " '_oh': {2: <function __main__.func()>,\n",
       "  3: 10,\n",
       "  4: 102520920,\n",
       "  5: {...},\n",
       "  7: True,\n",
       "  8: 10,\n",
       "  9: {...},\n",
       "  10: {...},\n",
       "  12: {...},\n",
       "  17: <module 'math' (built-in)>,\n",
       "  19: <module 'fractions' from 'c:\\\\users\\\\lnarasim\\\\appdata\\\\local\\\\programs\\\\python\\\\python37-32\\\\lib\\\\fractions.py'>},\n",
       " '_dh': ['C:\\\\Users\\\\lnarasim\\\\github\\\\geekshub_python_bootcamp\\\\topics\\\\modules_packages'],\n",
       " 'In': ['',\n",
       "  'def func():\\n    a = 10\\n    return a',\n",
       "  'func',\n",
       "  'func()',\n",
       "  'id(func)',\n",
       "  'globals()',\n",
       "  \"f = globals()['func']\",\n",
       "  'f is func',\n",
       "  'f()',\n",
       "  'globals()',\n",
       "  'globals()',\n",
       "  'a = 100',\n",
       "  'globals()',\n",
       "  'def func():\\n    a = 10\\n    b = 10\\n    print(locals())',\n",
       "  'func()',\n",
       "  'import math',\n",
       "  'meth',\n",
       "  'math',\n",
       "  'import fractions',\n",
       "  'fractions',\n",
       "  'globals()'],\n",
       " 'Out': {2: <function __main__.func()>,\n",
       "  3: 10,\n",
       "  4: 102520920,\n",
       "  5: {...},\n",
       "  7: True,\n",
       "  8: 10,\n",
       "  9: {...},\n",
       "  10: {...},\n",
       "  12: {...},\n",
       "  17: <module 'math' (built-in)>,\n",
       "  19: <module 'fractions' from 'c:\\\\users\\\\lnarasim\\\\appdata\\\\local\\\\programs\\\\python\\\\python37-32\\\\lib\\\\fractions.py'>},\n",
       " 'get_ipython': <bound method InteractiveShell.get_ipython of <ipykernel.zmqshell.ZMQInteractiveShell object at 0x04F4B290>>,\n",
       " 'exit': <IPython.core.autocall.ZMQExitAutocall at 0x4f518f0>,\n",
       " 'quit': <IPython.core.autocall.ZMQExitAutocall at 0x4f518f0>,\n",
       " '_': <module 'fractions' from 'c:\\\\users\\\\lnarasim\\\\appdata\\\\local\\\\programs\\\\python\\\\python37-32\\\\lib\\\\fractions.py'>,\n",
       " '__': <module 'math' (built-in)>,\n",
       " '___': {...},\n",
       " '_i': 'fractions',\n",
       " '_ii': 'import fractions',\n",
       " '_iii': 'math',\n",
       " '_i1': 'def func():\\n    a = 10\\n    return a',\n",
       " 'func': <function __main__.func()>,\n",
       " '_i2': 'func',\n",
       " '_2': <function __main__.func()>,\n",
       " '_i3': 'func()',\n",
       " '_3': 10,\n",
       " '_i4': 'id(func)',\n",
       " '_4': 102520920,\n",
       " '_i5': 'globals()',\n",
       " '_5': {...},\n",
       " '_i6': \"f = globals()['func']\",\n",
       " 'f': <function __main__.func()>,\n",
       " '_i7': 'f is func',\n",
       " '_7': True,\n",
       " '_i8': 'f()',\n",
       " '_8': 10,\n",
       " '_i9': 'globals()',\n",
       " '_9': {...},\n",
       " '_i10': 'globals()',\n",
       " '_10': {...},\n",
       " '_i11': 'a = 100',\n",
       " 'a': 100,\n",
       " '_i12': 'globals()',\n",
       " '_12': {...},\n",
       " '_i13': 'def func():\\n    a = 10\\n    b = 10\\n    print(locals())',\n",
       " '_i14': 'func()',\n",
       " '_i15': 'import math',\n",
       " 'math': <module 'math' (built-in)>,\n",
       " '_i16': 'meth',\n",
       " '_i17': 'math',\n",
       " '_17': <module 'math' (built-in)>,\n",
       " '_i18': 'import fractions',\n",
       " 'fractions': <module 'fractions' from 'c:\\\\users\\\\lnarasim\\\\appdata\\\\local\\\\programs\\\\python\\\\python37-32\\\\lib\\\\fractions.py'>,\n",
       " '_i19': 'fractions',\n",
       " '_19': <module 'fractions' from 'c:\\\\users\\\\lnarasim\\\\appdata\\\\local\\\\programs\\\\python\\\\python37-32\\\\lib\\\\fractions.py'>,\n",
       " '_i20': 'globals()'}"
      ]
     },
     "execution_count": 20,
     "metadata": {},
     "output_type": "execute_result"
    }
   ],
   "source": [
    "globals()"
   ]
  },
  {
   "cell_type": "code",
   "execution_count": 21,
   "metadata": {},
   "outputs": [],
   "source": [
    "junk = math"
   ]
  },
  {
   "cell_type": "code",
   "execution_count": 22,
   "metadata": {},
   "outputs": [
    {
     "data": {
      "text/plain": [
       "True"
      ]
     },
     "execution_count": 22,
     "metadata": {},
     "output_type": "execute_result"
    }
   ],
   "source": [
    "junk is math"
   ]
  },
  {
   "cell_type": "code",
   "execution_count": 23,
   "metadata": {},
   "outputs": [
    {
     "data": {
      "text/plain": [
       "module"
      ]
     },
     "execution_count": 23,
     "metadata": {},
     "output_type": "execute_result"
    }
   ],
   "source": [
    "type(junk)"
   ]
  },
  {
   "cell_type": "code",
   "execution_count": 24,
   "metadata": {},
   "outputs": [
    {
     "data": {
      "text/plain": [
       "53149296"
      ]
     },
     "execution_count": 24,
     "metadata": {},
     "output_type": "execute_result"
    }
   ],
   "source": [
    "id(junk)"
   ]
  },
  {
   "cell_type": "code",
   "execution_count": 25,
   "metadata": {},
   "outputs": [
    {
     "data": {
      "text/plain": [
       "1.4142135623730951"
      ]
     },
     "execution_count": 25,
     "metadata": {},
     "output_type": "execute_result"
    }
   ],
   "source": [
    "junk.sqrt(2)"
   ]
  },
  {
   "cell_type": "code",
   "execution_count": 26,
   "metadata": {},
   "outputs": [
    {
     "data": {
      "text/plain": [
       "{'__name__': '__main__',\n",
       " '__doc__': 'Automatically created module for IPython interactive environment',\n",
       " '__package__': None,\n",
       " '__loader__': None,\n",
       " '__spec__': None,\n",
       " '__builtin__': <module 'builtins' (built-in)>,\n",
       " '__builtins__': <module 'builtins' (built-in)>,\n",
       " '_ih': ['',\n",
       "  'def func():\\n    a = 10\\n    return a',\n",
       "  'func',\n",
       "  'func()',\n",
       "  'id(func)',\n",
       "  'globals()',\n",
       "  \"f = globals()['func']\",\n",
       "  'f is func',\n",
       "  'f()',\n",
       "  'globals()',\n",
       "  'globals()',\n",
       "  'a = 100',\n",
       "  'globals()',\n",
       "  'def func():\\n    a = 10\\n    b = 10\\n    print(locals())',\n",
       "  'func()',\n",
       "  'import math',\n",
       "  'meth',\n",
       "  'math',\n",
       "  'import fractions',\n",
       "  'fractions',\n",
       "  'globals()',\n",
       "  'junk = math',\n",
       "  'junk is math',\n",
       "  'type(junk)',\n",
       "  'id(junk)',\n",
       "  'junk.sqrt(2)',\n",
       "  'globals()'],\n",
       " '_oh': {2: <function __main__.func()>,\n",
       "  3: 10,\n",
       "  4: 102520920,\n",
       "  5: {...},\n",
       "  7: True,\n",
       "  8: 10,\n",
       "  9: {...},\n",
       "  10: {...},\n",
       "  12: {...},\n",
       "  17: <module 'math' (built-in)>,\n",
       "  19: <module 'fractions' from 'c:\\\\users\\\\lnarasim\\\\appdata\\\\local\\\\programs\\\\python\\\\python37-32\\\\lib\\\\fractions.py'>,\n",
       "  20: {...},\n",
       "  22: True,\n",
       "  23: module,\n",
       "  24: 53149296,\n",
       "  25: 1.4142135623730951},\n",
       " '_dh': ['C:\\\\Users\\\\lnarasim\\\\github\\\\geekshub_python_bootcamp\\\\topics\\\\modules_packages'],\n",
       " 'In': ['',\n",
       "  'def func():\\n    a = 10\\n    return a',\n",
       "  'func',\n",
       "  'func()',\n",
       "  'id(func)',\n",
       "  'globals()',\n",
       "  \"f = globals()['func']\",\n",
       "  'f is func',\n",
       "  'f()',\n",
       "  'globals()',\n",
       "  'globals()',\n",
       "  'a = 100',\n",
       "  'globals()',\n",
       "  'def func():\\n    a = 10\\n    b = 10\\n    print(locals())',\n",
       "  'func()',\n",
       "  'import math',\n",
       "  'meth',\n",
       "  'math',\n",
       "  'import fractions',\n",
       "  'fractions',\n",
       "  'globals()',\n",
       "  'junk = math',\n",
       "  'junk is math',\n",
       "  'type(junk)',\n",
       "  'id(junk)',\n",
       "  'junk.sqrt(2)',\n",
       "  'globals()'],\n",
       " 'Out': {2: <function __main__.func()>,\n",
       "  3: 10,\n",
       "  4: 102520920,\n",
       "  5: {...},\n",
       "  7: True,\n",
       "  8: 10,\n",
       "  9: {...},\n",
       "  10: {...},\n",
       "  12: {...},\n",
       "  17: <module 'math' (built-in)>,\n",
       "  19: <module 'fractions' from 'c:\\\\users\\\\lnarasim\\\\appdata\\\\local\\\\programs\\\\python\\\\python37-32\\\\lib\\\\fractions.py'>,\n",
       "  20: {...},\n",
       "  22: True,\n",
       "  23: module,\n",
       "  24: 53149296,\n",
       "  25: 1.4142135623730951},\n",
       " 'get_ipython': <bound method InteractiveShell.get_ipython of <ipykernel.zmqshell.ZMQInteractiveShell object at 0x04F4B290>>,\n",
       " 'exit': <IPython.core.autocall.ZMQExitAutocall at 0x4f518f0>,\n",
       " 'quit': <IPython.core.autocall.ZMQExitAutocall at 0x4f518f0>,\n",
       " '_': 1.4142135623730951,\n",
       " '__': 53149296,\n",
       " '___': module,\n",
       " '_i': 'junk.sqrt(2)',\n",
       " '_ii': 'id(junk)',\n",
       " '_iii': 'type(junk)',\n",
       " '_i1': 'def func():\\n    a = 10\\n    return a',\n",
       " 'func': <function __main__.func()>,\n",
       " '_i2': 'func',\n",
       " '_2': <function __main__.func()>,\n",
       " '_i3': 'func()',\n",
       " '_3': 10,\n",
       " '_i4': 'id(func)',\n",
       " '_4': 102520920,\n",
       " '_i5': 'globals()',\n",
       " '_5': {...},\n",
       " '_i6': \"f = globals()['func']\",\n",
       " 'f': <function __main__.func()>,\n",
       " '_i7': 'f is func',\n",
       " '_7': True,\n",
       " '_i8': 'f()',\n",
       " '_8': 10,\n",
       " '_i9': 'globals()',\n",
       " '_9': {...},\n",
       " '_i10': 'globals()',\n",
       " '_10': {...},\n",
       " '_i11': 'a = 100',\n",
       " 'a': 100,\n",
       " '_i12': 'globals()',\n",
       " '_12': {...},\n",
       " '_i13': 'def func():\\n    a = 10\\n    b = 10\\n    print(locals())',\n",
       " '_i14': 'func()',\n",
       " '_i15': 'import math',\n",
       " 'math': <module 'math' (built-in)>,\n",
       " '_i16': 'meth',\n",
       " '_i17': 'math',\n",
       " '_17': <module 'math' (built-in)>,\n",
       " '_i18': 'import fractions',\n",
       " 'fractions': <module 'fractions' from 'c:\\\\users\\\\lnarasim\\\\appdata\\\\local\\\\programs\\\\python\\\\python37-32\\\\lib\\\\fractions.py'>,\n",
       " '_i19': 'fractions',\n",
       " '_19': <module 'fractions' from 'c:\\\\users\\\\lnarasim\\\\appdata\\\\local\\\\programs\\\\python\\\\python37-32\\\\lib\\\\fractions.py'>,\n",
       " '_i20': 'globals()',\n",
       " '_20': {...},\n",
       " '_i21': 'junk = math',\n",
       " 'junk': <module 'math' (built-in)>,\n",
       " '_i22': 'junk is math',\n",
       " '_22': True,\n",
       " '_i23': 'type(junk)',\n",
       " '_23': module,\n",
       " '_i24': 'id(junk)',\n",
       " '_24': 53149296,\n",
       " '_i25': 'junk.sqrt(2)',\n",
       " '_25': 1.4142135623730951,\n",
       " '_i26': 'globals()'}"
      ]
     },
     "execution_count": 26,
     "metadata": {},
     "output_type": "execute_result"
    }
   ],
   "source": [
    "globals()"
   ]
  },
  {
   "cell_type": "code",
   "execution_count": 28,
   "metadata": {},
   "outputs": [
    {
     "data": {
      "text/plain": [
       "1.4142135623730951"
      ]
     },
     "execution_count": 28,
     "metadata": {},
     "output_type": "execute_result"
    }
   ],
   "source": [
    "mod_math = globals()['math']\n",
    "mod_math.sqrt(2)"
   ]
  },
  {
   "cell_type": "code",
   "execution_count": 29,
   "metadata": {},
   "outputs": [
    {
     "data": {
      "text/plain": [
       "dict"
      ]
     },
     "execution_count": 29,
     "metadata": {},
     "output_type": "execute_result"
    }
   ],
   "source": [
    "type(globals())"
   ]
  },
  {
   "cell_type": "code",
   "execution_count": 30,
   "metadata": {},
   "outputs": [
    {
     "data": {
      "text/plain": [
       "module"
      ]
     },
     "execution_count": 30,
     "metadata": {},
     "output_type": "execute_result"
    }
   ],
   "source": [
    "type(fractions)"
   ]
  },
  {
   "cell_type": "code",
   "execution_count": 31,
   "metadata": {},
   "outputs": [
    {
     "data": {
      "text/plain": [
       "105035024"
      ]
     },
     "execution_count": 31,
     "metadata": {},
     "output_type": "execute_result"
    }
   ],
   "source": [
    "id(fractions)"
   ]
  },
  {
   "cell_type": "code",
   "execution_count": 32,
   "metadata": {},
   "outputs": [],
   "source": [
    "import math"
   ]
  },
  {
   "cell_type": "code",
   "execution_count": 33,
   "metadata": {},
   "outputs": [
    {
     "data": {
      "text/plain": [
       "53149296"
      ]
     },
     "execution_count": 33,
     "metadata": {},
     "output_type": "execute_result"
    }
   ],
   "source": [
    "id(math)"
   ]
  },
  {
   "cell_type": "code",
   "execution_count": 34,
   "metadata": {},
   "outputs": [],
   "source": [
    "def func():\n",
    "    import decimal\n",
    "    print(locals())"
   ]
  },
  {
   "cell_type": "code",
   "execution_count": 35,
   "metadata": {},
   "outputs": [
    {
     "name": "stdout",
     "output_type": "stream",
     "text": [
      "{'decimal': <module 'decimal' from 'c:\\\\users\\\\lnarasim\\\\appdata\\\\local\\\\programs\\\\python\\\\python37-32\\\\lib\\\\decimal.py'>}\n"
     ]
    }
   ],
   "source": [
    "func()"
   ]
  },
  {
   "cell_type": "code",
   "execution_count": 36,
   "metadata": {},
   "outputs": [
    {
     "data": {
      "text/plain": [
       "{'__name__': '__main__',\n",
       " '__doc__': 'Automatically created module for IPython interactive environment',\n",
       " '__package__': None,\n",
       " '__loader__': None,\n",
       " '__spec__': None,\n",
       " '__builtin__': <module 'builtins' (built-in)>,\n",
       " '__builtins__': <module 'builtins' (built-in)>,\n",
       " '_ih': ['',\n",
       "  'def func():\\n    a = 10\\n    return a',\n",
       "  'func',\n",
       "  'func()',\n",
       "  'id(func)',\n",
       "  'globals()',\n",
       "  \"f = globals()['func']\",\n",
       "  'f is func',\n",
       "  'f()',\n",
       "  'globals()',\n",
       "  'globals()',\n",
       "  'a = 100',\n",
       "  'globals()',\n",
       "  'def func():\\n    a = 10\\n    b = 10\\n    print(locals())',\n",
       "  'func()',\n",
       "  'import math',\n",
       "  'meth',\n",
       "  'math',\n",
       "  'import fractions',\n",
       "  'fractions',\n",
       "  'globals()',\n",
       "  'junk = math',\n",
       "  'junk is math',\n",
       "  'type(junk)',\n",
       "  'id(junk)',\n",
       "  'junk.sqrt(2)',\n",
       "  'globals()',\n",
       "  \"mod_math = globals['math']\\nmod_math.sqrt(2)\",\n",
       "  \"mod_math = globals()['math']\\nmod_math.sqrt(2)\",\n",
       "  'type(globals())',\n",
       "  'type(fractions)',\n",
       "  'id(fractions)',\n",
       "  'import math',\n",
       "  'id(math)',\n",
       "  'def func():\\n    import decimal\\n    print(locals())',\n",
       "  'func()',\n",
       "  'globals()'],\n",
       " '_oh': {2: <function __main__.func()>,\n",
       "  3: 10,\n",
       "  4: 102520920,\n",
       "  5: {...},\n",
       "  7: True,\n",
       "  8: 10,\n",
       "  9: {...},\n",
       "  10: {...},\n",
       "  12: {...},\n",
       "  17: <module 'math' (built-in)>,\n",
       "  19: <module 'fractions' from 'c:\\\\users\\\\lnarasim\\\\appdata\\\\local\\\\programs\\\\python\\\\python37-32\\\\lib\\\\fractions.py'>,\n",
       "  20: {...},\n",
       "  22: True,\n",
       "  23: module,\n",
       "  24: 53149296,\n",
       "  25: 1.4142135623730951,\n",
       "  26: {...},\n",
       "  28: 1.4142135623730951,\n",
       "  29: dict,\n",
       "  30: module,\n",
       "  31: 105035024,\n",
       "  33: 53149296},\n",
       " '_dh': ['C:\\\\Users\\\\lnarasim\\\\github\\\\geekshub_python_bootcamp\\\\topics\\\\modules_packages'],\n",
       " 'In': ['',\n",
       "  'def func():\\n    a = 10\\n    return a',\n",
       "  'func',\n",
       "  'func()',\n",
       "  'id(func)',\n",
       "  'globals()',\n",
       "  \"f = globals()['func']\",\n",
       "  'f is func',\n",
       "  'f()',\n",
       "  'globals()',\n",
       "  'globals()',\n",
       "  'a = 100',\n",
       "  'globals()',\n",
       "  'def func():\\n    a = 10\\n    b = 10\\n    print(locals())',\n",
       "  'func()',\n",
       "  'import math',\n",
       "  'meth',\n",
       "  'math',\n",
       "  'import fractions',\n",
       "  'fractions',\n",
       "  'globals()',\n",
       "  'junk = math',\n",
       "  'junk is math',\n",
       "  'type(junk)',\n",
       "  'id(junk)',\n",
       "  'junk.sqrt(2)',\n",
       "  'globals()',\n",
       "  \"mod_math = globals['math']\\nmod_math.sqrt(2)\",\n",
       "  \"mod_math = globals()['math']\\nmod_math.sqrt(2)\",\n",
       "  'type(globals())',\n",
       "  'type(fractions)',\n",
       "  'id(fractions)',\n",
       "  'import math',\n",
       "  'id(math)',\n",
       "  'def func():\\n    import decimal\\n    print(locals())',\n",
       "  'func()',\n",
       "  'globals()'],\n",
       " 'Out': {2: <function __main__.func()>,\n",
       "  3: 10,\n",
       "  4: 102520920,\n",
       "  5: {...},\n",
       "  7: True,\n",
       "  8: 10,\n",
       "  9: {...},\n",
       "  10: {...},\n",
       "  12: {...},\n",
       "  17: <module 'math' (built-in)>,\n",
       "  19: <module 'fractions' from 'c:\\\\users\\\\lnarasim\\\\appdata\\\\local\\\\programs\\\\python\\\\python37-32\\\\lib\\\\fractions.py'>,\n",
       "  20: {...},\n",
       "  22: True,\n",
       "  23: module,\n",
       "  24: 53149296,\n",
       "  25: 1.4142135623730951,\n",
       "  26: {...},\n",
       "  28: 1.4142135623730951,\n",
       "  29: dict,\n",
       "  30: module,\n",
       "  31: 105035024,\n",
       "  33: 53149296},\n",
       " 'get_ipython': <bound method InteractiveShell.get_ipython of <ipykernel.zmqshell.ZMQInteractiveShell object at 0x04F4B290>>,\n",
       " 'exit': <IPython.core.autocall.ZMQExitAutocall at 0x4f518f0>,\n",
       " 'quit': <IPython.core.autocall.ZMQExitAutocall at 0x4f518f0>,\n",
       " '_': 53149296,\n",
       " '__': 105035024,\n",
       " '___': module,\n",
       " '_i': 'func()',\n",
       " '_ii': 'def func():\\n    import decimal\\n    print(locals())',\n",
       " '_iii': 'id(math)',\n",
       " '_i1': 'def func():\\n    a = 10\\n    return a',\n",
       " 'func': <function __main__.func()>,\n",
       " '_i2': 'func',\n",
       " '_2': <function __main__.func()>,\n",
       " '_i3': 'func()',\n",
       " '_3': 10,\n",
       " '_i4': 'id(func)',\n",
       " '_4': 102520920,\n",
       " '_i5': 'globals()',\n",
       " '_5': {...},\n",
       " '_i6': \"f = globals()['func']\",\n",
       " 'f': <function __main__.func()>,\n",
       " '_i7': 'f is func',\n",
       " '_7': True,\n",
       " '_i8': 'f()',\n",
       " '_8': 10,\n",
       " '_i9': 'globals()',\n",
       " '_9': {...},\n",
       " '_i10': 'globals()',\n",
       " '_10': {...},\n",
       " '_i11': 'a = 100',\n",
       " 'a': 100,\n",
       " '_i12': 'globals()',\n",
       " '_12': {...},\n",
       " '_i13': 'def func():\\n    a = 10\\n    b = 10\\n    print(locals())',\n",
       " '_i14': 'func()',\n",
       " '_i15': 'import math',\n",
       " 'math': <module 'math' (built-in)>,\n",
       " '_i16': 'meth',\n",
       " '_i17': 'math',\n",
       " '_17': <module 'math' (built-in)>,\n",
       " '_i18': 'import fractions',\n",
       " 'fractions': <module 'fractions' from 'c:\\\\users\\\\lnarasim\\\\appdata\\\\local\\\\programs\\\\python\\\\python37-32\\\\lib\\\\fractions.py'>,\n",
       " '_i19': 'fractions',\n",
       " '_19': <module 'fractions' from 'c:\\\\users\\\\lnarasim\\\\appdata\\\\local\\\\programs\\\\python\\\\python37-32\\\\lib\\\\fractions.py'>,\n",
       " '_i20': 'globals()',\n",
       " '_20': {...},\n",
       " '_i21': 'junk = math',\n",
       " 'junk': <module 'math' (built-in)>,\n",
       " '_i22': 'junk is math',\n",
       " '_22': True,\n",
       " '_i23': 'type(junk)',\n",
       " '_23': module,\n",
       " '_i24': 'id(junk)',\n",
       " '_24': 53149296,\n",
       " '_i25': 'junk.sqrt(2)',\n",
       " '_25': 1.4142135623730951,\n",
       " '_i26': 'globals()',\n",
       " '_26': {...},\n",
       " '_i27': \"mod_math = globals['math']\\nmod_math.sqrt(2)\",\n",
       " '_i28': \"mod_math = globals()['math']\\nmod_math.sqrt(2)\",\n",
       " 'mod_math': <module 'math' (built-in)>,\n",
       " '_28': 1.4142135623730951,\n",
       " '_i29': 'type(globals())',\n",
       " '_29': dict,\n",
       " '_i30': 'type(fractions)',\n",
       " '_30': module,\n",
       " '_i31': 'id(fractions)',\n",
       " '_31': 105035024,\n",
       " '_i32': 'import math',\n",
       " '_i33': 'id(math)',\n",
       " '_33': 53149296,\n",
       " '_i34': 'def func():\\n    import decimal\\n    print(locals())',\n",
       " '_i35': 'func()',\n",
       " '_i36': 'globals()'}"
      ]
     },
     "execution_count": 36,
     "metadata": {},
     "output_type": "execute_result"
    }
   ],
   "source": [
    "globals()"
   ]
  },
  {
   "cell_type": "code",
   "execution_count": 38,
   "metadata": {},
   "outputs": [
    {
     "data": {
      "text/plain": [
       "dict"
      ]
     },
     "execution_count": 38,
     "metadata": {},
     "output_type": "execute_result"
    }
   ],
   "source": [
    "import sys\n",
    "type(sys.modules)"
   ]
  },
  {
   "cell_type": "code",
   "execution_count": 39,
   "metadata": {},
   "outputs": [
    {
     "data": {
      "text/plain": [
       "<module 'math' (built-in)>"
      ]
     },
     "execution_count": 39,
     "metadata": {},
     "output_type": "execute_result"
    }
   ],
   "source": [
    "sys.modules['math']"
   ]
  },
  {
   "cell_type": "code",
   "execution_count": 40,
   "metadata": {},
   "outputs": [
    {
     "data": {
      "text/plain": [
       "53149296"
      ]
     },
     "execution_count": 40,
     "metadata": {},
     "output_type": "execute_result"
    }
   ],
   "source": [
    "id(sys.modules['math'])"
   ]
  },
  {
   "cell_type": "code",
   "execution_count": 41,
   "metadata": {},
   "outputs": [
    {
     "data": {
      "text/plain": [
       "'math'"
      ]
     },
     "execution_count": 41,
     "metadata": {},
     "output_type": "execute_result"
    }
   ],
   "source": [
    "math.__name__"
   ]
  },
  {
   "cell_type": "code",
   "execution_count": 42,
   "metadata": {},
   "outputs": [
    {
     "data": {
      "text/plain": [
       "{'__name__': 'math',\n",
       " '__doc__': 'This module is always available.  It provides access to the\\nmathematical functions defined by the C standard.',\n",
       " '__package__': '',\n",
       " '__loader__': _frozen_importlib.BuiltinImporter,\n",
       " '__spec__': ModuleSpec(name='math', loader=<class '_frozen_importlib.BuiltinImporter'>, origin='built-in'),\n",
       " 'acos': <function math.acos(x, /)>,\n",
       " 'acosh': <function math.acosh(x, /)>,\n",
       " 'asin': <function math.asin(x, /)>,\n",
       " 'asinh': <function math.asinh(x, /)>,\n",
       " 'atan': <function math.atan(x, /)>,\n",
       " 'atan2': <function math.atan2(y, x, /)>,\n",
       " 'atanh': <function math.atanh(x, /)>,\n",
       " 'ceil': <function math.ceil(x, /)>,\n",
       " 'copysign': <function math.copysign(x, y, /)>,\n",
       " 'cos': <function math.cos(x, /)>,\n",
       " 'cosh': <function math.cosh(x, /)>,\n",
       " 'degrees': <function math.degrees(x, /)>,\n",
       " 'erf': <function math.erf(x, /)>,\n",
       " 'erfc': <function math.erfc(x, /)>,\n",
       " 'exp': <function math.exp(x, /)>,\n",
       " 'expm1': <function math.expm1(x, /)>,\n",
       " 'fabs': <function math.fabs(x, /)>,\n",
       " 'factorial': <function math.factorial(x, /)>,\n",
       " 'floor': <function math.floor(x, /)>,\n",
       " 'fmod': <function math.fmod(x, y, /)>,\n",
       " 'frexp': <function math.frexp(x, /)>,\n",
       " 'fsum': <function math.fsum(seq, /)>,\n",
       " 'gamma': <function math.gamma(x, /)>,\n",
       " 'gcd': <function math.gcd(x, y, /)>,\n",
       " 'hypot': <function math.hypot(x, y, /)>,\n",
       " 'isclose': <function math.isclose(a, b, *, rel_tol=1e-09, abs_tol=0.0)>,\n",
       " 'isfinite': <function math.isfinite(x, /)>,\n",
       " 'isinf': <function math.isinf(x, /)>,\n",
       " 'isnan': <function math.isnan(x, /)>,\n",
       " 'ldexp': <function math.ldexp(x, i, /)>,\n",
       " 'lgamma': <function math.lgamma(x, /)>,\n",
       " 'log': <function math.log>,\n",
       " 'log1p': <function math.log1p(x, /)>,\n",
       " 'log10': <function math.log10(x, /)>,\n",
       " 'log2': <function math.log2(x, /)>,\n",
       " 'modf': <function math.modf(x, /)>,\n",
       " 'pow': <function math.pow(x, y, /)>,\n",
       " 'radians': <function math.radians(x, /)>,\n",
       " 'remainder': <function math.remainder(x, y, /)>,\n",
       " 'sin': <function math.sin(x, /)>,\n",
       " 'sinh': <function math.sinh(x, /)>,\n",
       " 'sqrt': <function math.sqrt(x, /)>,\n",
       " 'tan': <function math.tan(x, /)>,\n",
       " 'tanh': <function math.tanh(x, /)>,\n",
       " 'trunc': <function math.trunc(x, /)>,\n",
       " 'pi': 3.141592653589793,\n",
       " 'e': 2.718281828459045,\n",
       " 'tau': 6.283185307179586,\n",
       " 'inf': inf,\n",
       " 'nan': nan}"
      ]
     },
     "execution_count": 42,
     "metadata": {},
     "output_type": "execute_result"
    }
   ],
   "source": [
    "math.__dict__"
   ]
  },
  {
   "cell_type": "code",
   "execution_count": 43,
   "metadata": {},
   "outputs": [],
   "source": [
    "f = math.__dict__['sqrt']"
   ]
  },
  {
   "cell_type": "code",
   "execution_count": 44,
   "metadata": {},
   "outputs": [
    {
     "data": {
      "text/plain": [
       "1.4142135623730951"
      ]
     },
     "execution_count": 44,
     "metadata": {},
     "output_type": "execute_result"
    }
   ],
   "source": [
    "f(2)"
   ]
  },
  {
   "cell_type": "code",
   "execution_count": 45,
   "metadata": {},
   "outputs": [],
   "source": [
    "import fractions"
   ]
  },
  {
   "cell_type": "code",
   "execution_count": 46,
   "metadata": {},
   "outputs": [
    {
     "data": {
      "text/plain": [
       "<module 'fractions' from 'c:\\\\users\\\\lnarasim\\\\appdata\\\\local\\\\programs\\\\python\\\\python37-32\\\\lib\\\\fractions.py'>"
      ]
     },
     "execution_count": 46,
     "metadata": {},
     "output_type": "execute_result"
    }
   ],
   "source": [
    "sys.modules['fractions']"
   ]
  },
  {
   "cell_type": "code",
   "execution_count": 47,
   "metadata": {},
   "outputs": [],
   "source": [
    "import calendar"
   ]
  },
  {
   "cell_type": "code",
   "execution_count": 48,
   "metadata": {},
   "outputs": [
    {
     "data": {
      "text/plain": [
       "<module 'calendar' from 'c:\\\\users\\\\lnarasim\\\\appdata\\\\local\\\\programs\\\\python\\\\python37-32\\\\lib\\\\calendar.py'>"
      ]
     },
     "execution_count": 48,
     "metadata": {},
     "output_type": "execute_result"
    }
   ],
   "source": [
    "calendar"
   ]
  },
  {
   "cell_type": "code",
   "execution_count": 49,
   "metadata": {},
   "outputs": [],
   "source": [
    "import types"
   ]
  },
  {
   "cell_type": "code",
   "execution_count": 51,
   "metadata": {},
   "outputs": [
    {
     "data": {
      "text/plain": [
       "True"
      ]
     },
     "execution_count": 51,
     "metadata": {},
     "output_type": "execute_result"
    }
   ],
   "source": [
    "isinstance(fractions, types.ModuleType)"
   ]
  },
  {
   "cell_type": "code",
   "execution_count": 52,
   "metadata": {},
   "outputs": [],
   "source": [
    "mod = types.ModuleType('test', \"this is a test module\")"
   ]
  },
  {
   "cell_type": "code",
   "execution_count": 54,
   "metadata": {},
   "outputs": [
    {
     "data": {
      "text/plain": [
       "True"
      ]
     },
     "execution_count": 54,
     "metadata": {},
     "output_type": "execute_result"
    }
   ],
   "source": [
    "isinstance(mod, types.ModuleType)"
   ]
  },
  {
   "cell_type": "code",
   "execution_count": 55,
   "metadata": {},
   "outputs": [],
   "source": [
    "mod.pi = 3.14"
   ]
  },
  {
   "cell_type": "code",
   "execution_count": 56,
   "metadata": {},
   "outputs": [
    {
     "data": {
      "text/plain": [
       "{'__name__': 'test',\n",
       " '__doc__': 'this is a test module',\n",
       " '__package__': None,\n",
       " '__loader__': None,\n",
       " '__spec__': None,\n",
       " 'pi': 3.14}"
      ]
     },
     "execution_count": 56,
     "metadata": {},
     "output_type": "execute_result"
    }
   ],
   "source": [
    "mod.__dict__"
   ]
  },
  {
   "cell_type": "code",
   "execution_count": 57,
   "metadata": {},
   "outputs": [],
   "source": [
    "mod.hello = lambda : 'Hello'"
   ]
  },
  {
   "cell_type": "code",
   "execution_count": 58,
   "metadata": {},
   "outputs": [
    {
     "data": {
      "text/plain": [
       "'Hello'"
      ]
     },
     "execution_count": 58,
     "metadata": {},
     "output_type": "execute_result"
    }
   ],
   "source": [
    "mod.hello()"
   ]
  },
  {
   "cell_type": "code",
   "execution_count": 59,
   "metadata": {},
   "outputs": [
    {
     "data": {
      "text/plain": [
       "{'__name__': 'test',\n",
       " '__doc__': 'this is a test module',\n",
       " '__package__': None,\n",
       " '__loader__': None,\n",
       " '__spec__': None,\n",
       " 'pi': 3.14,\n",
       " 'hello': <function __main__.<lambda>()>}"
      ]
     },
     "execution_count": 59,
     "metadata": {},
     "output_type": "execute_result"
    }
   ],
   "source": [
    "mod.__dict__"
   ]
  },
  {
   "cell_type": "code",
   "execution_count": 60,
   "metadata": {},
   "outputs": [],
   "source": [
    "hello = mod.hello"
   ]
  },
  {
   "cell_type": "code",
   "execution_count": 61,
   "metadata": {},
   "outputs": [
    {
     "data": {
      "text/plain": [
       "'Hello'"
      ]
     },
     "execution_count": 61,
     "metadata": {},
     "output_type": "execute_result"
    }
   ],
   "source": [
    "hello()"
   ]
  },
  {
   "cell_type": "code",
   "execution_count": 62,
   "metadata": {},
   "outputs": [],
   "source": [
    "from collections import namedtuple"
   ]
  },
  {
   "cell_type": "code",
   "execution_count": 64,
   "metadata": {},
   "outputs": [],
   "source": [
    "import sys"
   ]
  },
  {
   "cell_type": "code",
   "execution_count": 65,
   "metadata": {},
   "outputs": [
    {
     "data": {
      "text/plain": [
       "'c:\\\\users\\\\lnarasim\\\\appdata\\\\local\\\\programs\\\\python\\\\python37-32'"
      ]
     },
     "execution_count": 65,
     "metadata": {},
     "output_type": "execute_result"
    }
   ],
   "source": [
    "sys.exec_prefix"
   ]
  },
  {
   "cell_type": "code",
   "execution_count": 66,
   "metadata": {},
   "outputs": [
    {
     "data": {
      "text/plain": [
       "'c:\\\\users\\\\lnarasim\\\\appdata\\\\local\\\\programs\\\\python\\\\python37-32'"
      ]
     },
     "execution_count": 66,
     "metadata": {},
     "output_type": "execute_result"
    }
   ],
   "source": [
    "sys.prefix"
   ]
  },
  {
   "cell_type": "code",
   "execution_count": 67,
   "metadata": {},
   "outputs": [
    {
     "data": {
      "text/plain": [
       "['C:\\\\Users\\\\lnarasim\\\\github\\\\geekshub_python_bootcamp\\\\topics\\\\modules_packages',\n",
       " 'C:\\\\Universe\\\\UpSkill\\\\Source_code\\\\Python_Exercise\\\\directory',\n",
       " 'c:\\\\users\\\\lnarasim\\\\appdata\\\\local\\\\programs\\\\python\\\\python37-32\\\\python37.zip',\n",
       " 'c:\\\\users\\\\lnarasim\\\\appdata\\\\local\\\\programs\\\\python\\\\python37-32\\\\DLLs',\n",
       " 'c:\\\\users\\\\lnarasim\\\\appdata\\\\local\\\\programs\\\\python\\\\python37-32\\\\lib',\n",
       " 'c:\\\\users\\\\lnarasim\\\\appdata\\\\local\\\\programs\\\\python\\\\python37-32',\n",
       " '',\n",
       " 'C:\\\\Users\\\\lnarasim\\\\AppData\\\\Roaming\\\\Python\\\\Python37\\\\site-packages',\n",
       " 'c:\\\\users\\\\lnarasim\\\\appdata\\\\local\\\\programs\\\\python\\\\python37-32\\\\lib\\\\site-packages',\n",
       " 'c:\\\\users\\\\lnarasim\\\\appdata\\\\local\\\\programs\\\\python\\\\python37-32\\\\lib\\\\site-packages\\\\IPython\\\\extensions',\n",
       " 'C:\\\\Users\\\\lnarasim\\\\.ipython']"
      ]
     },
     "execution_count": 67,
     "metadata": {},
     "output_type": "execute_result"
    }
   ],
   "source": [
    "sys.path"
   ]
  },
  {
   "cell_type": "code",
   "execution_count": null,
   "metadata": {},
   "outputs": [],
   "source": []
  }
 ],
 "metadata": {
  "kernelspec": {
   "display_name": "Python 3",
   "language": "python",
   "name": "python3"
  },
  "language_info": {
   "codemirror_mode": {
    "name": "ipython",
    "version": 3
   },
   "file_extension": ".py",
   "mimetype": "text/x-python",
   "name": "python",
   "nbconvert_exporter": "python",
   "pygments_lexer": "ipython3",
   "version": "3.7.2"
  }
 },
 "nbformat": 4,
 "nbformat_minor": 2
}
