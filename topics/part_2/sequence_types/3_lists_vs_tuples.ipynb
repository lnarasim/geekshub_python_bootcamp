{
 "cells": [
  {
   "cell_type": "code",
   "execution_count": 1,
   "metadata": {},
   "outputs": [],
   "source": [
    "from dis import dis"
   ]
  },
  {
   "cell_type": "code",
   "execution_count": 2,
   "metadata": {},
   "outputs": [
    {
     "data": {
      "text/plain": [
       "(1, 2, 3)"
      ]
     },
     "execution_count": 2,
     "metadata": {},
     "output_type": "execute_result"
    }
   ],
   "source": [
    "(1, 2, 3)"
   ]
  },
  {
   "cell_type": "code",
   "execution_count": 3,
   "metadata": {},
   "outputs": [
    {
     "data": {
      "text/plain": [
       "[1, 2, 3]"
      ]
     },
     "execution_count": 3,
     "metadata": {},
     "output_type": "execute_result"
    }
   ],
   "source": [
    "[1, 2, 3]"
   ]
  },
  {
   "cell_type": "code",
   "execution_count": 4,
   "metadata": {},
   "outputs": [
    {
     "name": "stdout",
     "output_type": "stream",
     "text": [
      "  1           0 LOAD_CONST               0 ((1, 2, 3, 4, 'a'))\n",
      "              2 RETURN_VALUE\n"
     ]
    }
   ],
   "source": [
    "dis(compile('(1, 2, 3, 4, \"a\")', 'string', 'eval'))"
   ]
  },
  {
   "cell_type": "code",
   "execution_count": 5,
   "metadata": {},
   "outputs": [
    {
     "name": "stdout",
     "output_type": "stream",
     "text": [
      "  1           0 LOAD_CONST               0 (1)\n",
      "              2 LOAD_CONST               1 (2)\n",
      "              4 LOAD_CONST               2 (3)\n",
      "              6 LOAD_CONST               3 (4)\n",
      "              8 LOAD_CONST               4 ('a')\n",
      "             10 BUILD_LIST               5\n",
      "             12 RETURN_VALUE\n"
     ]
    }
   ],
   "source": [
    "dis(compile('[1, 2, 3, 4, \"a\"]', 'string', 'eval'))"
   ]
  },
  {
   "cell_type": "code",
   "execution_count": 6,
   "metadata": {},
   "outputs": [
    {
     "name": "stdout",
     "output_type": "stream",
     "text": [
      "  1           0 LOAD_CONST               0 (1)\n",
      "              2 LOAD_CONST               1 (2)\n",
      "              4 LOAD_CONST               2 (3)\n",
      "              6 LOAD_CONST               3 (4)\n",
      "              8 LOAD_CONST               4 (10)\n",
      "             10 LOAD_CONST               5 (20)\n",
      "             12 BUILD_LIST               2\n",
      "             14 BUILD_TUPLE              5\n",
      "             16 RETURN_VALUE\n"
     ]
    }
   ],
   "source": [
    "dis(compile('(1, 2, 3, 4, [10, 20])', 'string', 'eval'))"
   ]
  },
  {
   "cell_type": "code",
   "execution_count": 7,
   "metadata": {},
   "outputs": [],
   "source": [
    "from timeit import timeit"
   ]
  },
  {
   "cell_type": "code",
   "execution_count": 9,
   "metadata": {},
   "outputs": [
    {
     "data": {
      "text/plain": [
       "0.1974833409999519"
      ]
     },
     "execution_count": 9,
     "metadata": {},
     "output_type": "execute_result"
    }
   ],
   "source": [
    "timeit(\"(1, 2, 3, 4, 5, 6, 7, 8, 9)\", number=10000000)"
   ]
  },
  {
   "cell_type": "code",
   "execution_count": 10,
   "metadata": {},
   "outputs": [
    {
     "data": {
      "text/plain": [
       "1.8808398200001193"
      ]
     },
     "execution_count": 10,
     "metadata": {},
     "output_type": "execute_result"
    }
   ],
   "source": [
    "timeit(\"[1, 2, 3, 4, 5, 6, 7, 8, 9]\", number=10000000)"
   ]
  },
  {
   "cell_type": "code",
   "execution_count": 11,
   "metadata": {},
   "outputs": [],
   "source": [
    "def fn1():\n",
    "    pass"
   ]
  },
  {
   "cell_type": "code",
   "execution_count": 12,
   "metadata": {},
   "outputs": [
    {
     "name": "stdout",
     "output_type": "stream",
     "text": [
      "  1           0 LOAD_NAME                0 (fn1)\n",
      "              2 LOAD_CONST               0 (10)\n",
      "              4 LOAD_CONST               1 (20)\n",
      "              6 BUILD_TUPLE              3\n",
      "              8 RETURN_VALUE\n"
     ]
    }
   ],
   "source": [
    "dis(compile('(fn1, 10, 20)', 'string', 'eval'))"
   ]
  },
  {
   "cell_type": "code",
   "execution_count": 14,
   "metadata": {},
   "outputs": [
    {
     "data": {
      "text/plain": [
       "0.20789519300001302"
      ]
     },
     "execution_count": 14,
     "metadata": {},
     "output_type": "execute_result"
    }
   ],
   "source": [
    "timeit(\"([1, 2], 10, 20)\", number=1_000_000)"
   ]
  },
  {
   "cell_type": "code",
   "execution_count": 15,
   "metadata": {},
   "outputs": [
    {
     "data": {
      "text/plain": [
       "0.3073669249999966"
      ]
     },
     "execution_count": 15,
     "metadata": {},
     "output_type": "execute_result"
    }
   ],
   "source": [
    "timeit(\"[[1, 2], 10, 20]\", number=1_000_000)"
   ]
  },
  {
   "cell_type": "code",
   "execution_count": 18,
   "metadata": {},
   "outputs": [],
   "source": [
    "l1 = [1, 2, 3, 4, 5, 6, 7,8, 9]\n",
    "t1 = [1, 2, 3, 4, 5, 6, 7,8, 9]"
   ]
  },
  {
   "cell_type": "code",
   "execution_count": 21,
   "metadata": {},
   "outputs": [
    {
     "data": {
      "text/plain": [
       "(113581992, 113480048)"
      ]
     },
     "execution_count": 21,
     "metadata": {},
     "output_type": "execute_result"
    }
   ],
   "source": [
    "id(l1), id(t1)"
   ]
  },
  {
   "cell_type": "code",
   "execution_count": 24,
   "metadata": {},
   "outputs": [],
   "source": [
    "l2 = list(l1)"
   ]
  },
  {
   "cell_type": "code",
   "execution_count": 34,
   "metadata": {},
   "outputs": [
    {
     "data": {
      "text/plain": [
       "16615064"
      ]
     },
     "execution_count": 34,
     "metadata": {},
     "output_type": "execute_result"
    }
   ],
   "source": [
    "id(l2)"
   ]
  },
  {
   "cell_type": "code",
   "execution_count": 35,
   "metadata": {},
   "outputs": [],
   "source": [
    "t2 = tuple(t1)"
   ]
  },
  {
   "cell_type": "code",
   "execution_count": 37,
   "metadata": {},
   "outputs": [
    {
     "data": {
      "text/plain": [
       "(113480048, 110972400, False)"
      ]
     },
     "execution_count": 37,
     "metadata": {},
     "output_type": "execute_result"
    }
   ],
   "source": [
    "id(t1), id(t2), t1 is t2"
   ]
  },
  {
   "cell_type": "code",
   "execution_count": 41,
   "metadata": {},
   "outputs": [
    {
     "data": {
      "text/plain": [
       "False"
      ]
     },
     "execution_count": 41,
     "metadata": {},
     "output_type": "execute_result"
    }
   ],
   "source": [
    "t1 = [1, 2, 3, 4, 5, 6, 7,8, 9]\n",
    "t2 = tuple(t1)\n",
    "id(t1), id(t2)\n",
    "t1 is t2"
   ]
  },
  {
   "cell_type": "code",
   "execution_count": 39,
   "metadata": {},
   "outputs": [
    {
     "data": {
      "text/plain": [
       "1.5481447689999186"
      ]
     },
     "execution_count": 39,
     "metadata": {},
     "output_type": "execute_result"
    }
   ],
   "source": [
    "timeit(\"tuple((1, 2, 3, 4, 5))\", number=5_000_000)"
   ]
  },
  {
   "cell_type": "code",
   "execution_count": 40,
   "metadata": {},
   "outputs": [
    {
     "data": {
      "text/plain": [
       "1.710047890999931"
      ]
     },
     "execution_count": 40,
     "metadata": {},
     "output_type": "execute_result"
    }
   ],
   "source": [
    "timeit(\"list((1, 2, 3, 4, 5))\", number=5_000_000)"
   ]
  },
  {
   "cell_type": "code",
   "execution_count": 44,
   "metadata": {},
   "outputs": [
    {
     "name": "stdout",
     "output_type": "stream",
     "text": [
      "1 items: 32, delta=4\n",
      "2 items: 36, delta=4\n",
      "3 items: 40, delta=4\n",
      "4 items: 44, delta=4\n",
      "5 items: 48, delta=4\n",
      "6 items: 52, delta=4\n",
      "7 items: 56, delta=4\n",
      "8 items: 60, delta=4\n",
      "9 items: 64, delta=4\n",
      "10 items: 68, delta=4\n"
     ]
    }
   ],
   "source": [
    "import sys\n",
    "t = tuple()\n",
    "prev = sys.getsizeof(t)\n",
    "for i in range(10):\n",
    "    c = tuple(range(i+1))\n",
    "    size_c = sys.getsizeof(c)\n",
    "    delta, prev = size_c - prev, size_c\n",
    "    print(f\"{i+1} items: {size_c}, delta={delta}\")"
   ]
  },
  {
   "cell_type": "code",
   "execution_count": 48,
   "metadata": {},
   "outputs": [
    {
     "name": "stdout",
     "output_type": "stream",
     "text": [
      "1 items: 52, delta=16\n",
      "2 items: 56, delta=4\n",
      "3 items: 60, delta=4\n",
      "4 items: 64, delta=4\n",
      "5 items: 68, delta=4\n",
      "6 items: 72, delta=4\n",
      "7 items: 76, delta=4\n",
      "8 items: 84, delta=8\n",
      "9 items: 100, delta=16\n",
      "10 items: 104, delta=4\n"
     ]
    }
   ],
   "source": [
    "l = list()\n",
    "prev = sys.getsizeof(l)\n",
    "for i in range(10):\n",
    "    c = list(range(i+1))\n",
    "    size_c = sys.getsizeof(c)\n",
    "    delta, prev = size_c - prev, size_c\n",
    "    print(f\"{i+1} items: {size_c}, delta={delta}\")"
   ]
  },
  {
   "cell_type": "code",
   "execution_count": 49,
   "metadata": {},
   "outputs": [
    {
     "name": "stdout",
     "output_type": "stream",
     "text": [
      "0 items: 36\n",
      "1 items: 52, delta=16\n",
      "2 items: 52, delta=0\n",
      "3 items: 52, delta=0\n",
      "4 items: 52, delta=0\n",
      "5 items: 68, delta=16\n",
      "6 items: 68, delta=0\n",
      "7 items: 68, delta=0\n",
      "8 items: 68, delta=0\n",
      "9 items: 100, delta=32\n",
      "10 items: 100, delta=0\n",
      "11 items: 100, delta=0\n",
      "12 items: 100, delta=0\n",
      "13 items: 100, delta=0\n",
      "14 items: 100, delta=0\n",
      "15 items: 100, delta=0\n",
      "16 items: 100, delta=0\n",
      "17 items: 136, delta=36\n",
      "18 items: 136, delta=0\n",
      "19 items: 136, delta=0\n",
      "20 items: 136, delta=0\n",
      "21 items: 136, delta=0\n",
      "22 items: 136, delta=0\n",
      "23 items: 136, delta=0\n",
      "24 items: 136, delta=0\n",
      "25 items: 136, delta=0\n",
      "26 items: 176, delta=40\n",
      "27 items: 176, delta=0\n",
      "28 items: 176, delta=0\n",
      "29 items: 176, delta=0\n",
      "30 items: 176, delta=0\n",
      "31 items: 176, delta=0\n",
      "32 items: 176, delta=0\n",
      "33 items: 176, delta=0\n",
      "34 items: 176, delta=0\n",
      "35 items: 176, delta=0\n",
      "36 items: 220, delta=44\n",
      "37 items: 220, delta=0\n",
      "38 items: 220, delta=0\n",
      "39 items: 220, delta=0\n",
      "40 items: 220, delta=0\n",
      "41 items: 220, delta=0\n",
      "42 items: 220, delta=0\n",
      "43 items: 220, delta=0\n",
      "44 items: 220, delta=0\n",
      "45 items: 220, delta=0\n",
      "46 items: 220, delta=0\n",
      "47 items: 268, delta=48\n",
      "48 items: 268, delta=0\n",
      "49 items: 268, delta=0\n",
      "50 items: 268, delta=0\n",
      "51 items: 268, delta=0\n",
      "52 items: 268, delta=0\n",
      "53 items: 268, delta=0\n",
      "54 items: 268, delta=0\n",
      "55 items: 268, delta=0\n",
      "56 items: 268, delta=0\n",
      "57 items: 268, delta=0\n",
      "58 items: 268, delta=0\n",
      "59 items: 324, delta=56\n",
      "60 items: 324, delta=0\n",
      "61 items: 324, delta=0\n",
      "62 items: 324, delta=0\n",
      "63 items: 324, delta=0\n",
      "64 items: 324, delta=0\n",
      "65 items: 324, delta=0\n",
      "66 items: 324, delta=0\n",
      "67 items: 324, delta=0\n",
      "68 items: 324, delta=0\n",
      "69 items: 324, delta=0\n",
      "70 items: 324, delta=0\n",
      "71 items: 324, delta=0\n",
      "72 items: 324, delta=0\n",
      "73 items: 388, delta=64\n",
      "74 items: 388, delta=0\n",
      "75 items: 388, delta=0\n",
      "76 items: 388, delta=0\n",
      "77 items: 388, delta=0\n",
      "78 items: 388, delta=0\n",
      "79 items: 388, delta=0\n",
      "80 items: 388, delta=0\n",
      "81 items: 388, delta=0\n",
      "82 items: 388, delta=0\n",
      "83 items: 388, delta=0\n",
      "84 items: 388, delta=0\n",
      "85 items: 388, delta=0\n",
      "86 items: 388, delta=0\n",
      "87 items: 388, delta=0\n",
      "88 items: 388, delta=0\n",
      "89 items: 460, delta=72\n",
      "90 items: 460, delta=0\n",
      "91 items: 460, delta=0\n",
      "92 items: 460, delta=0\n",
      "93 items: 460, delta=0\n",
      "94 items: 460, delta=0\n",
      "95 items: 460, delta=0\n",
      "96 items: 460, delta=0\n",
      "97 items: 460, delta=0\n",
      "98 items: 460, delta=0\n",
      "99 items: 460, delta=0\n",
      "100 items: 460, delta=0\n",
      "101 items: 460, delta=0\n",
      "102 items: 460, delta=0\n",
      "103 items: 460, delta=0\n",
      "104 items: 460, delta=0\n",
      "105 items: 460, delta=0\n",
      "106 items: 460, delta=0\n",
      "107 items: 540, delta=80\n",
      "108 items: 540, delta=0\n",
      "109 items: 540, delta=0\n",
      "110 items: 540, delta=0\n",
      "111 items: 540, delta=0\n",
      "112 items: 540, delta=0\n",
      "113 items: 540, delta=0\n",
      "114 items: 540, delta=0\n",
      "115 items: 540, delta=0\n",
      "116 items: 540, delta=0\n",
      "117 items: 540, delta=0\n",
      "118 items: 540, delta=0\n",
      "119 items: 540, delta=0\n",
      "120 items: 540, delta=0\n",
      "121 items: 540, delta=0\n",
      "122 items: 540, delta=0\n",
      "123 items: 540, delta=0\n",
      "124 items: 540, delta=0\n",
      "125 items: 540, delta=0\n",
      "126 items: 540, delta=0\n",
      "127 items: 628, delta=88\n",
      "128 items: 628, delta=0\n",
      "129 items: 628, delta=0\n",
      "130 items: 628, delta=0\n",
      "131 items: 628, delta=0\n",
      "132 items: 628, delta=0\n",
      "133 items: 628, delta=0\n",
      "134 items: 628, delta=0\n",
      "135 items: 628, delta=0\n",
      "136 items: 628, delta=0\n",
      "137 items: 628, delta=0\n",
      "138 items: 628, delta=0\n",
      "139 items: 628, delta=0\n",
      "140 items: 628, delta=0\n",
      "141 items: 628, delta=0\n",
      "142 items: 628, delta=0\n",
      "143 items: 628, delta=0\n",
      "144 items: 628, delta=0\n",
      "145 items: 628, delta=0\n",
      "146 items: 628, delta=0\n",
      "147 items: 628, delta=0\n",
      "148 items: 628, delta=0\n",
      "149 items: 728, delta=100\n",
      "150 items: 728, delta=0\n",
      "151 items: 728, delta=0\n",
      "152 items: 728, delta=0\n",
      "153 items: 728, delta=0\n",
      "154 items: 728, delta=0\n",
      "155 items: 728, delta=0\n",
      "156 items: 728, delta=0\n",
      "157 items: 728, delta=0\n",
      "158 items: 728, delta=0\n",
      "159 items: 728, delta=0\n",
      "160 items: 728, delta=0\n",
      "161 items: 728, delta=0\n",
      "162 items: 728, delta=0\n",
      "163 items: 728, delta=0\n",
      "164 items: 728, delta=0\n",
      "165 items: 728, delta=0\n",
      "166 items: 728, delta=0\n",
      "167 items: 728, delta=0\n",
      "168 items: 728, delta=0\n",
      "169 items: 728, delta=0\n",
      "170 items: 728, delta=0\n",
      "171 items: 728, delta=0\n",
      "172 items: 728, delta=0\n",
      "173 items: 728, delta=0\n",
      "174 items: 840, delta=112\n",
      "175 items: 840, delta=0\n",
      "176 items: 840, delta=0\n",
      "177 items: 840, delta=0\n",
      "178 items: 840, delta=0\n",
      "179 items: 840, delta=0\n",
      "180 items: 840, delta=0\n",
      "181 items: 840, delta=0\n",
      "182 items: 840, delta=0\n",
      "183 items: 840, delta=0\n",
      "184 items: 840, delta=0\n",
      "185 items: 840, delta=0\n",
      "186 items: 840, delta=0\n",
      "187 items: 840, delta=0\n",
      "188 items: 840, delta=0\n",
      "189 items: 840, delta=0\n",
      "190 items: 840, delta=0\n",
      "191 items: 840, delta=0\n",
      "192 items: 840, delta=0\n",
      "193 items: 840, delta=0\n",
      "194 items: 840, delta=0\n",
      "195 items: 840, delta=0\n",
      "196 items: 840, delta=0\n",
      "197 items: 840, delta=0\n",
      "198 items: 840, delta=0\n",
      "199 items: 840, delta=0\n",
      "200 items: 840, delta=0\n",
      "201 items: 840, delta=0\n",
      "202 items: 968, delta=128\n",
      "203 items: 968, delta=0\n",
      "204 items: 968, delta=0\n",
      "205 items: 968, delta=0\n",
      "206 items: 968, delta=0\n",
      "207 items: 968, delta=0\n",
      "208 items: 968, delta=0\n",
      "209 items: 968, delta=0\n",
      "210 items: 968, delta=0\n",
      "211 items: 968, delta=0\n",
      "212 items: 968, delta=0\n",
      "213 items: 968, delta=0\n",
      "214 items: 968, delta=0\n",
      "215 items: 968, delta=0\n",
      "216 items: 968, delta=0\n",
      "217 items: 968, delta=0\n",
      "218 items: 968, delta=0\n",
      "219 items: 968, delta=0\n",
      "220 items: 968, delta=0\n",
      "221 items: 968, delta=0\n",
      "222 items: 968, delta=0\n",
      "223 items: 968, delta=0\n",
      "224 items: 968, delta=0\n",
      "225 items: 968, delta=0\n",
      "226 items: 968, delta=0\n",
      "227 items: 968, delta=0\n",
      "228 items: 968, delta=0\n",
      "229 items: 968, delta=0\n",
      "230 items: 968, delta=0\n",
      "231 items: 968, delta=0\n",
      "232 items: 968, delta=0\n",
      "233 items: 968, delta=0\n",
      "234 items: 1112, delta=144\n",
      "235 items: 1112, delta=0\n",
      "236 items: 1112, delta=0\n",
      "237 items: 1112, delta=0\n",
      "238 items: 1112, delta=0\n",
      "239 items: 1112, delta=0\n",
      "240 items: 1112, delta=0\n",
      "241 items: 1112, delta=0\n",
      "242 items: 1112, delta=0\n",
      "243 items: 1112, delta=0\n",
      "244 items: 1112, delta=0\n",
      "245 items: 1112, delta=0\n",
      "246 items: 1112, delta=0\n",
      "247 items: 1112, delta=0\n",
      "248 items: 1112, delta=0\n",
      "249 items: 1112, delta=0\n",
      "250 items: 1112, delta=0\n",
      "251 items: 1112, delta=0\n",
      "252 items: 1112, delta=0\n",
      "253 items: 1112, delta=0\n",
      "254 items: 1112, delta=0\n",
      "255 items: 1112, delta=0\n"
     ]
    }
   ],
   "source": [
    "c = list()\n",
    "prev = sys.getsizeof(c)\n",
    "print(f\"0 items: {prev}\")\n",
    "\n",
    "for i in range(255):\n",
    "    c.append(i)\n",
    "    size_c = sys.getsizeof(c)\n",
    "    delta, prev = size_c - prev, size_c\n",
    "    print(f\"{i+1} items: {size_c}, delta={delta}\")"
   ]
  },
  {
   "cell_type": "code",
   "execution_count": 51,
   "metadata": {},
   "outputs": [],
   "source": [
    "t = tuple(range(100_000))\n",
    "l = list(t)"
   ]
  },
  {
   "cell_type": "code",
   "execution_count": 53,
   "metadata": {},
   "outputs": [
    {
     "data": {
      "text/plain": [
       "0.8852130479999687"
      ]
     },
     "execution_count": 53,
     "metadata": {},
     "output_type": "execute_result"
    }
   ],
   "source": [
    "timeit('t[99_999]', globals=globals(), number=10_000_000)"
   ]
  },
  {
   "cell_type": "code",
   "execution_count": 54,
   "metadata": {},
   "outputs": [
    {
     "data": {
      "text/plain": [
       "1.545181238999703"
      ]
     },
     "execution_count": 54,
     "metadata": {},
     "output_type": "execute_result"
    }
   ],
   "source": [
    "timeit('l[99_999]', globals=globals(), number=10_000_000)"
   ]
  },
  {
   "cell_type": "code",
   "execution_count": null,
   "metadata": {},
   "outputs": [],
   "source": []
  }
 ],
 "metadata": {
  "kernelspec": {
   "display_name": "Python 3",
   "language": "python",
   "name": "python3"
  },
  "language_info": {
   "codemirror_mode": {
    "name": "ipython",
    "version": 3
   },
   "file_extension": ".py",
   "mimetype": "text/x-python",
   "name": "python",
   "nbconvert_exporter": "python",
   "pygments_lexer": "ipython3",
   "version": "3.7.2"
  }
 },
 "nbformat": 4,
 "nbformat_minor": 2
}
