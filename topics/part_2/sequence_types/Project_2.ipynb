{
 "cells": [
  {
   "cell_type": "code",
   "execution_count": 125,
   "metadata": {},
   "outputs": [],
   "source": [
    "import math\n",
    "class Polygon:\n",
    "    def __init__(self, num_vertices, circumradius):\n",
    "        if num_vertices < 3 or circumradius < 1:\n",
    "            raise ValueError('Polygon should have at least three sides and edge should be at least 1')\n",
    "        self._num_vertices = num_vertices\n",
    "        self._circumradius = circumradius\n",
    "        \n",
    "    def __repr__(self):\n",
    "        return f'Polygon({self._num_vertices}, {self._circumradius})'\n",
    "    \n",
    "    @property\n",
    "    def num_vertices(self):\n",
    "        return self._num_vertices\n",
    "    \n",
    "    @property\n",
    "    def num_edges(self):\n",
    "        return self._num_vertices\n",
    "    \n",
    "    @property\n",
    "    def circumradius(self):\n",
    "        return self._circumradius\n",
    "    \n",
    "    @property\n",
    "    def interior_angle(self):\n",
    "        return (self.num_edges - 2) * 180 / (self.num_edges)\n",
    "    \n",
    "    @property\n",
    "    def edge_length(self):\n",
    "        return (2 * self.circumradius) * math.sin(math.pi / self.num_vertices)\n",
    "    \n",
    "    @property\n",
    "    def apothem(self):\n",
    "        return (self.circumradius) * math.cos(math.pi / self.num_vertices)\n",
    "    \n",
    "    @property\n",
    "    def area(self):\n",
    "        return (self.num_vertices * self.edge_length * self.apothem) / 2\n",
    "    \n",
    "    @property\n",
    "    def perimeter(self):\n",
    "        return self.num_vertices * self.edge_length\n",
    "        \n",
    "    def __eq__(self, other):\n",
    "        if isinstance(other, self.__class__):\n",
    "            return self.num_vertices == other.num_vertices and self.circumradius == other.circumradius\n",
    "        else:\n",
    "            return NotImplemented\n",
    "    \n",
    "    def __gt__(self, other):\n",
    "        if isinstance(other, Polygon):\n",
    "            return self.num_vertices > other.num_vertices\n",
    "        else:\n",
    "            return NotImplemented\n",
    "        \n",
    "    def __lt__(self, other):\n",
    "        if isinstance(other, self.__class__):\n",
    "            if self.num_vertices < other.num_vertices:\n",
    "                return True\n",
    "        else:\n",
    "            return NotImplemented"
   ]
  },
  {
   "cell_type": "code",
   "execution_count": 126,
   "metadata": {},
   "outputs": [
    {
     "name": "stdout",
     "output_type": "stream",
     "text": [
      "60.0\n",
      "51.96152422706631\n",
      "15.000000000000004\n",
      "1169.1342951089923\n",
      "155.88457268119893\n",
      "Polygon(3, 30)\n",
      "True\n",
      "False\n",
      "True\n",
      "True\n"
     ]
    }
   ],
   "source": [
    "polygon = Polygon(3, 30)\n",
    "p2 = Polygon(3, 30)\n",
    "p3 = Polygon(3, 31)\n",
    "print(polygon.interior_angle)\n",
    "print(polygon.edge_length)\n",
    "print(polygon.apothem)\n",
    "print(polygon.area)\n",
    "print(polygon.perimeter)\n",
    "print(polygon)\n",
    "print(polygon == p2)\n",
    "print(polygon == p3)\n",
    "p4 = Polygon(4, 10)\n",
    "print(p2 < p4)\n",
    "print(p4 > p2)"
   ]
  },
  {
   "cell_type": "code",
   "execution_count": 127,
   "metadata": {},
   "outputs": [],
   "source": [
    "def test_polygon():\n",
    "    rel_tol = 0.001\n",
    "    abs_tol = 0.001\n",
    "    \n",
    "    n = 3\n",
    "    r = 1\n",
    "    p = Polygon(n, r)\n",
    "    assert str(p) == f'Polygon(3, 1)', f'actual: {str(p)}'\n",
    "    assert p.num_vertices == n, (f'actual: {p.num_vertices}, '\n",
    "                                 f'expected: {n}')\n",
    "    assert p.num_edges == n\n",
    "    assert p.circumradius == r\n",
    "    assert p.interior_angle == 60\n",
    "    \n",
    "    \n",
    "    n = 4\n",
    "    r = 1\n",
    "    p = Polygon(n, r)\n",
    "    assert p.interior_angle == 90\n",
    "    assert p.area == 2.0\n",
    "    assert math.isclose(p.edge_length, math.sqrt(2), rel_tol=rel_tol, abs_tol=abs_tol)\n",
    "    assert math.isclose(p.perimeter, 4*math.sqrt(2), rel_tol=rel_tol, abs_tol=abs_tol)"
   ]
  },
  {
   "cell_type": "code",
   "execution_count": 128,
   "metadata": {},
   "outputs": [],
   "source": [
    "test_polygon()"
   ]
  },
  {
   "cell_type": "code",
   "execution_count": 130,
   "metadata": {},
   "outputs": [
    {
     "ename": "ValueError",
     "evalue": "Polygon should have at least three sides and edge should be at least 1",
     "output_type": "error",
     "traceback": [
      "\u001b[1;31m---------------------------------------------------------------------------\u001b[0m",
      "\u001b[1;31mValueError\u001b[0m                                Traceback (most recent call last)",
      "\u001b[1;32m<ipython-input-130-d7df0d17ea4f>\u001b[0m in \u001b[0;36m<module>\u001b[1;34m\u001b[0m\n\u001b[1;32m----> 1\u001b[1;33m \u001b[0mp1\u001b[0m \u001b[1;33m=\u001b[0m \u001b[0mPolygon\u001b[0m\u001b[1;33m(\u001b[0m\u001b[1;36m1\u001b[0m\u001b[1;33m,\u001b[0m \u001b[1;36m1\u001b[0m\u001b[1;33m)\u001b[0m\u001b[1;33m\u001b[0m\u001b[1;33m\u001b[0m\u001b[0m\n\u001b[0m",
      "\u001b[1;32m<ipython-input-125-0725a47d7bf8>\u001b[0m in \u001b[0;36m__init__\u001b[1;34m(self, num_vertices, circumradius)\u001b[0m\n\u001b[0;32m      3\u001b[0m     \u001b[1;32mdef\u001b[0m \u001b[0m__init__\u001b[0m\u001b[1;33m(\u001b[0m\u001b[0mself\u001b[0m\u001b[1;33m,\u001b[0m \u001b[0mnum_vertices\u001b[0m\u001b[1;33m,\u001b[0m \u001b[0mcircumradius\u001b[0m\u001b[1;33m)\u001b[0m\u001b[1;33m:\u001b[0m\u001b[1;33m\u001b[0m\u001b[1;33m\u001b[0m\u001b[0m\n\u001b[0;32m      4\u001b[0m         \u001b[1;32mif\u001b[0m \u001b[0mnum_vertices\u001b[0m \u001b[1;33m<\u001b[0m \u001b[1;36m3\u001b[0m \u001b[1;32mor\u001b[0m \u001b[0mcircumradius\u001b[0m \u001b[1;33m<\u001b[0m \u001b[1;36m1\u001b[0m\u001b[1;33m:\u001b[0m\u001b[1;33m\u001b[0m\u001b[1;33m\u001b[0m\u001b[0m\n\u001b[1;32m----> 5\u001b[1;33m             \u001b[1;32mraise\u001b[0m \u001b[0mValueError\u001b[0m\u001b[1;33m(\u001b[0m\u001b[1;34m'Polygon should have at least three sides and edge should be at least 1'\u001b[0m\u001b[1;33m)\u001b[0m\u001b[1;33m\u001b[0m\u001b[1;33m\u001b[0m\u001b[0m\n\u001b[0m\u001b[0;32m      6\u001b[0m         \u001b[0mself\u001b[0m\u001b[1;33m.\u001b[0m\u001b[0m_num_vertices\u001b[0m \u001b[1;33m=\u001b[0m \u001b[0mnum_vertices\u001b[0m\u001b[1;33m\u001b[0m\u001b[1;33m\u001b[0m\u001b[0m\n\u001b[0;32m      7\u001b[0m         \u001b[0mself\u001b[0m\u001b[1;33m.\u001b[0m\u001b[0m_circumradius\u001b[0m \u001b[1;33m=\u001b[0m \u001b[0mcircumradius\u001b[0m\u001b[1;33m\u001b[0m\u001b[1;33m\u001b[0m\u001b[0m\n",
      "\u001b[1;31mValueError\u001b[0m: Polygon should have at least three sides and edge should be at least 1"
     ]
    }
   ],
   "source": [
    "p1 = Polygon(1, 1)"
   ]
  },
  {
   "cell_type": "code",
   "execution_count": 139,
   "metadata": {},
   "outputs": [],
   "source": [
    "class Polygons:\n",
    "    def __init__(self, m, r):\n",
    "        if m < 3:\n",
    "            raise ValueError('m must be greater than 3')\n",
    "            \n",
    "        self._m = m\n",
    "        self._r = r\n",
    "        \n",
    "    def __len__(self):\n",
    "        return self._m - 2\n",
    "        \n",
    "    def __repr__(self):\n",
    "        return f'Polygons({self._m}, {self._r})'"
   ]
  },
  {
   "cell_type": "code",
   "execution_count": 144,
   "metadata": {},
   "outputs": [
    {
     "data": {
      "text/plain": [
       "Polygons(6, 1)"
      ]
     },
     "execution_count": 144,
     "metadata": {},
     "output_type": "execute_result"
    }
   ],
   "source": [
    "polygons = Polygons(4, 1)\n",
    "len(polygons)\n",
    "polygons = Polygons(m=6, r=1)\n",
    "len(polygons)\n",
    "polygons"
   ]
  },
  {
   "cell_type": "code",
   "execution_count": 159,
   "metadata": {},
   "outputs": [],
   "source": [
    "class Polygons:\n",
    "    def __init__(self, m, r):\n",
    "        if m < 3:\n",
    "            raise ValueError('m must be greater than 3')\n",
    "            \n",
    "        self._m = m\n",
    "        self._r = r\n",
    "        self._polygons = [Polygon(side, r) for side in range(3, m+1)]\n",
    "        \n",
    "    def __len__(self):\n",
    "        return self._m - 2\n",
    "        \n",
    "    def __repr__(self):\n",
    "        return f'Polygons({self._m}, {self._r})'\n",
    "    \n",
    "    def __getitem__(self, s):\n",
    "        return self._polygons[s]\n",
    "    \n",
    "    @property\n",
    "    def max_efficieny_polygon(self):\n",
    "        sorted_polygons = sorted(self._polygons, \n",
    "                                 key=lambda p: p.area/p.perimeter, \n",
    "                                 reverse=True)\n",
    "        return sorted_polygons[0]"
   ]
  },
  {
   "cell_type": "code",
   "execution_count": 160,
   "metadata": {},
   "outputs": [],
   "source": [
    "polygons = Polygons(8, 1)"
   ]
  },
  {
   "cell_type": "code",
   "execution_count": 161,
   "metadata": {},
   "outputs": [
    {
     "name": "stdout",
     "output_type": "stream",
     "text": [
      "Polygon(3, 1)\n",
      "Polygon(4, 1)\n",
      "Polygon(5, 1)\n",
      "Polygon(6, 1)\n",
      "Polygon(7, 1)\n",
      "Polygon(8, 1)\n"
     ]
    }
   ],
   "source": [
    "for po in polygons:\n",
    "    print(po)"
   ]
  },
  {
   "cell_type": "code",
   "execution_count": 163,
   "metadata": {},
   "outputs": [
    {
     "name": "stdout",
     "output_type": "stream",
     "text": [
      "Polygon(5, 1)\n",
      "Polygon(6, 1)\n",
      "Polygon(7, 1)\n"
     ]
    }
   ],
   "source": [
    "for p in polygons[2:5]:\n",
    "    print(p)"
   ]
  },
  {
   "cell_type": "code",
   "execution_count": 166,
   "metadata": {},
   "outputs": [],
   "source": [
    "polygons = Polygons(10, 1)"
   ]
  },
  {
   "cell_type": "code",
   "execution_count": 168,
   "metadata": {},
   "outputs": [
    {
     "data": {
      "text/plain": [
       "Polygon(10, 1)"
      ]
     },
     "execution_count": 168,
     "metadata": {},
     "output_type": "execute_result"
    }
   ],
   "source": [
    "polygons.max_efficieny_polygon"
   ]
  },
  {
   "cell_type": "code",
   "execution_count": null,
   "metadata": {},
   "outputs": [],
   "source": []
  }
 ],
 "metadata": {
  "kernelspec": {
   "display_name": "Python 3",
   "language": "python",
   "name": "python3"
  },
  "language_info": {
   "codemirror_mode": {
    "name": "ipython",
    "version": 3
   },
   "file_extension": ".py",
   "mimetype": "text/x-python",
   "name": "python",
   "nbconvert_exporter": "python",
   "pygments_lexer": "ipython3",
   "version": "3.7.3"
  }
 },
 "nbformat": 4,
 "nbformat_minor": 2
}
